{
 "cells": [
  {
   "cell_type": "markdown",
   "metadata": {},
   "source": [
    "#  CRIAÇÃO DADOS SEMI ALEATORIOS\n",
    "\n",
    "Comumente se usa \" np.random.random(( linhas, colunas)) \" "
   ]
  },
  {
   "cell_type": "code",
   "execution_count": null,
   "metadata": {},
   "outputs": [],
   "source": [
    "import numpy as np"
   ]
  },
  {
   "cell_type": "code",
   "execution_count": 28,
   "metadata": {},
   "outputs": [
    {
     "name": "stdout",
     "output_type": "stream",
     "text": [
      "[[3 5]\n",
      " [5 3]\n",
      " [5 2]\n",
      " [1 4]\n",
      " [3 1]]\n"
     ]
    }
   ],
   "source": [
    "b = np.random.random((5,2))\n",
    "c = b * 6 + 1\n",
    "dado = np.int64(c)\n",
    "print(dado)"
   ]
  },
  {
   "cell_type": "markdown",
   "metadata": {},
   "source": [
    "## REARRANJO DE MATRIZES\n",
    "\n",
    "Sempre o formato deve ser preservdo ao ser criar uma matriz em que caiba todos os atributos sem falta ou sobrar\n",
    "\n",
    "EX: 18 elementos podem seer rearranjados em 3,6 ou 9,2 ou 6,3\n",
    "\n",
    "np.reshape(x, (linha, coluna))\n",
    "\n"
   ]
  },
  {
   "cell_type": "code",
   "execution_count": 29,
   "metadata": {},
   "outputs": [
    {
     "name": "stdout",
     "output_type": "stream",
     "text": [
      "[ 0  1  2  3  4  5  6  7  8  9 10 11 12 13 14 15 16 17]\n"
     ]
    },
    {
     "data": {
      "text/plain": [
       "array([[ 0,  1,  2],\n",
       "       [ 3,  4,  5],\n",
       "       [ 6,  7,  8],\n",
       "       [ 9, 10, 11],\n",
       "       [12, 13, 14],\n",
       "       [15, 16, 17]])"
      ]
     },
     "execution_count": 29,
     "metadata": {},
     "output_type": "execute_result"
    }
   ],
   "source": [
    "x = np.arange(18)\n",
    "print(x)\n",
    "np.reshape( x, (6, 3))"
   ]
  },
  {
   "cell_type": "markdown",
   "metadata": {},
   "source": [
    "## OPERAÇÕES\n",
    "\n",
    "\n",
    "Numpy não precisa de interação, so basta transformar os elementos em uma array\n"
   ]
  },
  {
   "cell_type": "code",
   "execution_count": 30,
   "metadata": {},
   "outputs": [
    {
     "name": "stdout",
     "output_type": "stream",
     "text": [
      "[3, 4, 5, 6]\n"
     ]
    }
   ],
   "source": [
    "# SEM\n",
    "y = [1,2,3,4]\n",
    "z = []\n",
    "\n",
    "for n in y:\n",
    "    z.append(2 + n)\n",
    "    \n",
    "print(z)"
   ]
  },
  {
   "cell_type": "code",
   "execution_count": 31,
   "metadata": {},
   "outputs": [
    {
     "name": "stdout",
     "output_type": "stream",
     "text": [
      "[3 4 5 6]\n"
     ]
    }
   ],
   "source": [
    "#Com\n",
    "y = np.array([1,2,3,4])\n",
    "z = 2 + y\n",
    "print(z)"
   ]
  },
  {
   "cell_type": "code",
   "execution_count": 32,
   "metadata": {},
   "outputs": [
    {
     "name": "stdout",
     "output_type": "stream",
     "text": [
      "[1, 1]\n"
     ]
    }
   ],
   "source": [
    "# Juntar listas Sem Numpy\n",
    "u = [1,0]\n",
    "y = [0,1]\n",
    "z = []\n",
    "\n",
    "for n,m in zip(u,y): # N equivale a U e M a Y\n",
    "    z.append(n + m)\n",
    "    \n",
    "print(z)"
   ]
  },
  {
   "cell_type": "code",
   "execution_count": 33,
   "metadata": {},
   "outputs": [
    {
     "name": "stdout",
     "output_type": "stream",
     "text": [
      "[1 1]\n"
     ]
    }
   ],
   "source": [
    "# Juntar listas Com Numpy\n",
    "u = np.array([1,0])\n",
    "y = np.array([0,1])\n",
    "z = u + y #junta arrays \n",
    "    \n",
    "print(z)"
   ]
  },
  {
   "cell_type": "code",
   "execution_count": 34,
   "metadata": {},
   "outputs": [
    {
     "name": "stdout",
     "output_type": "stream",
     "text": [
      "[3 4]\n",
      "7\n"
     ]
    }
   ],
   "source": [
    "# Juntar listas Com Numpy\n",
    "u = np.array([1,2])\n",
    "y = np.array([3,2])\n",
    "z = u * y #junta arrays \n",
    "    \n",
    "print(z)\n",
    "\n",
    "#OU\n",
    "print(np.dot(u, y)) # Se multiplica respeitando as dimenoes e soma os resultados"
   ]
  },
  {
   "cell_type": "code",
   "execution_count": 35,
   "metadata": {},
   "outputs": [
    {
     "name": "stdout",
     "output_type": "stream",
     "text": [
      "[[4 4]\n",
      " [2 2]]\n"
     ]
    }
   ],
   "source": [
    "# Juntar listas Com Numpy\n",
    "u = np.array([ [1,2,1], [1,0,1] ])\n",
    "y = np.array([ [1,1], [1,1], [1,1] ])\n",
    "\n",
    "print(np.dot(u, y))"
   ]
  },
  {
   "cell_type": "code",
   "execution_count": 36,
   "metadata": {},
   "outputs": [
    {
     "data": {
      "text/plain": [
       "array([[1., 0., 0., 0., 0., 0.],\n",
       "       [0., 1., 0., 0., 0., 0.],\n",
       "       [0., 0., 1., 0., 0., 0.],\n",
       "       [0., 0., 0., 1., 0., 0.],\n",
       "       [0., 0., 0., 0., 1., 0.],\n",
       "       [0., 0., 0., 0., 0., 1.]])"
      ]
     },
     "execution_count": 36,
     "metadata": {},
     "output_type": "execute_result"
    }
   ],
   "source": [
    "np.zeros((3,4)) # Matriz de 0\n",
    "\n",
    "np.ones((3,4)) # Matriz de 1\n",
    "\n",
    "np.eye(6)# Matriz com 0 e a diagonal principal 1 "
   ]
  },
  {
   "cell_type": "markdown",
   "metadata": {},
   "source": [
    "# MATPLOTLIB\n",
    "\n",
    "\n",
    "USE PIZZAS PARA POUCAS DIVISOES ( ATE 5 ) e sem nenhuma grande de mais ( por ex: 70% uma variavel )\n",
    "\n",
    "Nao usar cores primarias por serem muito fortes. Preferencia de se usar apenas 2 cores primarias, prefira por ir variando os tons da paletas ( intensidade )"
   ]
  },
  {
   "cell_type": "code",
   "execution_count": 38,
   "metadata": {},
   "outputs": [],
   "source": [
    "import matplotlib.pyplot as plt\n",
    "\n",
    "%matplotlib inline # garante que op grafo sera plotada na mesma celula"
   ]
  },
  {
   "cell_type": "code",
   "execution_count": 46,
   "metadata": {},
   "outputs": [
    {
     "data": {
      "text/plain": [
       "[<matplotlib.lines.Line2D at 0x21de8018a60>]"
      ]
     },
     "execution_count": 46,
     "metadata": {},
     "output_type": "execute_result"
    },
    {
     "data": {
      "image/png": "[encoded data removed]",
      "text/plain": [
       "<Figure size 432x288 with 1 Axes>"
      ]
     },
     "metadata": {
      "needs_background": "light"
     },
     "output_type": "display_data"
    }
   ],
   "source": [
    "x = np.linspace(0, 2*np.pi, num = 100) # Cria 100 numeroas entre 0 e 2*pi\n",
    "s = np.sin(x) \n",
    "c = np.cos(x) \n",
    "\n",
    "\n",
    "plt.plot(x,s) # Cria plotagem de uma senoide\n",
    "plt.plot(x,c)\n",
    "plt.show()"
   ]
  },
  {
   "cell_type": "markdown",
   "metadata": {},
   "source": [
    "## "
   ]
  },
  {
   "cell_type": "code",
   "execution_count": 62,
   "metadata": {},
   "outputs": [
    {
     "ename": "NameError",
     "evalue": "name 'set_size_inches' is not defined",
     "output_type": "error",
     "traceback": [
      "\u001b[1;31m---------------------------------------------------------------------------\u001b[0m",
      "\u001b[1;31mNameError\u001b[0m                                 Traceback (most recent call last)",
      "\u001b[1;32mC:\\Users\\221212~1\\AppData\\Local\\Temp/ipykernel_3436/541164173.py\u001b[0m in \u001b[0;36m<module>\u001b[1;34m\u001b[0m\n\u001b[0;32m     18\u001b[0m \u001b[0mplt\u001b[0m\u001b[1;33m.\u001b[0m\u001b[0maxhline\u001b[0m\u001b[1;33m(\u001b[0m\u001b[0my\u001b[0m \u001b[1;33m=\u001b[0m \u001b[1;36m15\u001b[0m\u001b[1;33m,\u001b[0m \u001b[0mcolor\u001b[0m\u001b[1;33m=\u001b[0m\u001b[1;34m'pink'\u001b[0m\u001b[1;33m)\u001b[0m \u001b[1;31m#axvline para vertical, axhline horizontal\u001b[0m\u001b[1;33m\u001b[0m\u001b[1;33m\u001b[0m\u001b[0m\n\u001b[0;32m     19\u001b[0m \u001b[0mfig\u001b[0m \u001b[1;33m=\u001b[0m \u001b[0mplt\u001b[0m\u001b[1;33m.\u001b[0m\u001b[0mgcf\u001b[0m\u001b[1;33m(\u001b[0m\u001b[1;33m)\u001b[0m \u001b[1;31m# salvar o grafo\u001b[0m\u001b[1;33m\u001b[0m\u001b[1;33m\u001b[0m\u001b[0m\n\u001b[1;32m---> 20\u001b[1;33m \u001b[0mset_size_inches\u001b[0m\u001b[1;33m(\u001b[0m \u001b[1;36m18.5\u001b[0m\u001b[1;33m,\u001b[0m \u001b[1;36m10.5\u001b[0m \u001b[1;33m)\u001b[0m\u001b[1;33m\u001b[0m\u001b[1;33m\u001b[0m\u001b[0m\n\u001b[0m\u001b[0;32m     21\u001b[0m \u001b[1;33m\u001b[0m\u001b[0m\n\u001b[0;32m     22\u001b[0m \u001b[1;31m#fig.savefig( 'Teste.PNG', dpi = 100 )\u001b[0m\u001b[1;33m\u001b[0m\u001b[1;33m\u001b[0m\u001b[0m\n",
      "\u001b[1;31mNameError\u001b[0m: name 'set_size_inches' is not defined"
     ]
    },
    {
     "data": {
      "image/png": "[encoded data removed]",
      "text/plain": [
       "<Figure size 432x288 with 1 Axes>"
      ]
     },
     "metadata": {
      "needs_background": "light"
     },
     "output_type": "display_data"
    }
   ],
   "source": [
    "x = np.arange(10) # Numeros de 0 a 9\n",
    "\n",
    "plt.plot( x, x )\n",
    "plt.plot( x, 2 * x ) \n",
    "plt.plot( x, 3 * x ) \n",
    "plt.plot( x, 4 * x ) \n",
    "\n",
    "#plt.style.use()\n",
    "\n",
    "# LOC indica o lugar da legenda. best, right, center [upper, lower, center] (Posiçao) [right left, center] (lado)\n",
    "\n",
    "plt.legend( ['y == x', 'y == 2x', 'y == 3x', 'y == 4x'], loc = 'upper right' ) #Cria uma lista onde o numero de legendas equivale ao tanto de grafos representados\n",
    "\n",
    "plt.title( \"Pink Froid\" )\n",
    "plt.xlabel(\"Tempo\")\n",
    "plt.ylabel(\"Amplitude\")\n",
    "plt.grid(True, which='both') # ADD grades e pode escolher o eixo, deafult Flase(desativado)\n",
    "plt.axhline(y = 15, color='pink') #axvline para vertical, axhline horizontal\n",
    "fig = plt.gcf() # salvar o grafo\n",
    "plt.set_size_inches( 18.5, 10.5 )\n",
    "\n",
    "#fig.savefig( 'Teste.PNG', dpi = 100 )\n",
    "\n",
    "plt.show()"
   ]
  },
  {
   "cell_type": "code",
   "execution_count": null,
   "metadata": {},
   "outputs": [],
   "source": []
  }
 ],
 "metadata": {
  "interpreter": {
   "hash": "b3ba2566441a7c06988d0923437866b63cedc61552a5af99d1f4fb67d367b25f"
  },
  "kernelspec": {
   "display_name": "Python 3.9.7 ('base')",
   "language": "python",
   "name": "python3"
  },
  "language_info": {
   "codemirror_mode": {
    "name": "ipython",
    "version": 3
   },
   "file_extension": ".py",
   "mimetype": "text/x-python",
   "name": "python",
   "nbconvert_exporter": "python",
   "pygments_lexer": "ipython3",
   "version": "3.9.7"
  },
  "orig_nbformat": 4
 },
 "nbformat": 4,
 "nbformat_minor": 2
}
