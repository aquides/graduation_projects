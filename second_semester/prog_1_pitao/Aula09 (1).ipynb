{
 "cells": [
  {
   "cell_type": "markdown",
   "id": "489115ee-8da4-4391-a805-829d536c8c21",
   "metadata": {},
   "source": [
    "# Pandas\n",
    "\n",
    "Análise e Exploração de Dados"
   ]
  },
  {
   "cell_type": "code",
   "execution_count": 1,
   "id": "b3f9bdaf-2435-4d08-9592-38d7e175cbad",
   "metadata": {},
   "outputs": [],
   "source": [
    "import pandas as pd"
   ]
  },
  {
   "cell_type": "markdown",
   "id": "44bd9125-3c89-4b4d-a9ff-8724cd3ea91d",
   "metadata": {},
   "source": [
    "## Series"
   ]
  },
  {
   "cell_type": "code",
   "execution_count": 4,
   "id": "0099e192-d58b-4ad3-9b80-853918346284",
   "metadata": {},
   "outputs": [
    {
     "name": "stdout",
     "output_type": "stream",
     "text": [
      "a    1\n",
      "b    2\n",
      "c    3\n",
      "d    4\n",
      "e    5\n",
      "dtype: int64\n",
      "0    1\n",
      "1    2\n",
      "2    3\n",
      "3    4\n",
      "4    5\n",
      "dtype: int64\n"
     ]
    }
   ],
   "source": [
    "s1 = pd.Series([1,2,3,4,5], index=['a', 'b', 'c', 'd', 'e'])\n",
    "print(s1)\n",
    "s2 = pd.Series([1,2,3,4,5])\n",
    "print(s2)"
   ]
  },
  {
   "cell_type": "code",
   "execution_count": 6,
   "id": "890915bb-4f42-42cd-881c-497d2444cedf",
   "metadata": {},
   "outputs": [
    {
     "name": "stdout",
     "output_type": "stream",
     "text": [
      "[1 2 3 4 5] | [1 2 3 4 5]\n",
      "Index(['a', 'b', 'c', 'd', 'e'], dtype='object') | RangeIndex(start=0, stop=5, step=1)\n"
     ]
    }
   ],
   "source": [
    "print(s1.values, '|', s2.values)\n",
    "print(s1.index, '|', s2.index)"
   ]
  },
  {
   "cell_type": "code",
   "execution_count": 26,
   "id": "99d016aa-af74-434b-8df2-50f2ebc68215",
   "metadata": {},
   "outputs": [
    {
     "name": "stdout",
     "output_type": "stream",
     "text": [
      "<class 'pandas.core.series.Series'>\n"
     ]
    }
   ],
   "source": [
    "notas = pd.Series([3,6,8,3,4], index=['Harry', 'Abble', 'Julia', 'Manfred', 'Carrio'])\n",
    "print(type(notas))"
   ]
  },
  {
   "cell_type": "code",
   "execution_count": 10,
   "id": "c6a486b5-e655-474e-8fc0-3bcf81f32721",
   "metadata": {},
   "outputs": [
    {
     "name": "stdout",
     "output_type": "stream",
     "text": [
      "Harry      3\n",
      "Abble      6\n",
      "Julia      8\n",
      "Manfred    3\n",
      "Carrio     4\n",
      "dtype: int64\n",
      "Média: 4.8\n",
      "Média: 2.16794833886788\n"
     ]
    }
   ],
   "source": [
    "print(notas)\n",
    "print(\"Média:\", notas.mean())\n",
    "print(\"Média:\", notas.std())"
   ]
  },
  {
   "cell_type": "markdown",
   "id": "9518ec39-efa2-42d4-a127-8641dfa0e946",
   "metadata": {},
   "source": [
    "## Dataframes"
   ]
  },
  {
   "cell_type": "code",
   "execution_count": 11,
   "id": "42a0f67e-06b5-47cf-8e53-6bc1d81faadc",
   "metadata": {},
   "outputs": [],
   "source": [
    "data = {\n",
    "    'Pais': [ 'Belgica', 'India', 'Brasil' ],\n",
    "    'Capital': [ 'Bruxelas', 'Nova Delhi', 'Brasilia' ],\n",
    "    'Populacao': [ 4332423, 213232312, 4534 ],\n",
    "    'Classificacao': [1, 3, 3]\n",
    "}\n",
    "df = pd.DataFrame(data)"
   ]
  },
  {
   "cell_type": "code",
   "execution_count": 23,
   "id": "4ce41a3e-895f-42cf-b42d-9dae004bd1a0",
   "metadata": {},
   "outputs": [
    {
     "name": "stdout",
     "output_type": "stream",
     "text": [
      "      Pais     Capital  Populacao  Classificacao\n",
      "0  Belgica    Bruxelas    4332423              1\n",
      "1    India  Nova Delhi  213232312              3\n",
      "     Pais     Capital  Populacao  Classificacao\n",
      "1   India  Nova Delhi  213232312              3\n",
      "2  Brasil    Brasilia       4534              3\n",
      "Index(['Pais', 'Capital', 'Populacao', 'Classificacao'], dtype='object')\n"
     ]
    }
   ],
   "source": [
    "print(df.head(2))\n",
    "print(df.tail(2))\n",
    "print(df.columns)"
   ]
  },
  {
   "cell_type": "code",
   "execution_count": 17,
   "id": "3635e49a-4211-4388-ab94-6c68065188ac",
   "metadata": {},
   "outputs": [
    {
     "data": {
      "text/html": [
       "<div>\n",
       "<style scoped>\n",
       "    .dataframe tbody tr th:only-of-type {\n",
       "        vertical-align: middle;\n",
       "    }\n",
       "\n",
       "    .dataframe tbody tr th {\n",
       "        vertical-align: top;\n",
       "    }\n",
       "\n",
       "    .dataframe thead th {\n",
       "        text-align: right;\n",
       "    }\n",
       "</style>\n",
       "<table border=\"1\" class=\"dataframe\">\n",
       "  <thead>\n",
       "    <tr style=\"text-align: right;\">\n",
       "      <th></th>\n",
       "      <th>Pais</th>\n",
       "      <th>Capital</th>\n",
       "      <th>Populacao</th>\n",
       "      <th>Classificacao</th>\n",
       "    </tr>\n",
       "  </thead>\n",
       "  <tbody>\n",
       "    <tr>\n",
       "      <th>0</th>\n",
       "      <td>Belgica</td>\n",
       "      <td>Bruxelas</td>\n",
       "      <td>4332423</td>\n",
       "      <td>1</td>\n",
       "    </tr>\n",
       "    <tr>\n",
       "      <th>1</th>\n",
       "      <td>India</td>\n",
       "      <td>Nova Delhi</td>\n",
       "      <td>213232312</td>\n",
       "      <td>3</td>\n",
       "    </tr>\n",
       "    <tr>\n",
       "      <th>2</th>\n",
       "      <td>Brasil</td>\n",
       "      <td>Brasilia</td>\n",
       "      <td>4534</td>\n",
       "      <td>3</td>\n",
       "    </tr>\n",
       "  </tbody>\n",
       "</table>\n",
       "</div>"
      ],
      "text/plain": [
       "      Pais     Capital  Populacao  Classificacao\n",
       "0  Belgica    Bruxelas    4332423              1\n",
       "1    India  Nova Delhi  213232312              3\n",
       "2   Brasil    Brasilia       4534              3"
      ]
     },
     "execution_count": 17,
     "metadata": {},
     "output_type": "execute_result"
    }
   ],
   "source": []
  },
  {
   "cell_type": "markdown",
   "id": "47c442dd-7de9-4acf-b9c0-317365a6a0a4",
   "metadata": {},
   "source": [
    "## Informações Básicas"
   ]
  },
  {
   "cell_type": "code",
   "execution_count": 37,
   "id": "cd842bc5-35de-496e-96fd-caa70d233d12",
   "metadata": {},
   "outputs": [
    {
     "name": "stdout",
     "output_type": "stream",
     "text": [
      "Tipo de Dataframe <class 'pandas.core.frame.DataFrame'>\n",
      "Tipo de Serie Pais <class 'pandas.core.series.Series'>\n",
      "Tipo de Pais string\n",
      "Tipo de Capital string\n",
      "Tipo de Populacao int64\n",
      "Tipo de Classificacao int64\n"
     ]
    }
   ],
   "source": [
    "print('Tipo de Dataframe', type(df))\n",
    "print('Tipo de Serie Pais', type(df.Pais))\n",
    "print('Tipo de Pais', df.Pais.dtype)\n",
    "print('Tipo de Capital', df.Capital.dtype)\n",
    "print('Tipo de Populacao', df.Populacao.dtype)\n",
    "print('Tipo de Classificacao', df.Classificacao.dtype)"
   ]
  },
  {
   "cell_type": "code",
   "execution_count": 36,
   "id": "d4b590cf-5ec3-4617-9719-451f25760734",
   "metadata": {},
   "outputs": [],
   "source": [
    "df['Pais'] = df['Pais'].astype('string')\n",
    "df['Capital'] = df['Capital'].astype('string')"
   ]
  },
  {
   "cell_type": "code",
   "execution_count": 40,
   "id": "9832d686-3bfe-4197-be21-e66cbb2d2d8c",
   "metadata": {},
   "outputs": [
    {
     "name": "stdout",
     "output_type": "stream",
     "text": [
      "Lin/Cols (3, 4)\n",
      "Indice: RangeIndex(start=0, stop=3, step=1)\n",
      "Series: Index(['Pais', 'Capital', 'Populacao', 'Classificacao'], dtype='object')\n"
     ]
    }
   ],
   "source": [
    "print('Lin/Cols', df.shape)\n",
    "print('Indice:', df.index)\n",
    "print('Series:', df.columns)"
   ]
  },
  {
   "cell_type": "code",
   "execution_count": 50,
   "id": "3ee699e0-bf28-48fa-a07a-d5131d9f8912",
   "metadata": {},
   "outputs": [
    {
     "name": "stdout",
     "output_type": "stream",
     "text": [
      "      Pais     Capital  Populacao  Classificacao\n",
      "0  Belgica    Bruxelas    4332423              1\n",
      "1    India  Nova Delhi  213232312              3\n"
     ]
    }
   ],
   "source": [
    "# Filtro\n",
    "print(df.loc[df.Populacao > 50000])"
   ]
  },
  {
   "cell_type": "code",
   "execution_count": 49,
   "id": "eb1b8d7c-310f-4187-b1e4-45b7e2fd6ff1",
   "metadata": {},
   "outputs": [
    {
     "name": "stdout",
     "output_type": "stream",
     "text": [
      "      Pais     Capital  Populacao  Classificacao\n",
      "1    India  Nova Delhi  213232312              3\n",
      "0  Belgica    Bruxelas    4332423              1\n",
      "2   Brasil    Brasilia       4534              3\n"
     ]
    }
   ],
   "source": [
    "# Ordenacao\n",
    "print(df.sort_values(by='Populacao', ascending=False))"
   ]
  },
  {
   "cell_type": "code",
   "execution_count": 51,
   "id": "1e3de757-abb9-4268-a9d0-66eb85314e5a",
   "metadata": {},
   "outputs": [
    {
     "name": "stdout",
     "output_type": "stream",
     "text": [
      "      Pais     Capital  Populacao  Classificacao\n",
      "1    India  Nova Delhi  213232312              3\n",
      "0  Belgica    Bruxelas    4332423              1\n"
     ]
    }
   ],
   "source": [
    "print(df.loc[df.Populacao > 50000].sort_values(by='Populacao', ascending=False))"
   ]
  },
  {
   "cell_type": "code",
   "execution_count": 52,
   "id": "a3a0ef27-3130-49e9-9eed-eb2833748619",
   "metadata": {},
   "outputs": [
    {
     "name": "stdout",
     "output_type": "stream",
     "text": [
      "Pais             3\n",
      "Capital          3\n",
      "Populacao        3\n",
      "Classificacao    3\n",
      "dtype: int64\n"
     ]
    }
   ],
   "source": [
    "print(df.count())"
   ]
  },
  {
   "cell_type": "code",
   "execution_count": 53,
   "id": "0df806c6-0ff9-4103-9434-0661f4681054",
   "metadata": {},
   "outputs": [
    {
     "data": {
      "text/plain": [
       "3"
      ]
     },
     "execution_count": 53,
     "metadata": {},
     "output_type": "execute_result"
    }
   ],
   "source": [
    "df.count()['Classificacao']"
   ]
  },
  {
   "cell_type": "code",
   "execution_count": 54,
   "id": "01471d63-8bd3-432f-a853-e1f3adafe875",
   "metadata": {},
   "outputs": [
    {
     "name": "stdout",
     "output_type": "stream",
     "text": [
      "Classificacao\n",
      "3    2\n",
      "1    1\n",
      "dtype: int64\n"
     ]
    }
   ],
   "source": [
    "print(df.value_counts(df['Classificacao']))"
   ]
  },
  {
   "cell_type": "code",
   "execution_count": 62,
   "id": "22d3c9f4-b476-4136-a3c5-33263b6a1df7",
   "metadata": {},
   "outputs": [
    {
     "name": "stdout",
     "output_type": "stream",
     "text": [
      "Funções de Descobertas\n",
      "Media Populacao        7.252309e+07\n",
      "Classificacao    2.333333e+00\n",
      "dtype: float64\n",
      "Desvio Populacao        1.218770e+08\n",
      "Classificacao    1.154701e+00\n",
      "dtype: float64\n",
      "Mediana Populacao        4332423.0\n",
      "Classificacao          3.0\n",
      "dtype: float64\n",
      "Máx Pais                  India\n",
      "Capital          Nova Delhi\n",
      "Populacao         213232312\n",
      "Classificacao             3\n",
      "dtype: object\n",
      "Mín Pais              Belgica\n",
      "Capital          Brasilia\n",
      "Populacao            4534\n",
      "Classificacao           1\n",
      "dtype: object\n",
      "Somatorio Populacao        217569269\n",
      "Classificacao            7\n",
      "dtype: int64\n"
     ]
    },
    {
     "name": "stderr",
     "output_type": "stream",
     "text": [
      "/opt/conda/lib/python3.7/site-packages/ipykernel_launcher.py:2: FutureWarning: Dropping of nuisance columns in DataFrame reductions (with 'numeric_only=None') is deprecated; in a future version this will raise TypeError.  Select only valid columns before calling the reduction.\n",
      "  \n",
      "/opt/conda/lib/python3.7/site-packages/ipykernel_launcher.py:3: FutureWarning: Dropping of nuisance columns in DataFrame reductions (with 'numeric_only=None') is deprecated; in a future version this will raise TypeError.  Select only valid columns before calling the reduction.\n",
      "  This is separate from the ipykernel package so we can avoid doing imports until\n",
      "/opt/conda/lib/python3.7/site-packages/ipykernel_launcher.py:4: FutureWarning: Dropping of nuisance columns in DataFrame reductions (with 'numeric_only=None') is deprecated; in a future version this will raise TypeError.  Select only valid columns before calling the reduction.\n",
      "  after removing the cwd from sys.path.\n",
      "/opt/conda/lib/python3.7/site-packages/ipykernel_launcher.py:7: FutureWarning: Dropping of nuisance columns in DataFrame reductions (with 'numeric_only=None') is deprecated; in a future version this will raise TypeError.  Select only valid columns before calling the reduction.\n",
      "  import sys\n"
     ]
    }
   ],
   "source": [
    "print(\"Funções de Descobertas\")\n",
    "print('Media',df.mean())\n",
    "print('Desvio', df.std())\n",
    "print('Mediana', df.median())\n",
    "print('Máx',df.max())\n",
    "print('Mín',df.min())\n",
    "print('Somatorio',df.sum())"
   ]
  },
  {
   "cell_type": "code",
   "execution_count": 66,
   "id": "44034e31-baed-47f1-84ac-b7ecea3e2419",
   "metadata": {},
   "outputs": [
    {
     "name": "stdout",
     "output_type": "stream",
     "text": [
      "          Populacao  Classificacao\n",
      "count  3.000000e+00       3.000000\n",
      "mean   7.252309e+07       2.333333\n",
      "std    1.218770e+08       1.154701\n",
      "min    4.534000e+03       1.000000\n",
      "25%    2.168478e+06       2.000000\n",
      "50%    4.332423e+06       3.000000\n",
      "75%    1.087824e+08       3.000000\n",
      "max    2.132323e+08       3.000000\n"
     ]
    }
   ],
   "source": [
    "print(df.describe())"
   ]
  },
  {
   "cell_type": "code",
   "execution_count": 67,
   "id": "4cd604ba-75a0-4c0f-8954-bc2c256996db",
   "metadata": {},
   "outputs": [
    {
     "name": "stdout",
     "output_type": "stream",
     "text": [
      "count    3.000000e+00\n",
      "mean     7.252309e+07\n",
      "std      1.218770e+08\n",
      "min      4.534000e+03\n",
      "25%      2.168478e+06\n",
      "50%      4.332423e+06\n",
      "75%      1.087824e+08\n",
      "max      2.132323e+08\n",
      "Name: Populacao, dtype: float64\n"
     ]
    }
   ],
   "source": [
    "print(df['Populacao'].describe())"
   ]
  },
  {
   "cell_type": "code",
   "execution_count": 72,
   "id": "610a2417-8a0e-453e-a2cf-70225eff7219",
   "metadata": {},
   "outputs": [
    {
     "name": "stdout",
     "output_type": "stream",
     "text": [
      "2168478.5\n"
     ]
    }
   ],
   "source": [
    "print(df['Populacao'].describe()['25%'])"
   ]
  },
  {
   "cell_type": "markdown",
   "id": "03819aca-1b0b-4f82-96a4-a999cad98ed8",
   "metadata": {},
   "source": [
    "## Modificações no DF"
   ]
  },
  {
   "cell_type": "code",
   "execution_count": 91,
   "id": "721c34a3-b919-4d0e-998b-823bbd01b28f",
   "metadata": {},
   "outputs": [
    {
     "data": {
      "text/html": [
       "<div>\n",
       "<style scoped>\n",
       "    .dataframe tbody tr th:only-of-type {\n",
       "        vertical-align: middle;\n",
       "    }\n",
       "\n",
       "    .dataframe tbody tr th {\n",
       "        vertical-align: top;\n",
       "    }\n",
       "\n",
       "    .dataframe thead th {\n",
       "        text-align: right;\n",
       "    }\n",
       "</style>\n",
       "<table border=\"1\" class=\"dataframe\">\n",
       "  <thead>\n",
       "    <tr style=\"text-align: right;\">\n",
       "      <th></th>\n",
       "      <th>Pais</th>\n",
       "      <th>Capital</th>\n",
       "      <th>Populacao</th>\n",
       "      <th>Classificacao</th>\n",
       "      <th>IDH</th>\n",
       "    </tr>\n",
       "  </thead>\n",
       "  <tbody>\n",
       "    <tr>\n",
       "      <th>0</th>\n",
       "      <td>Belgica</td>\n",
       "      <td>Bruxelas</td>\n",
       "      <td>4332423</td>\n",
       "      <td>1</td>\n",
       "      <td>True</td>\n",
       "    </tr>\n",
       "    <tr>\n",
       "      <th>1</th>\n",
       "      <td>India</td>\n",
       "      <td>Nova Delhi</td>\n",
       "      <td>213232312</td>\n",
       "      <td>3</td>\n",
       "      <td>NaN</td>\n",
       "    </tr>\n",
       "    <tr>\n",
       "      <th>2</th>\n",
       "      <td>Brasil</td>\n",
       "      <td>Brasilia</td>\n",
       "      <td>4534</td>\n",
       "      <td>3</td>\n",
       "      <td>NaN</td>\n",
       "    </tr>\n",
       "  </tbody>\n",
       "</table>\n",
       "</div>"
      ],
      "text/plain": [
       "      Pais     Capital  Populacao  Classificacao   IDH\n",
       "0  Belgica    Bruxelas    4332423              1  True\n",
       "1    India  Nova Delhi  213232312              3   NaN\n",
       "2   Brasil    Brasilia       4534              3   NaN"
      ]
     },
     "execution_count": 91,
     "metadata": {},
     "output_type": "execute_result"
    }
   ],
   "source": [
    "df['IDH'] = None\n",
    "df['IDH'] = pd.DataFrame({'IDH': [ True ]})\n",
    "df"
   ]
  },
  {
   "cell_type": "code",
   "execution_count": 86,
   "id": "2a06b485-9c2e-47f4-8630-b9a830c19284",
   "metadata": {},
   "outputs": [
    {
     "data": {
      "text/plain": [
       "dtype('O')"
      ]
     },
     "execution_count": 86,
     "metadata": {},
     "output_type": "execute_result"
    }
   ],
   "source": [
    "df['IDH'].dtypes"
   ]
  },
  {
   "cell_type": "code",
   "execution_count": 88,
   "id": "b4888fdf-2727-4395-95a2-6e82c53d21d6",
   "metadata": {
    "tags": []
   },
   "outputs": [
    {
     "data": {
      "text/html": [
       "<div>\n",
       "<style scoped>\n",
       "    .dataframe tbody tr th:only-of-type {\n",
       "        vertical-align: middle;\n",
       "    }\n",
       "\n",
       "    .dataframe tbody tr th {\n",
       "        vertical-align: top;\n",
       "    }\n",
       "\n",
       "    .dataframe thead th {\n",
       "        text-align: right;\n",
       "    }\n",
       "</style>\n",
       "<table border=\"1\" class=\"dataframe\">\n",
       "  <thead>\n",
       "    <tr style=\"text-align: right;\">\n",
       "      <th></th>\n",
       "      <th>Pais</th>\n",
       "      <th>Capital</th>\n",
       "      <th>Populacao</th>\n",
       "      <th>Classificacao</th>\n",
       "      <th>IDH</th>\n",
       "    </tr>\n",
       "  </thead>\n",
       "  <tbody>\n",
       "    <tr>\n",
       "      <th>0</th>\n",
       "      <td>Belgica</td>\n",
       "      <td>Bruxelas</td>\n",
       "      <td>4332423</td>\n",
       "      <td>1</td>\n",
       "      <td>True</td>\n",
       "    </tr>\n",
       "    <tr>\n",
       "      <th>1</th>\n",
       "      <td>India</td>\n",
       "      <td>Nova Delhi</td>\n",
       "      <td>213232312</td>\n",
       "      <td>3</td>\n",
       "      <td>n/a</td>\n",
       "    </tr>\n",
       "    <tr>\n",
       "      <th>2</th>\n",
       "      <td>Brasil</td>\n",
       "      <td>Brasilia</td>\n",
       "      <td>4534</td>\n",
       "      <td>3</td>\n",
       "      <td>n/a</td>\n",
       "    </tr>\n",
       "  </tbody>\n",
       "</table>\n",
       "</div>"
      ],
      "text/plain": [
       "      Pais     Capital  Populacao  Classificacao   IDH\n",
       "0  Belgica    Bruxelas    4332423              1  True\n",
       "1    India  Nova Delhi  213232312              3   n/a\n",
       "2   Brasil    Brasilia       4534              3   n/a"
      ]
     },
     "execution_count": 88,
     "metadata": {},
     "output_type": "execute_result"
    }
   ],
   "source": [
    "df['IDH'] = df.IDH.fillna('n/a')\n",
    "df"
   ]
  },
  {
   "cell_type": "code",
   "execution_count": 89,
   "id": "1bb5e2bc-a965-4fa0-9720-62bb5d0ac1c4",
   "metadata": {},
   "outputs": [
    {
     "data": {
      "text/html": [
       "<div>\n",
       "<style scoped>\n",
       "    .dataframe tbody tr th:only-of-type {\n",
       "        vertical-align: middle;\n",
       "    }\n",
       "\n",
       "    .dataframe tbody tr th {\n",
       "        vertical-align: top;\n",
       "    }\n",
       "\n",
       "    .dataframe thead th {\n",
       "        text-align: right;\n",
       "    }\n",
       "</style>\n",
       "<table border=\"1\" class=\"dataframe\">\n",
       "  <thead>\n",
       "    <tr style=\"text-align: right;\">\n",
       "      <th></th>\n",
       "      <th>Pais</th>\n",
       "      <th>Capital</th>\n",
       "      <th>Populacao</th>\n",
       "      <th>Classificacao</th>\n",
       "    </tr>\n",
       "  </thead>\n",
       "  <tbody>\n",
       "    <tr>\n",
       "      <th>0</th>\n",
       "      <td>Belgica</td>\n",
       "      <td>Bruxelas</td>\n",
       "      <td>4332423</td>\n",
       "      <td>1</td>\n",
       "    </tr>\n",
       "    <tr>\n",
       "      <th>1</th>\n",
       "      <td>India</td>\n",
       "      <td>Nova Delhi</td>\n",
       "      <td>213232312</td>\n",
       "      <td>3</td>\n",
       "    </tr>\n",
       "    <tr>\n",
       "      <th>2</th>\n",
       "      <td>Brasil</td>\n",
       "      <td>Brasilia</td>\n",
       "      <td>4534</td>\n",
       "      <td>3</td>\n",
       "    </tr>\n",
       "  </tbody>\n",
       "</table>\n",
       "</div>"
      ],
      "text/plain": [
       "      Pais     Capital  Populacao  Classificacao\n",
       "0  Belgica    Bruxelas    4332423              1\n",
       "1    India  Nova Delhi  213232312              3\n",
       "2   Brasil    Brasilia       4534              3"
      ]
     },
     "execution_count": 89,
     "metadata": {},
     "output_type": "execute_result"
    }
   ],
   "source": [
    "df = df.drop('IDH', axis=1)\n",
    "df"
   ]
  },
  {
   "cell_type": "code",
   "execution_count": 90,
   "id": "79ac8462-a543-4b22-beee-880f975f551f",
   "metadata": {},
   "outputs": [],
   "source": [
    "# df = df.drop(1, axis=0)"
   ]
  },
  {
   "cell_type": "code",
   "execution_count": 95,
   "id": "953d8b9c-216f-43d9-8116-4f3563e0b985",
   "metadata": {},
   "outputs": [
    {
     "data": {
      "text/html": [
       "<div>\n",
       "<style scoped>\n",
       "    .dataframe tbody tr th:only-of-type {\n",
       "        vertical-align: middle;\n",
       "    }\n",
       "\n",
       "    .dataframe tbody tr th {\n",
       "        vertical-align: top;\n",
       "    }\n",
       "\n",
       "    .dataframe thead th {\n",
       "        text-align: right;\n",
       "    }\n",
       "</style>\n",
       "<table border=\"1\" class=\"dataframe\">\n",
       "  <thead>\n",
       "    <tr style=\"text-align: right;\">\n",
       "      <th></th>\n",
       "      <th>Pais</th>\n",
       "      <th>Capital</th>\n",
       "      <th>Populacao</th>\n",
       "      <th>Classificacao</th>\n",
       "    </tr>\n",
       "  </thead>\n",
       "  <tbody>\n",
       "    <tr>\n",
       "      <th>0</th>\n",
       "      <td>Belgica</td>\n",
       "      <td>Bruxelas</td>\n",
       "      <td>4332423</td>\n",
       "      <td>1</td>\n",
       "    </tr>\n",
       "    <tr>\n",
       "      <th>1</th>\n",
       "      <td>India</td>\n",
       "      <td>Nova Delhi</td>\n",
       "      <td>213232312</td>\n",
       "      <td>3</td>\n",
       "    </tr>\n",
       "    <tr>\n",
       "      <th>2</th>\n",
       "      <td>Brasil</td>\n",
       "      <td>Brasilia</td>\n",
       "      <td>4534</td>\n",
       "      <td>3</td>\n",
       "    </tr>\n",
       "  </tbody>\n",
       "</table>\n",
       "</div>"
      ],
      "text/plain": [
       "      Pais     Capital  Populacao  Classificacao\n",
       "0  Belgica    Bruxelas    4332423              1\n",
       "1    India  Nova Delhi  213232312              3\n",
       "2   Brasil    Brasilia       4534              3"
      ]
     },
     "execution_count": 95,
     "metadata": {},
     "output_type": "execute_result"
    }
   ],
   "source": [
    "df = df.dropna(axis=1)\n",
    "df"
   ]
  },
  {
   "cell_type": "code",
   "execution_count": null,
   "id": "8bc6ad97-6962-475e-8b93-56d1c398a7fe",
   "metadata": {},
   "outputs": [],
   "source": []
  }
 ],
 "metadata": {
  "kernelspec": {
   "display_name": "Python 3 (ipykernel)",
   "language": "python",
   "name": "python3"
  },
  "language_info": {
   "codemirror_mode": {
    "name": "ipython",
    "version": 3
   },
   "file_extension": ".py",
   "mimetype": "text/x-python",
   "name": "python",
   "nbconvert_exporter": "python",
   "pygments_lexer": "ipython3",
   "version": "3.7.9"
  }
 },
 "nbformat": 4,
 "nbformat_minor": 5
}
