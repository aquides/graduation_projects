{
 "cells": [
  {
   "cell_type": "markdown",
   "id": "995c2930",
   "metadata": {},
   "source": [
    "# COMANDO DE PROTEÇÃO TRY, EXCEPT E FINALLY\n"
   ]
  },
  {
   "cell_type": "markdown",
   "id": "0c43866b",
   "metadata": {},
   "source": [
    "## O comando TRY juntamente com o EXCEPT agem sendo uma das principais ferramentas de auxilio no processo de debug do programador."
   ]
  },
  {
   "cell_type": "code",
   "execution_count": 58,
   "id": "3b9c4667",
   "metadata": {},
   "outputs": [
    {
     "name": "stdout",
     "output_type": "stream",
     "text": [
      "1.1111111111111112\n"
     ]
    }
   ],
   "source": [
    "a = 10\n",
    "b = 9\n",
    "\n",
    "try:\n",
    "    print( a/b )\n",
    "except ZeroDivisionError as division :\n",
    "    print( division )\n"
   ]
  },
  {
   "cell_type": "code",
   "execution_count": 60,
   "id": "05624471",
   "metadata": {},
   "outputs": [
    {
     "name": "stdout",
     "output_type": "stream",
     "text": [
      "Erro no processo de divisão\n"
     ]
    }
   ],
   "source": [
    "a = 10\n",
    "b = 0\n",
    "\n",
    "try:\n",
    "    print( a/b ) \n",
    "except:\n",
    "    print( 'Erro no processo de divisão' )  \n"
   ]
  },
  {
   "cell_type": "markdown",
   "id": "9d6ac35f",
   "metadata": {},
   "source": [
    "## Por agirem como uma condicional, tais comandos possibilitam a avaliação da linha  específica onde o erro está presente. "
   ]
  },
  {
   "cell_type": "code",
   "execution_count": 70,
   "id": "ea6cb52c",
   "metadata": {},
   "outputs": [
    {
     "name": "stdout",
     "output_type": "stream",
     "text": [
      "1.1111111111111112\n",
      "OHAYOUUU SEKAI GUDI MORNING WORRLLLLLLD!!!!\n",
      "\n"
     ]
    }
   ],
   "source": [
    "a = 10\n",
    "b = 9\n",
    "\n",
    "try:\n",
    "    print(a/b)\n",
    "except:\n",
    "    print( 'Erro no processo de divisão' )\n",
    "else:\n",
    "    try:\n",
    "        with open( 'try_project.txt', 'r' ) as file_object: #with open abre e fecha o arquivo automaticamente\n",
    "            texto = file_object.read()\n",
    "            print( texto )\n",
    "    except: \n",
    "        print( 'Não foi possível realizar a leitura do arquivo' )"
   ]
  },
  {
   "cell_type": "code",
   "execution_count": 62,
   "id": "8bb9c343",
   "metadata": {},
   "outputs": [
    {
     "name": "stdout",
     "output_type": "stream",
     "text": [
      "1.1111111111111112\n",
      "Não foi possível realizar a leitura do arquivo\n"
     ]
    }
   ],
   "source": [
    "a = 10\n",
    "b = 9\n",
    "\n",
    "try:\n",
    "    print( a/b )\n",
    "except ZeroDivisionError as division :\n",
    "    print( division )\n",
    "else:\n",
    "    try:\n",
    "        with open( 'tr_project.txt', 'r' ) as file_object: # r ler, w subscreve, a adiciona no fim da ultima linha, r+ ler e escrever\n",
    "            texto = file_object.read()\n",
    "            print( texto )\n",
    "    except: \n",
    "        print( 'Não foi possível realizar a leitura do arquivo' )"
   ]
  },
  {
   "cell_type": "markdown",
   "id": "396896ac",
   "metadata": {},
   "source": [
    "arquivo.writelines/write(\"\") escreve no arquivo \n",
    "arquivo.readlines() Transforma o arquivo em ma lista e se torna invocavel \n",
    "arquivo.read le todo  arquivo e devolve como string"
   ]
  },
  {
   "cell_type": "markdown",
   "id": "a83d52ef",
   "metadata": {},
   "source": [
    "## Atenção, caso o erro esteja no início do programa o Try não executará as linhas posteriores"
   ]
  },
  {
   "cell_type": "code",
   "execution_count": 63,
   "id": "eb79c6ed",
   "metadata": {},
   "outputs": [
    {
     "name": "stdout",
     "output_type": "stream",
     "text": [
      "division by zero\n"
     ]
    }
   ],
   "source": [
    "a = 10\n",
    "b = 0\n",
    "\n",
    "try:\n",
    "    print( a/b )\n",
    "except:\n",
    "    print( 'Erro no processo de divisão' )\n",
    "else:\n",
    "    try:\n",
    "        with open( 'tr_project.txt', 'r' ) as file_object:\n",
    "            texto = file_object.read()\n",
    "            print(texto)\n",
    "    except: \n",
    "        print( 'Não foi possível realizar a leitura do arquivo' )"
   ]
  },
  {
   "cell_type": "markdown",
   "id": "626ed16b",
   "metadata": {},
   "source": [
    "## Com o auxilio da documentação do python também é posśivel 'invocar' certos erros ja padronificados como abaixo: \n",
    "\n",
    "link: https://docs.python.org/3/library/exceptions.html"
   ]
  },
  {
   "cell_type": "code",
   "execution_count": 69,
   "id": "5990809c",
   "metadata": {},
   "outputs": [
    {
     "name": "stdout",
     "output_type": "stream",
     "text": [
      "division by zero\n"
     ]
    }
   ],
   "source": [
    "a = 45\n",
    "b = 0\n",
    "\n",
    "try:\n",
    "    print(a/b)\n",
    "except ZeroDivisionError as division :\n",
    "    print(division)\n",
    "else:\n",
    "    try:\n",
    "        with open('try_project.txt', 'r') as file_object:\n",
    "            texto = file_object.read()\n",
    "            print(texto)\n",
    "    except: \n",
    "        print('Não foi possível realizar a leitura do arquivo')"
   ]
  },
  {
   "cell_type": "markdown",
   "id": "c17cbd29",
   "metadata": {},
   "source": [
    "## Além do TRY e EXCEPT também é possível utilizar o ELSE como forma de validar que o codigo está sendo executado corretamente:"
   ]
  },
  {
   "cell_type": "code",
   "execution_count": 68,
   "id": "b627b8f9",
   "metadata": {},
   "outputs": [
    {
     "name": "stdout",
     "output_type": "stream",
     "text": [
      "3.0\n",
      "Sem erros\n"
     ]
    }
   ],
   "source": [
    "a = 9\n",
    "b = 3\n",
    "\n",
    "try:\n",
    "    print(a/b)\n",
    "\n",
    "except ZeroDivisionError as error:\n",
    "    print(error)\n",
    "\n",
    "else:\n",
    "    print( 'Sem erros')"
   ]
  },
  {
   "cell_type": "code",
   "execution_count": 67,
   "id": "5c04bec3",
   "metadata": {},
   "outputs": [
    {
     "name": "stdout",
     "output_type": "stream",
     "text": [
      "division by zero\n"
     ]
    }
   ],
   "source": [
    "a = 0\n",
    "b = 0\n",
    "\n",
    "try:\n",
    "    print(a/b)\n",
    "\n",
    "except ZeroDivisionError as error:\n",
    "    print(error)\n",
    "\n",
    "else:\n",
    "    print( ' Sem erros')\n",
    "    \n"
   ]
  },
  {
   "cell_type": "markdown",
   "id": "8f05000d",
   "metadata": {},
   "source": [
    "## Por fim, com o auxílio do comando FINALLY ese torna possível criar uma condição obrigatoria, isto é, mesmo se houver um erro no código as linhas dependentes do FINALLY serão executadas"
   ]
  },
  {
   "cell_type": "code",
   "execution_count": 1,
   "id": "e1288bf4",
   "metadata": {},
   "outputs": [
    {
     "name": "stdout",
     "output_type": "stream",
     "text": [
      "division by zero\n",
      "Aqui sempre vai printar\n"
     ]
    }
   ],
   "source": [
    "a = 45\n",
    "b = 0\n",
    "\n",
    "try:\n",
    "    print(a/b)\n",
    "except ZeroDivisionError as division :\n",
    "    print(division)\n",
    "else:\n",
    "    try:\n",
    "        with open('try_project.txt', 'r') as file_object:\n",
    "            texto = file_object.read()\n",
    "            print(texto)\n",
    "    except: \n",
    "        print('Não foi possível realizar a leitura do arquivo')\n",
    "    \n",
    "finally:\n",
    "    print('Aqui sempre vai printar')"
   ]
  },
  {
   "cell_type": "markdown",
   "id": "9457896a",
   "metadata": {},
   "source": [
    "Alternativa ao Finally é especificar o codigo do erro e por valor que quer ser printando apos o exept. Isso evita do codigo parar de ser rodado caso o Try seja invocado"
   ]
  },
  {
   "cell_type": "code",
   "execution_count": 3,
   "id": "7889f696",
   "metadata": {},
   "outputs": [
    {
     "name": "stdout",
     "output_type": "stream",
     "text": [
      "8\n"
     ]
    }
   ],
   "source": [
    "x = input( \"Informe um valor\" )\n",
    "try:\n",
    "    x = eval( x ) + 5\n",
    "    x = 10 / x\n",
    "except NameError:\n",
    "    x = 8\n",
    "except ZeroDivisionError:\n",
    "    x = 0\n",
    "    \n",
    "print( x )\n"
   ]
  },
  {
   "cell_type": "markdown",
   "id": "87f2e090",
   "metadata": {},
   "source": [
    "except:\n",
    "    pass\n",
    "\n",
    "passa reto se der merda"
   ]
  },
  {
   "cell_type": "markdown",
   "id": "31323b02",
   "metadata": {},
   "source": []
  },
  {
   "cell_type": "markdown",
   "id": "0bdafe1e",
   "metadata": {},
   "source": [
    "Interação IO"
   ]
  }
 ],
 "metadata": {
  "kernelspec": {
   "display_name": "Python 3.8.10 64-bit",
   "language": "python",
   "name": "python3"
  },
  "language_info": {
   "codemirror_mode": {
    "name": "ipython",
    "version": 3
   },
   "file_extension": ".py",
   "mimetype": "text/x-python",
   "name": "python",
   "nbconvert_exporter": "python",
   "pygments_lexer": "ipython3",
   "version": "3.9.7"
  },
  "vscode": {
   "interpreter": {
    "hash": "916dbcbb3f70747c44a77c7bcd40155683ae19c65e1c03b4aa3499c5328201f1"
   }
  }
 },
 "nbformat": 4,
 "nbformat_minor": 5
}
