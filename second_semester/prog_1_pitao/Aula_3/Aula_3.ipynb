{
  "cells": [
    {
      "cell_type": "markdown",
      "metadata": {
        "id": "0twkjaPCF2k9"
      },
      "source": [
        "Comandos de Decisão\n",
        "\n",
        "Linguages sem fluxo de controle: \n",
        "CSS. HTML, Assembly -  Apenas le o codigo"
      ]
    },
    {
      "cell_type": "code",
      "execution_count": null,
      "metadata": {
        "colab": {
          "base_uri": "https://localhost:8080/"
        },
        "id": "5eHGJ6vbGIy0",
        "outputId": "e7dedbf0-15d3-4c2f-a2a8-a2b628a9278e"
      },
      "outputs": [
        {
          "name": "stdout",
          "output_type": "stream",
          "text": [
            "Informe sua idade8\n",
            "Vc e menor de idade\n"
          ]
        }
      ],
      "source": [
        "idade = input( \"Informe sua idade \" )\n",
        "idade = int( idade )\n",
        "\n",
        "\n",
        "if idade < 18:\n",
        "  print( 'Vc e menor de idade' )\n",
        "else:\n",
        "  if idade > 17 and idade <60:\n",
        "    print( ' Voce e adulto ' )\n",
        "  else:\n",
        "    if idade > 11 and idade < 18:\n",
        "      print( 'Voce e crianca ' )\n",
        "    else:\n",
        "      print( 'Voce e velhote ' )"
      ]
    },
    {
      "cell_type": "code",
      "execution_count": null,
      "metadata": {
        "id": "SWNRH_fnJxS5"
      },
      "outputs": [],
      "source": [
        "idade = input( \"Informe sua idade\" )\n",
        "idade = int( idade )\n",
        "\n",
        "if idade < 18:\n",
        "  print( \"Vc e menor de idade\" )\n",
        "elif idade > 17 and idade <60:\n",
        "  print( ' Voce e adulto' )\n",
        "elif idade > 11 and idade < 18:\n",
        "  print( 'Voce e crianca' )\n",
        "else:\n",
        "  print( 'Voce e velhote' )\n",
        "\n",
        "  #So se usa o ELIF apos um primeiro IF e o else final nao e obrigtorio"
      ]
    },
    {
      "cell_type": "code",
      "execution_count": null,
      "metadata": {
        "id": "IWtsnd-AF9Q0"
      },
      "outputs": [],
      "source": [
        "x = input( 'Digite 1, 2 ou 3' )\n",
        "x = int( x )\n",
        "\n",
        "print({1: 'Um', 2: 'Dois', 3: 'Tres'}[x])\n",
        "# Linguagens interpretaveis sao mais rapidas como C\n",
        "# Quanto menos linhas o codigo melhor para rodar"
      ]
    },
    {
      "cell_type": "markdown",
      "metadata": {
        "id": "ng26g9WDF2nt"
      },
      "source": [
        "# TIMINGU\n",
        "\n"
      ]
    },
    {
      "cell_type": "code",
      "execution_count": null,
      "metadata": {
        "id": "D7tKL_ZrNeYe"
      },
      "outputs": [],
      "source": [
        "# import [library] acopia toda a biblioteca \n",
        "\n",
        "import datetime # biblioteca de tempo\n",
        "\n",
        "hj = datetime.datetime.today()\n",
        "print(hj)\n",
        "\n",
        "hj = datetime.datetime.now()\n",
        "print(hj)\n"
      ]
    },
    {
      "cell_type": "code",
      "execution_count": null,
      "metadata": {
        "id": "T6mV8VISOZl7"
      },
      "outputs": [],
      "source": [
        "# from[object] import [library] importa uma coisa especifica da biblioteca. Menos coisa para rodar\n",
        "\n",
        "from datetime import datetime\n",
        "hj = datetime.now()\n",
        "print(hj)"
      ]
    },
    {
      "cell_type": "code",
      "execution_count": null,
      "metadata": {
        "id": "0eBCClJ4OuJ5"
      },
      "outputs": [],
      "source": [
        "# Acertar zona tempo\n",
        "pip install pytz\n",
        "from datetime import datetimeimport pytz\n",
        "\n",
        "pst = pytz.timezone( 'America/Sao_Paulo' )\n",
        "d = datetime.now()\n",
        "print( 'Sem Timezone', d )\n",
        "\n",
        "d = d.astimezone(pst)\n",
        "print( 'Com Timezone', d )\n"
      ]
    },
    {
      "cell_type": "code",
      "execution_count": null,
      "metadata": {
        "colab": {
          "base_uri": "https://localhost:8080/"
        },
        "id": "pflJoXmwPeqv",
        "outputId": "09ea6114-55a5-491c-eddb-2a05bb881ef1"
      },
      "outputs": [
        {
          "name": "stdout",
          "output_type": "stream",
          "text": [
            "Ano:  2022\n",
            "Mes:  9\n",
            "Dia:  3\n",
            "Hora:  12\n",
            "Minuto:  9\n",
            "Segundos:  30\n",
            "Milissegundos:  692105\n",
            "Data:  2022-09-03\n",
            "Tempo:  12:09:30.692105\n"
          ]
        }
      ],
      "source": [
        "# Pegar por parte o tempo\n",
        "\n",
        "from datetime import datetime\n",
        "hj = datetime.now()\n",
        "\n",
        "print( 'Ano: ', hj.year) \n",
        "print( 'Mes: ', hj.month)\n",
        "print( 'Dia: ', hj.day)\n",
        "print( 'Semana: ', hj.week)\n",
        "print( 'Hora: ', hj.hour)\n",
        "print( 'Minuto: ', hj.minute)\n",
        "print( 'Segundos: ', hj.second)\n",
        "print( 'Milissegundos: ', hj.microsecond)\n",
        "\n",
        "print( 'Data: ', hj.date()) # Sao parametros os que possuem aspas\n",
        "print( 'Tempo: ', hj.time())\n",
        "print( 'Dia da Semana: ', hj.weekday()) # Semana comeca na segunda (0) e acaba domingo(6). Retorna o Numero da semana\n",
        "print(('Seg', 'Ter', 'Qua', 'Qui', 'Sex', 'Sab', 'Dom')[hj.weekday()]) # Da nome aos dias da semana\n"
      ]
    },
    {
      "cell_type": "code",
      "execution_count": null,
      "metadata": {
        "id": "Mp8SHbKCSGxv"
      },
      "outputs": [],
      "source": [
        "# Formatacao para dar nomes aos dias....\n",
        "\n",
        "from datetime import datetime\n",
        "hj = datetime.now()\n",
        "\n",
        "frm = ' %a %A %d %m %b %B %y %Y %H:%M%S '\n",
        "# a dia da semana 3 letras\n",
        "# A dia da semana nome\n",
        "# d dia\n",
        "# b \n",
        "# m mes numero\n",
        "# b mes 3 letras\n",
        "# B mes nome\n",
        "# y 2 digintos ano\n",
        "# Y ano\n",
        "# %H:%M% hora, minuto e segundo\n",
        "\n",
        "print(hj.strftime(frm))\n",
        "\n",
        "hj45 = hj.toordinal() #poe a data em inteiro\n",
        "print( \"Em inteiros\", hj45 )\n",
        "\n",
        "hj45 = hj45 + 45\n",
        "futuro = hj.fromordinal(hj45) # converte do ordinal para date\n",
        "print( 'Daqui a 45 dias sera', futuro )\n"
      ]
    }
  ],
  "metadata": {
    "colab": {
      "provenance": []
    },
    "kernelspec": {
      "display_name": "Python 3",
      "name": "python3"
    },
    "language_info": {
      "name": "python"
    }
  },
  "nbformat": 4,
  "nbformat_minor": 0
}
