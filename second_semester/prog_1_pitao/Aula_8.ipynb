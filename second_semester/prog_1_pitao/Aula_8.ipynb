{
 "cells": [
  {
   "cell_type": "code",
   "execution_count": 1,
   "metadata": {},
   "outputs": [],
   "source": [
    "import pandas"
   ]
  },
  {
   "cell_type": "markdown",
   "metadata": {},
   "source": [
    "# CRIAÇÃO BIBLIOTECA\n",
    "\n",
    "\n",
    "Cria um algoritmo em um arquivo \".py\" e depois o importa "
   ]
  },
  {
   "cell_type": "code",
   "execution_count": null,
   "metadata": {},
   "outputs": [],
   "source": [
    "# CRIAÇÃO DO ALGORITMO\n",
    "\n",
    "def novo():\n",
    "        print( 'Varialvel',__name__ )\n",
    "        \n",
    "if __name__ == \"__main__\": # EXPLICAR\n",
    "    novo()\n"
   ]
  },
  {
   "cell_type": "code",
   "execution_count": 2,
   "metadata": {},
   "outputs": [
    {
     "name": "stdout",
     "output_type": "stream",
     "text": [
      "Varialvel programa\n"
     ]
    }
   ],
   "source": [
    "import programa as outro\n",
    "\n",
    "outro.novo()"
   ]
  },
  {
   "cell_type": "markdown",
   "metadata": {},
   "source": [
    "# CRIAÇÃO DE CLASSE\n",
    "\n",
    "\n",
    "Ao se invocar se deve seguir a estrutura de :\n",
    "\n",
    "\n",
    "class NAME(object):\n",
    "    def __init__ ( self, variavel ) # Age como um contrututor\n",
    "\n",
    "\n",
    "Construtores\n",
    "\n",
    "\n",
    "Sempre deve definir \"self\"  mesmo quando não se tem parametro, caso não seja declarado o metodo nao fara parte da classe\n",
    "\n",
    "\n",
    "class NAME(object):\n",
    "    def __init__( self, variaveis):\n",
    "\n",
    "\n",
    "Para se usar a classe se cria uma variável (objeto) e iguala ela a classe e se apssa os parametros do construtor, dps chama a função desejada\n",
    "\n",
    "\n",
    "variavel = CLASSE( parametro1, parametroX ) # OBJETO\n",
    "\n",
    "\n",
    "variavel.def() #Função especifica"
   ]
  },
  {
   "cell_type": "code",
   "execution_count": 5,
   "metadata": {},
   "outputs": [
    {
     "name": "stderr",
     "output_type": "stream",
     "text": [
      "Matplotlib is building the font cache; this may take a moment.\n"
     ]
    }
   ],
   "source": [
    "import matplotlib.pyplot as plt"
   ]
  },
  {
   "cell_type": "code",
   "execution_count": 8,
   "metadata": {},
   "outputs": [],
   "source": [
    "class Circle(object):\n",
    "    def __init__(self, raio =3, cor = 'blue' ): # cria variáveis\n",
    "        self.raio = raio\n",
    "        self.cor = cor\n",
    "        \n",
    "    def addRaio(self, r):   \n",
    "        self.raio = self.raio + r\n",
    "        return( self.raio )\n",
    "    \n",
    "    def drawCircle(self):\n",
    "        plt.gca().add_patch( plt.Circle( (0,0) , radius = self.raio, fc = self.cor ) )\n",
    "        plt.axis( 'scaled' )\n",
    "        plt.show()      "
   ]
  },
  {
   "cell_type": "code",
   "execution_count": 9,
   "metadata": {},
   "outputs": [
    {
     "data": {
      "image/png": "[encoded data removed]",
      "text/plain": [
       "<Figure size 432x288 with 1 Axes>"
      ]
     },
     "metadata": {
      "needs_background": "light"
     },
     "output_type": "display_data"
    }
   ],
   "source": [
    "# Criação de Object\n",
    "red_circler = Circle( 10, 'red' )\n",
    "red_circler.drawCircle()"
   ]
  },
  {
   "cell_type": "markdown",
   "metadata": {},
   "source": [
    "# NUMPY\n",
    "\n",
    "Única que manipula Array'satravés do N-Array \n",
    "\n",
    "Arrays são originadas apartir de arrays porém não são listas\n",
    "\n",
    "a = np.arry( [0, 1, 2, 3, 4, 5] ) \n",
    "\n",
    "Especializada em processamento numérico\n",
    "\n",
    "    Serve como base para diversas bibliotecas \n",
    "\n",
    "## Principais Comandos:\n",
    "\n",
    ".mean()\n",
    "\n",
    ".max()\n",
    "\n",
    ".min()\n",
    "\n",
    ".std()\n",
    "\n",
    ".var() #variancia\n",
    "\n",
    "\n",
    "## Funções Especializadas\n",
    "\n",
    "np.median() # Mediana\n",
    "\n",
    "np.exp() # Exponencial\n",
    "\n",
    "np.sqrt() # Raiz\n",
    "\n",
    "np.arange() # Versão Range do Numpy\n",
    "\n",
    "np.sum() # Soma de elementos\n",
    "\n",
    "np.prod() # Produto dos elementos, fatorial\n",
    "\n",
    "np.cumsum() # Soma acumulada dos elementos, soma número por número\n",
    "\n",
    "\n",
    "## Arrays bidimensionais\n",
    "\n",
    "b = np.array( [[1,2,3,4], [1,3,4,5]] ) # Paradoxalmente, não é uma array\n",
    "\n",
    "## Orientação em arrays multidimensionais se usa o axis. 0 para colunas, 1 linhas\n",
    "\n",
    ".sum em matrizes de array concatenam as diferentes linhas \n",
    "\n",
    "print( b.sum( axis=1 ) ) # Faz a soma dos valores nas colunas\n",
    "\n",
    "b[x][y][z] # se chama dimensoes especificas. X é aa linha e Y posição na coluna  Z posição da da dimensao\n",
    "\n",
    "## Criação de matrizes com unico valor\n",
    "\n",
    "\n",
    "np.full((x,y),z) # X quantidade de colunas |(dimensoes) e Y quantidade de elemntos por linha e Z o valor que todos atributos terão\n",
    "\n",
    "np.random.randint(3,5,30) # entre valor 3 e 5 gerara 30 elementos  aleatorios\n",
    "\n",
    "np.linspace(3,5,30) # entre  3 e 5 gerara 30 elementos \n",
    "\n",
    "## Numeros Randômicos\n",
    "\n",
    "np.random.randn(x) # cria números semi-aleatórios\n",
    "\n",
    "\n"
   ]
  },
  {
   "cell_type": "code",
   "execution_count": null,
   "metadata": {},
   "outputs": [],
   "source": [
    "import numpy as np\n"
   ]
  }
 ],
 "metadata": {
  "interpreter": {
   "hash": "b3ba2566441a7c06988d0923437866b63cedc61552a5af99d1f4fb67d367b25f"
  },
  "kernelspec": {
   "display_name": "Python 3.9.7 ('base')",
   "language": "python",
   "name": "python3"
  },
  "language_info": {
   "codemirror_mode": {
    "name": "ipython",
    "version": 3
   },
   "file_extension": ".py",
   "mimetype": "text/x-python",
   "name": "python",
   "nbconvert_exporter": "python",
   "pygments_lexer": "ipython3",
   "version": "3.9.7"
  },
  "orig_nbformat": 4
 },
 "nbformat": 4,
 "nbformat_minor": 2
}
