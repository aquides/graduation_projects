{
  "cells": [
    {
      "cell_type": "markdown",
      "metadata": {
        "id": "0twkjaPCF2k9"
      },
      "source": [
        "# Comandos de Decisão\n",
        "Linguages sem fluxo de controle: \n",
        "\n",
        "CSS. HTML, Assembly -  Apenas le o codigo"
      ]
    },
    {
      "cell_type": "code",
      "execution_count": 1,
      "metadata": {
        "colab": {
          "base_uri": "https://localhost:8080/"
        },
        "id": "5eHGJ6vbGIy0",
        "outputId": "e7dedbf0-15d3-4c2f-a2a8-a2b628a9278e"
      },
      "outputs": [
        {
          "name": "stdout",
          "output_type": "stream",
          "text": [
            "Vc e menor de idade\n"
          ]
        }
      ],
      "source": [
        "idade = input( \"Informe sua idade \" )\n",
        "idade = int( idade )\n",
        "\n",
        "\n",
        "if idade < 18:\n",
        "  print( 'Vc e menor de idade' )\n",
        "else:\n",
        "  if idade > 17 and idade <60:\n",
        "    print( ' Voce e adulto ' )\n",
        "  else:\n",
        "    if idade > 11 and idade < 18:\n",
        "      print( 'Voce e crianca ' )\n",
        "    else:\n",
        "      print( 'Voce e velhote ' )"
      ]
    },
    {
      "cell_type": "code",
      "execution_count": 2,
      "metadata": {
        "id": "SWNRH_fnJxS5"
      },
      "outputs": [
        {
          "name": "stdout",
          "output_type": "stream",
          "text": [
            "Vc e menor de idade\n"
          ]
        }
      ],
      "source": [
        "idade = input( \"Informe sua idade\" )\n",
        "idade = int( idade )\n",
        "\n",
        "if idade < 18:\n",
        "  print( \"Vc e menor de idade\" )\n",
        "elif idade > 17 and idade <60:\n",
        "  print( ' Voce e adulto' )\n",
        "elif idade > 11 and idade < 18:\n",
        "  print( 'Voce e crianca' )\n",
        "else:\n",
        "  print( 'Voce e velhote' )\n",
        "\n",
        "  #So se usa o ELIF apos um primeiro IF e o else final nao e obrigtorio"
      ]
    },
    {
      "cell_type": "code",
      "execution_count": 3,
      "metadata": {
        "id": "IWtsnd-AF9Q0"
      },
      "outputs": [
        {
          "name": "stdout",
          "output_type": "stream",
          "text": [
            "Dois\n"
          ]
        }
      ],
      "source": [
        "x = input( 'Digite 1, 2 ou 3' )\n",
        "x = int( x )\n",
        "\n",
        "print({1: 'Um', 2: 'Dois', 3: 'Tres'}[x])\n",
        "# Linguagens interpretaveis sao mais rapidas como C\n",
        "# Quanto menos linhas o codigo melhor para rodar"
      ]
    },
    {
      "cell_type": "markdown",
      "metadata": {
        "id": "ng26g9WDF2nt"
      },
      "source": [
        "# TIMINGU\n",
        "\n"
      ]
    },
    {
      "cell_type": "code",
      "execution_count": 4,
      "metadata": {
        "id": "D7tKL_ZrNeYe"
      },
      "outputs": [
        {
          "name": "stdout",
          "output_type": "stream",
          "text": [
            "2022-09-03 09:50:26.441046\n",
            "2022-09-03 09:50:26.441046\n"
          ]
        }
      ],
      "source": [
        "# import [library] acopia toda a biblioteca \n",
        "\n",
        "import datetime # biblioteca de tempo\n",
        "\n",
        "hj = datetime.datetime.today()\n",
        "print(hj)\n",
        "\n",
        "hj = datetime.datetime.now()\n",
        "print(hj)\n"
      ]
    },
    {
      "cell_type": "code",
      "execution_count": 5,
      "metadata": {
        "id": "T6mV8VISOZl7"
      },
      "outputs": [
        {
          "name": "stdout",
          "output_type": "stream",
          "text": [
            "2022-09-03 09:50:27.522128\n"
          ]
        }
      ],
      "source": [
        "# from[object] import [library] importa uma coisa especifica da biblioteca. Menos coisa para rodar\n",
        "\n",
        "from datetime import datetime\n",
        "hj = datetime.now()\n",
        "print(hj)"
      ]
    },
    {
      "cell_type": "code",
      "execution_count": 8,
      "metadata": {},
      "outputs": [
        {
          "name": "stdout",
          "output_type": "stream",
          "text": [
            "Requirement already satisfied: pytz in c:\\programdata\\anaconda3\\lib\\site-packages (2021.3)\n",
            "Note: you may need to restart the kernel to use updated packages.\n"
          ]
        }
      ],
      "source": [
        "pip install pytz"
      ]
    },
    {
      "cell_type": "code",
      "execution_count": 10,
      "metadata": {
        "id": "0eBCClJ4OuJ5"
      },
      "outputs": [
        {
          "name": "stdout",
          "output_type": "stream",
          "text": [
            "Sem Timezone 2022-09-03 09:51:05.545685\n",
            "Com Timezone 2022-09-03 09:51:05.545685-03:00\n"
          ]
        }
      ],
      "source": [
        "# Acertar zona tempo\n",
        "from datetime import datetime\n",
        "import pytz\n",
        "\n",
        "pst = pytz.timezone( 'America/Sao_Paulo' )\n",
        "d = datetime.now()\n",
        "print( 'Sem Timezone', d )\n",
        "\n",
        "d = d.astimezone(pst)\n",
        "print( 'Com Timezone', d )\n"
      ]
    },
    {
      "cell_type": "code",
      "execution_count": 13,
      "metadata": {
        "colab": {
          "base_uri": "https://localhost:8080/"
        },
        "id": "pflJoXmwPeqv",
        "outputId": "09ea6114-55a5-491c-eddb-2a05bb881ef1"
      },
      "outputs": [
        {
          "name": "stdout",
          "output_type": "stream",
          "text": [
            "Ano:  2022\n",
            "Mes:  9\n",
            "Dia:  3\n",
            "Hora:  9\n",
            "Minuto:  51\n",
            "Segundos:  27\n",
            "Milissegundos:  246163\n",
            "Data:  2022-09-03\n",
            "Tempo:  09:51:27.246163\n",
            "Dia da Semana:  5\n",
            "Sab\n"
          ]
        }
      ],
      "source": [
        "# Pegar por parte o tempo\n",
        "\n",
        "from datetime import datetime\n",
        "hj = datetime.now()\n",
        "\n",
        "print( 'Ano: ', hj.year) \n",
        "print( 'Mes: ', hj.month)\n",
        "print( 'Dia: ', hj.day)\n",
        "print( 'Hora: ', hj.hour)\n",
        "print( 'Minuto: ', hj.minute)\n",
        "print( 'Segundos: ', hj.second)\n",
        "print( 'Milissegundos: ', hj.microsecond)\n",
        "\n",
        "print( 'Data: ', hj.date()) # Sao parametros os que possuem aspas\n",
        "print( 'Tempo: ', hj.time())\n",
        "print( 'Dia da Semana: ', hj.weekday()) # Semana comeca na segunda (0) e acaba domingo(6). Retorna o Numero da semana\n",
        "print(('Seg', 'Ter', 'Qua', 'Qui', 'Sex', 'Sab', 'Dom')[hj.weekday()]) # Da nome aos dias da semana\n"
      ]
    },
    {
      "cell_type": "code",
      "execution_count": 14,
      "metadata": {
        "id": "Mp8SHbKCSGxv"
      },
      "outputs": [
        {
          "name": "stdout",
          "output_type": "stream",
          "text": [
            " Sat Saturday 03 09 Sep September 22 2022 09:5128 \n",
            "Em inteiros 738401\n",
            "Daqui a 45 dias sera 2022-10-18 00:00:00\n"
          ]
        }
      ],
      "source": [
        "# Formatacao para dar nomes aos dias....\n",
        "\n",
        "from datetime import datetime\n",
        "hj = datetime.now()\n",
        "\n",
        "frm = ' %a %A %d %m %b %B %y %Y %H:%M%S '\n",
        "# a dia da semana 3 letras\n",
        "# A dia da semana nome\n",
        "# d dia\n",
        "# b \n",
        "# m mes numero\n",
        "# b mes 3 letras\n",
        "# B mes nome\n",
        "# y 2 digintos ano\n",
        "# Y ano\n",
        "# %H:%M% hora, minuto e segundo\n",
        "\n",
        "print(hj.strftime(frm))\n",
        "\n",
        "hj45 = hj.toordinal() #poe a data em inteiro\n",
        "print( \"Em inteiros\", hj45 )\n",
        "\n",
        "hj45 = hj45 + 45\n",
        "futuro = hj.fromordinal(hj45) # converte do ordinal para date\n",
        "print( 'Daqui a 45 dias sera', futuro )\n"
      ]
    },
    {
      "cell_type": "code",
      "execution_count": 3,
      "metadata": {
        "id": "WG1vBKs1T5nx"
      },
      "outputs": [
        {
          "name": "stdout",
          "output_type": "stream",
          "text": [
            "Hora\n",
            "12:24:08\n",
            "11:34:09\n",
            "True\n"
          ]
        }
      ],
      "source": [
        "import datetime\n",
        "print( 'Hora' )\n",
        "t1 = datetime.time( hour=12, minute=24, second=8 )\n",
        "print(t1)\n",
        "\n",
        "t2 = datetime.time(11,34,9)\n",
        "print(t2)\n",
        "\n",
        "print(t1 > t2)"
      ]
    },
    {
      "cell_type": "code",
      "execution_count": 10,
      "metadata": {},
      "outputs": [
        {
          "name": "stdout",
          "output_type": "stream",
          "text": [
            "D1 = 2022-09-03\n",
            "D2 = 2022-10-18\n",
            "False\n"
          ]
        }
      ],
      "source": [
        "import datetime \n",
        "d1 = datetime.date.today() # da apenas a data o date\n",
        "print( 'D1 =', d1 )\n",
        "\n",
        "d2 = d1 + datetime.timedelta( days = 45 ) # Bom apenas para calculos de dias. Para datetime é preferivel \n",
        "                                            # transformar em int e so dps realizar calculos\n",
        "                                            # Nao é possivel calcular meses e anos pq o python é burro\n",
        "print( 'D2 =', d2 )\n",
        "\n",
        "print(d1 > d2)\n",
        "\n",
        "# d3 = d1 + datetime.timedelta( days = 45 )\n",
        "# print( 'D3 =', d3 ) DA ERRO\n",
        "\n"
      ]
    },
    {
      "cell_type": "code",
      "execution_count": null,
      "metadata": {},
      "outputs": [],
      "source": [
        "from datetime import date\n",
        "\n",
        "inicio = date( year = 1966, month = 8, day = 17 )\n",
        "print( inicio )\n",
        "dir( inicio ) # Mostra todos os metodos contidos no objeto\n",
        "# Todos metodos de python começam e terminam com __. Nao se deve criar nada com isso"
      ]
    },
    {
      "cell_type": "markdown",
      "metadata": {
        "id": "L3ldCVLNF2ql"
      },
      "source": [
        "Voce recebera ferias atrasadas no dia 30 de setembro de 2020, e deve retornar 137 dias depois. \n",
        "Qual o dia que voce voltará de ferias?"
      ]
    },
    {
      "cell_type": "code",
      "execution_count": 14,
      "metadata": {},
      "outputs": [
        {
          "name": "stdout",
          "output_type": "stream",
          "text": [
            "Voce retornara de ferias em 14-02-2021\n"
          ]
        }
      ],
      "source": [
        "from datetime import date, timedelta\n",
        "\n",
        "inicio = date( year=2020, month=9, day=30 )\n",
        "\n",
        "ferias = timedelta( days=137 ) # Sempre calcular dias nao meses/anos\n",
        "final = inicio + ferias\n",
        "\n",
        "print( final.strftime( 'Voce retornara de ferias em %d-%m-%Y' ) )"
      ]
    },
    {
      "cell_type": "markdown",
      "metadata": {},
      "source": [
        "# Laço de repetição"
      ]
    },
    {
      "cell_type": "markdown",
      "metadata": {},
      "source": [
        "## Indeterminado - While\n",
        "\n",
        "Nao se sabe quantas vezes devera ser repetido. Possui apenas uma condição nao determinada\n",
        "\n",
        "\n",
        "Util para interagir com o externo \n",
        "\n",
        "\n",
        "    Ex: le BD, Planilhas...."
      ]
    },
    {
      "cell_type": "code",
      "execution_count": null,
      "metadata": {},
      "outputs": [],
      "source": [
        "temp = 0 \n",
        "while tmep != -1000:\n",
        "    temp = int( input( 'Entre com a temperatura ou -1000 para sair' ) )\n",
        "    if temp!= -1000:\n",
        "        print( 'Em Farenheit', (9/5) * temp + 32 )\n",
        "print( 'Até a próxima!!!' )"
      ]
    },
    {
      "cell_type": "code",
      "execution_count": 19,
      "metadata": {},
      "outputs": [],
      "source": [
        "# Calcular numeros de 1 a 99 ate acertar. Nao ha limitador de quantas vezes tentar\n",
        "from random import randint \n",
        "\n",
        "secret = randint( 1, 100 )\n",
        "maroumenos = 0\n",
        "while maroumenos != secret:\n",
        "    maroumenos = eval( input( 'O número é? ' ) ) # EVAL avalia expressao numerica e define (converte) em int, float, expressao...\n",
        "    if maroumenos < secret: \n",
        "        print( 'maroumenos algo maior' )\n",
        "    elif maroumenos > secret:\n",
        "        print( 'maroumenos algo menor ')\n",
        "\n",
        "print( 'O valor é esse' )"
      ]
    },
    {
      "cell_type": "markdown",
      "metadata": {},
      "source": [
        "## Determinado = For\n",
        "\n",
        "\n",
        "Limite é sempre claro \n",
        "\n",
        "range(inicio,final,passo)"
      ]
    },
    {
      "cell_type": "code",
      "execution_count": null,
      "metadata": {},
      "outputs": [],
      "source": [
        "for i in range(10): # Define apenas limite\n",
        "    print(i, end=' ')\n",
        "\n",
        "for i in range(2,10): # Define inicial e final \n",
        "    print(i, end=' ')\n",
        "\n",
        "for i in range(2,10, 2): # Define inicial e final saltando de 2 em 2 \n",
        "    print(i, end=' ')\n",
        "\n",
        "for i in range(2,10, -1): # Define inicial e passo negativo para decrescer \n",
        "    print(i, end=' ')"
      ]
    },
    {
      "cell_type": "code",
      "execution_count": null,
      "metadata": {},
      "outputs": [],
      "source": [
        "# Imprimir alfabeto\n",
        "for i in range( ord('a'), ord('z') + 1 ): # ORD poe em assembly\n",
        "    print( chr(i), end = ' ') # CHAR converte para CHAR"
      ]
    },
    {
      "cell_type": "markdown",
      "metadata": {},
      "source": [
        "Entrar com varias palavras e mostra se ela é ou nao um palindromo \n",
        "\n",
        "exemplo:\n",
        "\n",
        "Informe palarva: arara - é um palidromo\n",
        "\n",
        "Informe palarva: roma - é um palidromo\n",
        "\n",
        "Informe palarva: romaeamor - é um palidromo"
      ]
    },
    {
      "cell_type": "code",
      "execution_count": 34,
      "metadata": {},
      "outputs": [
        {
          "name": "stdout",
          "output_type": "stream",
          "text": [
            "É um palindromo \n",
            "É um palindromo \n",
            "Não é um palindromo\n",
            "Não é um palindromo\n",
            "Não é um palindromo\n"
          ]
        }
      ],
      "source": [
        "\n",
        "while True: # Cria laço while de forma resumida\n",
        "    palavra = input( 'Informe sua palavra' )\n",
        "    if palavra == palavra[::-1]: # Cria o inverso da palavra\n",
        "        print( 'É um palindromo ' )\n",
        "    else: \n",
        "        print( 'Não é um palindromo')"
      ]
    },
    {
      "cell_type": "code",
      "execution_count": null,
      "metadata": {},
      "outputs": [],
      "source": []
    },
    {
      "cell_type": "code",
      "execution_count": null,
      "metadata": {},
      "outputs": [],
      "source": []
    },
    {
      "cell_type": "code",
      "execution_count": null,
      "metadata": {},
      "outputs": [],
      "source": []
    },
    {
      "cell_type": "code",
      "execution_count": null,
      "metadata": {},
      "outputs": [],
      "source": []
    }
  ],
  "metadata": {
    "colab": {
      "collapsed_sections": [],
      "provenance": []
    },
    "kernelspec": {
      "display_name": "Python 3",
      "name": "python3"
    },
    "language_info": {
      "codemirror_mode": {
        "name": "ipython",
        "version": 3
      },
      "file_extension": ".py",
      "mimetype": "text/x-python",
      "name": "python",
      "nbconvert_exporter": "python",
      "pygments_lexer": "ipython3",
      "version": "3.9.7"
    }
  },
  "nbformat": 4,
  "nbformat_minor": 0
}
