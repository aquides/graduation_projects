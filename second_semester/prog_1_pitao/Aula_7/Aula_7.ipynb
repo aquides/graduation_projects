{
 "cells": [
  {
   "cell_type": "markdown",
   "metadata": {},
   "source": [
    "# ORIENTAÇÃO A OBJETOS\n",
    "\n",
    "\n",
    "Possuí apenas Classes e Objetos dentro de sí\n",
    "\n",
    "    Nada de métodos\n",
    "\n",
    "    Tudo é bem direto e segue o 'Obvio'\n",
    "\n",
    "        Nada de interpretação\n",
    "\n"
   ]
  },
  {
   "cell_type": "markdown",
   "metadata": {},
   "source": [
    "# CLASSES E OBJETOS\n",
    "\n",
    "\n",
    "Classe - Projeto/ideia  que usamos para nos referir a um objeto, porém a classe não é o objeto. \n",
    "\n",
    "    - Dentro dela estão contidos os artibutos mas ainda sim não definem o objeto. \n",
    "\n",
    "    - São ideias abstratas\n",
    "\n",
    "        EX: Meio de transporte -> Veiculo -> Carro -> Fusca\n",
    "\n",
    "\n",
    "\n",
    "Objeto - Classe que específica o que é um objeto de forma que o atributo seja único . \n",
    "\n",
    "    - São ideias realistas e se é EXPLICITO ao que se refere\n",
    "\n",
    "    - Todo objeto deriva de uma classe\n",
    "\n",
    "    - Todos os atributos das classes orignárias estão expressos no objeto\n",
    "\n",
    "    - *NUNCA* 2 objetos são iguais exceto se for o mesmo objeto com diferentes nomes\n",
    "\n",
    "        EX: Fusca 66 cinza\n",
    "\n",
    "\n",
    "Não existem linguagens orientadasa a objetos, elas apenas são baseadas nos conceitos da orientação de objetos\n",
    "\n",
    "* Todo método possuí parenteses em sua frente\n",
    "\n",
    "    EX: sum(), drop()...."
   ]
  },
  {
   "cell_type": "code",
   "execution_count": null,
   "metadata": {},
   "outputs": [],
   "source": []
  }
 ],
 "metadata": {
  "kernelspec": {
   "display_name": "Python 3.9.12 64-bit",
   "language": "python",
   "name": "python3"
  },
  "language_info": {
   "codemirror_mode": {
    "name": "ipython",
    "version": 3
   },
   "file_extension": ".py",
   "mimetype": "text/x-python",
   "name": "python",
   "nbconvert_exporter": "python",
   "pygments_lexer": "ipython3",
   "version": "3.9.12"
  },
  "orig_nbformat": 4,
  "vscode": {
   "interpreter": {
    "hash": "846787f231647a10d85d9f481d94380e40bd33cf48f22907b6618d27b511143e"
   }
  }
 },
 "nbformat": 4,
 "nbformat_minor": 2
}
