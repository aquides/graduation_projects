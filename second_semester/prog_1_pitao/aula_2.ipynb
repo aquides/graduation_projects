{
  "cells": [
    {
      "cell_type": "markdown",
      "metadata": {
        "id": "JmL32EcmHjH5"
      },
      "source": [
        "tupla : coleçao mais rapida\n",
        "Select* mais rapido que Select_distinct \n",
        "Chaves de dicionarios nao se sobrepoem?"
      ]
    },
    {
      "cell_type": "markdown",
      "metadata": {
        "id": "ekXCvenyHlQg"
      },
      "source": [
        "Lista: Tamaho infinito porem tem como limitar as posiçoes que quer que apareçam\n",
        "Sempre começa contando do 0\n",
        "\n",
        "= é sinal de atribuição, se atribui um valor a uma variavel\n",
        "\n"
      ]
    },
    {
      "cell_type": "code",
      "execution_count": 2,
      "metadata": {
        "colab": {
          "base_uri": "https://localhost:8080/"
        },
        "id": "Mv5Q_ISMJasb",
        "outputId": "fc48a431-3a2b-4812-8824-4d62ec7866e8"
      },
      "outputs": [
        {
          "name": "stdout",
          "output_type": "stream",
          "text": [
            "['Banana', 'Maçã', 'Pera', 'Marcos']\n",
            "['Maçã', 'Pera']\n",
            "['Maçã', 'Pera', 'Marcos']\n",
            "['Banana', 'Maçã', 'Pera', 'Marcos']\n",
            "['Banana', 'Maçã', 'Pera', 'Marcos']\n"
          ]
        }
      ],
      "source": [
        "frutas1 = ['Banana', 'Maçã', 'Pera', 'Marcos']\n",
        "print(frutas1)\n",
        "print(frutas1[1:3]) #printa as frutas da posição 1 ate a 2 (se desconsidera o 3 por ser o final)\n",
        "frutas2 = frutas1.copy() #copia listas , df, dict.....\n",
        "frutas3 = frutas2[::] #Copia tudo mas so funfa em listas\n",
        "\n",
        "frutas1.pop(0) # retirar um valor\n",
        "\n",
        "print(frutas1)\n",
        "print(frutas2)\n",
        "print(frutas3)"
      ]
    },
    {
      "cell_type": "markdown",
      "metadata": {
        "id": "cqpvDsOnHlYQ"
      },
      "source": [
        "Calculos em listas sem pandas"
      ]
    },
    {
      "cell_type": "code",
      "execution_count": 3,
      "metadata": {
        "colab": {
          "base_uri": "https://localhost:8080/"
        },
        "id": "DrsxEuZLNDlp",
        "outputId": "5458326c-594a-4415-e58c-9f561ba6edd2"
      },
      "outputs": [
        {
          "name": "stdout",
          "output_type": "stream",
          "text": [
            "175\n",
            "65\n",
            "1\n",
            "8\n",
            "Qnts vezes o elemento 1 aparece é:  2\n"
          ]
        }
      ],
      "source": [
        "lst = [1,34,65,23,8,34,9,1]\n",
        "print(sum(lst))\n",
        "print(max(lst))\n",
        "print(min(lst))\n",
        "print(len(lst)) #cont atributos em uma lista\n",
        "print('Qnts vezes o elemento 1 aparece é: ', lst.count(1)) #conta quanas vezes o elemento se repete\n"
      ]
    },
    {
      "cell_type": "code",
      "execution_count": 4,
      "metadata": {
        "colab": {
          "base_uri": "https://localhost:8080/"
        },
        "id": "0W7zmwQQQ0yK",
        "outputId": "7db60ac9-9129-4241-9f83-eb76808905b3"
      },
      "outputs": [
        {
          "name": "stdout",
          "output_type": "stream",
          "text": [
            "[3, 54, 7, 2, 7, 54, 76, 2, 9, 2]\n",
            "[2, 2, 2, 3, 7, 7, 9, 54, 54, 76]\n",
            "[76, 54, 54, 9, 7, 7, 3, 2, 2, 2]\n"
          ]
        }
      ],
      "source": [
        "lst1 = [3,54,7,2,7]\n",
        "lst2 = [54,76,2,9,2]\n",
        "soma = lst1 + lst2\n",
        "print(soma)\n",
        "\n",
        "soma.sort() # poe na ordem crescente\n",
        "\n",
        "print(soma)\n",
        "print(soma[::-1]) #inverte ordem"
      ]
    },
    {
      "cell_type": "code",
      "execution_count": 5,
      "metadata": {
        "id": "S2rKqW4VWgBo"
      },
      "outputs": [
        {
          "ename": "ValueError",
          "evalue": "list.remove(x): x not in list",
          "output_type": "error",
          "traceback": [
            "\u001b[1;31m---------------------------------------------------------------------------\u001b[0m",
            "\u001b[1;31mValueError\u001b[0m                                Traceback (most recent call last)",
            "\u001b[1;32mC:\\Users\\221212~1\\AppData\\Local\\Temp/ipykernel_14220/1543746940.py\u001b[0m in \u001b[0;36m<module>\u001b[1;34m\u001b[0m\n\u001b[0;32m      1\u001b[0m \u001b[0mfrutas1\u001b[0m\u001b[1;33m.\u001b[0m\u001b[0mappend\u001b[0m\u001b[1;33m(\u001b[0m\u001b[1;34m'Nathan'\u001b[0m\u001b[1;33m)\u001b[0m\u001b[1;31m#add atribnuto\u001b[0m\u001b[1;33m\u001b[0m\u001b[1;33m\u001b[0m\u001b[0m\n\u001b[0;32m      2\u001b[0m \u001b[0mfrutas1\u001b[0m\u001b[1;33m[\u001b[0m\u001b[1;36m2\u001b[0m\u001b[1;33m]\u001b[0m \u001b[1;33m=\u001b[0m \u001b[1;34m'Jujuba'\u001b[0m \u001b[1;31m#add atributo em uma posiçao especifica\u001b[0m\u001b[1;33m\u001b[0m\u001b[1;33m\u001b[0m\u001b[0m\n\u001b[1;32m----> 3\u001b[1;33m \u001b[0mfrutas1\u001b[0m\u001b[1;33m.\u001b[0m\u001b[0mremove\u001b[0m\u001b[1;33m(\u001b[0m\u001b[1;34m'Banana'\u001b[0m\u001b[1;33m)\u001b[0m \u001b[1;31m#rmove atributo especifico\u001b[0m\u001b[1;33m\u001b[0m\u001b[1;33m\u001b[0m\u001b[0m\n\u001b[0m\u001b[0;32m      4\u001b[0m \u001b[0mfrutas1\u001b[0m\u001b[1;33m.\u001b[0m\u001b[0mclear\u001b[0m\u001b[1;33m(\u001b[0m\u001b[1;33m)\u001b[0m \u001b[1;31m#limpa a lista toda sem a excluir\u001b[0m\u001b[1;33m\u001b[0m\u001b[1;33m\u001b[0m\u001b[0m\n\u001b[0;32m      5\u001b[0m \u001b[1;32mdel\u001b[0m\u001b[1;33m(\u001b[0m\u001b[0mfrutas1\u001b[0m\u001b[1;33m)\u001b[0m \u001b[1;31m#exclui qualquer elemento do pitao\u001b[0m\u001b[1;33m\u001b[0m\u001b[1;33m\u001b[0m\u001b[0m\n",
            "\u001b[1;31mValueError\u001b[0m: list.remove(x): x not in list"
          ]
        }
      ],
      "source": [
        "frutas1.append('Nathan')#add atribnuto\n",
        "frutas1[2] = 'Jujuba' #add atributo em uma posiçao especifica\n",
        "frutas1.remove('Banana') #rmove atributo especifico\n",
        "frutas1.clear() #limpa a lista toda sem a excluir\n",
        "del(frutas1) #exclui qualquer elemento do pitao\n"
      ]
    },
    {
      "cell_type": "markdown",
      "metadata": {
        "id": "O6Qb1IRCHlbX"
      },
      "source": [
        "String para listas"
      ]
    },
    {
      "cell_type": "code",
      "execution_count": null,
      "metadata": {
        "colab": {
          "base_uri": "https://localhost:8080/"
        },
        "id": "yV8yWocAWgAN",
        "outputId": "48cd5643-a278-4f58-c946-9cad5ff3f335"
      },
      "outputs": [
        {
          "name": "stdout",
          "output_type": "stream",
          "text": [
            "['Seu', 'futuro', 'esta,', 'aqui', 'em', 'nosssas', 'maos,', 'basta', 'projetar', 'o', 'projeçao']\n",
            "['Seu futuro esta', ' aqui em nosssas maos', ' basta projetar o projeçao']\n"
          ]
        }
      ],
      "source": [
        "frase = 'Seu futuro esta, aqui em nosssas maos, basta projetar o projeçao'\n",
        "\n",
        "lst = frase.split() #quebra por espaço vazio quando nao definido \n",
        "\n",
        "print(lst)\n",
        "\n",
        "lst2 = frase.split(',')\n",
        "print(lst2)"
      ]
    },
    {
      "cell_type": "markdown",
      "metadata": {
        "id": "7mHY2JOTHlen"
      },
      "source": [
        "TUPLA - lista fixa\n",
        "Nao suporta indicaçao de posiçao como lista\n",
        "## SEMPRE MATAR Lst, Df... NAO UTEIS com del\n"
      ]
    },
    {
      "cell_type": "code",
      "execution_count": 6,
      "metadata": {
        "colab": {
          "base_uri": "https://localhost:8080/"
        },
        "id": "Z90R-2qnaS71",
        "outputId": "e64f456e-fc36-4239-dd58-f215e2c49f6b"
      },
      "outputs": [
        {
          "name": "stdout",
          "output_type": "stream",
          "text": [
            "(1, 34, 6, 7)\n",
            "[1, 34, 6, 7]\n",
            "[1, 34, 100, 7]\n",
            "(1, 34, 100, 7)\n"
          ]
        }
      ],
      "source": [
        "# modfificar tupla\n",
        "tupla = (1,34,6,7)\n",
        "print(tupla)\n",
        "lst = list(tupla)\n",
        "print(lst)\n",
        "lst[2] = 100\n",
        "print(lst)\n",
        "tupla = tuple(lst)\n",
        "del(lst)\n",
        "print(tupla)"
      ]
    },
    {
      "cell_type": "markdown",
      "metadata": {
        "id": "ru5hs-Wqco1k"
      },
      "source": [
        "CONJUNTOS - set\n",
        "Nao mostra todos valores duplicados, apenas o ultimo\n",
        "Mais lento entre as estrturas de dados \n",
        "\n",
        "add poe artibutos desordenado, apppend no final"
      ]
    },
    {
      "cell_type": "code",
      "execution_count": 7,
      "metadata": {
        "id": "5giegaqZbztT"
      },
      "outputs": [],
      "source": [
        "cnj = {'Banana', 'BANANA', 'Marcos', 'Banana'}\n"
      ]
    },
    {
      "cell_type": "markdown",
      "metadata": {
        "id": "-pt2_v-3gLTt"
      },
      "source": [
        "Dicionarios\n",
        "\n",
        "chave - valor\n",
        "  nunca duplicada\n",
        "  elemento de localizaçao\n",
        "  chave fica entre parenteses e o valor em seguida antes da virgula\n",
        "Parecido com json\n"
      ]
    },
    {
      "cell_type": "code",
      "execution_count": 8,
      "metadata": {
        "colab": {
          "base_uri": "https://localhost:8080/"
        },
        "id": "bmb7pQfigKkg",
        "outputId": "6f2213ef-24e4-4468-c9f9-8f10b2d19e54"
      },
      "outputs": [
        {
          "name": "stdout",
          "output_type": "stream",
          "text": [
            "{'JJ': 10, 'GG': 30, 'HH': 50}\n",
            "{'JJ': 10, 'GG': 30, 'HH': 50, 'AA': 0}\n",
            "{'GG': 30, 'HH': 50, 'AA': 0}\n"
          ]
        }
      ],
      "source": [
        "dicts = {'JJ': 10, 'GG':30, 'HH': 50}\n",
        "print(dicts)\n",
        "\n",
        "dicts ['AA'] = 00 #adiciona caso nao ja exista\n",
        "print(dicts)\n",
        "\n",
        "#excluir\n",
        "del(dicts['JJ']) # indica apenas a a chave\n",
        "print(dicts)\n"
      ]
    },
    {
      "cell_type": "code",
      "execution_count": 9,
      "metadata": {
        "colab": {
          "base_uri": "https://localhost:8080/"
        },
        "id": "DkP6uaUzhbij",
        "outputId": "0451c1c9-76e2-454b-8651-9d18c11d4ecf"
      },
      "outputs": [
        {
          "name": "stdout",
          "output_type": "stream",
          "text": [
            "dict_keys(['GG', 'HH', 'AA'])\n",
            "dict_values([30, 50, 0])\n",
            "dict_items([('GG', 30), ('HH', 50), ('AA', 0)])\n",
            "[('AA', 0), ('GG', 30), ('HH', 50)]\n",
            "[('AA', 0), ('GG', 30), ('HH', 50)]\n",
            "[('HH', 50), ('GG', 30), ('AA', 0)]\n",
            "ola olala\n",
            "alala\n"
          ]
        }
      ],
      "source": [
        "print(dicts.keys()) # so chaves\n",
        "print(dicts.values()) # so valores\n",
        "print(dicts.items()) # divide cada conjunto chave valor\n",
        "\n",
        "#ordenar dicionario\n",
        "import operator\n",
        "print(sorted(dicts.items(), key=operator.itemgetter(0))) #ordena por chaves\n",
        "print(sorted(dicts.items(), key=operator.itemgetter(1))) #ordena por valores\n",
        "print(sorted(dicts.items(), key=operator.itemgetter(1), reverse=True)) #ordena por decrescente\n",
        "\n",
        "print('ola', end=' ') #printa mesma linha\n",
        "print('olala')\n",
        "print('alala')"
      ]
    },
    {
      "cell_type": "markdown",
      "metadata": {
        "id": "PVl5_a4pk1HI"
      },
      "source": [
        "#CARACTERES MAGICOS\n",
        "so funfa em jupyter"
      ]
    },
    {
      "cell_type": "code",
      "execution_count": 10,
      "metadata": {
        "colab": {
          "base_uri": "https://localhost:8080/",
          "height": 35
        },
        "id": "5meP4JiOiRoB",
        "outputId": "7c9e5e43-73fe-4326-ce80-dab2ae2b2de7"
      },
      "outputs": [
        {
          "data": {
            "text/plain": [
              "'c:\\\\Users\\\\2212120017\\\\Documents\\\\repos\\\\graduation_projects\\\\second_semester\\\\prog_1_pitao'"
            ]
          },
          "execution_count": 10,
          "metadata": {},
          "output_type": "execute_result"
        }
      ],
      "source": [
        "%pwd #mostra em qual pasta vc esta"
      ]
    },
    {
      "cell_type": "code",
      "execution_count": 11,
      "metadata": {
        "colab": {
          "base_uri": "https://localhost:8080/"
        },
        "id": "iVhZrIWClCkb",
        "outputId": "3df9487d-fd63-490f-ee87-f180c6c1eeb9"
      },
      "outputs": [
        {
          "name": "stdout",
          "output_type": "stream",
          "text": [
            " O volume na unidade C n�o tem nome.\n",
            " O N�mero de S�rie do Volume � 5E45-F0E6\n",
            "\n",
            " Pasta de c:\\Users\\2212120017\\Documents\\repos\\graduation_projects\\second_semester\\prog_1_pitao\n",
            "\n",
            "\n",
            " Pasta de c:\\Users\\2212120017\\Documents\\repos\\graduation_projects\\second_semester\\prog_1_pitao\n",
            "\n",
            "\n",
            " Pasta de c:\\Users\\2212120017\\Documents\\repos\\graduation_projects\\second_semester\\prog_1_pitao\n",
            "\n",
            "\n",
            " Pasta de c:\\Users\\2212120017\\Documents\\repos\\graduation_projects\\second_semester\\prog_1_pitao\n",
            "\n"
          ]
        },
        {
          "name": "stderr",
          "output_type": "stream",
          "text": [
            "Arquivo n�o encontrado\n"
          ]
        }
      ],
      "source": [
        "%ls #lisa todas as partes"
      ]
    },
    {
      "cell_type": "code",
      "execution_count": 12,
      "metadata": {
        "colab": {
          "base_uri": "https://localhost:8080/"
        },
        "id": "1khBC3E0lH9S",
        "outputId": "ce399831-b4c8-4b2c-8a7f-dafd0bb0eeef"
      },
      "outputs": [],
      "source": [
        "!pip install pandas # nao instalar bibliotecasn que nao constam no pip - desco"
      ]
    },
    {
      "cell_type": "code",
      "execution_count": 1,
      "metadata": {
        "id": "o-wZ2XC2lT17"
      },
      "outputs": [],
      "source": [
        "#Insert: Poe atributo num lugar especifico da lista"
      ]
    },
    {
      "cell_type": "code",
      "execution_count": 2,
      "metadata": {},
      "outputs": [],
      "source": [
        "capitais = []\n",
        "capitais.append('São Paulo')\n",
        "capitais.append('Rio de Janeiro')\n",
        "capitais.append('Belo Horizonte')\n",
        "capitais.insert(2, 'Brasilia')"
      ]
    },
    {
      "cell_type": "code",
      "execution_count": 3,
      "metadata": {},
      "outputs": [
        {
          "name": "stdout",
          "output_type": "stream",
          "text": [
            "['São Paulo', 'Rio de Janeiro', 'Brasilia', 'Belo Horizonte']\n"
          ]
        }
      ],
      "source": [
        "print(capitais)"
      ]
    },
    {
      "cell_type": "code",
      "execution_count": 5,
      "metadata": {},
      "outputs": [
        {
          "name": "stdout",
          "output_type": "stream",
          "text": [
            "     Paozin      \n",
            "Paozin\n"
          ]
        }
      ],
      "source": [
        "# Strip: elimina espaços em branco excessivos\n",
        "\n",
        "ex = \"     Paozin      \"\n",
        "\n",
        "print(ex)\n",
        "\n",
        "print(ex.strip())"
      ]
    },
    {
      "cell_type": "code",
      "execution_count": 6,
      "metadata": {},
      "outputs": [],
      "source": [
        "# Format: Inserir o f antes da string e colocar {} onde quiser inserir variaveis"
      ]
    },
    {
      "cell_type": "code",
      "execution_count": 10,
      "metadata": {},
      "outputs": [
        {
          "data": {
            "text/plain": [
              "dict_items([('a', 1), ('b', 2), ('c', 3)])"
            ]
          },
          "execution_count": 10,
          "metadata": {},
          "output_type": "execute_result"
        }
      ],
      "source": [
        "# .items: retorna lista com todos os valores de um dicionario epor chave valor em tupla\n",
        "\n",
        "ex = {'a': 1, 'b': 2, 'c': 3}\n",
        "ex.items()"
      ]
    },
    {
      "cell_type": "code",
      "execution_count": 13,
      "metadata": {},
      "outputs": [
        {
          "name": "stdout",
          "output_type": "stream",
          "text": [
            "pao\n",
            "zinho\n",
            "paozinho\n"
          ]
        }
      ],
      "source": [
        "#print(...., end=' ') #printa na mesma linha\n",
        "print('pao')\n",
        "print('zinho')\n",
        "print('pao', end='')\n",
        "print('zinho')"
      ]
    },
    {
      "cell_type": "code",
      "execution_count": 24,
      "metadata": {},
      "outputs": [
        {
          "name": "stdout",
          "output_type": "stream",
          "text": [
            "(143.75, 575)\n"
          ]
        }
      ],
      "source": [
        "#def ... (*ars): #recebe varios parametros gerando uma tuppla\n",
        "def cal(*args):\n",
        "    soma = sum(args)\n",
        "    media = soma / len(args)\n",
        "    return media, soma\n",
        "\n",
        "print(cal( 9, 23, 543, 0 ))"
      ]
    },
    {
      "cell_type": "code",
      "execution_count": 36,
      "metadata": {},
      "outputs": [
        {
          "name": "stdout",
          "output_type": "stream",
          "text": [
            "{'nome': 'Nathan', 'idade': 23, 'peso': 80} <class 'dict'>\n"
          ]
        }
      ],
      "source": [
        "# def ...(**kwargs): #recebe varios parametros gerando um dicionario\n",
        "def print_info(**kwargs):\n",
        "    print(kwargs, type(kwargs))\n",
        "    \n",
        "print_info( nome= 'Nathan', idade= 23, peso= 80)"
      ]
    }
  ],
  "metadata": {
    "colab": {
      "collapsed_sections": [],
      "provenance": []
    },
    "kernelspec": {
      "display_name": "Python 3.8.10 64-bit",
      "language": "python",
      "name": "python3"
    },
    "language_info": {
      "codemirror_mode": {
        "name": "ipython",
        "version": 3
      },
      "file_extension": ".py",
      "mimetype": "text/x-python",
      "name": "python",
      "nbconvert_exporter": "python",
      "pygments_lexer": "ipython3",
      "version": "3.8.10"
    },
    "vscode": {
      "interpreter": {
        "hash": "916dbcbb3f70747c44a77c7bcd40155683ae19c65e1c03b4aa3499c5328201f1"
      }
    }
  },
  "nbformat": 4,
  "nbformat_minor": 0
}
