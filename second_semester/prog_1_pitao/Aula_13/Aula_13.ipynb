{
 "cells": [
  {
   "cell_type": "markdown",
   "metadata": {},
   "source": [
    "# Erros\n",
    "\n",
    "Erro Compilação - Sintaxe errada \n",
    "\n",
    "Erro Execução - Codigo certo mas não funfa "
   ]
  },
  {
   "cell_type": "code",
   "execution_count": 2,
   "metadata": {},
   "outputs": [
    {
     "name": "stdout",
     "output_type": "stream",
     "text": [
      "2.5\n"
     ]
    }
   ],
   "source": [
    "# Erro de compilação \n",
    "c = 1\n",
    "for i in range(1:8:2): # Separador dentro de range é ',' e não ':'\n",
    "    c += 1\n",
    "\n",
    "print(c/2)\n",
    "\n",
    "c = 1\n",
    "for i in range(1,8,2): # Separador dentro de range é ',' e não ':'\n",
    "    c += 1\n",
    "\n",
    "print(c/2)"
   ]
  },
  {
   "cell_type": "code",
   "execution_count": 5,
   "metadata": {},
   "outputs": [
    {
     "name": "stdout",
     "output_type": "stream",
     "text": [
      "12\n"
     ]
    }
   ],
   "source": [
    "# Erro de Compilação\n",
    "for i in range(1,3):\n",
    "    for d in range(1,3):\n",
    "        res += i + d \n",
    "        \n",
    "print(res) # A variavel só existe dentro do laço por não ter sido declarada anteriormente, por iso não pode ser chamada\n",
    "\n",
    "\n",
    "res = 0 # ao se declarar variável fora do laço, ela poderá ser chamada \n",
    "for i in range(1,3):\n",
    "    for d in range(1,3):\n",
    "        res += i + d \n",
    "\n",
    "print(res) \n",
    "        \n"
   ]
  },
  {
   "cell_type": "code",
   "execution_count": 9,
   "metadata": {},
   "outputs": [
    {
     "name": "stdout",
     "output_type": "stream",
     "text": [
      "-3\n",
      "-8\n",
      "-11\n",
      "-16\n",
      "-19\n",
      "-24\n"
     ]
    }
   ],
   "source": [
    "res = 0\n",
    "for i in range(1,4):\n",
    "    for c in range(2,4,2):\n",
    "        for d in range(1,4):\n",
    "            if d % 2 ==0:\n",
    "                res += c - d\n",
    "            else: \n",
    "                res -= c + d\n",
    "                print(res)"
   ]
  },
  {
   "cell_type": "markdown",
   "metadata": {},
   "source": [
    " # Lambda"
   ]
  },
  {
   "cell_type": "markdown",
   "metadata": {},
   "source": [
    "Em IF's de uma linha se faz um ternario ou lambda "
   ]
  },
  {
   "cell_type": "code",
   "execution_count": 11,
   "metadata": {},
   "outputs": [
    {
     "name": "stdout",
     "output_type": "stream",
     "text": [
      "4.0\n"
     ]
    }
   ],
   "source": [
    "raiz = lambda x: x **0.5\n",
    "\n",
    "print(raiz(16))"
   ]
  },
  {
   "cell_type": "code",
   "execution_count": null,
   "metadata": {},
   "outputs": [],
   "source": [
    "eval(input(\"Bote algo\")) # EVAL presume sozinha o tipo de valor que foi inserido, seja float, int ou string \n",
    "\n"
   ]
  },
  {
   "cell_type": "markdown",
   "metadata": {},
   "source": [
    "# Numpy\n",
    "\n",
    "Resolve problemas relativos a arrays e matrizes\n",
    "\n",
    ".NDIM -  Retorna o numero de dimensões em um plano/matriz. \n",
    ".Shape retorna o tamanho horizontal e vertical"
   ]
  },
  {
   "cell_type": "code",
   "execution_count": 13,
   "metadata": {},
   "outputs": [
    {
     "name": "stdout",
     "output_type": "stream",
     "text": [
      "3\n",
      "(3, 2, 2)\n"
     ]
    }
   ],
   "source": [
    "import numpy as np\n",
    "\n",
    "series=[[[2,4], [1,6]],[[1,8], [6, 3]], [[1,8], [6, 3]]]\n",
    "new_series = np.array(series)\n",
    "\n",
    "print(new_series.ndim)\n",
    "print(new_series.shape)"
   ]
  },
  {
   "cell_type": "markdown",
   "metadata": {},
   "source": [
    "# POO e Estruturas"
   ]
  },
  {
   "cell_type": "markdown",
   "metadata": {},
   "source": [
    "## CLASS\n",
    "\n",
    "class NAME (object): -- Se recomenda botat entre ps parenteses a palabra object \n",
    "    def NAME(self): -- Obrigado declarar o self dentro das funções que ficam dentro da classe\n",
    "\n",
    "    ## Ao se chamaer a classe se está chamando o contrutor (__init__). O nome do contrutor é refereniado pelo nome da classe \n",
    "            __init__ = ClassName\n",
    "\n",
    "    Python e lingauagens novas apenas baseadas a POO : Funções = Metodos\n",
    "    Lingiagens antigas - Funç]oes retornam algo, métodos não\n",
    "\n",
    "    dir(parametro/objeto) - mostra todos os metodos dos programas "
   ]
  },
  {
   "cell_type": "markdown",
   "metadata": {},
   "source": [
    "Tupla - Imutáveis porém não é uma cosntante \n",
    "    ocupa menos espaço de memoria\n",
    "\n",
    "Dicionários - Chave e valor sendo que nenhuma chave é duplciada \n",
    "\n",
    "Conjuntos - Não imprime elementos duplicados. Ordenação de numéricos cagadinho, sempre usar sorrt \n",
    "\n",
    "Listas - Coleção livre de valores valorados que valem certos valores que podem ser modificados por outros valores vaorados de valores que valem algum valor\n",
    "    Estrutura de armazenamento a qual exige menos processamento "
   ]
  },
  {
   "cell_type": "markdown",
   "metadata": {},
   "source": [
    "Site aleatório - Inamague namarenga"
   ]
  }
 ],
 "metadata": {
  "interpreter": {
   "hash": "b3ba2566441a7c06988d0923437866b63cedc61552a5af99d1f4fb67d367b25f"
  },
  "kernelspec": {
   "display_name": "Python 3.9.7 ('base')",
   "language": "python",
   "name": "python3"
  },
  "language_info": {
   "codemirror_mode": {
    "name": "ipython",
    "version": 3
   },
   "file_extension": ".py",
   "mimetype": "text/x-python",
   "name": "python",
   "nbconvert_exporter": "python",
   "pygments_lexer": "ipython3",
   "version": "3.9.7"
  },
  "orig_nbformat": 4
 },
 "nbformat": 4,
 "nbformat_minor": 2
}
