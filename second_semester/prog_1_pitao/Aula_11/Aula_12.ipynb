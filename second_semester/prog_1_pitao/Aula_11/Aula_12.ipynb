{
 "cells": [
  {
   "cell_type": "markdown",
   "metadata": {},
   "source": [
    "# BANQUITA DE LOS DATITOS\n",
    "\n",
    "Estrutura de armazenamento o qual deve seguir as regras de um SGBD (gerencia as informações) E SEGUE O PADRAO CHAVE--VALOR\n",
    "\n",
    "Orientado Entidade Relacionamento\n",
    "\n",
    "Possuem apenas entidades, não se chama de tabelas\n",
    "Possuem apenas tuplas, não se chama linhas \n",
    "\n",
    "\n",
    "- COMANDOS DE MANUNTENÇÃO\n",
    "    Manipula os multiplos objetos como Entidades, Visões, Relacionamento...\n",
    "\n",
    "        Usa raramente em DS\n",
    "\n",
    "\n",
    "        Create \n",
    "\n",
    "        Alter\n",
    "\n",
    "        Drop\n",
    "\n",
    "    Manipulação de tuplas de uma entidade \n",
    "\n",
    "        Insert\n",
    "\n",
    "        Update\n",
    "\n",
    "        Delete\n",
    "\n",
    "-COMANDO DE PESQUISA\n",
    "    Select\n",
    "\n",
    "        Seleciona objetos em qualquer lugar de uma entidade ou de multiplas\n",
    "\n",
    "** MYSQL  POSSUE CONTROLE DE RELACIONAMENTO COMO OPCIONAL, ISSO O TORNA MAIS RÁPIDO DO QUE BANCOS COMUNS \n",
    "\n",
    "\n"
   ]
  },
  {
   "cell_type": "markdown",
   "metadata": {},
   "source": [
    "## CRUD - Linguagem\n",
    "\n",
    "Create - Inserção de Dados\n",
    "\n",
    "\n",
    "Read ou Report - Lista de Dados\n",
    "\n",
    "Update - Alteração de Dados\n",
    "\n",
    "Delete - Eliminação de Dados\n",
    "\n",
    "\n",
    "** APIS SÃO BIBLIOTECAS QUE SERVEM DE PONTE ENTRE O BANCO DE DADOS E UM USUARIO\n",
    "\n",
    "##USA SGBDR PARA CRIAR DATABASE LOCAL\n"
   ]
  },
  {
   "cell_type": "markdown",
   "metadata": {},
   "source": [
    "## Conectando MySQL"
   ]
  },
  {
   "cell_type": "code",
   "execution_count": 1,
   "metadata": {},
   "outputs": [
    {
     "name": "stdout",
     "output_type": "stream",
     "text": [
      "Collecting mysql-connector-python\n",
      "  Downloading mysql_connector_python-8.0.31-cp39-cp39-win_amd64.whl (7.9 MB)\n",
      "Collecting protobuf<=3.20.1,>=3.11.0\n",
      "  Downloading protobuf-3.20.1-cp39-cp39-win_amd64.whl (904 kB)\n",
      "Installing collected packages: protobuf, mysql-connector-python\n",
      "Successfully installed mysql-connector-python-8.0.31 protobuf-3.20.1\n"
     ]
    }
   ],
   "source": [
    "!python -m pip install mysql-connector-python"
   ]
  },
  {
   "cell_type": "code",
   "execution_count": 2,
   "metadata": {},
   "outputs": [],
   "source": [
    "import mysql.connector"
   ]
  },
  {
   "cell_type": "code",
   "execution_count": null,
   "metadata": {},
   "outputs": [],
   "source": [
    "conn = mysql.connector.connect(\n",
    "    host = 'localhost',\n",
    "    user='root',\n",
    "    password='root',\n",
    "    database='aulapython'\n",
    ")\n",
    "\n",
    "# EXEMPLO DE COMO ACESSAR UM BANCO DE DADOS VIA PITAO"
   ]
  },
  {
   "cell_type": "code",
   "execution_count": null,
   "metadata": {},
   "outputs": [],
   "source": [
    "# CREATE\n",
    "\n",
    "def inserir_dados(con, nome, nota ):\n",
    "    try: #evita pipocar o erro\n",
    "        cursor = con.cursor()\n",
    "        sql = f'INSET INTO aluno (nome, nota) VALUES (\"{nome}\", \"{nota}\")'\n",
    "        cursor.execute(sql)\n",
    "        con.commit()\n",
    "        count = cursor.rowcount # Quantidade de linhas atingidas pelo comando\n",
    "        print(count, 'registro inserido com sucesso!')\n",
    "        \n",
    "    except (Exception) as error:\n",
    "        print(\"Falou nna inserção do regristro\")\n",
    "    \n",
    "    "
   ]
  },
  {
   "cell_type": "code",
   "execution_count": null,
   "metadata": {},
   "outputs": [],
   "source": [
    "inserir_dados(conn, 'Senhor Marocas', 10)"
   ]
  },
  {
   "cell_type": "markdown",
   "metadata": {},
   "source": [
    "### READ (report) - Se assemelha ao INSERT "
   ]
  },
  {
   "cell_type": "code",
   "execution_count": null,
   "metadata": {},
   "outputs": [],
   "source": [
    "def consultar_dados(con):\n",
    "    try:\n",
    "        cursor = con.cursor() # Quem se comunica com o banco de dados\n",
    "        sql = 'SELECT nome, matriculo, nota FROM aluno'\n",
    "        cursor.execute(sql)\n",
    "        resultado = cursor.fetchall() # retorna os dados o fatchall\n",
    "        for lin in resultado: # Percorre a lista para extrair elemento por elemento \n",
    "            print(lin[0], lin[1], lin[2]) # Retornará cada atributo da lista de tuplas em uma linha\n",
    "        print(resultado)\n",
    "        \n",
    "    except (Exception) as error:\n",
    "        print(\"Falou nna inserção do regristro\")\n",
    "        \n",
    "    "
   ]
  },
  {
   "cell_type": "code",
   "execution_count": null,
   "metadata": {},
   "outputs": [],
   "source": [
    "consultar_dados(conn) # Quando se consulta via python, o BD etornará o resultado em uma lista de tuplas "
   ]
  },
  {
   "cell_type": "markdown",
   "metadata": {},
   "source": [
    "### ALTERNATIVA DE CHAVES"
   ]
  },
  {
   "cell_type": "code",
   "execution_count": null,
   "metadata": {},
   "outputs": [],
   "source": [
    "def alterar_dados(con, mat, nome, nota):\n",
    "    try:\n",
    "    conn = mysql.connector.connect( # Abrir a conexao dentro do try faz com que ela seja fechada assim que acabar o comando\n",
    "    host = 'localhost', # Não é efetivo pois deixa o codigo maior e dificulta a modificação dos argumentos\n",
    "    user='root',\n",
    "    password='root',\n",
    "    database='aulapython'\n",
    ")\n",
    "        cursor = con.cursor() # Cuidado pois dessa forma se deixa a conexão aberta infinitamente \n",
    "        \n",
    "    except (Exception) as error:\n",
    "        print(\"Falou nna inserção do regristro\")\n",
    "        "
   ]
  },
  {
   "cell_type": "code",
   "execution_count": null,
   "metadata": {},
   "outputs": [],
   "source": [
    "def obterCon(): # Cria uma função da conexao para nao precisar alterar cada um \n",
    "    conn = mysql.connector.connect( # Abrir a conexao dentro do try faz com que ela seja fechada assim que acabar o comando\n",
    "    host = 'localhost', # Não é efetivo pois deixa o codigo maior e dificulta a modificação dos argumentos\n",
    "    user='root',\n",
    "    password='root',\n",
    "    database='aulapython'\n",
    ")"
   ]
  },
  {
   "cell_type": "code",
   "execution_count": null,
   "metadata": {},
   "outputs": [],
   "source": [
    "def alterar_dados(con, mat, nome, nota):\n",
    "    try: # Ao acabar o Try a prova será fechada \n",
    "        con = obterCon() # Chama a função da conexao, faz com que sempre esteja atualizado.\n",
    "        cursor = con.cursor() # Cuidado pois dessa forma se deixa a conexão aberta infinitamente \n",
    "        \n",
    "    except (Exception) as error:\n",
    "        print(\"Falou nna inserção do regristro\")"
   ]
  },
  {
   "cell_type": "markdown",
   "metadata": {},
   "source": [
    "### UPDATE\n",
    "\n",
    "Rodar SQL no python é útil para se criar um priograma capaz de realziar certas cosnultas com periodicidade "
   ]
  },
  {
   "cell_type": "code",
   "execution_count": null,
   "metadata": {},
   "outputs": [],
   "source": [
    "def alterar_dados(con, nome,nota, mat):\n",
    "    try:\n",
    "        cursor= con.cursor()\n",
    "        sql = f'UPDATE aluno SET nome = \"{nome}\", nota = \"{nota}\", Where matricula = \"{mat}\"' # F'... \"{algo\"}' substitui o algo peço valo da coluna em questao  \n",
    "        cursor.execute(sql)\n",
    "        con.commit()\n",
    "        ct = cursor.rowcount\n",
    "        print(ct, 'registro modificado')\n",
    "    except (Exception) as error:\n",
    "        print(\"Falou nna inserção do regristro\")\n",
    "        \n",
    "    "
   ]
  },
  {
   "cell_type": "markdown",
   "metadata": {},
   "source": [
    "### DELETE"
   ]
  },
  {
   "cell_type": "code",
   "execution_count": null,
   "metadata": {},
   "outputs": [],
   "source": [
    "# DELETAR POR NOTA \n",
    "def deletar_dados(con, minimo):\n",
    "    try:\n",
    "        cursor = con.cursor()\n",
    "        sql = 'DELETE FROM aluno WHERE nota <= \"{minimo}\"'\n",
    "        cursor.execute(sql)\n",
    "        con.coomit()\n",
    "        ct = cursor.rowcount\n",
    "        print(ct, \"Registros foram apagados\")\n",
    "    except (Exception) as error:\n",
    "        print(\"Falha na exclusão dos regristros\")"
   ]
  },
  {
   "cell_type": "markdown",
   "metadata": {},
   "source": [
    "Where serve em Select, Update e Delete. Apewnas comandos qe agem sobre tuplas\n",
    "\n",
    "SGBDR = SGBD\n",
    "\n",
    "M&R = MER - Modelo Entidade Relacionamento (MER)"
   ]
  },
  {
   "cell_type": "markdown",
   "metadata": {},
   "source": [
    "create table escola matricula int not null, codigo int not null (são chaves primárias)"
   ]
  }
 ],
 "metadata": {
  "interpreter": {
   "hash": "b3ba2566441a7c06988d0923437866b63cedc61552a5af99d1f4fb67d367b25f"
  },
  "kernelspec": {
   "display_name": "Python 3.9.7 ('base')",
   "language": "python",
   "name": "python3"
  },
  "language_info": {
   "codemirror_mode": {
    "name": "ipython",
    "version": 3
   },
   "file_extension": ".py",
   "mimetype": "text/x-python",
   "name": "python",
   "nbconvert_exporter": "python",
   "pygments_lexer": "ipython3",
   "version": "3.9.7"
  },
  "orig_nbformat": 4
 },
 "nbformat": 4,
 "nbformat_minor": 2
}
