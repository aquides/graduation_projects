{
 "cells": [
  {
   "cell_type": "code",
   "execution_count": 1,
   "metadata": {},
   "outputs": [],
   "source": [
    "import pandas as pd"
   ]
  },
  {
   "cell_type": "markdown",
   "metadata": {},
   "source": [
    "# CSV\n",
    "\n"
   ]
  },
  {
   "cell_type": "code",
   "execution_count": 2,
   "metadata": {},
   "outputs": [],
   "source": [
    "import csv # Abre e trata, pandas apenas ETL e nao tem limite de linhas de leitura"
   ]
  },
  {
   "cell_type": "code",
   "execution_count": 4,
   "metadata": {},
   "outputs": [],
   "source": [
    "#Escrever\n",
    "with open( \"Teste.csv\", \"w\" ) as arq:\n",
    "    writer = csv.writer(arq) # escreve no csv \n",
    "    writer.writerow(( \"Primeira\", \"Segunda\", \"Terceira\" ))\n",
    "    writer.writerow(( 12, 20, 12 ))\n",
    "    writer.writerow(( 21, 1, 342 ))\n",
    "    writer.writerow(( 7, 5, 23 ))\n",
    "    writer.writerow(( 1, 75, 182 ))"
   ]
  },
  {
   "cell_type": "code",
   "execution_count": 9,
   "metadata": {},
   "outputs": [
    {
     "name": "stdout",
     "output_type": "stream",
     "text": [
      "Num Cols:  3\n",
      "['Primeira', 'Segunda', 'Terceira']\n",
      "Primeira\n",
      "Segunda\n",
      "Terceira\n",
      "Num Cols:  0\n",
      "[]\n",
      "Num Cols:  3\n",
      "['12', '20', '12']\n",
      "12\n",
      "20\n",
      "12\n",
      "Num Cols:  0\n",
      "[]\n"
     ]
    }
   ],
   "source": [
    "with open( \"Teste.csv\", \"r\" ) as arq:\n",
    "    reader = csv.reader( arq )\n",
    "    for lst in reader:\n",
    "        print( \"Num Cols: \", len( lst ) )\n",
    "        print( lst )\n",
    "        for elem in lst:\n",
    "            print( elem )\n"
   ]
  },
  {
   "cell_type": "code",
   "execution_count": null,
   "metadata": {},
   "outputs": [],
   "source": [
    "with open( \"Teste2.csv\", \"w\" ) as arq:\n",
    "\n",
    "\n",
    "with open( \"Teste.csv\", \"r\" ) as arq:\n",
    "    reader = csv.reader( arq )\n",
    "    writer = csv.writer(arq) # escreve no csv \n",
    "\n",
    "    for lst in reader2:\n",
    "        with open( \"Teste.csv\", \"w\" ) as arq:\n",
    "            if ( len( lst ) > 2 ):\n",
    "                writer.writerow(( lst[0], lst[1], lest[2] ))\n",
    "            elif len( lst ) > 1:\n",
    "                writer.writerow(( lst[0], lst[1], 1 ))\n",
    "            else:\n",
    "                writer.writerow(( lst[0], -2, -2 ))\n",
    "\n",
    "            \n",
    "        \n",
    "      "
   ]
  },
  {
   "cell_type": "markdown",
   "metadata": {},
   "source": [
    "# Json\n",
    "\n",
    "Possui formato de dicionários sem ser um, porém se pode se converter \n",
    "\n",
    "diferença: json - escrito com aspas simples como deafault ' ' | dicionario - escrito com aspas duplas como deafault \" \""
   ]
  },
  {
   "cell_type": "code",
   "execution_count": null,
   "metadata": {},
   "outputs": [],
   "source": [
    "import json"
   ]
  },
  {
   "cell_type": "code",
   "execution_count": null,
   "metadata": {},
   "outputs": [],
   "source": [
    "with open( \"arquivo.json\") as ... # Le arquivo json\n",
    "load_dado = json.loads(texto)\n",
    "json.dumps(dicionario) #Converte dicionarios em json "
   ]
  },
  {
   "cell_type": "markdown",
   "metadata": {},
   "source": [
    "erro iso8859/1....\n",
    "\n",
    "\n",
    "trocar encoding pois o windows nao le\n",
    "\n",
    "\n",
    "Padrao 'UTF-8'"
   ]
  }
 ],
 "metadata": {
  "kernelspec": {
   "display_name": "Python 3.9.12 64-bit",
   "language": "python",
   "name": "python3"
  },
  "language_info": {
   "codemirror_mode": {
    "name": "ipython",
    "version": 3
   },
   "file_extension": ".py",
   "mimetype": "text/x-python",
   "name": "python",
   "nbconvert_exporter": "python",
   "pygments_lexer": "ipython3",
   "version": "3.9.12"
  },
  "orig_nbformat": 4,
  "vscode": {
   "interpreter": {
    "hash": "846787f231647a10d85d9f481d94380e40bd33cf48f22907b6618d27b511143e"
   }
  }
 },
 "nbformat": 4,
 "nbformat_minor": 2
}
