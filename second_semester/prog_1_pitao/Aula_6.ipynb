{
 "cells": [
  {
   "cell_type": "markdown",
   "metadata": {},
   "source": [
    "Resumo Bimestre"
   ]
  },
  {
   "cell_type": "code",
   "execution_count": 1,
   "metadata": {},
   "outputs": [
    {
     "name": "stdout",
     "output_type": "stream",
     "text": [
      "Python 3.9.7\n"
     ]
    }
   ],
   "source": [
    "!python --version #Retorna a versão do python. ! Abre terminal"
   ]
  },
  {
   "cell_type": "code",
   "execution_count": 2,
   "metadata": {},
   "outputs": [
    {
     "name": "stdout",
     "output_type": "stream",
     "text": [
      "3.9.7\n"
     ]
    }
   ],
   "source": [
    "from platform import python_version\n",
    "print(python_version())"
   ]
  },
  {
   "cell_type": "markdown",
   "metadata": {},
   "source": [
    "# Tipos Primitivos\n",
    "\n",
    "Orientação a objeto no python:  não possui tipo primitivo  ???????\n",
    "\n",
    "Numéricos - \n",
    "    Inteiros - 4 bits\n",
    "    Float - x.0 ocupa menos bits que inteiro por ser compactado\n",
    "\n",
    "String \n",
    "\n",
    "Booleano - True ou Falso\n",
    "\n",
    "None - Um tipo sem nada dentro, não é nulo nem vazio, apenas não existe por ter dado algum erro na variável\n",
    "\n",
    "## Estruturas de dados\n",
    "\n",
    "[] - lista\n",
    "\n",
    "() - tupla\n",
    "\n",
    "{} - dicionário/set\n",
    "\n",
    "{x} - conjunto/set, não há conjuntos vazios\n",
    "\n"
   ]
  },
  {
   "cell_type": "code",
   "execution_count": 4,
   "metadata": {},
   "outputs": [
    {
     "name": "stdout",
     "output_type": "stream",
     "text": [
      "True\n",
      "True\n",
      "0\n"
     ]
    }
   ],
   "source": [
    "val = input(\"Poe algo ae meno: \")\n",
    "print( val.isdecimal() )\n",
    "print( val.isnumeric() )\n",
    "\n",
    "if  val.isdecimal():\n",
    "    num = int( val )\n",
    "    print( num ) #converte tudo em int"
   ]
  },
  {
   "cell_type": "markdown",
   "metadata": {},
   "source": [
    "# Troca o tipo de uma variável"
   ]
  },
  {
   "cell_type": "code",
   "execution_count": null,
   "metadata": {},
   "outputs": [],
   "source": [
    "#Conversao de tipos\n",
    "a = '23'\n",
    "print( type( a ) )\n",
    "\n",
    "n = float( a ) \n",
    "print( type( n ) ) # Nao funciona pois nao se converte string para float. Primeiro deve se passar para int e dps float\n",
    "\n",
    "a = 23\n",
    "print( type( a ) )\n",
    "\n",
    "n = float( a ) \n",
    "print( type( n ) )\n"
   ]
  },
  {
   "cell_type": "markdown",
   "metadata": {},
   "source": [
    "# Biblioteca Math"
   ]
  },
  {
   "cell_type": "code",
   "execution_count": 7,
   "metadata": {},
   "outputs": [
    {
     "name": "stdout",
     "output_type": "stream",
     "text": [
      "area é:  153.86\n",
      "area é:  153.93804002589985\n"
     ]
    }
   ],
   "source": [
    "pi = 3.14\n",
    "r = 7\n",
    "print( \"area é: \", r * r * pi)\n",
    "\n",
    "import math\n",
    "r = 7\n",
    "print( \"area é: \", r ** 2 * math.pi) # puxa pi exato"
   ]
  },
  {
   "cell_type": "markdown",
   "metadata": {},
   "source": [
    "# Biblioteca sys"
   ]
  },
  {
   "cell_type": "code",
   "execution_count": 11,
   "metadata": {},
   "outputs": [
    {
     "name": "stdout",
     "output_type": "stream",
     "text": [
      "C:\\ProgramData\\Anaconda3\\python.exe\n",
      "win32\n",
      "C:\\ProgramData\\Anaconda3\\lib\\site-packages\\ipykernel_launcher.py\n",
      "3.9.7 (default, Sep 16 2021, 16:59:28) [MSC v.1916 64 bit (AMD64)]\n"
     ]
    }
   ],
   "source": [
    "import sys \n",
    "\n",
    "print( sys.executable ) # Onde esta o pitao\n",
    "print( sys.platform ) # tipo do windows\n",
    "print( sys.argv[0] ) # mais informaçoes do pythpn\n",
    "print( sys.version ) # versao do putjon e informacoes do pc\n"
   ]
  },
  {
   "cell_type": "code",
   "execution_count": 15,
   "metadata": {},
   "outputs": [
    {
     "name": "stdout",
     "output_type": "stream",
     "text": [
      "28\n",
      "24\n",
      "50\n",
      "51\n"
     ]
    }
   ],
   "source": [
    "print( sys.getsizeof(34))\n",
    "print( sys.getsizeof(34.0)) # Ocupa menos pelo .0  compactar o numero\n",
    "\n",
    "print( sys.getsizeof('a'))\n",
    "print( sys.getsizeof(''))\n",
    "\n",
    "sys.stdout.write( \"Heloo Zarodu\" ) # print de pobre"
   ]
  },
  {
   "cell_type": "markdown",
   "metadata": {},
   "source": [
    "# Main e Name\n",
    "\n",
    "\n",
    "if __name__ = '__main__': - Executa coisas pelo OS primeiro\n",
    "\n",
    "Todas as bibliotecas importadas sao aplicativos, não executáveis, e por isso se pode acessar o codigo delas"
   ]
  },
  {
   "cell_type": "code",
   "execution_count": null,
   "metadata": {},
   "outputs": [],
   "source": [
    "# Se salva o arquivo como nome.py\n",
    "def nome():\n",
    "    nome = 'nome'\n",
    "\n",
    "def endereco():\n",
    "    endereco = 'endereco'\n",
    "    \n",
    "def main():\n",
    "    print(nome)\n",
    "    print(endereco)\n",
    "    return\n",
    "    \n",
    "if __name__ = '__main__':\n",
    "    \n",
    "    #Apos isso é possível chamar nome.py como uma biblioteca com o \"import nome\""
   ]
  },
  {
   "cell_type": "markdown",
   "metadata": {},
   "source": [
    "# Ternários\n",
    "\n",
    "Reduz IFs e acaba a necessidade de variáveis  em muitos casos"
   ]
  },
  {
   "cell_type": "code",
   "execution_count": 16,
   "metadata": {},
   "outputs": [
    {
     "name": "stdout",
     "output_type": "stream",
     "text": [
      "Positivo\n",
      "Positivo\n"
     ]
    }
   ],
   "source": [
    "x = 4\n",
    "\n",
    "if x > 0:\n",
    "    resposta = 'Positivo'\n",
    "else:\n",
    "    resposta = \"Negarivo\"\n",
    "\n",
    "print(resposta)\n",
    "\n",
    "#Ternário\n",
    "\n",
    "print( \"Positivo\" if x > 0 else \"Negativo\" )"
   ]
  },
  {
   "cell_type": "markdown",
   "metadata": {},
   "source": [
    "# Metodos\n",
    "\n",
    "Evitar usar <= ou >= pois há um or entre o \"< or = \" o que faz ambas as verificações e torna pesado quando há muitas linhas\n",
    "preferencial use >/<x onde x é um número maior / menor que o de referencia\n",
    "EX: if x <=0 -> if x <1 "
   ]
  },
  {
   "cell_type": "code",
   "execution_count": 18,
   "metadata": {},
   "outputs": [
    {
     "name": "stdout",
     "output_type": "stream",
     "text": [
      "A área é 30\n",
      "A área é 30\n"
     ]
    }
   ],
   "source": [
    "# Calculo área\n",
    "def main():\n",
    "    tamanho = 10\n",
    "    largura = 3\n",
    "    if tamanho <= 0:\n",
    "        print( \"Tamanho não possui valor\" )\n",
    "        return\n",
    "    if largura <= 0 :\n",
    "        print( \"Largura não possui valor\" )\n",
    "        return\n",
    "    area = tamanho * largura\n",
    "    print( \"A área é\", area)\n",
    "main()\n",
    "\n",
    "# Direito\n",
    "def main():\n",
    "    tamanho = 10\n",
    "    largura = 3\n",
    "    if tamanho < 1:\n",
    "        print( \"Tamanho não possui valor\" )\n",
    "        return\n",
    "    if largura < 1:\n",
    "        print( \"Largura não possui valor\" )\n",
    "        return\n",
    "    area = tamanho * largura\n",
    "    print( \"A área é\", area)\n",
    "main()"
   ]
  },
  {
   "cell_type": "code",
   "execution_count": 22,
   "metadata": {},
   "outputs": [
    {
     "name": "stdout",
     "output_type": "stream",
     "text": [
      "6\n",
      "6\n"
     ]
    }
   ],
   "source": [
    "def main( a, b, op):\n",
    "    if op == \"+\":\n",
    "        return a + b\n",
    "    elif op == \"-\":\n",
    "        return a - b\n",
    "    elif op == \"*\":\n",
    "        return a * b\n",
    "    elif op == \"/\":\n",
    "        return a / b\n",
    "    \n",
    "# OR\n",
    "# def main( a, b, op):\n",
    "#     if op == \"+\":\n",
    "#         return a + b\n",
    "#     else:\n",
    "#         if op == \"-\":\n",
    "#             return a - b\n",
    "#         else:\n",
    "#             if op == \"*\":\n",
    "#                 return a * b\n",
    "#             else:\n",
    "#                 if op == \"/\":\n",
    "#                     return a / b\n",
    "print( main( 2, 4, '+' ) )\n",
    "        "
   ]
  },
  {
   "cell_type": "markdown",
   "metadata": {},
   "source": [
    "# Orientação a objetos\n",
    "\n",
    "Purista - Não se usa IF, WHILE ou FOR\n",
    "\n",
    "-- \"\"\" xxx \"\"\" ou ''' xxx ''' não é comentário, apenas #xxx"
   ]
  },
  {
   "cell_type": "code",
   "execution_count": null,
   "metadata": {},
   "outputs": [],
   "source": [
    "# Abreviatura\n",
    "\n",
    "def mainha( a, b, op ):\n",
    "    exp = str( a ) + \" \" + op + \" \" + str( b ) #Cria expressao string da operacao\n",
    "    return eval( exp ) # Avalia a expressao e transforma em um tipo numérico\n",
    "\n",
    "print( mainha( 2, 4, '+' ) )"
   ]
  },
  {
   "cell_type": "markdown",
   "metadata": {},
   "source": [
    "# Brandomicos (randomicos)\n",
    "\n",
    "Útil para se testar codigo com dados fakes"
   ]
  },
  {
   "cell_type": "code",
   "execution_count": 23,
   "metadata": {},
   "outputs": [
    {
     "name": "stdout",
     "output_type": "stream",
     "text": [
      "0.9083660421736341\n"
     ]
    }
   ],
   "source": [
    "import random\n",
    "a = random.random() # Forma para se chamar: chama a Biblioteca e o depois o Método\n",
    "print(a)"
   ]
  },
  {
   "cell_type": "code",
   "execution_count": 24,
   "metadata": {},
   "outputs": [
    {
     "name": "stdout",
     "output_type": "stream",
     "text": [
      "5\n"
     ]
    }
   ],
   "source": [
    "import random\n",
    "print( 1 + int( 6 * random.random() ) ) # O random gera valores entre 1 e 6"
   ]
  },
  {
   "cell_type": "code",
   "execution_count": 27,
   "metadata": {},
   "outputs": [
    {
     "ename": "NameError",
     "evalue": "name 'f3' is not defined",
     "output_type": "error",
     "traceback": [
      "\u001b[1;31m---------------------------------------------------------------------------\u001b[0m",
      "\u001b[1;31mNameError\u001b[0m                                 Traceback (most recent call last)",
      "\u001b[1;32mC:\\Users\\221212~1\\AppData\\Local\\Temp/ipykernel_12136/1387772681.py\u001b[0m in \u001b[0;36m<module>\u001b[1;34m\u001b[0m\n\u001b[0;32m     12\u001b[0m         \u001b[0mf2\u001b[0m \u001b[1;33m+=\u001b[0m \u001b[1;36m1\u001b[0m\u001b[1;33m\u001b[0m\u001b[1;33m\u001b[0m\u001b[0m\n\u001b[0;32m     13\u001b[0m     \u001b[1;32melif\u001b[0m \u001b[0mres\u001b[0m \u001b[1;33m==\u001b[0m \u001b[1;36m3\u001b[0m\u001b[1;33m:\u001b[0m\u001b[1;33m\u001b[0m\u001b[1;33m\u001b[0m\u001b[0m\n\u001b[1;32m---> 14\u001b[1;33m         \u001b[0mf3\u001b[0m \u001b[1;33m+=\u001b[0m \u001b[1;36m1\u001b[0m\u001b[1;33m\u001b[0m\u001b[1;33m\u001b[0m\u001b[0m\n\u001b[0m\u001b[0;32m     15\u001b[0m     \u001b[1;32melif\u001b[0m \u001b[0mres\u001b[0m \u001b[1;33m==\u001b[0m \u001b[1;36m4\u001b[0m\u001b[1;33m:\u001b[0m\u001b[1;33m\u001b[0m\u001b[1;33m\u001b[0m\u001b[0m\n\u001b[0;32m     16\u001b[0m         \u001b[0mf4\u001b[0m \u001b[1;33m+=\u001b[0m \u001b[1;36m1\u001b[0m\u001b[1;33m\u001b[0m\u001b[1;33m\u001b[0m\u001b[0m\n",
      "\u001b[1;31mNameError\u001b[0m: name 'f3' is not defined"
     ]
    }
   ],
   "source": [
    "import random\n",
    "\n",
    "a = 0\n",
    "\n",
    "\n",
    "\n",
    "while a < 1000000:\n",
    "    res = 1 + int( 6 * random.random() )\n",
    "    if res == 1:\n",
    "        f1 += 1\n",
    "    elif res == 2:\n",
    "        f2 += 1\n",
    "    elif res == 3:\n",
    "        f3 += 1\n",
    "    elif res == 4:\n",
    "        f4 += 1\n",
    "    elif res == 5:\n",
    "        f5 += 1\n",
    "    else:\n",
    "        f6 += 1\n",
    "    a += 1\n",
    "    \n",
    "print( f1, f2. f3, f4, f5, f6 )\n",
    "del( f1 )\n",
    "del( f2 )\n",
    "del( f3 )\n",
    "del( f4 )\n",
    "del( f5 ) \n",
    "del( f6 )\n",
    "\n",
    "# Erro muda pq o randomico sorteia e executa diferentes variaveis em diferentes ordens\n",
    "    "
   ]
  },
  {
   "cell_type": "code",
   "execution_count": null,
   "metadata": {},
   "outputs": [],
   "source": []
  },
  {
   "cell_type": "code",
   "execution_count": null,
   "metadata": {},
   "outputs": [],
   "source": []
  }
 ],
 "metadata": {
  "kernelspec": {
   "display_name": "Python 3.9.12 64-bit",
   "language": "python",
   "name": "python3"
  },
  "language_info": {
   "codemirror_mode": {
    "name": "ipython",
    "version": 3
   },
   "file_extension": ".py",
   "mimetype": "text/x-python",
   "name": "python",
   "nbconvert_exporter": "python",
   "pygments_lexer": "ipython3",
   "version": "3.9.12"
  },
  "orig_nbformat": 4,
  "vscode": {
   "interpreter": {
    "hash": "846787f231647a10d85d9f481d94380e40bd33cf48f22907b6618d27b511143e"
   }
  }
 },
 "nbformat": 4,
 "nbformat_minor": 2
}
