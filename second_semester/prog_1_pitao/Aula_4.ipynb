{
  "cells": [
    {
      "cell_type": "markdown",
      "metadata": {
        "id": "0twkjaPCF2k9"
      },
      "source": [
        "# 1. TERNARIOS \n",
        "Ternarios: Substituem IF e ELSE como em C"
      ]
    },
    {
      "cell_type": "code",
      "execution_count": 1,
      "metadata": {},
      "outputs": [],
      "source": [
        "# Exemplo 1 de ternario:\n",
        "\n",
        "x = if x < 4:\n",
        "    print( \"Menor que 4\" )\n",
        "else:\n",
        "    print( \"Maior que 4\" ) \n",
        " \n",
        "#Equivale ao ternario:\n",
        "\n",
        "x = 8\n",
        "print(( x<4 and \"Menor que 4\" or \"Maior que 4\" ))\n",
        "    # AND caso positivo e OR para caso negativo\n",
        "    \n",
        "# Equivale tambem ha:\n",
        "x < 4 and print( \"Menor que 4\" ) or print( \"Maior que 4\" ) \n",
        "\n",
        "# Exemplo 2 de ternario:\n",
        "\n",
        "x = 4\n",
        "if x < 4:\n",
        "    x = x -5\n",
        "    \n",
        "#Equivale ao ternario:\n",
        "\n",
        "( x < 4 and x + 5 or x - 5 )\n",
        " print( x )"
      ]
    },
    {
      "cell_type": "markdown",
      "metadata": {},
      "source": [
        "# 2. FUNÇÕES\n",
        "\n",
        "São declaradas antes do inicio do codigo "
      ]
    },
    {
      "cell_type": "markdown",
      "metadata": {},
      "source": [
        "## 2.1. Função basica"
      ]
    },
    {
      "cell_type": "code",
      "execution_count": 4,
      "metadata": {},
      "outputs": [
        {
          "name": "stdout",
          "output_type": "stream",
          "text": [
            "Fatorial e igual a 2\n"
          ]
        }
      ],
      "source": [
        "# Calculo Fatorial:\n",
        "n = int( input( \"Informe um valor:\" ) )\n",
        "if n == 0:\n",
        "    print( \"Fatorial e igual a 1\" )\n",
        "else:\n",
        "    result = n\n",
        "    for i in range( 1,n ):\n",
        "        result *= i\n",
        "    print( \"Fatorial e igual a\", result )\n",
        "    "
      ]
    },
    {
      "cell_type": "code",
      "execution_count": 5,
      "metadata": {},
      "outputs": [
        {
          "name": "stdout",
          "output_type": "stream",
          "text": [
            "6\n"
          ]
        }
      ],
      "source": [
        "# Conversão de Fatorial em Função:\n",
        "def fatorial( n ): # pode retornar mais de um valor\n",
        "    if n == 0:\n",
        "        return 1 # Desvio incondicional que pode parar a execução da função\n",
        "    result = n\n",
        "    for i in range( 1,n):\n",
        "        result *= i\n",
        "    return result\n",
        "\n",
        "# Chamando a função:\n",
        "n = int( input( \"Informe um valor:\" ) )\n",
        "print( fatorial(n) )"
      ]
    },
    {
      "cell_type": "code",
      "execution_count": 6,
      "metadata": {},
      "outputs": [
        {
          "name": "stdout",
          "output_type": "stream",
          "text": [
            "10 6 16 4.0\n"
          ]
        }
      ],
      "source": [
        "def soma_subtracao( a,b ):\n",
        "    s1 = a + b\n",
        "    s2 = a - b\n",
        "    s3 = a * b\n",
        "    s4 = a / b\n",
        "    return s1, s2, s3, s4\n",
        "\n",
        "x, y, z, t = soma_subtracao( 8,2 ) # Atribui os S a cada variavel em ordem\n",
        "print( x, y, z, t ) "
      ]
    },
    {
      "cell_type": "markdown",
      "metadata": {},
      "source": [
        "## 2.2. Recursividade\n",
        "\n",
        "Funções que se auto chamam"
      ]
    },
    {
      "cell_type": "code",
      "execution_count": 11,
      "metadata": {},
      "outputs": [],
      "source": [
        "def fatorial_recursiva( n ):\n",
        "    if n <= 1:\n",
        "        return 1 # Valcula de escape\n",
        "    return n * fatorial_recursiva( n -1 )  # Atualiza valor de n para fazer uma fatorial"
      ]
    },
    {
      "cell_type": "code",
      "execution_count": 13,
      "metadata": {},
      "outputs": [
        {
          "name": "stdout",
          "output_type": "stream",
          "text": [
            "120\n",
            "120\n"
          ]
        }
      ],
      "source": [
        "print( fatorial( 5 ) )\n",
        "print( fatorial_recursiva( 5 ) ) # Valor de 'n' é substituido por 5"
      ]
    },
    {
      "cell_type": "markdown",
      "metadata": {},
      "source": [
        "## 2.3. LAMBDA\n",
        "\n",
        "Substituição de calculo de linha ( return ), nao de função"
      ]
    },
    {
      "cell_type": "code",
      "execution_count": 14,
      "metadata": {},
      "outputs": [
        {
          "data": {
            "text/plain": [
              "16"
            ]
          },
          "execution_count": 14,
          "metadata": {},
          "output_type": "execute_result"
        }
      ],
      "source": [
        "def quadrado( x ):\n",
        "    return x ** 2\n",
        "\n",
        "quadrado(4)\n",
        "\n",
        "# EQUIVALE A:\n",
        "\n",
        "quad = lambda x: x ** 2\n",
        "\n",
        "quad( 4 )"
      ]
    },
    {
      "cell_type": "code",
      "execution_count": 22,
      "metadata": {},
      "outputs": [
        {
          "name": "stdout",
          "output_type": "stream",
          "text": [
            "Impar\n",
            "Par\n"
          ]
        }
      ],
      "source": [
        "def is_par( x ):\n",
        "    if x % 2 == 0:\n",
        "        return \" Par\" \n",
        "    else:\n",
        "        return \"Impar\"\n",
        "    \n",
        "print( is_par( 213 ) )\n",
        "\n",
        "# EQUIVALE AO TERNARIO:\n",
        "\n",
        "par = lambda z: z % 2 == 0 and \"Par\" or \"Impar\"\n",
        "print( par( 324 ) )"
      ]
    },
    {
      "cell_type": "code",
      "execution_count": 30,
      "metadata": {},
      "outputs": [
        {
          "name": "stdout",
          "output_type": "stream",
          "text": [
            "-5.0\n",
            "23.0\n"
          ]
        }
      ],
      "source": [
        "# Desafio 1 ponto pa noiz\n",
        "celso_russumano =  lambda x: ( x - 32 ) // 1.8\n",
        "print( celso_russumano( 23 ) )\n",
        "\n",
        "faren_alguma_coisa =  lambda x: 1.8 * x + 32\n",
        "print( faren_alguma_coisa( -5 ) )\n"
      ]
    },
    {
      "cell_type": "markdown",
      "metadata": {},
      "source": [
        "## 2.4. MAP\n",
        "\n",
        "aplica função por elementos"
      ]
    },
    {
      "cell_type": "code",
      "execution_count": 36,
      "metadata": {},
      "outputs": [
        {
          "name": "stdout",
          "output_type": "stream",
          "text": [
            "[73.4, 93.2, 113.0, 1409.0, 32.0]\n",
            "[23.0, 34.0, 44.0, 764.0, 0.0]\n",
            "[20, 31, 42, 762, -3]\n"
          ]
        }
      ],
      "source": [
        "lst = [23,34,45,765,0]\n",
        "tempf = list( map( faren_alguma_coisa, lst ) ) # Aplica um lambda em varios elementos de uma lista\n",
        "tempc = list( map( celso_russumano, tempf ) ) \n",
        "\n",
        "print( tempf )\n",
        "print( tempc )\n",
        "\n",
        "menos3 = list( map( lambda x: x -3, lst ) )\n",
        "print( menos3 )"
      ]
    },
    {
      "cell_type": "markdown",
      "metadata": {},
      "source": [
        "## 2.5. REDUCE\n",
        "\n",
        "Necessita de 2 parametros \n",
        "\n",
        "Aplica de 2 em 2 fatores\n",
        "\n",
        "Aplica media geometrica nao convecional\n",
        "\n",
        "from functools import reduce"
      ]
    },
    {
      "cell_type": "code",
      "execution_count": 41,
      "metadata": {},
      "outputs": [
        {
          "name": "stdout",
          "output_type": "stream",
          "text": [
            "867\n"
          ]
        }
      ],
      "source": [
        "from functools import reduce\n",
        "\n",
        "def somar( a,b ):\n",
        "    return a + b\n",
        "\n",
        "lst = [23,34,45,765,0]\n",
        "\n",
        "print( reduce( somar, lst ) ) # Soma tudin"
      ]
    },
    {
      "cell_type": "code",
      "execution_count": 59,
      "metadata": {},
      "outputs": [
        {
          "data": {
            "text/plain": [
              "765"
            ]
          },
          "execution_count": 59,
          "metadata": {},
          "output_type": "execute_result"
        }
      ],
      "source": [
        "lst = [23, 34, 45, 765, 0, 43, 23, -199]\n",
        "\n",
        "reduce( lambda a,b: a if a > b else b, lst ) # Busca o maior atributo da lista"
      ]
    },
    {
      "cell_type": "code",
      "execution_count": 60,
      "metadata": {},
      "outputs": [],
      "source": [
        "import pandas as pd"
      ]
    },
    {
      "cell_type": "code",
      "execution_count": 70,
      "metadata": {},
      "outputs": [
        {
          "name": "stdout",
          "output_type": "stream",
          "text": [
            "0    91.75\n",
            "dtype: float64 91.75\n"
          ]
        }
      ],
      "source": [
        "lst1 = pd.DataFrame( lst )\n",
        "media1 = lst1.mean()\n",
        "\n",
        "# ou\n",
        "\n",
        "media2 = sum( lst )/len( lst )\n",
        "\n",
        " # ou\n",
        "#algos = reduce( lambda a,b: a / b, lst)\n",
        "print( media1, media2 )\n"
      ]
    },
    {
      "cell_type": "markdown",
      "metadata": {},
      "source": [
        "## 2.6. Filter\n",
        "\n",
        "Filtra apartir de uma condição\n",
        "\n",
        "retorna objeto da classe filter "
      ]
    },
    {
      "cell_type": "code",
      "execution_count": 75,
      "metadata": {},
      "outputs": [
        {
          "name": "stdout",
          "output_type": "stream",
          "text": [
            "[34, 56, 2, 76, 8]\n"
          ]
        }
      ],
      "source": [
        "lst = [1,34,56,23,2,76,8,45.24]\n",
        "\n",
        "print( list( filter( lambda x: x % 2 == 0 and True or False, lst ) ) ) # filtra por pares\n",
        "    # list converte o objeto filtro para lista"
      ]
    },
    {
      "cell_type": "markdown",
      "metadata": {},
      "source": [
        "## 2.7 List Comprehension\n",
        "\n",
        "Util para armazenar dados de um mapa de calor\n",
        "\n",
        "\n",
        "nao usa lambda em lista de compreensao\n"
      ]
    },
    {
      "cell_type": "code",
      "execution_count": 77,
      "metadata": {},
      "outputs": [
        {
          "name": "stdout",
          "output_type": "stream",
          "text": [
            "['P', 'y', 't', 'h', 'o', 'n']\n"
          ]
        }
      ],
      "source": [
        "lst = [x for x in  'Python']\n",
        "print(lst)"
      ]
    },
    {
      "cell_type": "code",
      "execution_count": 78,
      "metadata": {},
      "outputs": [
        {
          "name": "stdout",
          "output_type": "stream",
          "text": [
            "[0, 1, 4, 9, 16, 25, 36, 49, 64, 81, 100]\n"
          ]
        }
      ],
      "source": [
        "lst = [ x ** 2 for x in range( 0,11 )] # Cria uma lista com os valores de x elevado a 2\n",
        "print(lst)"
      ]
    },
    {
      "cell_type": "code",
      "execution_count": 80,
      "metadata": {},
      "outputs": [
        {
          "name": "stdout",
          "output_type": "stream",
          "text": [
            "[69.80000000000001, 415.40000000000003, 653.0, 852.8000000000001, 73.4]\n"
          ]
        }
      ],
      "source": [
        "lst = [21,213,345,456,23]\n",
        "lst2 = [( float(9)/5 ) * c + 32 for c in lst] "
      ]
    },
    {
      "cell_type": "code",
      "execution_count": 81,
      "metadata": {},
      "outputs": [
        {
          "name": "stdout",
          "output_type": "stream",
          "text": [
            "[0, 1, 16, 81, 256, 625, 1296, 2401, 4096, 6561, 10000]\n"
          ]
        }
      ],
      "source": [
        "lst3 = [x ** 2 for x in [x ** 2 for x in range( 11 )]] # Eleva 2x ao quadrado\n",
        "\n",
        "print(lst3)"
      ]
    },
    {
      "cell_type": "markdown",
      "metadata": {},
      "source": [
        "# Trabalho Comando de Proteção - TRY\n",
        "\n",
        "Vale 4 pontos\n",
        "\n",
        "Mandar via fernando.anselmo@iesb.edu.br"
      ]
    },
    {
      "cell_type": "code",
      "execution_count": null,
      "metadata": {},
      "outputs": [],
      "source": []
    }
  ],
  "metadata": {
    "colab": {
      "collapsed_sections": [],
      "provenance": []
    },
    "kernelspec": {
      "display_name": "Python 3.9.10 64-bit",
      "language": "python",
      "name": "python3"
    },
    "language_info": {
      "codemirror_mode": {
        "name": "ipython",
        "version": 3
      },
      "file_extension": ".py",
      "mimetype": "text/x-python",
      "name": "python",
      "nbconvert_exporter": "python",
      "pygments_lexer": "ipython3",
      "version": "3.9.10"
    },
    "vscode": {
      "interpreter": {
        "hash": "49407587b611a891f0c71c246da1d256e17472ef49bfa25436a44ab4100d0947"
      }
    }
  },
  "nbformat": 4,
  "nbformat_minor": 0
}
