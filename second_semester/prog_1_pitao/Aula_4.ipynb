{
  "cells": [
    {
      "cell_type": "markdown",
      "metadata": {
        "id": "0twkjaPCF2k9"
      },
      "source": [
        "# Deus sabe se la oq Linguages sem fluxo de controle: \n",
        "\n",
        "CSS. HTML, Assembly -  Apenas le o codigo"
      ]
    }
  ],
  "metadata": {
    "colab": {
      "collapsed_sections": [],
      "provenance": []
    },
    "kernelspec": {
      "display_name": "Python 3",
      "name": "python3"
    },
    "language_info": {
      "codemirror_mode": {
        "name": "ipython",
        "version": 3
      },
      "file_extension": ".py",
      "mimetype": "text/x-python",
      "name": "python",
      "nbconvert_exporter": "python",
      "pygments_lexer": "ipython3",
      "version": "3.9.7"
    }
  },
  "nbformat": 4,
  "nbformat_minor": 0
}
