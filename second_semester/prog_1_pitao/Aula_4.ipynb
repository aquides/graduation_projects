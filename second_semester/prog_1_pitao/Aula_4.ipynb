{
  "cells": [
    {
      "cell_type": "markdown",
      "metadata": {
        "id": "0twkjaPCF2k9"
      },
      "source": [
        "# 1. TERNARIOS \n",
        "Ternarios: Substituem IF e ELSE como em C"
      ]
    },
    {
      "cell_type": "code",
      "execution_count": 1,
      "metadata": {},
      "outputs": [],
      "source": [
        "# Exemplo 1 de ternario:\n",
        "\n",
        "x = if x < 4:\n",
        "    print( \"Menor que 4\" )\n",
        "else:\n",
        "    print( \"Maior que 4\" ) \n",
        " \n",
        "#Equivale ao ternario:\n",
        "\n",
        "x = 8\n",
        "print(( x<4 and \"Menor que 4\" or \"Maior que 4\" ))\n",
        "    # AND caso positivo e OR para caso negativo\n",
        "    \n",
        "# Equivale tambem ha:\n",
        "x < 4 and print( \"Menor que 4\" ) or print( \"Maior que 4\" ) \n",
        "\n",
        "# Exemplo 2 de ternario:\n",
        "\n",
        "x = 4\n",
        "if x < 4:\n",
        "    x = x -5\n",
        "    \n",
        "#Equivale ao ternario:\n",
        "\n",
        "( x < 4 and x + 5 or x - 5 )\n",
        " print( x )"
      ]
    },
    {
      "cell_type": "markdown",
      "metadata": {},
      "source": [
        "# 2. FUNÇÕES\n",
        "\n",
        "São declaradas antes do inicio do codigo "
      ]
    },
    {
      "cell_type": "markdown",
      "metadata": {},
      "source": [
        "## 2.1. Função basica"
      ]
    },
    {
      "cell_type": "code",
      "execution_count": 4,
      "metadata": {},
      "outputs": [
        {
          "name": "stdout",
          "output_type": "stream",
          "text": [
            "Fatorial e igual a 2\n"
          ]
        }
      ],
      "source": [
        "# Calculo Fatorial:\n",
        "n = int( input( \"Informe um valor:\" ) )\n",
        "if n == 0:\n",
        "    print( \"Fatorial e igual a 1\" )\n",
        "else:\n",
        "    result = n\n",
        "    for i in range( 1,n ):\n",
        "        result *= i\n",
        "    print( \"Fatorial e igual a\", result )\n",
        "    "
      ]
    },
    {
      "cell_type": "code",
      "execution_count": 5,
      "metadata": {},
      "outputs": [
        {
          "name": "stdout",
          "output_type": "stream",
          "text": [
            "6\n"
          ]
        }
      ],
      "source": [
        "# Conversão de Fatorial em Função:\n",
        "def fatorial( n ): # pode retornar mais de um valor\n",
        "    if n == 0:\n",
        "        return 1 # Desvio incondicional que pode parar a execução da função\n",
        "    result = n\n",
        "    for i in range( 1,n):\n",
        "        result *= i\n",
        "    return result\n",
        "\n",
        "# Chamando a função:\n",
        "n = int( input( \"Informe um valor:\" ) )\n",
        "print( fatorial(n) )"
      ]
    },
    {
      "cell_type": "code",
      "execution_count": 6,
      "metadata": {},
      "outputs": [
        {
          "name": "stdout",
          "output_type": "stream",
          "text": [
            "10 6 16 4.0\n"
          ]
        }
      ],
      "source": [
        "def soma_subtracao( a,b ):\n",
        "    s1 = a + b\n",
        "    s2 = a - b\n",
        "    s3 = a * b\n",
        "    s4 = a / b\n",
        "    return s1, s2, s3, s4\n",
        "\n",
        "x, y, z, t = soma_subtracao( 8,2 ) # Atribui os S a cada variavel em ordem\n",
        "print( x, y, z, t ) "
      ]
    },
    {
      "cell_type": "markdown",
      "metadata": {},
      "source": [
        "## 2.2. Recursividade\n",
        "\n",
        "Funções que se auto chamam"
      ]
    },
    {
      "cell_type": "code",
      "execution_count": 11,
      "metadata": {},
      "outputs": [],
      "source": [
        "def fatorial_recursiva( n ):\n",
        "    if n <= 1:\n",
        "        return 1 # Valcula de escape\n",
        "    return n * fatorial_recursiva( n -1 )  # Atualiza valor de n para fazer uma fatorial"
      ]
    },
    {
      "cell_type": "code",
      "execution_count": 13,
      "metadata": {},
      "outputs": [
        {
          "name": "stdout",
          "output_type": "stream",
          "text": [
            "120\n",
            "120\n"
          ]
        }
      ],
      "source": [
        "print( fatorial( 5 ) )\n",
        "print( fatorial_recursiva( 5 ) ) # Valor de 'n' é substituido por 5"
      ]
    },
    {
      "cell_type": "markdown",
      "metadata": {},
      "source": [
        "## 2.3. LAMBDA\n",
        "\n",
        "Substituição de calculo de linha ( return ), nao de função"
      ]
    },
    {
      "cell_type": "code",
      "execution_count": 14,
      "metadata": {},
      "outputs": [
        {
          "data": {
            "text/plain": [
              "16"
            ]
          },
          "execution_count": 14,
          "metadata": {},
          "output_type": "execute_result"
        }
      ],
      "source": [
        "def quadrado( x ):\n",
        "    return x ** 2\n",
        "\n",
        "quadrado(4)\n",
        "\n",
        "# EQUIVALE A:\n",
        "\n",
        "quad = lambda x: x ** 2\n",
        "\n",
        "quad( 4 )"
      ]
    },
    {
      "cell_type": "code",
      "execution_count": 22,
      "metadata": {},
      "outputs": [
        {
          "name": "stdout",
          "output_type": "stream",
          "text": [
            "Impar\n",
            "Par\n"
          ]
        }
      ],
      "source": [
        "def is_par( x ):\n",
        "    if x % 2 == 0:\n",
        "        return \" Par\" \n",
        "    else:\n",
        "        return \"Impar\"\n",
        "    \n",
        "print( is_par( 213 ) )\n",
        "\n",
        "# EQUIVALE AO TERNARIO:\n",
        "\n",
        "par = lambda z: z % 2 == 0 and \"Par\" or \"Impar\"\n",
        "print( par( 324 ) )"
      ]
    },
    {
      "cell_type": "code",
      "execution_count": 28,
      "metadata": {},
      "outputs": [
        {
          "name": "stdout",
          "output_type": "stream",
          "text": [
            "-5.0\n",
            "23.0\n"
          ]
        }
      ],
      "source": [
        "# Desafio 1 ponto pa noiz\n",
        "celso_russumano =  lambda x: ( x - 32 ) // 1.8\n",
        "print( celso_russumano( 23 ) )\n",
        "\n",
        "faren_alguma_coisa =  lambda x: 1.8 * x + 32\n",
        "print( faren_alguma_coisa( -5 ) )\n"
      ]
    },
    {
      "cell_type": "markdown",
      "metadata": {},
      "source": [
        "## 2.4. MAP\n",
        "\n",
        "aplica função por elementos"
      ]
    },
    {
      "cell_type": "code",
      "execution_count": null,
      "metadata": {},
      "outputs": [],
      "source": []
    }
  ],
  "metadata": {
    "colab": {
      "collapsed_sections": [],
      "provenance": []
    },
    "kernelspec": {
      "display_name": "Python 3.9.7 ('base')",
      "language": "python",
      "name": "python3"
    },
    "language_info": {
      "codemirror_mode": {
        "name": "ipython",
        "version": 3
      },
      "file_extension": ".py",
      "mimetype": "text/x-python",
      "name": "python",
      "nbconvert_exporter": "python",
      "pygments_lexer": "ipython3",
      "version": "3.9.7"
    },
    "vscode": {
      "interpreter": {
        "hash": "ad2bdc8ecc057115af97d19610ffacc2b4e99fae6737bb82f5d7fb13d2f2c186"
      }
    }
  },
  "nbformat": 4,
  "nbformat_minor": 0
}
