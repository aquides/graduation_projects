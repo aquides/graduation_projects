{
 "cells": [
  {
   "cell_type": "code",
   "execution_count": 2,
   "metadata": {},
   "outputs": [],
   "source": [
    "import pandas as pd"
   ]
  },
  {
   "cell_type": "code",
   "execution_count": 3,
   "metadata": {},
   "outputs": [],
   "source": [
    "c_df = pd.read_csv('dados_candidatos_df.csv', sep=';', encoding = 'latin1')"
   ]
  },
  {
   "cell_type": "code",
   "execution_count": 4,
   "metadata": {},
   "outputs": [
    {
     "data": {
      "text/html": [
       "<div>\n",
       "<style scoped>\n",
       "    .dataframe tbody tr th:only-of-type {\n",
       "        vertical-align: middle;\n",
       "    }\n",
       "\n",
       "    .dataframe tbody tr th {\n",
       "        vertical-align: top;\n",
       "    }\n",
       "\n",
       "    .dataframe thead th {\n",
       "        text-align: right;\n",
       "    }\n",
       "</style>\n",
       "<table border=\"1\" class=\"dataframe\">\n",
       "  <thead>\n",
       "    <tr style=\"text-align: right;\">\n",
       "      <th></th>\n",
       "      <th>NR_TURNO</th>\n",
       "      <th>SG_UF</th>\n",
       "      <th>CD_CARGO</th>\n",
       "      <th>DS_CARGO</th>\n",
       "      <th>NR_CANDIDATO</th>\n",
       "      <th>NM_URNA_CANDIDATO</th>\n",
       "      <th>NR_PARTIDO</th>\n",
       "      <th>SG_PARTIDO</th>\n",
       "      <th>DS_NACIONALIDADE</th>\n",
       "      <th>SG_UF_NASCIMENTO</th>\n",
       "      <th>NR_IDADE_DATA_POSSE</th>\n",
       "      <th>DS_GENERO</th>\n",
       "      <th>DS_GRAU_INSTRUCAO</th>\n",
       "      <th>DS_ESTADO_CIVIL</th>\n",
       "      <th>DS_COR_RACA</th>\n",
       "      <th>ST_REELEICAO</th>\n",
       "    </tr>\n",
       "  </thead>\n",
       "  <tbody>\n",
       "    <tr>\n",
       "      <th>0</th>\n",
       "      <td>1</td>\n",
       "      <td>DF</td>\n",
       "      <td>8</td>\n",
       "      <td>DEPUTADO DISTRITAL</td>\n",
       "      <td>11022</td>\n",
       "      <td>ANA MARIA</td>\n",
       "      <td>11</td>\n",
       "      <td>PP</td>\n",
       "      <td>BRASILEIRA NATA</td>\n",
       "      <td>CE</td>\n",
       "      <td>55.0</td>\n",
       "      <td>FEMININO</td>\n",
       "      <td>SUPERIOR COMPLETO</td>\n",
       "      <td>SOLTEIRO(A)</td>\n",
       "      <td>PARDA</td>\n",
       "      <td>N</td>\n",
       "    </tr>\n",
       "    <tr>\n",
       "      <th>1</th>\n",
       "      <td>1</td>\n",
       "      <td>DF</td>\n",
       "      <td>8</td>\n",
       "      <td>DEPUTADO DISTRITAL</td>\n",
       "      <td>14222</td>\n",
       "      <td>SIMONE PIMENTEL</td>\n",
       "      <td>14</td>\n",
       "      <td>PTB</td>\n",
       "      <td>BRASILEIRA NATA</td>\n",
       "      <td>AL</td>\n",
       "      <td>59.0</td>\n",
       "      <td>FEMININO</td>\n",
       "      <td>SUPERIOR COMPLETO</td>\n",
       "      <td>SOLTEIRO(A)</td>\n",
       "      <td>BRANCA</td>\n",
       "      <td>N</td>\n",
       "    </tr>\n",
       "    <tr>\n",
       "      <th>2</th>\n",
       "      <td>1</td>\n",
       "      <td>DF</td>\n",
       "      <td>8</td>\n",
       "      <td>DEPUTADO DISTRITAL</td>\n",
       "      <td>44566</td>\n",
       "      <td>MARIA ABADIA</td>\n",
       "      <td>44</td>\n",
       "      <td>UNIÃO</td>\n",
       "      <td>BRASILEIRA NATA</td>\n",
       "      <td>GO</td>\n",
       "      <td>78.0</td>\n",
       "      <td>FEMININO</td>\n",
       "      <td>SUPERIOR COMPLETO</td>\n",
       "      <td>DIVORCIADO(A)</td>\n",
       "      <td>BRANCA</td>\n",
       "      <td>N</td>\n",
       "    </tr>\n",
       "    <tr>\n",
       "      <th>3</th>\n",
       "      <td>1</td>\n",
       "      <td>DF</td>\n",
       "      <td>8</td>\n",
       "      <td>DEPUTADO DISTRITAL</td>\n",
       "      <td>18180</td>\n",
       "      <td>CALINA LÍGIA</td>\n",
       "      <td>18</td>\n",
       "      <td>REDE</td>\n",
       "      <td>BRASILEIRA NATA</td>\n",
       "      <td>DF</td>\n",
       "      <td>50.0</td>\n",
       "      <td>FEMININO</td>\n",
       "      <td>SUPERIOR COMPLETO</td>\n",
       "      <td>DIVORCIADO(A)</td>\n",
       "      <td>PARDA</td>\n",
       "      <td>N</td>\n",
       "    </tr>\n",
       "    <tr>\n",
       "      <th>4</th>\n",
       "      <td>1</td>\n",
       "      <td>DF</td>\n",
       "      <td>6</td>\n",
       "      <td>DEPUTADO FEDERAL</td>\n",
       "      <td>2220</td>\n",
       "      <td>MARCELA PASSAMANI</td>\n",
       "      <td>22</td>\n",
       "      <td>PL</td>\n",
       "      <td>BRASILEIRA NATA</td>\n",
       "      <td>ES</td>\n",
       "      <td>41.0</td>\n",
       "      <td>FEMININO</td>\n",
       "      <td>SUPERIOR COMPLETO</td>\n",
       "      <td>CASADO(A)</td>\n",
       "      <td>BRANCA</td>\n",
       "      <td>N</td>\n",
       "    </tr>\n",
       "  </tbody>\n",
       "</table>\n",
       "</div>"
      ],
      "text/plain": [
       "   NR_TURNO SG_UF  CD_CARGO            DS_CARGO  NR_CANDIDATO  \\\n",
       "0         1    DF         8  DEPUTADO DISTRITAL         11022   \n",
       "1         1    DF         8  DEPUTADO DISTRITAL         14222   \n",
       "2         1    DF         8  DEPUTADO DISTRITAL         44566   \n",
       "3         1    DF         8  DEPUTADO DISTRITAL         18180   \n",
       "4         1    DF         6    DEPUTADO FEDERAL          2220   \n",
       "\n",
       "    NM_URNA_CANDIDATO  NR_PARTIDO SG_PARTIDO DS_NACIONALIDADE  \\\n",
       "0           ANA MARIA          11         PP  BRASILEIRA NATA   \n",
       "1     SIMONE PIMENTEL          14        PTB  BRASILEIRA NATA   \n",
       "2        MARIA ABADIA          44      UNIÃO  BRASILEIRA NATA   \n",
       "3        CALINA LÍGIA          18       REDE  BRASILEIRA NATA   \n",
       "4  MARCELA PASSAMANI           22         PL  BRASILEIRA NATA   \n",
       "\n",
       "  SG_UF_NASCIMENTO  NR_IDADE_DATA_POSSE DS_GENERO  DS_GRAU_INSTRUCAO  \\\n",
       "0               CE                 55.0  FEMININO  SUPERIOR COMPLETO   \n",
       "1               AL                 59.0  FEMININO  SUPERIOR COMPLETO   \n",
       "2               GO                 78.0  FEMININO  SUPERIOR COMPLETO   \n",
       "3               DF                 50.0  FEMININO  SUPERIOR COMPLETO   \n",
       "4               ES                 41.0  FEMININO  SUPERIOR COMPLETO   \n",
       "\n",
       "  DS_ESTADO_CIVIL DS_COR_RACA ST_REELEICAO  \n",
       "0     SOLTEIRO(A)       PARDA            N  \n",
       "1     SOLTEIRO(A)      BRANCA            N  \n",
       "2   DIVORCIADO(A)      BRANCA            N  \n",
       "3   DIVORCIADO(A)       PARDA            N  \n",
       "4       CASADO(A)      BRANCA            N  "
      ]
     },
     "execution_count": 4,
     "metadata": {},
     "output_type": "execute_result"
    }
   ],
   "source": [
    "c_df.head()"
   ]
  },
  {
   "cell_type": "code",
   "execution_count": 5,
   "metadata": {},
   "outputs": [
    {
     "data": {
      "text/plain": [
       "array(['DEPUTADO DISTRITAL', 'DEPUTADO FEDERAL', '1º SUPLENTE',\n",
       "       'GOVERNADOR', 'SENADOR', 'VICE-GOVERNADOR', '2º SUPLENTE'],\n",
       "      dtype=object)"
      ]
     },
     "execution_count": 5,
     "metadata": {},
     "output_type": "execute_result"
    }
   ],
   "source": [
    "c_df.DS_CARGO.unique()"
   ]
  },
  {
   "cell_type": "code",
   "execution_count": 6,
   "metadata": {},
   "outputs": [],
   "source": [
    "c_df = c_df.loc[ (c_df.DS_CARGO != '2º SUPLENTE') & (c_df.DS_CARGO != '1º SUPLENTE')].reset_index(drop=True)"
   ]
  },
  {
   "cell_type": "code",
   "execution_count": 7,
   "metadata": {},
   "outputs": [
    {
     "name": "stdout",
     "output_type": "stream",
     "text": [
      "Candidatos a Senadoror - Distrito Federal\n"
     ]
    },
    {
     "data": {
      "text/plain": [
       "(5, 16)"
      ]
     },
     "metadata": {},
     "output_type": "display_data"
    },
    {
     "name": "stdout",
     "output_type": "stream",
     "text": [
      "\n",
      "Candidatas a Senadora - Distrito Federal\n"
     ]
    },
    {
     "data": {
      "text/plain": [
       "(3, 16)"
      ]
     },
     "metadata": {},
     "output_type": "display_data"
    }
   ],
   "source": [
    "print('Candidatos a Senadoror - Distrito Federal')\n",
    "display(c_df.loc[ (c_df.DS_GENERO == 'MASCULINO') & (c_df.DS_COR_RACA == 'BRANCA') & (c_df.DS_CARGO == 'SENADOR')].reset_index(drop=True).shape)\n",
    "print('\\nCandidatas a Senadora - Distrito Federal')\n",
    "display(c_df.loc[ (c_df.DS_GENERO == 'FEMININO') & (c_df.DS_COR_RACA == 'BRANCA') & (c_df.DS_CARGO == 'SENADOR')].reset_index(drop=True).shape)"
   ]
  },
  {
   "cell_type": "code",
   "execution_count": 104,
   "metadata": {},
   "outputs": [
    {
     "name": "stdout",
     "output_type": "stream",
     "text": [
      "Candidatos a Senador - Distrito Federal\n"
     ]
    },
    {
     "data": {
      "text/plain": [
       "5"
      ]
     },
     "metadata": {},
     "output_type": "display_data"
    },
    {
     "name": "stdout",
     "output_type": "stream",
     "text": [
      "\n",
      "Candidatas a Senadora - Distrito Federal\n"
     ]
    },
    {
     "data": {
      "text/plain": [
       "3"
      ]
     },
     "metadata": {},
     "output_type": "display_data"
    },
    {
     "name": "stdout",
     "output_type": "stream",
     "text": [
      "Candidatos a Deputado Distrital - Distrito Federal\n"
     ]
    },
    {
     "data": {
      "text/plain": [
       "158"
      ]
     },
     "metadata": {},
     "output_type": "display_data"
    },
    {
     "name": "stdout",
     "output_type": "stream",
     "text": [
      "\n",
      "Candidatas a Deputada Distrital - Distrito Federal\n"
     ]
    },
    {
     "data": {
      "text/plain": [
       "94"
      ]
     },
     "metadata": {},
     "output_type": "display_data"
    },
    {
     "name": "stdout",
     "output_type": "stream",
     "text": [
      "Candidatos a Deputada Federal - Distrito Federal\n"
     ]
    },
    {
     "data": {
      "text/plain": [
       "63"
      ]
     },
     "metadata": {},
     "output_type": "display_data"
    },
    {
     "name": "stdout",
     "output_type": "stream",
     "text": [
      "\n",
      "Candidatas a Deputada Federal - Distrito Federal\n"
     ]
    },
    {
     "data": {
      "text/plain": [
       "42"
      ]
     },
     "metadata": {},
     "output_type": "display_data"
    },
    {
     "name": "stdout",
     "output_type": "stream",
     "text": [
      "Candidatos a Governador - Distrito Federal\n"
     ]
    },
    {
     "data": {
      "text/plain": [
       "6"
      ]
     },
     "metadata": {},
     "output_type": "display_data"
    },
    {
     "name": "stdout",
     "output_type": "stream",
     "text": [
      "\n",
      "Candidatas a Governadora - Distrito Federal\n"
     ]
    },
    {
     "data": {
      "text/plain": [
       "1"
      ]
     },
     "metadata": {},
     "output_type": "display_data"
    },
    {
     "name": "stdout",
     "output_type": "stream",
     "text": [
      "Candidatos a Vice-Governador - Distrito Federal\n"
     ]
    },
    {
     "data": {
      "text/plain": [
       "7"
      ]
     },
     "metadata": {},
     "output_type": "display_data"
    },
    {
     "name": "stdout",
     "output_type": "stream",
     "text": [
      "\n",
      "Candidatas a Vice-Governadora - Distrito Federal\n"
     ]
    },
    {
     "data": {
      "text/plain": [
       "3"
      ]
     },
     "metadata": {},
     "output_type": "display_data"
    }
   ],
   "source": [
    "print('Candidatos a Senador - Distrito Federal')\n",
    "display(c_df.loc[ (c_df.DS_GENERO == 'MASCULINO') & (c_df.DS_COR_RACA == 'BRANCA') & (c_df.DS_CARGO == 'SENADOR')].reset_index(drop=True).shape[0])\n",
    "print('\\nCandidatas a Senadora - Distrito Federal')\n",
    "display(c_df.loc[ (c_df.DS_GENERO == 'FEMININO') & (c_df.DS_COR_RACA == 'BRANCA') & (c_df.DS_CARGO == 'SENADOR')].reset_index(drop=True).shape[0])\n",
    "\n",
    "print('Candidatos a Deputado Distrital - Distrito Federal')\n",
    "display(c_df.loc[ (c_df.DS_GENERO == 'MASCULINO') & (c_df.DS_COR_RACA == 'BRANCA') & (c_df.DS_CARGO == 'DEPUTADO DISTRITAL')].reset_index(drop=True).shape[0])\n",
    "print('\\nCandidatas a Deputada Distrital - Distrito Federal')\n",
    "display(c_df.loc[ (c_df.DS_GENERO == 'FEMININO') & (c_df.DS_COR_RACA == 'BRANCA') & (c_df.DS_CARGO == 'DEPUTADO DISTRITAL')].reset_index(drop=True).shape[0])\n",
    "\n",
    "print('Candidatos a Deputada Federal - Distrito Federal')\n",
    "display(c_df.loc[ (c_df.DS_GENERO == 'MASCULINO') & (c_df.DS_COR_RACA == 'BRANCA') & (c_df.DS_CARGO == 'DEPUTADO FEDERAL')].reset_index(drop=True).shape[0])\n",
    "print('\\nCandidatas a Deputada Federal - Distrito Federal')\n",
    "display(c_df.loc[ (c_df.DS_GENERO == 'FEMININO') & (c_df.DS_COR_RACA == 'BRANCA') & (c_df.DS_CARGO == 'DEPUTADO FEDERAL')].reset_index(drop=True).shape[0])\n",
    "\n",
    "print('Candidatos a Governador - Distrito Federal')\n",
    "display(c_df.loc[ (c_df.DS_GENERO == 'MASCULINO') & (c_df.DS_COR_RACA == 'BRANCA') & (c_df.DS_CARGO == 'GOVERNADOR')].reset_index(drop=True).shape[0])\n",
    "print('\\nCandidatas a Governadora - Distrito Federal')\n",
    "display(c_df.loc[ (c_df.DS_GENERO == 'FEMININO') & (c_df.DS_COR_RACA == 'BRANCA') & (c_df.DS_CARGO == 'GOVERNADOR')].reset_index(drop=True).shape[0])\n",
    "\n",
    "print('Candidatos a Vice-Governador - Distrito Federal')\n",
    "display(c_df.loc[ (c_df.DS_GENERO == 'MASCULINO') & (c_df.DS_COR_RACA == 'BRANCA') & (c_df.DS_CARGO == 'VICE-GOVERNADOR')].reset_index(drop=True).shape[0])\n",
    "print('\\nCandidatas a Vice-Governadora - Distrito Federal')\n",
    "display(c_df.loc[ (c_df.DS_GENERO == 'FEMININO') & (c_df.DS_COR_RACA == 'BRANCA') & (c_df.DS_CARGO == 'VICE-GOVERNADOR')].reset_index(drop=True).shape[0])"
   ]
  },
  {
   "cell_type": "code",
   "execution_count": 99,
   "metadata": {},
   "outputs": [
    {
     "ename": "TypeError",
     "evalue": "Cannot interpret '57' as a data type",
     "output_type": "error",
     "traceback": [
      "\u001b[1;31m---------------------------------------------------------------------------\u001b[0m",
      "\u001b[1;31mTypeError\u001b[0m                                 Traceback (most recent call last)",
      "Cell \u001b[1;32mIn [99], line 9\u001b[0m\n\u001b[0;32m      7\u001b[0m mulher_negro_pardo \u001b[39m=\u001b[39m c_df\u001b[39m.\u001b[39mloc[ (c_df\u001b[39m.\u001b[39mDS_GENERO \u001b[39m==\u001b[39m \u001b[39m'\u001b[39m\u001b[39mFEMININO\u001b[39m\u001b[39m'\u001b[39m) \u001b[39m&\u001b[39m (c_df\u001b[39m.\u001b[39mDS_COR_RACA \u001b[39m==\u001b[39m \u001b[39m'\u001b[39m\u001b[39mPRETA\u001b[39m\u001b[39m'\u001b[39m) \u001b[39m|\u001b[39m (c_df\u001b[39m.\u001b[39mDS_COR_RACA \u001b[39m==\u001b[39m \u001b[39m'\u001b[39m\u001b[39mPARDA\u001b[39m\u001b[39m'\u001b[39m) \u001b[39m&\u001b[39m (c_df\u001b[39m.\u001b[39mDS_CARGO \u001b[39m==\u001b[39m \u001b[39m'\u001b[39m\u001b[39mSENADOR\u001b[39m\u001b[39m'\u001b[39m)]\u001b[39m.\u001b[39mreset_index(drop\u001b[39m=\u001b[39m\u001b[39mTrue\u001b[39;00m)\u001b[39m.\u001b[39mshape[\u001b[39m0\u001b[39m]\n\u001b[0;32m      8\u001b[0m senado\u001b[39m.\u001b[39mhead()\n\u001b[1;32m----> 9\u001b[0m pd\u001b[39m.\u001b[39;49mDataFrame(homem_branco, mulher_branco, homem_negro_pardo, mulher_negro_pardo)\n",
      "File \u001b[1;32mc:\\Users\\arqui\\AppData\\Local\\Programs\\Python\\Python39\\lib\\site-packages\\pandas\\core\\frame.py:620\u001b[0m, in \u001b[0;36mDataFrame.__init__\u001b[1;34m(self, data, index, columns, dtype, copy)\u001b[0m\n\u001b[0;32m    618\u001b[0m     data \u001b[39m=\u001b[39m {}\n\u001b[0;32m    619\u001b[0m \u001b[39mif\u001b[39;00m dtype \u001b[39mis\u001b[39;00m \u001b[39mnot\u001b[39;00m \u001b[39mNone\u001b[39;00m:\n\u001b[1;32m--> 620\u001b[0m     dtype \u001b[39m=\u001b[39m \u001b[39mself\u001b[39;49m\u001b[39m.\u001b[39;49m_validate_dtype(dtype)\n\u001b[0;32m    622\u001b[0m \u001b[39mif\u001b[39;00m \u001b[39misinstance\u001b[39m(data, DataFrame):\n\u001b[0;32m    623\u001b[0m     data \u001b[39m=\u001b[39m data\u001b[39m.\u001b[39m_mgr\n",
      "File \u001b[1;32mc:\\Users\\arqui\\AppData\\Local\\Programs\\Python\\Python39\\lib\\site-packages\\pandas\\core\\generic.py:450\u001b[0m, in \u001b[0;36mNDFrame._validate_dtype\u001b[1;34m(cls, dtype)\u001b[0m\n\u001b[0;32m    448\u001b[0m \u001b[39m\"\"\"validate the passed dtype\"\"\"\u001b[39;00m\n\u001b[0;32m    449\u001b[0m \u001b[39mif\u001b[39;00m dtype \u001b[39mis\u001b[39;00m \u001b[39mnot\u001b[39;00m \u001b[39mNone\u001b[39;00m:\n\u001b[1;32m--> 450\u001b[0m     dtype \u001b[39m=\u001b[39m pandas_dtype(dtype)\n\u001b[0;32m    452\u001b[0m     \u001b[39m# a compound dtype\u001b[39;00m\n\u001b[0;32m    453\u001b[0m     \u001b[39mif\u001b[39;00m dtype\u001b[39m.\u001b[39mkind \u001b[39m==\u001b[39m \u001b[39m\"\u001b[39m\u001b[39mV\u001b[39m\u001b[39m\"\u001b[39m:\n",
      "File \u001b[1;32mc:\\Users\\arqui\\AppData\\Local\\Programs\\Python\\Python39\\lib\\site-packages\\pandas\\core\\dtypes\\common.py:1781\u001b[0m, in \u001b[0;36mpandas_dtype\u001b[1;34m(dtype)\u001b[0m\n\u001b[0;32m   1778\u001b[0m \u001b[39m# try a numpy dtype\u001b[39;00m\n\u001b[0;32m   1779\u001b[0m \u001b[39m# raise a consistent TypeError if failed\u001b[39;00m\n\u001b[0;32m   1780\u001b[0m \u001b[39mtry\u001b[39;00m:\n\u001b[1;32m-> 1781\u001b[0m     npdtype \u001b[39m=\u001b[39m np\u001b[39m.\u001b[39;49mdtype(dtype)\n\u001b[0;32m   1782\u001b[0m \u001b[39mexcept\u001b[39;00m \u001b[39mSyntaxError\u001b[39;00m \u001b[39mas\u001b[39;00m err:\n\u001b[0;32m   1783\u001b[0m     \u001b[39m# np.dtype uses `eval` which can raise SyntaxError\u001b[39;00m\n\u001b[0;32m   1784\u001b[0m     \u001b[39mraise\u001b[39;00m \u001b[39mTypeError\u001b[39;00m(\u001b[39mf\u001b[39m\u001b[39m\"\u001b[39m\u001b[39mdata type \u001b[39m\u001b[39m'\u001b[39m\u001b[39m{\u001b[39;00mdtype\u001b[39m}\u001b[39;00m\u001b[39m'\u001b[39m\u001b[39m not understood\u001b[39m\u001b[39m\"\u001b[39m) \u001b[39mfrom\u001b[39;00m \u001b[39merr\u001b[39;00m\n",
      "\u001b[1;31mTypeError\u001b[0m: Cannot interpret '57' as a data type"
     ]
    }
   ],
   "source": [
    "senado= pd.DataFrame()\n",
    "homem_branco = c_df.loc[ (c_df.DS_GENERO == 'MASCULINO') & (c_df.DS_COR_RACA == 'BRANCA') & (c_df.DS_CARGO == 'SENADOR')].reset_index(drop=True).shape[0]\n",
    "\n",
    "senado['homem_branco'] = c_df.loc[ (c_df.DS_GENERO == 'MASCULINO') & (c_df.DS_COR_RACA == 'BRANCA') & (c_df.DS_CARGO == 'SENADOR')].reset_index(drop=True).shape[0]\n",
    "senado['mulher_branca']= c_df.loc[ (c_df.DS_GENERO == 'FEMININO') & (c_df.DS_COR_RACA == 'BRANCA') & (c_df.DS_CARGO == 'SENADOR')].reset_index(drop=True).shape[0]\n",
    "\n",
    "\n",
    "senado['homem_negro/pardo'] = c_df.loc[ (c_df.DS_GENERO == 'MASCULINO') & (c_df.DS_COR_RACA == 'PRETA') | (c_df.DS_COR_RACA == 'PARDA') & (c_df.DS_CARGO == 'SENADOR')].reset_index(drop=True).shape[0]\n",
    "senado['mulher_negro/pardo'] = c_df.loc[ (c_df.DS_GENERO == 'FEMININO') & (c_df.DS_COR_RACA == 'PRETA') | (c_df.DS_COR_RACA == 'PARDA') & (c_df.DS_CARGO == 'SENADOR')].reset_index(drop=True).shape[0]\n",
    " "
   ]
  },
  {
   "cell_type": "code",
   "execution_count": 91,
   "metadata": {},
   "outputs": [
    {
     "name": "stdout",
     "output_type": "stream",
     "text": [
      "Candidatos a Senador - Distrito Federal\n"
     ]
    },
    {
     "data": {
      "text/plain": [
       "5"
      ]
     },
     "metadata": {},
     "output_type": "display_data"
    },
    {
     "name": "stdout",
     "output_type": "stream",
     "text": [
      "\n",
      "Candidatas a Senadora - Distrito Federal\n"
     ]
    },
    {
     "data": {
      "text/plain": [
       "3"
      ]
     },
     "metadata": {},
     "output_type": "display_data"
    }
   ],
   "source": [
    "print('Candidatos a Senador - Distrito Federal')\n",
    "display(c_df.loc[ (c_df.DS_GENERO == 'MASCULINO') & (c_df.DS_COR_RACA == 'BRANCA') & (c_df.DS_CARGO == 'SENADOR')].reset_index(drop=True).shape[0])\n",
    "print('\\nCandidatas a Senadora - Distrito Federal')\n",
    "display(c_df.loc[ (c_df.DS_GENERO == 'FEMININO') & (c_df.DS_COR_RACA == 'BRANCA') & (c_df.DS_CARGO == 'SENADOR')].reset_index(drop=True).shape[0])"
   ]
  },
  {
   "cell_type": "code",
   "execution_count": null,
   "metadata": {},
   "outputs": [],
   "source": []
  },
  {
   "cell_type": "code",
   "execution_count": 49,
   "metadata": {},
   "outputs": [
    {
     "data": {
      "text/plain": [
       "(0, 17)"
      ]
     },
     "metadata": {},
     "output_type": "display_data"
    }
   ],
   "source": [
    "#Deputados Distritais\n",
    "display(c_df.loc[ (c_df.DS_GENERO == 'MASCULINO') & (c_df.DS_CARGO == 'DEPUTADO DISTRITAL')].reset_index(drop=True).shape)\n",
    "display(c_df.loc[ (c_df.DS_GENERO == 'FEMININO') & (c_df.DS_CARGO == 'DEPUTADO DISTRITAL')].reset_index(drop=True).shape)\n"
   ]
  },
  {
   "cell_type": "code",
   "execution_count": 69,
   "metadata": {},
   "outputs": [],
   "source": [
    "d_df = c_df.loc[(c_df.DS_CARGO == 'DEPUTADO FEDERAL') & (c_df.DS_COR_RACA == 'PRETA') | (c_df.DS_COR_RACA == 'PARDA') ].reset_index(drop=True)"
   ]
  },
  {
   "cell_type": "code",
   "execution_count": 57,
   "metadata": {},
   "outputs": [
    {
     "data": {
      "text/html": [
       "<div>\n",
       "<style scoped>\n",
       "    .dataframe tbody tr th:only-of-type {\n",
       "        vertical-align: middle;\n",
       "    }\n",
       "\n",
       "    .dataframe tbody tr th {\n",
       "        vertical-align: top;\n",
       "    }\n",
       "\n",
       "    .dataframe thead th {\n",
       "        text-align: right;\n",
       "    }\n",
       "</style>\n",
       "<table border=\"1\" class=\"dataframe\">\n",
       "  <thead>\n",
       "    <tr style=\"text-align: right;\">\n",
       "      <th></th>\n",
       "      <th>NR_TURNO</th>\n",
       "      <th>SG_UF</th>\n",
       "      <th>CD_CARGO</th>\n",
       "      <th>DS_CARGO</th>\n",
       "      <th>NR_CANDIDATO</th>\n",
       "      <th>NM_URNA_CANDIDATO</th>\n",
       "      <th>NR_PARTIDO</th>\n",
       "      <th>SG_PARTIDO</th>\n",
       "      <th>DS_NACIONALIDADE</th>\n",
       "      <th>SG_UF_NASCIMENTO</th>\n",
       "      <th>NR_IDADE_DATA_POSSE</th>\n",
       "      <th>DS_GENERO</th>\n",
       "      <th>DS_GRAU_INSTRUCAO</th>\n",
       "      <th>DS_ESTADO_CIVIL</th>\n",
       "      <th>DS_COR_RACA</th>\n",
       "      <th>ST_REELEICAO</th>\n",
       "      <th>contador</th>\n",
       "    </tr>\n",
       "  </thead>\n",
       "  <tbody>\n",
       "    <tr>\n",
       "      <th>0</th>\n",
       "      <td>1</td>\n",
       "      <td>DF</td>\n",
       "      <td>8</td>\n",
       "      <td>DEPUTADO DISTRITAL</td>\n",
       "      <td>11022</td>\n",
       "      <td>ANA MARIA</td>\n",
       "      <td>11</td>\n",
       "      <td>PP</td>\n",
       "      <td>BRASILEIRA NATA</td>\n",
       "      <td>CE</td>\n",
       "      <td>55.0</td>\n",
       "      <td>FEMININO</td>\n",
       "      <td>SUPERIOR COMPLETO</td>\n",
       "      <td>SOLTEIRO(A)</td>\n",
       "      <td>PARDA</td>\n",
       "      <td>N</td>\n",
       "      <td>1</td>\n",
       "    </tr>\n",
       "    <tr>\n",
       "      <th>1</th>\n",
       "      <td>1</td>\n",
       "      <td>DF</td>\n",
       "      <td>8</td>\n",
       "      <td>DEPUTADO DISTRITAL</td>\n",
       "      <td>18180</td>\n",
       "      <td>CALINA LÍGIA</td>\n",
       "      <td>18</td>\n",
       "      <td>REDE</td>\n",
       "      <td>BRASILEIRA NATA</td>\n",
       "      <td>DF</td>\n",
       "      <td>50.0</td>\n",
       "      <td>FEMININO</td>\n",
       "      <td>SUPERIOR COMPLETO</td>\n",
       "      <td>DIVORCIADO(A)</td>\n",
       "      <td>PARDA</td>\n",
       "      <td>N</td>\n",
       "      <td>1</td>\n",
       "    </tr>\n",
       "    <tr>\n",
       "      <th>2</th>\n",
       "      <td>1</td>\n",
       "      <td>DF</td>\n",
       "      <td>6</td>\n",
       "      <td>DEPUTADO FEDERAL</td>\n",
       "      <td>2223</td>\n",
       "      <td>ANGÉLICA KATE MARRONE</td>\n",
       "      <td>22</td>\n",
       "      <td>PL</td>\n",
       "      <td>BRASILEIRA NATA</td>\n",
       "      <td>DF</td>\n",
       "      <td>60.0</td>\n",
       "      <td>FEMININO</td>\n",
       "      <td>SUPERIOR COMPLETO</td>\n",
       "      <td>DIVORCIADO(A)</td>\n",
       "      <td>PRETA</td>\n",
       "      <td>N</td>\n",
       "      <td>1</td>\n",
       "    </tr>\n",
       "    <tr>\n",
       "      <th>3</th>\n",
       "      <td>1</td>\n",
       "      <td>DF</td>\n",
       "      <td>8</td>\n",
       "      <td>DEPUTADO DISTRITAL</td>\n",
       "      <td>19156</td>\n",
       "      <td>SILVÂNIA LEAL</td>\n",
       "      <td>19</td>\n",
       "      <td>PODE</td>\n",
       "      <td>BRASILEIRA NATA</td>\n",
       "      <td>PI</td>\n",
       "      <td>50.0</td>\n",
       "      <td>FEMININO</td>\n",
       "      <td>SUPERIOR INCOMPLETO</td>\n",
       "      <td>SOLTEIRO(A)</td>\n",
       "      <td>PARDA</td>\n",
       "      <td>N</td>\n",
       "      <td>1</td>\n",
       "    </tr>\n",
       "    <tr>\n",
       "      <th>4</th>\n",
       "      <td>1</td>\n",
       "      <td>DF</td>\n",
       "      <td>6</td>\n",
       "      <td>DEPUTADO FEDERAL</td>\n",
       "      <td>1600</td>\n",
       "      <td>EVERTON</td>\n",
       "      <td>16</td>\n",
       "      <td>PSTU</td>\n",
       "      <td>BRASILEIRA NATA</td>\n",
       "      <td>DF</td>\n",
       "      <td>38.0</td>\n",
       "      <td>MASCULINO</td>\n",
       "      <td>SUPERIOR COMPLETO</td>\n",
       "      <td>CASADO(A)</td>\n",
       "      <td>PRETA</td>\n",
       "      <td>N</td>\n",
       "      <td>1</td>\n",
       "    </tr>\n",
       "  </tbody>\n",
       "</table>\n",
       "</div>"
      ],
      "text/plain": [
       "   NR_TURNO SG_UF  CD_CARGO            DS_CARGO  NR_CANDIDATO  \\\n",
       "0         1    DF         8  DEPUTADO DISTRITAL         11022   \n",
       "1         1    DF         8  DEPUTADO DISTRITAL         18180   \n",
       "2         1    DF         6    DEPUTADO FEDERAL          2223   \n",
       "3         1    DF         8  DEPUTADO DISTRITAL         19156   \n",
       "4         1    DF         6    DEPUTADO FEDERAL          1600   \n",
       "\n",
       "       NM_URNA_CANDIDATO  NR_PARTIDO SG_PARTIDO DS_NACIONALIDADE  \\\n",
       "0              ANA MARIA          11         PP  BRASILEIRA NATA   \n",
       "1           CALINA LÍGIA          18       REDE  BRASILEIRA NATA   \n",
       "2  ANGÉLICA KATE MARRONE          22         PL  BRASILEIRA NATA   \n",
       "3          SILVÂNIA LEAL          19       PODE  BRASILEIRA NATA   \n",
       "4                EVERTON          16       PSTU  BRASILEIRA NATA   \n",
       "\n",
       "  SG_UF_NASCIMENTO  NR_IDADE_DATA_POSSE  DS_GENERO    DS_GRAU_INSTRUCAO  \\\n",
       "0               CE                 55.0   FEMININO    SUPERIOR COMPLETO   \n",
       "1               DF                 50.0   FEMININO    SUPERIOR COMPLETO   \n",
       "2               DF                 60.0   FEMININO    SUPERIOR COMPLETO   \n",
       "3               PI                 50.0   FEMININO  SUPERIOR INCOMPLETO   \n",
       "4               DF                 38.0  MASCULINO    SUPERIOR COMPLETO   \n",
       "\n",
       "  DS_ESTADO_CIVIL DS_COR_RACA ST_REELEICAO  contador  \n",
       "0     SOLTEIRO(A)       PARDA            N         1  \n",
       "1   DIVORCIADO(A)       PARDA            N         1  \n",
       "2   DIVORCIADO(A)       PRETA            N         1  \n",
       "3     SOLTEIRO(A)       PARDA            N         1  \n",
       "4       CASADO(A)       PRETA            N         1  "
      ]
     },
     "execution_count": 57,
     "metadata": {},
     "output_type": "execute_result"
    }
   ],
   "source": [
    "d_df.head()"
   ]
  },
  {
   "cell_type": "code",
   "execution_count": 70,
   "metadata": {},
   "outputs": [
    {
     "data": {
      "text/plain": [
       "(46, 17)"
      ]
     },
     "execution_count": 70,
     "metadata": {},
     "output_type": "execute_result"
    }
   ],
   "source": [
    "teste = d_df.loc[ (c_df.DS_GENERO == 'FEMININO') ].reset_index(drop=True)\n",
    "teste.loc[teste.DS_GENERO == 'FEMININO'].shape"
   ]
  },
  {
   "cell_type": "code",
   "execution_count": null,
   "metadata": {},
   "outputs": [],
   "source": []
  },
  {
   "cell_type": "code",
   "execution_count": 52,
   "metadata": {},
   "outputs": [
    {
     "data": {
      "text/plain": [
       "array(['FEMININO', 'MASCULINO', 'NÃO DIVULGÁVEL'], dtype=object)"
      ]
     },
     "execution_count": 52,
     "metadata": {},
     "output_type": "execute_result"
    }
   ],
   "source": [
    "c_df.DS_GENERO.unique()"
   ]
  },
  {
   "cell_type": "code",
   "execution_count": null,
   "metadata": {},
   "outputs": [],
   "source": []
  },
  {
   "cell_type": "code",
   "execution_count": 40,
   "metadata": {},
   "outputs": [
    {
     "data": {
      "text/plain": [
       "339"
      ]
     },
     "metadata": {},
     "output_type": "display_data"
    },
    {
     "data": {
      "text/plain": [
       "345"
      ]
     },
     "metadata": {},
     "output_type": "display_data"
    }
   ],
   "source": [
    "display(c_df.loc[ (c_df.DS_GENERO == 'MASCULINO') & (c_df.DS_CARGO == 'DEPUTADO FEDERAL') & (c_df.DS_COR_RACA == 'PRETA') | (c_df.DS_COR_RACA == 'PARDA')].reset_index(drop=True).shape[0])\n",
    "display(c_df.loc[ (c_df.DS_GENERO == 'FEMININO') & (c_df.DS_CARGO == 'DEPUTADO FEDERAL') & (c_df.DS_COR_RACA == 'PRETA') | (c_df.DS_COR_RACA == 'PARDA')].reset_index(drop=True).shape[0])\n"
   ]
  },
  {
   "cell_type": "code",
   "execution_count": 36,
   "metadata": {},
   "outputs": [
    {
     "data": {
      "text/plain": [
       "132"
      ]
     },
     "metadata": {},
     "output_type": "display_data"
    },
    {
     "data": {
      "text/plain": [
       "84"
      ]
     },
     "metadata": {},
     "output_type": "display_data"
    }
   ],
   "source": [
    "display(c_df.loc[ (c_df.DS_GENERO == 'MASCULINO') & (c_df.DS_CARGO == 'DEPUTADO FEDERAL')].reset_index(drop=True).shape[0])\n",
    "display(c_df.loc[ (c_df.DS_GENERO == 'FEMININO') & (c_df.DS_CARGO == 'DEPUTADO FEDERAL')].reset_index(drop=True).shape[0])"
   ]
  },
  {
   "cell_type": "code",
   "execution_count": 10,
   "metadata": {},
   "outputs": [
    {
     "data": {
      "text/plain": [
       "array(['PARDA', 'BRANCA', 'PRETA', 'NÃO INFORMADO', 'NÃO DIVULGÁVEL',\n",
       "       'INDÍGENA', 'AMARELA'], dtype=object)"
      ]
     },
     "execution_count": 10,
     "metadata": {},
     "output_type": "execute_result"
    }
   ],
   "source": [
    "c_df.DS_COR_RACA.unique()"
   ]
  },
  {
   "cell_type": "code",
   "execution_count": 11,
   "metadata": {},
   "outputs": [
    {
     "name": "stdout",
     "output_type": "stream",
     "text": [
      "Candidatos a Senador - Distrito Federal\n"
     ]
    },
    {
     "data": {
      "text/plain": [
       "75"
      ]
     },
     "metadata": {},
     "output_type": "display_data"
    },
    {
     "name": "stdout",
     "output_type": "stream",
     "text": [
      "\n",
      "Candidatas a Senadora - Distrito Federal\n"
     ]
    },
    {
     "data": {
      "text/plain": [
       "57"
      ]
     },
     "metadata": {},
     "output_type": "display_data"
    },
    {
     "name": "stdout",
     "output_type": "stream",
     "text": [
      "Candidatos a Deputado Distrital - Distrito Federal\n"
     ]
    },
    {
     "data": {
      "text/plain": [
       "319"
      ]
     },
     "metadata": {},
     "output_type": "display_data"
    },
    {
     "name": "stdout",
     "output_type": "stream",
     "text": [
      "\n",
      "Candidatas a Deputada Distrital - Distrito Federal\n"
     ]
    },
    {
     "data": {
      "text/plain": [
       "301"
      ]
     },
     "metadata": {},
     "output_type": "display_data"
    },
    {
     "name": "stdout",
     "output_type": "stream",
     "text": [
      "Candidatos a Deputada Federal - Distrito Federal\n"
     ]
    },
    {
     "data": {
      "text/plain": [
       "137"
      ]
     },
     "metadata": {},
     "output_type": "display_data"
    },
    {
     "name": "stdout",
     "output_type": "stream",
     "text": [
      "\n",
      "Candidatas a Deputada Federal - Distrito Federal\n"
     ]
    },
    {
     "data": {
      "text/plain": [
       "119"
      ]
     },
     "metadata": {},
     "output_type": "display_data"
    },
    {
     "name": "stdout",
     "output_type": "stream",
     "text": [
      "Candidatos a Governador - Distrito Federal\n"
     ]
    },
    {
     "data": {
      "text/plain": [
       "73"
      ]
     },
     "metadata": {},
     "output_type": "display_data"
    },
    {
     "name": "stdout",
     "output_type": "stream",
     "text": [
      "\n",
      "Candidatas a Governadora - Distrito Federal\n"
     ]
    },
    {
     "data": {
      "text/plain": [
       "55"
      ]
     },
     "metadata": {},
     "output_type": "display_data"
    },
    {
     "name": "stdout",
     "output_type": "stream",
     "text": [
      "Candidatos a Vice-Governador - Distrito Federal\n"
     ]
    },
    {
     "data": {
      "text/plain": [
       "71"
      ]
     },
     "metadata": {},
     "output_type": "display_data"
    },
    {
     "name": "stdout",
     "output_type": "stream",
     "text": [
      "\n",
      "Candidatas a Vice-Governadora - Distrito Federal\n"
     ]
    },
    {
     "data": {
      "text/plain": [
       "53"
      ]
     },
     "metadata": {},
     "output_type": "display_data"
    }
   ],
   "source": [
    "print('Candidatos a Senador - Distrito Federal')\n",
    "display(c_df.loc[ (c_df.DS_GENERO == 'MASCULINO') & (c_df.DS_COR_RACA == 'PRETA') | (c_df.DS_COR_RACA == 'PARDA') & (c_df.DS_CARGO == 'SENADOR')].reset_index(drop=True).shape[0])\n",
    "print('\\nCandidatas a Senadora - Distrito Federal')\n",
    "display(c_df.loc[ (c_df.DS_GENERO == 'FEMININO') & (c_df.DS_COR_RACA == 'PRETA') | (c_df.DS_COR_RACA == 'PARDA') & (c_df.DS_CARGO == 'SENADOR')].reset_index(drop=True).shape[0])\n",
    " \n",
    "print('Candidatos a Deputado Distrital - Distrito Federal')\n",
    "display(c_df.loc[ (c_df.DS_GENERO == 'MASCULINO') & (c_df.DS_COR_RACA == 'PRETA') | (c_df.DS_COR_RACA == 'PARDA') & (c_df.DS_CARGO == 'DEPUTADO DISTRITAL')].reset_index(drop=True).shape[0])\n",
    "print('\\nCandidatas a Deputada Distrital - Distrito Federal')\n",
    "display(c_df.loc[ (c_df.DS_GENERO == 'FEMININO') & (c_df.DS_COR_RACA == 'PRETA') | (c_df.DS_COR_RACA == 'PARDA') & (c_df.DS_CARGO == 'DEPUTADO DISTRITAL')].reset_index(drop=True).shape[0])\n",
    " \n",
    "print('Candidatos a Deputada Federal - Distrito Federal')\n",
    "display(c_df.loc[ (c_df.DS_GENERO == 'MASCULINO') & (c_df.DS_COR_RACA == 'PRETA') | (c_df.DS_COR_RACA == 'PARDA') & (c_df.DS_CARGO == 'DEPUTADO FEDERAL')].reset_index(drop=True).shape[0])\n",
    "print('\\nCandidatas a Deputada Federal - Distrito Federal')\n",
    "display(c_df.loc[ (c_df.DS_GENERO == 'FEMININO') & (c_df.DS_COR_RACA == 'PRETA') | (c_df.DS_COR_RACA == 'PARDA') & (c_df.DS_CARGO == 'DEPUTADO FEDERAL')].reset_index(drop=True).shape[0])\n",
    " \n",
    "print('Candidatos a Governador - Distrito Federal')\n",
    "display(c_df.loc[ (c_df.DS_GENERO == 'MASCULINO') & (c_df.DS_COR_RACA == 'PRETA') | (c_df.DS_COR_RACA == 'PARDA') & (c_df.DS_CARGO == 'GOVERNADOR')].reset_index(drop=True).shape[0])\n",
    "print('\\nCandidatas a Governadora - Distrito Federal')\n",
    "display(c_df.loc[ (c_df.DS_GENERO == 'FEMININO') & (c_df.DS_COR_RACA == 'PRETA') | (c_df.DS_COR_RACA == 'PARDA') & (c_df.DS_CARGO == 'GOVERNADOR')].reset_index(drop=True).shape[0])\n",
    " \n",
    "print('Candidatos a Vice-Governador - Distrito Federal')\n",
    "display(c_df.loc[ (c_df.DS_GENERO == 'MASCULINO') & (c_df.DS_COR_RACA == 'PRETA') | (c_df.DS_COR_RACA == 'PARDA') & (c_df.DS_CARGO == 'VICE-GOVERNADOR')].reset_index(drop=True).shape[0])\n",
    "print('\\nCandidatas a Vice-Governadora - Distrito Federal')\n",
    "display(c_df.loc[ (c_df.DS_GENERO == 'FEMININO') & (c_df.DS_COR_RACA == 'PRETA') | (c_df.DS_COR_RACA == 'PARDA') & (c_df.DS_CARGO == 'VICE-GOVERNADOR')].reset_index(drop=True).shape[0])"
   ]
  },
  {
   "cell_type": "code",
   "execution_count": 12,
   "metadata": {},
   "outputs": [
    {
     "data": {
      "text/plain": [
       "array(['PARDA', 'BRANCA', 'PRETA', 'NÃO INFORMADO', 'NÃO DIVULGÁVEL',\n",
       "       'INDÍGENA', 'AMARELA'], dtype=object)"
      ]
     },
     "execution_count": 12,
     "metadata": {},
     "output_type": "execute_result"
    }
   ],
   "source": [
    "c_df.DS_COR_RACA.unique()"
   ]
  },
  {
   "cell_type": "code",
   "execution_count": 13,
   "metadata": {},
   "outputs": [
    {
     "name": "stdout",
     "output_type": "stream",
     "text": [
      "Candidatos a Vice-Governador - Distrito Federal\n"
     ]
    },
    {
     "data": {
      "text/plain": [
       "395"
      ]
     },
     "metadata": {},
     "output_type": "display_data"
    },
    {
     "name": "stdout",
     "output_type": "stream",
     "text": [
      "\n",
      "Candidatas a Vice-Governadora - Distrito Federal\n"
     ]
    },
    {
     "data": {
      "text/plain": [
       "143"
      ]
     },
     "metadata": {},
     "output_type": "display_data"
    }
   ],
   "source": [
    "print('Candidatos a Vice-Governador - Distrito Federal')\n",
    "display(c_df.loc[ (c_df.DS_GENERO == 'MASCULINO') & (c_df.DS_COR_RACA == 'PRETA') | (c_df.DS_COR_RACA == 'PARDA')].reset_index(drop=True).shape[0])\n",
    "print('\\nCandidatas a Vice-Governadora - Distrito Federal')\n",
    "display(c_df.loc[ (c_df.DS_GENERO == 'FEMININO') & (c_df.DS_COR_RACA == 'BRANCA')  ].reset_index(drop=True).shape[0])"
   ]
  },
  {
   "cell_type": "code",
   "execution_count": null,
   "metadata": {},
   "outputs": [],
   "source": []
  },
  {
   "cell_type": "code",
   "execution_count": 14,
   "metadata": {},
   "outputs": [
    {
     "name": "stdout",
     "output_type": "stream",
     "text": [
      "\n",
      "Pessoas auto-declaradas Brancas\n"
     ]
    },
    {
     "data": {
      "text/html": [
       "<div>\n",
       "<style scoped>\n",
       "    .dataframe tbody tr th:only-of-type {\n",
       "        vertical-align: middle;\n",
       "    }\n",
       "\n",
       "    .dataframe tbody tr th {\n",
       "        vertical-align: top;\n",
       "    }\n",
       "\n",
       "    .dataframe thead th {\n",
       "        text-align: right;\n",
       "    }\n",
       "</style>\n",
       "<table border=\"1\" class=\"dataframe\">\n",
       "  <thead>\n",
       "    <tr style=\"text-align: right;\">\n",
       "      <th></th>\n",
       "      <th>contador</th>\n",
       "    </tr>\n",
       "    <tr>\n",
       "      <th>DS_GRAU_INSTRUCAO</th>\n",
       "      <th></th>\n",
       "    </tr>\n",
       "  </thead>\n",
       "  <tbody>\n",
       "    <tr>\n",
       "      <th>ENSINO FUNDAMENTAL COMPLETO</th>\n",
       "      <td>3</td>\n",
       "    </tr>\n",
       "    <tr>\n",
       "      <th>ENSINO FUNDAMENTAL INCOMPLETO</th>\n",
       "      <td>3</td>\n",
       "    </tr>\n",
       "    <tr>\n",
       "      <th>ENSINO MÉDIO COMPLETO</th>\n",
       "      <td>40</td>\n",
       "    </tr>\n",
       "    <tr>\n",
       "      <th>ENSINO MÉDIO INCOMPLETO</th>\n",
       "      <td>4</td>\n",
       "    </tr>\n",
       "    <tr>\n",
       "      <th>LÊ E ESCREVE</th>\n",
       "      <td>2</td>\n",
       "    </tr>\n",
       "    <tr>\n",
       "      <th>SUPERIOR COMPLETO</th>\n",
       "      <td>303</td>\n",
       "    </tr>\n",
       "    <tr>\n",
       "      <th>SUPERIOR INCOMPLETO</th>\n",
       "      <td>27</td>\n",
       "    </tr>\n",
       "  </tbody>\n",
       "</table>\n",
       "</div>"
      ],
      "text/plain": [
       "                               contador\n",
       "DS_GRAU_INSTRUCAO                      \n",
       "ENSINO FUNDAMENTAL COMPLETO           3\n",
       "ENSINO FUNDAMENTAL INCOMPLETO         3\n",
       "ENSINO MÉDIO COMPLETO                40\n",
       "ENSINO MÉDIO INCOMPLETO               4\n",
       "LÊ E ESCREVE                          2\n",
       "SUPERIOR COMPLETO                   303\n",
       "SUPERIOR INCOMPLETO                  27"
      ]
     },
     "metadata": {},
     "output_type": "display_data"
    },
    {
     "name": "stdout",
     "output_type": "stream",
     "text": [
      "\n",
      "Pessoas auto-declaradas de Preta ou Parda\n"
     ]
    },
    {
     "data": {
      "text/html": [
       "<div>\n",
       "<style scoped>\n",
       "    .dataframe tbody tr th:only-of-type {\n",
       "        vertical-align: middle;\n",
       "    }\n",
       "\n",
       "    .dataframe tbody tr th {\n",
       "        vertical-align: top;\n",
       "    }\n",
       "\n",
       "    .dataframe thead th {\n",
       "        text-align: right;\n",
       "    }\n",
       "</style>\n",
       "<table border=\"1\" class=\"dataframe\">\n",
       "  <thead>\n",
       "    <tr style=\"text-align: right;\">\n",
       "      <th></th>\n",
       "      <th>contador</th>\n",
       "    </tr>\n",
       "    <tr>\n",
       "      <th>DS_GRAU_INSTRUCAO</th>\n",
       "      <th></th>\n",
       "    </tr>\n",
       "  </thead>\n",
       "  <tbody>\n",
       "    <tr>\n",
       "      <th>ENSINO FUNDAMENTAL COMPLETO</th>\n",
       "      <td>16</td>\n",
       "    </tr>\n",
       "    <tr>\n",
       "      <th>ENSINO FUNDAMENTAL INCOMPLETO</th>\n",
       "      <td>10</td>\n",
       "    </tr>\n",
       "    <tr>\n",
       "      <th>ENSINO MÉDIO COMPLETO</th>\n",
       "      <td>87</td>\n",
       "    </tr>\n",
       "    <tr>\n",
       "      <th>ENSINO MÉDIO INCOMPLETO</th>\n",
       "      <td>10</td>\n",
       "    </tr>\n",
       "    <tr>\n",
       "      <th>LÊ E ESCREVE</th>\n",
       "      <td>8</td>\n",
       "    </tr>\n",
       "    <tr>\n",
       "      <th>SUPERIOR COMPLETO</th>\n",
       "      <td>284</td>\n",
       "    </tr>\n",
       "    <tr>\n",
       "      <th>SUPERIOR INCOMPLETO</th>\n",
       "      <td>32</td>\n",
       "    </tr>\n",
       "  </tbody>\n",
       "</table>\n",
       "</div>"
      ],
      "text/plain": [
       "                               contador\n",
       "DS_GRAU_INSTRUCAO                      \n",
       "ENSINO FUNDAMENTAL COMPLETO          16\n",
       "ENSINO FUNDAMENTAL INCOMPLETO        10\n",
       "ENSINO MÉDIO COMPLETO                87\n",
       "ENSINO MÉDIO INCOMPLETO              10\n",
       "LÊ E ESCREVE                          8\n",
       "SUPERIOR COMPLETO                   284\n",
       "SUPERIOR INCOMPLETO                  32"
      ]
     },
     "metadata": {},
     "output_type": "display_data"
    },
    {
     "name": "stdout",
     "output_type": "stream",
     "text": [
      "\n",
      "Indigenas e pessoas que optaram por não declarar a Raca\n"
     ]
    },
    {
     "data": {
      "text/html": [
       "<div>\n",
       "<style scoped>\n",
       "    .dataframe tbody tr th:only-of-type {\n",
       "        vertical-align: middle;\n",
       "    }\n",
       "\n",
       "    .dataframe tbody tr th {\n",
       "        vertical-align: top;\n",
       "    }\n",
       "\n",
       "    .dataframe thead th {\n",
       "        text-align: right;\n",
       "    }\n",
       "</style>\n",
       "<table border=\"1\" class=\"dataframe\">\n",
       "  <thead>\n",
       "    <tr style=\"text-align: right;\">\n",
       "      <th></th>\n",
       "      <th>contador</th>\n",
       "    </tr>\n",
       "    <tr>\n",
       "      <th>DS_GRAU_INSTRUCAO</th>\n",
       "      <th></th>\n",
       "    </tr>\n",
       "  </thead>\n",
       "  <tbody>\n",
       "    <tr>\n",
       "      <th>ENSINO FUNDAMENTAL COMPLETO</th>\n",
       "      <td>3</td>\n",
       "    </tr>\n",
       "    <tr>\n",
       "      <th>ENSINO MÉDIO COMPLETO</th>\n",
       "      <td>7</td>\n",
       "    </tr>\n",
       "    <tr>\n",
       "      <th>NÃO DIVULGÁVEL</th>\n",
       "      <td>2</td>\n",
       "    </tr>\n",
       "    <tr>\n",
       "      <th>SUPERIOR COMPLETO</th>\n",
       "      <td>20</td>\n",
       "    </tr>\n",
       "    <tr>\n",
       "      <th>SUPERIOR INCOMPLETO</th>\n",
       "      <td>3</td>\n",
       "    </tr>\n",
       "  </tbody>\n",
       "</table>\n",
       "</div>"
      ],
      "text/plain": [
       "                             contador\n",
       "DS_GRAU_INSTRUCAO                    \n",
       "ENSINO FUNDAMENTAL COMPLETO         3\n",
       "ENSINO MÉDIO COMPLETO               7\n",
       "NÃO DIVULGÁVEL                      2\n",
       "SUPERIOR COMPLETO                  20\n",
       "SUPERIOR INCOMPLETO                 3"
      ]
     },
     "metadata": {},
     "output_type": "display_data"
    }
   ],
   "source": [
    "c_df['contador'] = 1\n",
    "print(\"\\nPessoas auto-declaradas Brancas\")\n",
    "display(c_df[['DS_GRAU_INSTRUCAO', 'contador']].loc[ (c_df.DS_COR_RACA == 'BRANCA')  ].groupby('DS_GRAU_INSTRUCAO').count())\n",
    "print(\"\\nPessoas auto-declaradas de Preta ou Parda\")\n",
    "display(c_df[['DS_GRAU_INSTRUCAO', 'contador']].loc[ (c_df.DS_COR_RACA == 'PRETA') | (c_df.DS_COR_RACA == 'PARDA') ].groupby('DS_GRAU_INSTRUCAO').count())\n",
    "print(\"\\nIndigenas e pessoas que optaram por não declarar a Raca\")\n",
    "display(c_df[['DS_GRAU_INSTRUCAO', 'contador']].loc[ (c_df.DS_COR_RACA != 'PRETA') & (c_df.DS_COR_RACA != 'PARDA') & (c_df.DS_COR_RACA != 'BRANCA') ].groupby('DS_GRAU_INSTRUCAO').count())"
   ]
  },
  {
   "cell_type": "code",
   "execution_count": 15,
   "metadata": {},
   "outputs": [
    {
     "name": "stdout",
     "output_type": "stream",
     "text": [
      "\n",
      "Pessoas auto-declaradas Brancas\n"
     ]
    },
    {
     "data": {
      "text/html": [
       "<div>\n",
       "<style scoped>\n",
       "    .dataframe tbody tr th:only-of-type {\n",
       "        vertical-align: middle;\n",
       "    }\n",
       "\n",
       "    .dataframe tbody tr th {\n",
       "        vertical-align: top;\n",
       "    }\n",
       "\n",
       "    .dataframe thead th {\n",
       "        text-align: right;\n",
       "    }\n",
       "</style>\n",
       "<table border=\"1\" class=\"dataframe\">\n",
       "  <thead>\n",
       "    <tr style=\"text-align: right;\">\n",
       "      <th></th>\n",
       "      <th>contador</th>\n",
       "    </tr>\n",
       "    <tr>\n",
       "      <th>DS_GRAU_INSTRUCAO</th>\n",
       "      <th></th>\n",
       "    </tr>\n",
       "  </thead>\n",
       "  <tbody>\n",
       "    <tr>\n",
       "      <th>ENSINO FUNDAMENTAL COMPLETO</th>\n",
       "      <td>1</td>\n",
       "    </tr>\n",
       "    <tr>\n",
       "      <th>ENSINO MÉDIO COMPLETO</th>\n",
       "      <td>16</td>\n",
       "    </tr>\n",
       "    <tr>\n",
       "      <th>LÊ E ESCREVE</th>\n",
       "      <td>1</td>\n",
       "    </tr>\n",
       "    <tr>\n",
       "      <th>SUPERIOR COMPLETO</th>\n",
       "      <td>113</td>\n",
       "    </tr>\n",
       "    <tr>\n",
       "      <th>SUPERIOR INCOMPLETO</th>\n",
       "      <td>12</td>\n",
       "    </tr>\n",
       "  </tbody>\n",
       "</table>\n",
       "</div>"
      ],
      "text/plain": [
       "                             contador\n",
       "DS_GRAU_INSTRUCAO                    \n",
       "ENSINO FUNDAMENTAL COMPLETO         1\n",
       "ENSINO MÉDIO COMPLETO              16\n",
       "LÊ E ESCREVE                        1\n",
       "SUPERIOR COMPLETO                 113\n",
       "SUPERIOR INCOMPLETO                12"
      ]
     },
     "metadata": {},
     "output_type": "display_data"
    },
    {
     "name": "stdout",
     "output_type": "stream",
     "text": [
      "\n",
      "Pessoas auto-declaradas de Preta ou Parda\n"
     ]
    },
    {
     "data": {
      "text/html": [
       "<div>\n",
       "<style scoped>\n",
       "    .dataframe tbody tr th:only-of-type {\n",
       "        vertical-align: middle;\n",
       "    }\n",
       "\n",
       "    .dataframe tbody tr th {\n",
       "        vertical-align: top;\n",
       "    }\n",
       "\n",
       "    .dataframe thead th {\n",
       "        text-align: right;\n",
       "    }\n",
       "</style>\n",
       "<table border=\"1\" class=\"dataframe\">\n",
       "  <thead>\n",
       "    <tr style=\"text-align: right;\">\n",
       "      <th></th>\n",
       "      <th>contador</th>\n",
       "    </tr>\n",
       "    <tr>\n",
       "      <th>DS_GRAU_INSTRUCAO</th>\n",
       "      <th></th>\n",
       "    </tr>\n",
       "  </thead>\n",
       "  <tbody>\n",
       "    <tr>\n",
       "      <th>ENSINO FUNDAMENTAL COMPLETO</th>\n",
       "      <td>8</td>\n",
       "    </tr>\n",
       "    <tr>\n",
       "      <th>ENSINO FUNDAMENTAL INCOMPLETO</th>\n",
       "      <td>6</td>\n",
       "    </tr>\n",
       "    <tr>\n",
       "      <th>ENSINO MÉDIO COMPLETO</th>\n",
       "      <td>43</td>\n",
       "    </tr>\n",
       "    <tr>\n",
       "      <th>ENSINO MÉDIO INCOMPLETO</th>\n",
       "      <td>3</td>\n",
       "    </tr>\n",
       "    <tr>\n",
       "      <th>LÊ E ESCREVE</th>\n",
       "      <td>4</td>\n",
       "    </tr>\n",
       "    <tr>\n",
       "      <th>SUPERIOR COMPLETO</th>\n",
       "      <td>140</td>\n",
       "    </tr>\n",
       "    <tr>\n",
       "      <th>SUPERIOR INCOMPLETO</th>\n",
       "      <td>19</td>\n",
       "    </tr>\n",
       "  </tbody>\n",
       "</table>\n",
       "</div>"
      ],
      "text/plain": [
       "                               contador\n",
       "DS_GRAU_INSTRUCAO                      \n",
       "ENSINO FUNDAMENTAL COMPLETO           8\n",
       "ENSINO FUNDAMENTAL INCOMPLETO         6\n",
       "ENSINO MÉDIO COMPLETO                43\n",
       "ENSINO MÉDIO INCOMPLETO               3\n",
       "LÊ E ESCREVE                          4\n",
       "SUPERIOR COMPLETO                   140\n",
       "SUPERIOR INCOMPLETO                  19"
      ]
     },
     "metadata": {},
     "output_type": "display_data"
    }
   ],
   "source": [
    "print(\"\\nPessoas auto-declaradas Brancas\")\n",
    "display(c_df[['DS_GRAU_INSTRUCAO', 'contador']].loc[ (c_df.DS_COR_RACA == 'BRANCA')  & (c_df.DS_GENERO == 'FEMININO') ].groupby('DS_GRAU_INSTRUCAO').count())\n",
    "print(\"\\nPessoas auto-declaradas de Preta ou Parda\")\n",
    "display(c_df[['DS_GRAU_INSTRUCAO', 'contador']].loc[ (c_df.DS_COR_RACA == 'PRETA') | (c_df.DS_COR_RACA == 'PARDA')  & (c_df.DS_GENERO == 'FEMININO')].groupby('DS_GRAU_INSTRUCAO').count())\n"
   ]
  },
  {
   "cell_type": "code",
   "execution_count": 16,
   "metadata": {},
   "outputs": [
    {
     "name": "stdout",
     "output_type": "stream",
     "text": [
      "\n",
      "Pessoas auto-declaradas Brancas\n"
     ]
    },
    {
     "data": {
      "text/html": [
       "<div>\n",
       "<style scoped>\n",
       "    .dataframe tbody tr th:only-of-type {\n",
       "        vertical-align: middle;\n",
       "    }\n",
       "\n",
       "    .dataframe tbody tr th {\n",
       "        vertical-align: top;\n",
       "    }\n",
       "\n",
       "    .dataframe thead th {\n",
       "        text-align: right;\n",
       "    }\n",
       "</style>\n",
       "<table border=\"1\" class=\"dataframe\">\n",
       "  <thead>\n",
       "    <tr style=\"text-align: right;\">\n",
       "      <th></th>\n",
       "      <th>contador</th>\n",
       "    </tr>\n",
       "    <tr>\n",
       "      <th>DS_GRAU_INSTRUCAO</th>\n",
       "      <th></th>\n",
       "    </tr>\n",
       "  </thead>\n",
       "  <tbody>\n",
       "    <tr>\n",
       "      <th>ENSINO FUNDAMENTAL COMPLETO</th>\n",
       "      <td>2</td>\n",
       "    </tr>\n",
       "    <tr>\n",
       "      <th>ENSINO FUNDAMENTAL INCOMPLETO</th>\n",
       "      <td>3</td>\n",
       "    </tr>\n",
       "    <tr>\n",
       "      <th>ENSINO MÉDIO COMPLETO</th>\n",
       "      <td>24</td>\n",
       "    </tr>\n",
       "    <tr>\n",
       "      <th>ENSINO MÉDIO INCOMPLETO</th>\n",
       "      <td>4</td>\n",
       "    </tr>\n",
       "    <tr>\n",
       "      <th>LÊ E ESCREVE</th>\n",
       "      <td>1</td>\n",
       "    </tr>\n",
       "    <tr>\n",
       "      <th>SUPERIOR COMPLETO</th>\n",
       "      <td>190</td>\n",
       "    </tr>\n",
       "    <tr>\n",
       "      <th>SUPERIOR INCOMPLETO</th>\n",
       "      <td>15</td>\n",
       "    </tr>\n",
       "  </tbody>\n",
       "</table>\n",
       "</div>"
      ],
      "text/plain": [
       "                               contador\n",
       "DS_GRAU_INSTRUCAO                      \n",
       "ENSINO FUNDAMENTAL COMPLETO           2\n",
       "ENSINO FUNDAMENTAL INCOMPLETO         3\n",
       "ENSINO MÉDIO COMPLETO                24\n",
       "ENSINO MÉDIO INCOMPLETO               4\n",
       "LÊ E ESCREVE                          1\n",
       "SUPERIOR COMPLETO                   190\n",
       "SUPERIOR INCOMPLETO                  15"
      ]
     },
     "metadata": {},
     "output_type": "display_data"
    },
    {
     "name": "stdout",
     "output_type": "stream",
     "text": [
      "\n",
      "Pessoas auto-declaradas de Preta ou Parda\n"
     ]
    },
    {
     "data": {
      "text/html": [
       "<div>\n",
       "<style scoped>\n",
       "    .dataframe tbody tr th:only-of-type {\n",
       "        vertical-align: middle;\n",
       "    }\n",
       "\n",
       "    .dataframe tbody tr th {\n",
       "        vertical-align: top;\n",
       "    }\n",
       "\n",
       "    .dataframe thead th {\n",
       "        text-align: right;\n",
       "    }\n",
       "</style>\n",
       "<table border=\"1\" class=\"dataframe\">\n",
       "  <thead>\n",
       "    <tr style=\"text-align: right;\">\n",
       "      <th></th>\n",
       "      <th>contador</th>\n",
       "    </tr>\n",
       "    <tr>\n",
       "      <th>DS_GRAU_INSTRUCAO</th>\n",
       "      <th></th>\n",
       "    </tr>\n",
       "  </thead>\n",
       "  <tbody>\n",
       "    <tr>\n",
       "      <th>ENSINO FUNDAMENTAL COMPLETO</th>\n",
       "      <td>13</td>\n",
       "    </tr>\n",
       "    <tr>\n",
       "      <th>ENSINO FUNDAMENTAL INCOMPLETO</th>\n",
       "      <td>9</td>\n",
       "    </tr>\n",
       "    <tr>\n",
       "      <th>ENSINO MÉDIO COMPLETO</th>\n",
       "      <td>70</td>\n",
       "    </tr>\n",
       "    <tr>\n",
       "      <th>ENSINO MÉDIO INCOMPLETO</th>\n",
       "      <td>10</td>\n",
       "    </tr>\n",
       "    <tr>\n",
       "      <th>LÊ E ESCREVE</th>\n",
       "      <td>7</td>\n",
       "    </tr>\n",
       "    <tr>\n",
       "      <th>SUPERIOR COMPLETO</th>\n",
       "      <td>214</td>\n",
       "    </tr>\n",
       "    <tr>\n",
       "      <th>SUPERIOR INCOMPLETO</th>\n",
       "      <td>23</td>\n",
       "    </tr>\n",
       "  </tbody>\n",
       "</table>\n",
       "</div>"
      ],
      "text/plain": [
       "                               contador\n",
       "DS_GRAU_INSTRUCAO                      \n",
       "ENSINO FUNDAMENTAL COMPLETO          13\n",
       "ENSINO FUNDAMENTAL INCOMPLETO         9\n",
       "ENSINO MÉDIO COMPLETO                70\n",
       "ENSINO MÉDIO INCOMPLETO              10\n",
       "LÊ E ESCREVE                          7\n",
       "SUPERIOR COMPLETO                   214\n",
       "SUPERIOR INCOMPLETO                  23"
      ]
     },
     "metadata": {},
     "output_type": "display_data"
    }
   ],
   "source": [
    "print(\"\\nPessoas auto-declaradas Brancas\")\n",
    "display(c_df[['DS_GRAU_INSTRUCAO', 'contador']].loc[ (c_df.DS_COR_RACA == 'BRANCA')  & (c_df.DS_GENERO == 'MASCULINO') ].groupby('DS_GRAU_INSTRUCAO').count())\n",
    "print(\"\\nPessoas auto-declaradas de Preta ou Parda\")\n",
    "display(c_df[['DS_GRAU_INSTRUCAO', 'contador']].loc[ (c_df.DS_COR_RACA == 'PRETA') | (c_df.DS_COR_RACA == 'PARDA')  & (c_df.DS_GENERO == 'MASCULINO')].groupby('DS_GRAU_INSTRUCAO').count())"
   ]
  },
  {
   "cell_type": "code",
   "execution_count": 17,
   "metadata": {},
   "outputs": [
    {
     "data": {
      "text/html": [
       "<div>\n",
       "<style scoped>\n",
       "    .dataframe tbody tr th:only-of-type {\n",
       "        vertical-align: middle;\n",
       "    }\n",
       "\n",
       "    .dataframe tbody tr th {\n",
       "        vertical-align: top;\n",
       "    }\n",
       "\n",
       "    .dataframe thead th {\n",
       "        text-align: right;\n",
       "    }\n",
       "</style>\n",
       "<table border=\"1\" class=\"dataframe\">\n",
       "  <thead>\n",
       "    <tr style=\"text-align: right;\">\n",
       "      <th></th>\n",
       "      <th>NR_TURNO</th>\n",
       "      <th>SG_UF</th>\n",
       "      <th>CD_CARGO</th>\n",
       "      <th>DS_CARGO</th>\n",
       "      <th>NR_CANDIDATO</th>\n",
       "      <th>NM_URNA_CANDIDATO</th>\n",
       "      <th>NR_PARTIDO</th>\n",
       "      <th>SG_PARTIDO</th>\n",
       "      <th>DS_NACIONALIDADE</th>\n",
       "      <th>SG_UF_NASCIMENTO</th>\n",
       "      <th>NR_IDADE_DATA_POSSE</th>\n",
       "      <th>DS_GENERO</th>\n",
       "      <th>DS_GRAU_INSTRUCAO</th>\n",
       "      <th>DS_ESTADO_CIVIL</th>\n",
       "      <th>DS_COR_RACA</th>\n",
       "      <th>ST_REELEICAO</th>\n",
       "      <th>contador</th>\n",
       "    </tr>\n",
       "  </thead>\n",
       "  <tbody>\n",
       "    <tr>\n",
       "      <th>361</th>\n",
       "      <td>1</td>\n",
       "      <td>DF</td>\n",
       "      <td>6</td>\n",
       "      <td>DEPUTADO FEDERAL</td>\n",
       "      <td>4422</td>\n",
       "      <td>FADI FARAJ</td>\n",
       "      <td>44</td>\n",
       "      <td>UNIÃO</td>\n",
       "      <td>BRASILEIRA (NATURALIZADA)</td>\n",
       "      <td>DF</td>\n",
       "      <td>57.0</td>\n",
       "      <td>MASCULINO</td>\n",
       "      <td>SUPERIOR COMPLETO</td>\n",
       "      <td>CASADO(A)</td>\n",
       "      <td>BRANCA</td>\n",
       "      <td>N</td>\n",
       "      <td>1</td>\n",
       "    </tr>\n",
       "    <tr>\n",
       "      <th>422</th>\n",
       "      <td>1</td>\n",
       "      <td>DF</td>\n",
       "      <td>6</td>\n",
       "      <td>DEPUTADO FEDERAL</td>\n",
       "      <td>3066</td>\n",
       "      <td>JORGE RUIZ</td>\n",
       "      <td>30</td>\n",
       "      <td>NOVO</td>\n",
       "      <td>BRASILEIRA (NATURALIZADA)</td>\n",
       "      <td>ZZ</td>\n",
       "      <td>67.0</td>\n",
       "      <td>MASCULINO</td>\n",
       "      <td>SUPERIOR COMPLETO</td>\n",
       "      <td>SOLTEIRO(A)</td>\n",
       "      <td>BRANCA</td>\n",
       "      <td>N</td>\n",
       "      <td>1</td>\n",
       "    </tr>\n",
       "    <tr>\n",
       "      <th>629</th>\n",
       "      <td>1</td>\n",
       "      <td>DF</td>\n",
       "      <td>6</td>\n",
       "      <td>DEPUTADO FEDERAL</td>\n",
       "      <td>6565</td>\n",
       "      <td>ANA PRESTES</td>\n",
       "      <td>65</td>\n",
       "      <td>PC do B</td>\n",
       "      <td>BRASILEIRA (NATURALIZADA)</td>\n",
       "      <td>GO</td>\n",
       "      <td>45.0</td>\n",
       "      <td>FEMININO</td>\n",
       "      <td>SUPERIOR COMPLETO</td>\n",
       "      <td>DIVORCIADO(A)</td>\n",
       "      <td>PARDA</td>\n",
       "      <td>N</td>\n",
       "      <td>1</td>\n",
       "    </tr>\n",
       "    <tr>\n",
       "      <th>675</th>\n",
       "      <td>1</td>\n",
       "      <td>DF</td>\n",
       "      <td>8</td>\n",
       "      <td>DEPUTADO DISTRITAL</td>\n",
       "      <td>18777</td>\n",
       "      <td>DJ AFRIKA</td>\n",
       "      <td>18</td>\n",
       "      <td>REDE</td>\n",
       "      <td>BRASILEIRA (NATURALIZADA)</td>\n",
       "      <td>ZZ</td>\n",
       "      <td>37.0</td>\n",
       "      <td>MASCULINO</td>\n",
       "      <td>SUPERIOR COMPLETO</td>\n",
       "      <td>SOLTEIRO(A)</td>\n",
       "      <td>PRETA</td>\n",
       "      <td>N</td>\n",
       "      <td>1</td>\n",
       "    </tr>\n",
       "  </tbody>\n",
       "</table>\n",
       "</div>"
      ],
      "text/plain": [
       "     NR_TURNO SG_UF  CD_CARGO            DS_CARGO  NR_CANDIDATO  \\\n",
       "361         1    DF         6    DEPUTADO FEDERAL          4422   \n",
       "422         1    DF         6    DEPUTADO FEDERAL          3066   \n",
       "629         1    DF         6    DEPUTADO FEDERAL          6565   \n",
       "675         1    DF         8  DEPUTADO DISTRITAL         18777   \n",
       "\n",
       "    NM_URNA_CANDIDATO  NR_PARTIDO SG_PARTIDO           DS_NACIONALIDADE  \\\n",
       "361        FADI FARAJ          44      UNIÃO  BRASILEIRA (NATURALIZADA)   \n",
       "422        JORGE RUIZ          30       NOVO  BRASILEIRA (NATURALIZADA)   \n",
       "629       ANA PRESTES          65    PC do B  BRASILEIRA (NATURALIZADA)   \n",
       "675         DJ AFRIKA          18       REDE  BRASILEIRA (NATURALIZADA)   \n",
       "\n",
       "    SG_UF_NASCIMENTO  NR_IDADE_DATA_POSSE  DS_GENERO  DS_GRAU_INSTRUCAO  \\\n",
       "361               DF                 57.0  MASCULINO  SUPERIOR COMPLETO   \n",
       "422               ZZ                 67.0  MASCULINO  SUPERIOR COMPLETO   \n",
       "629               GO                 45.0   FEMININO  SUPERIOR COMPLETO   \n",
       "675               ZZ                 37.0  MASCULINO  SUPERIOR COMPLETO   \n",
       "\n",
       "    DS_ESTADO_CIVIL DS_COR_RACA ST_REELEICAO  contador  \n",
       "361       CASADO(A)      BRANCA            N         1  \n",
       "422     SOLTEIRO(A)      BRANCA            N         1  \n",
       "629   DIVORCIADO(A)       PARDA            N         1  \n",
       "675     SOLTEIRO(A)       PRETA            N         1  "
      ]
     },
     "execution_count": 17,
     "metadata": {},
     "output_type": "execute_result"
    }
   ],
   "source": [
    "c_df.loc[(c_df.DS_NACIONALIDADE == 'BRASILEIRA (NATURALIZADA)')]"
   ]
  },
  {
   "cell_type": "code",
   "execution_count": 18,
   "metadata": {},
   "outputs": [
    {
     "data": {
      "text/html": [
       "<div>\n",
       "<style scoped>\n",
       "    .dataframe tbody tr th:only-of-type {\n",
       "        vertical-align: middle;\n",
       "    }\n",
       "\n",
       "    .dataframe tbody tr th {\n",
       "        vertical-align: top;\n",
       "    }\n",
       "\n",
       "    .dataframe thead th {\n",
       "        text-align: right;\n",
       "    }\n",
       "</style>\n",
       "<table border=\"1\" class=\"dataframe\">\n",
       "  <thead>\n",
       "    <tr style=\"text-align: right;\">\n",
       "      <th></th>\n",
       "      <th>NR_TURNO</th>\n",
       "      <th>SG_UF</th>\n",
       "      <th>CD_CARGO</th>\n",
       "      <th>DS_CARGO</th>\n",
       "      <th>NR_CANDIDATO</th>\n",
       "      <th>NM_URNA_CANDIDATO</th>\n",
       "      <th>NR_PARTIDO</th>\n",
       "      <th>SG_PARTIDO</th>\n",
       "      <th>DS_NACIONALIDADE</th>\n",
       "      <th>SG_UF_NASCIMENTO</th>\n",
       "      <th>NR_IDADE_DATA_POSSE</th>\n",
       "      <th>DS_GENERO</th>\n",
       "      <th>DS_GRAU_INSTRUCAO</th>\n",
       "      <th>DS_ESTADO_CIVIL</th>\n",
       "      <th>DS_COR_RACA</th>\n",
       "      <th>ST_REELEICAO</th>\n",
       "      <th>contador</th>\n",
       "    </tr>\n",
       "  </thead>\n",
       "  <tbody>\n",
       "    <tr>\n",
       "      <th>0</th>\n",
       "      <td>1</td>\n",
       "      <td>DF</td>\n",
       "      <td>8</td>\n",
       "      <td>DEPUTADO DISTRITAL</td>\n",
       "      <td>11022</td>\n",
       "      <td>ANA MARIA</td>\n",
       "      <td>11</td>\n",
       "      <td>PP</td>\n",
       "      <td>BRASILEIRA NATA</td>\n",
       "      <td>CE</td>\n",
       "      <td>55.0</td>\n",
       "      <td>FEMININO</td>\n",
       "      <td>SUPERIOR COMPLETO</td>\n",
       "      <td>SOLTEIRO(A)</td>\n",
       "      <td>PARDA</td>\n",
       "      <td>N</td>\n",
       "      <td>1</td>\n",
       "    </tr>\n",
       "    <tr>\n",
       "      <th>1</th>\n",
       "      <td>1</td>\n",
       "      <td>DF</td>\n",
       "      <td>8</td>\n",
       "      <td>DEPUTADO DISTRITAL</td>\n",
       "      <td>14222</td>\n",
       "      <td>SIMONE PIMENTEL</td>\n",
       "      <td>14</td>\n",
       "      <td>PTB</td>\n",
       "      <td>BRASILEIRA NATA</td>\n",
       "      <td>AL</td>\n",
       "      <td>59.0</td>\n",
       "      <td>FEMININO</td>\n",
       "      <td>SUPERIOR COMPLETO</td>\n",
       "      <td>SOLTEIRO(A)</td>\n",
       "      <td>BRANCA</td>\n",
       "      <td>N</td>\n",
       "      <td>1</td>\n",
       "    </tr>\n",
       "    <tr>\n",
       "      <th>2</th>\n",
       "      <td>1</td>\n",
       "      <td>DF</td>\n",
       "      <td>8</td>\n",
       "      <td>DEPUTADO DISTRITAL</td>\n",
       "      <td>44566</td>\n",
       "      <td>MARIA ABADIA</td>\n",
       "      <td>44</td>\n",
       "      <td>UNIÃO</td>\n",
       "      <td>BRASILEIRA NATA</td>\n",
       "      <td>GO</td>\n",
       "      <td>78.0</td>\n",
       "      <td>FEMININO</td>\n",
       "      <td>SUPERIOR COMPLETO</td>\n",
       "      <td>DIVORCIADO(A)</td>\n",
       "      <td>BRANCA</td>\n",
       "      <td>N</td>\n",
       "      <td>1</td>\n",
       "    </tr>\n",
       "    <tr>\n",
       "      <th>3</th>\n",
       "      <td>1</td>\n",
       "      <td>DF</td>\n",
       "      <td>8</td>\n",
       "      <td>DEPUTADO DISTRITAL</td>\n",
       "      <td>18180</td>\n",
       "      <td>CALINA LÍGIA</td>\n",
       "      <td>18</td>\n",
       "      <td>REDE</td>\n",
       "      <td>BRASILEIRA NATA</td>\n",
       "      <td>DF</td>\n",
       "      <td>50.0</td>\n",
       "      <td>FEMININO</td>\n",
       "      <td>SUPERIOR COMPLETO</td>\n",
       "      <td>DIVORCIADO(A)</td>\n",
       "      <td>PARDA</td>\n",
       "      <td>N</td>\n",
       "      <td>1</td>\n",
       "    </tr>\n",
       "    <tr>\n",
       "      <th>4</th>\n",
       "      <td>1</td>\n",
       "      <td>DF</td>\n",
       "      <td>6</td>\n",
       "      <td>DEPUTADO FEDERAL</td>\n",
       "      <td>2220</td>\n",
       "      <td>MARCELA PASSAMANI</td>\n",
       "      <td>22</td>\n",
       "      <td>PL</td>\n",
       "      <td>BRASILEIRA NATA</td>\n",
       "      <td>ES</td>\n",
       "      <td>41.0</td>\n",
       "      <td>FEMININO</td>\n",
       "      <td>SUPERIOR COMPLETO</td>\n",
       "      <td>CASADO(A)</td>\n",
       "      <td>BRANCA</td>\n",
       "      <td>N</td>\n",
       "      <td>1</td>\n",
       "    </tr>\n",
       "  </tbody>\n",
       "</table>\n",
       "</div>"
      ],
      "text/plain": [
       "   NR_TURNO SG_UF  CD_CARGO            DS_CARGO  NR_CANDIDATO  \\\n",
       "0         1    DF         8  DEPUTADO DISTRITAL         11022   \n",
       "1         1    DF         8  DEPUTADO DISTRITAL         14222   \n",
       "2         1    DF         8  DEPUTADO DISTRITAL         44566   \n",
       "3         1    DF         8  DEPUTADO DISTRITAL         18180   \n",
       "4         1    DF         6    DEPUTADO FEDERAL          2220   \n",
       "\n",
       "    NM_URNA_CANDIDATO  NR_PARTIDO SG_PARTIDO DS_NACIONALIDADE  \\\n",
       "0           ANA MARIA          11         PP  BRASILEIRA NATA   \n",
       "1     SIMONE PIMENTEL          14        PTB  BRASILEIRA NATA   \n",
       "2        MARIA ABADIA          44      UNIÃO  BRASILEIRA NATA   \n",
       "3        CALINA LÍGIA          18       REDE  BRASILEIRA NATA   \n",
       "4  MARCELA PASSAMANI           22         PL  BRASILEIRA NATA   \n",
       "\n",
       "  SG_UF_NASCIMENTO  NR_IDADE_DATA_POSSE DS_GENERO  DS_GRAU_INSTRUCAO  \\\n",
       "0               CE                 55.0  FEMININO  SUPERIOR COMPLETO   \n",
       "1               AL                 59.0  FEMININO  SUPERIOR COMPLETO   \n",
       "2               GO                 78.0  FEMININO  SUPERIOR COMPLETO   \n",
       "3               DF                 50.0  FEMININO  SUPERIOR COMPLETO   \n",
       "4               ES                 41.0  FEMININO  SUPERIOR COMPLETO   \n",
       "\n",
       "  DS_ESTADO_CIVIL DS_COR_RACA ST_REELEICAO  contador  \n",
       "0     SOLTEIRO(A)       PARDA            N         1  \n",
       "1     SOLTEIRO(A)      BRANCA            N         1  \n",
       "2   DIVORCIADO(A)      BRANCA            N         1  \n",
       "3   DIVORCIADO(A)       PARDA            N         1  \n",
       "4       CASADO(A)      BRANCA            N         1  "
      ]
     },
     "execution_count": 18,
     "metadata": {},
     "output_type": "execute_result"
    }
   ],
   "source": [
    "c_df.head()"
   ]
  },
  {
   "cell_type": "code",
   "execution_count": 19,
   "metadata": {},
   "outputs": [
    {
     "data": {
      "text/plain": [
       "array(['PP', 'PTB', 'UNIÃO', 'REDE', 'PL', 'MDB', 'PSD', 'PODE', 'PSTU',\n",
       "       'AVANTE', 'PSOL', 'DC', 'PT', 'PDT', 'AGIR', 'SOLIDARIEDADE',\n",
       "       'PROS', 'PSB', 'NOVO', 'REPUBLICANOS', 'PSC', 'CIDADANIA', 'PSDB',\n",
       "       'PMN', 'PMB', 'PRTB', 'PATRIOTA', 'UP', 'PV', 'PCO', 'PC do B',\n",
       "       'PCB'], dtype=object)"
      ]
     },
     "execution_count": 19,
     "metadata": {},
     "output_type": "execute_result"
    }
   ],
   "source": [
    "c_df.SG_PARTIDO.unique()"
   ]
  },
  {
   "cell_type": "code",
   "execution_count": 20,
   "metadata": {},
   "outputs": [],
   "source": [
    "direita = c_df.loc[( c_df.SG_PARTIDO == 'PTB') | (c_df.SG_PARTIDO == 'PL') | (c_df.SG_PARTIDO == 'NOVO') | (c_df.SG_PARTIDO == 'REPUBLICANOS') | (c_df.SG_PARTIDO == 'PSC') | (c_df.SG_PARTIDO == 'PRTB') | (c_df.SG_PARTIDO == 'PATRIOTA') | (c_df.SG_PARTIDO == 'PP') | (c_df.SG_PARTIDO == 'União') | (c_df.SG_PARTIDO == 'PODE') | (c_df.SG_PARTIDO == 'CIDADANIA') | (c_df.SG_PARTIDO == 'PMB')].reset_index(drop=True)\n",
    "\n",
    "esquerda = c_df.loc[(c_df.SG_PARTIDO == 'PSOL') | (c_df.SG_PARTIDO == 'PSTU') |(c_df.SG_PARTIDO == 'UP') |(c_df.SG_PARTIDO == 'PCO') |(c_df.SG_PARTIDO == 'PCB') |(c_df.SG_PARTIDO == 'REDE') |(c_df.SG_PARTIDO == 'PT') |(c_df.SG_PARTIDO == 'PDT') |(c_df.SG_PARTIDO == 'SOLIDARIEDADE') |(c_df.SG_PARTIDO == 'PSB') |(c_df.SG_PARTIDO == 'PMN') |(c_df.SG_PARTIDO == 'PV') |(c_df.SG_PARTIDO == 'PC do B') ].reset_index(drop=True)\n",
    "\n",
    "centro = c_df.loc[ (c_df.SG_PARTIDO == 'MDB') | (c_df.SG_PARTIDO == 'PSD') | (c_df.SG_PARTIDO == 'AVANTE') | (c_df.SG_PARTIDO == 'DC') | (c_df.SG_PARTIDO == 'AGIR') | (c_df.SG_PARTIDO == 'PSDB')].reset_index(drop=True)"
   ]
  },
  {
   "cell_type": "code",
   "execution_count": 21,
   "metadata": {},
   "outputs": [
    {
     "data": {
      "text/plain": [
       "350"
      ]
     },
     "metadata": {},
     "output_type": "display_data"
    },
    {
     "data": {
      "text/plain": [
       "242"
      ]
     },
     "metadata": {},
     "output_type": "display_data"
    },
    {
     "data": {
      "text/plain": [
       "195"
      ]
     },
     "metadata": {},
     "output_type": "display_data"
    }
   ],
   "source": [
    "display(direita.shape[0])\n",
    "display(esquerda.shape[0])\n",
    "display(centro.shape[0])"
   ]
  },
  {
   "attachments": {},
   "cell_type": "markdown",
   "metadata": {},
   "source": [
    "Direita\n",
    "PTB\n",
    "PL\n",
    "NOVO\n",
    "REPUBLICANOS\n",
    "PSC\n",
    "PRTB\n",
    "PATRIOTA\n",
    "Centro direita\n",
    "PP\n",
    "União \n",
    "PODE\n",
    "CIDADANIA\n",
    "PMB\n",
    "\n",
    "\n",
    "Centro\n",
    "MDB\n",
    "PSD\n",
    "avante\n",
    "DC\n",
    "agir\n",
    "PSDB\n",
    "\n",
    "\n",
    "esquerda\n",
    "Psol\n",
    "Extrema Esquerda\n",
    "PSTU\n",
    "UP\n",
    "PCO\n",
    "PCB\n",
    "Centro Esquerda\n",
    "REDE\n",
    "PT\n",
    "PDT\n",
    "SOLIDARIEDADE\n",
    "PSB\n",
    "PMN\n",
    "PV\n",
    "PC do B\n",
    "\n",
    "\n",
    "\n",
    "\n",
    "Nao sei\n",
    "pros\n"
   ]
  },
  {
   "cell_type": "code",
   "execution_count": 22,
   "metadata": {},
   "outputs": [
    {
     "data": {
      "text/html": [
       "<div>\n",
       "<style scoped>\n",
       "    .dataframe tbody tr th:only-of-type {\n",
       "        vertical-align: middle;\n",
       "    }\n",
       "\n",
       "    .dataframe tbody tr th {\n",
       "        vertical-align: top;\n",
       "    }\n",
       "\n",
       "    .dataframe thead th {\n",
       "        text-align: right;\n",
       "    }\n",
       "</style>\n",
       "<table border=\"1\" class=\"dataframe\">\n",
       "  <thead>\n",
       "    <tr style=\"text-align: right;\">\n",
       "      <th></th>\n",
       "      <th>NR_TURNO</th>\n",
       "      <th>SG_UF</th>\n",
       "      <th>CD_CARGO</th>\n",
       "      <th>DS_CARGO</th>\n",
       "      <th>NR_CANDIDATO</th>\n",
       "      <th>NM_URNA_CANDIDATO</th>\n",
       "      <th>NR_PARTIDO</th>\n",
       "      <th>SG_PARTIDO</th>\n",
       "      <th>DS_NACIONALIDADE</th>\n",
       "      <th>SG_UF_NASCIMENTO</th>\n",
       "      <th>NR_IDADE_DATA_POSSE</th>\n",
       "      <th>DS_GENERO</th>\n",
       "      <th>DS_GRAU_INSTRUCAO</th>\n",
       "      <th>DS_ESTADO_CIVIL</th>\n",
       "      <th>DS_COR_RACA</th>\n",
       "      <th>ST_REELEICAO</th>\n",
       "      <th>contador</th>\n",
       "    </tr>\n",
       "  </thead>\n",
       "  <tbody>\n",
       "    <tr>\n",
       "      <th>0</th>\n",
       "      <td>1</td>\n",
       "      <td>DF</td>\n",
       "      <td>8</td>\n",
       "      <td>DEPUTADO DISTRITAL</td>\n",
       "      <td>11022</td>\n",
       "      <td>ANA MARIA</td>\n",
       "      <td>11</td>\n",
       "      <td>PP</td>\n",
       "      <td>BRASILEIRA NATA</td>\n",
       "      <td>CE</td>\n",
       "      <td>55.0</td>\n",
       "      <td>FEMININO</td>\n",
       "      <td>SUPERIOR COMPLETO</td>\n",
       "      <td>SOLTEIRO(A)</td>\n",
       "      <td>PARDA</td>\n",
       "      <td>N</td>\n",
       "      <td>1</td>\n",
       "    </tr>\n",
       "    <tr>\n",
       "      <th>1</th>\n",
       "      <td>1</td>\n",
       "      <td>DF</td>\n",
       "      <td>8</td>\n",
       "      <td>DEPUTADO DISTRITAL</td>\n",
       "      <td>14222</td>\n",
       "      <td>SIMONE PIMENTEL</td>\n",
       "      <td>14</td>\n",
       "      <td>PTB</td>\n",
       "      <td>BRASILEIRA NATA</td>\n",
       "      <td>AL</td>\n",
       "      <td>59.0</td>\n",
       "      <td>FEMININO</td>\n",
       "      <td>SUPERIOR COMPLETO</td>\n",
       "      <td>SOLTEIRO(A)</td>\n",
       "      <td>BRANCA</td>\n",
       "      <td>N</td>\n",
       "      <td>1</td>\n",
       "    </tr>\n",
       "    <tr>\n",
       "      <th>2</th>\n",
       "      <td>1</td>\n",
       "      <td>DF</td>\n",
       "      <td>6</td>\n",
       "      <td>DEPUTADO FEDERAL</td>\n",
       "      <td>2220</td>\n",
       "      <td>MARCELA PASSAMANI</td>\n",
       "      <td>22</td>\n",
       "      <td>PL</td>\n",
       "      <td>BRASILEIRA NATA</td>\n",
       "      <td>ES</td>\n",
       "      <td>41.0</td>\n",
       "      <td>FEMININO</td>\n",
       "      <td>SUPERIOR COMPLETO</td>\n",
       "      <td>CASADO(A)</td>\n",
       "      <td>BRANCA</td>\n",
       "      <td>N</td>\n",
       "      <td>1</td>\n",
       "    </tr>\n",
       "    <tr>\n",
       "      <th>3</th>\n",
       "      <td>1</td>\n",
       "      <td>DF</td>\n",
       "      <td>6</td>\n",
       "      <td>DEPUTADO FEDERAL</td>\n",
       "      <td>2223</td>\n",
       "      <td>ANGÉLICA KATE MARRONE</td>\n",
       "      <td>22</td>\n",
       "      <td>PL</td>\n",
       "      <td>BRASILEIRA NATA</td>\n",
       "      <td>DF</td>\n",
       "      <td>60.0</td>\n",
       "      <td>FEMININO</td>\n",
       "      <td>SUPERIOR COMPLETO</td>\n",
       "      <td>DIVORCIADO(A)</td>\n",
       "      <td>PRETA</td>\n",
       "      <td>N</td>\n",
       "      <td>1</td>\n",
       "    </tr>\n",
       "    <tr>\n",
       "      <th>4</th>\n",
       "      <td>1</td>\n",
       "      <td>DF</td>\n",
       "      <td>8</td>\n",
       "      <td>DEPUTADO DISTRITAL</td>\n",
       "      <td>19156</td>\n",
       "      <td>SILVÂNIA LEAL</td>\n",
       "      <td>19</td>\n",
       "      <td>PODE</td>\n",
       "      <td>BRASILEIRA NATA</td>\n",
       "      <td>PI</td>\n",
       "      <td>50.0</td>\n",
       "      <td>FEMININO</td>\n",
       "      <td>SUPERIOR INCOMPLETO</td>\n",
       "      <td>SOLTEIRO(A)</td>\n",
       "      <td>PARDA</td>\n",
       "      <td>N</td>\n",
       "      <td>1</td>\n",
       "    </tr>\n",
       "  </tbody>\n",
       "</table>\n",
       "</div>"
      ],
      "text/plain": [
       "   NR_TURNO SG_UF  CD_CARGO            DS_CARGO  NR_CANDIDATO  \\\n",
       "0         1    DF         8  DEPUTADO DISTRITAL         11022   \n",
       "1         1    DF         8  DEPUTADO DISTRITAL         14222   \n",
       "2         1    DF         6    DEPUTADO FEDERAL          2220   \n",
       "3         1    DF         6    DEPUTADO FEDERAL          2223   \n",
       "4         1    DF         8  DEPUTADO DISTRITAL         19156   \n",
       "\n",
       "       NM_URNA_CANDIDATO  NR_PARTIDO SG_PARTIDO DS_NACIONALIDADE  \\\n",
       "0              ANA MARIA          11         PP  BRASILEIRA NATA   \n",
       "1        SIMONE PIMENTEL          14        PTB  BRASILEIRA NATA   \n",
       "2     MARCELA PASSAMANI           22         PL  BRASILEIRA NATA   \n",
       "3  ANGÉLICA KATE MARRONE          22         PL  BRASILEIRA NATA   \n",
       "4          SILVÂNIA LEAL          19       PODE  BRASILEIRA NATA   \n",
       "\n",
       "  SG_UF_NASCIMENTO  NR_IDADE_DATA_POSSE DS_GENERO    DS_GRAU_INSTRUCAO  \\\n",
       "0               CE                 55.0  FEMININO    SUPERIOR COMPLETO   \n",
       "1               AL                 59.0  FEMININO    SUPERIOR COMPLETO   \n",
       "2               ES                 41.0  FEMININO    SUPERIOR COMPLETO   \n",
       "3               DF                 60.0  FEMININO    SUPERIOR COMPLETO   \n",
       "4               PI                 50.0  FEMININO  SUPERIOR INCOMPLETO   \n",
       "\n",
       "  DS_ESTADO_CIVIL DS_COR_RACA ST_REELEICAO  contador  \n",
       "0     SOLTEIRO(A)       PARDA            N         1  \n",
       "1     SOLTEIRO(A)      BRANCA            N         1  \n",
       "2       CASADO(A)      BRANCA            N         1  \n",
       "3   DIVORCIADO(A)       PRETA            N         1  \n",
       "4     SOLTEIRO(A)       PARDA            N         1  "
      ]
     },
     "execution_count": 22,
     "metadata": {},
     "output_type": "execute_result"
    }
   ],
   "source": [
    "direita.head()"
   ]
  },
  {
   "cell_type": "code",
   "execution_count": 23,
   "metadata": {},
   "outputs": [
    {
     "data": {
      "text/plain": [
       "103"
      ]
     },
     "metadata": {},
     "output_type": "display_data"
    },
    {
     "data": {
      "text/plain": [
       "66"
      ]
     },
     "metadata": {},
     "output_type": "display_data"
    },
    {
     "data": {
      "text/plain": [
       "163"
      ]
     },
     "metadata": {},
     "output_type": "display_data"
    },
    {
     "data": {
      "text/plain": [
       "153"
      ]
     },
     "metadata": {},
     "output_type": "display_data"
    }
   ],
   "source": [
    "display(direita.loc[ (direita.DS_GENERO == 'MASCULINO') & (direita.DS_COR_RACA == 'BRANCA') ].reset_index(drop=True).shape[0])\n",
    "display(direita.loc[ (direita.DS_GENERO == 'FEMININO') & (direita.DS_COR_RACA == 'BRANCA') ].reset_index(drop=True).shape[0])\n",
    "\n",
    "display(direita.loc[ (direita.DS_GENERO == 'MASCULINO') & (direita.DS_COR_RACA == 'PRETA') | (direita.DS_COR_RACA == 'PARDA') ].reset_index(drop=True).shape[0])\n",
    "display(direita.loc[ (direita.DS_GENERO == 'FEMININO') & (direita.DS_COR_RACA == 'PRETA') | (direita.DS_COR_RACA == 'PARDA') ].reset_index(drop=True).shape[0])"
   ]
  },
  {
   "cell_type": "code",
   "execution_count": 85,
   "metadata": {},
   "outputs": [
    {
     "name": "stdout",
     "output_type": "stream",
     "text": [
      "Homens Brancos\n",
      "Esquerda:  60\n",
      "Direita:  103\n",
      "Centro:  50\n",
      "\n",
      "Mulheres Brancas\n",
      "Esquerda:  32\n",
      "Direita:  66\n",
      "Centro:  29\n",
      "\n",
      "Homens Negros ou Pardos\n",
      "Esquerda:  125\n",
      "Direita:  163\n",
      "Centro:  76\n",
      "\n",
      "Mulheres Negros ou Pardos\n",
      "Esquerda:  125\n",
      "Direita:  153\n",
      "Centro:  78\n"
     ]
    }
   ],
   "source": [
    "print('Homens Brancos')\n",
    "e_hb = esquerda.loc[ (esquerda.DS_GENERO == 'MASCULINO') & (esquerda.DS_COR_RACA == 'BRANCA') ].reset_index(drop=True).shape[0]\n",
    "c_hb = centro.loc[ (centro.DS_GENERO == 'MASCULINO') & (centro.DS_COR_RACA == 'BRANCA') ].reset_index(drop=True).shape[0]\n",
    "d_hb = direita.loc[ (direita.DS_GENERO == 'MASCULINO') & (direita.DS_COR_RACA == 'BRANCA') ].reset_index(drop=True).shape[0]\n",
    "print('Esquerda: ', e_hb)\n",
    "print('Direita: ', d_hb)\n",
    "print('Centro: ', c_hb)\n",
    "\n",
    "\n",
    "print('\\nMulheres Brancas')\n",
    "\n",
    "e_mb = esquerda.loc[ (esquerda.DS_GENERO == 'FEMININO') & (esquerda.DS_COR_RACA == 'BRANCA') ].reset_index(drop=True).shape[0]\n",
    "d_mb = direita.loc[ (direita.DS_GENERO == 'FEMININO') & (direita.DS_COR_RACA == 'BRANCA') ].reset_index(drop=True).shape[0]\n",
    "c_mb = centro.loc[ (centro.DS_GENERO == 'FEMININO') & (centro.DS_COR_RACA == 'BRANCA') ].reset_index(drop=True).shape[0]\n",
    "\n",
    "print('Esquerda: ', e_mb)\n",
    "print('Direita: ', d_mb)\n",
    "print('Centro: ', c_mb)\n",
    "\n",
    "\n",
    "print('\\nHomens Negros ou Pardos')\n",
    "e_hn = esquerda.loc[ (esquerda.DS_GENERO == 'MASCULINO') & (esquerda.DS_COR_RACA == 'PRETA') | (esquerda.DS_COR_RACA == 'PARDA') ].reset_index(drop=True).shape[0]\n",
    "d_hn = direita.loc[ (direita.DS_GENERO == 'MASCULINO') & (direita.DS_COR_RACA == 'PRETA') | (direita.DS_COR_RACA == 'PARDA') ].reset_index(drop=True).shape[0]\n",
    "c_hn = centro.loc[ (centro.DS_GENERO == 'MASCULINO') & (centro.DS_COR_RACA == 'PRETA') | (centro.DS_COR_RACA == 'PARDA') ].reset_index(drop=True).shape[0]\n",
    "\n",
    "print('Esquerda: ', e_hn)\n",
    "print('Direita: ', d_hn)\n",
    "print('Centro: ', c_hn)\n",
    "\n",
    "print('\\nMulheres Negros ou Pardos')\n",
    "e_mn = esquerda.loc[ (esquerda.DS_GENERO == 'FEMININO') & (esquerda.DS_COR_RACA == 'PRETA') | (esquerda.DS_COR_RACA == 'PARDA') ].reset_index(drop=True).shape[0]\n",
    "d_mn = direita.loc[ (direita.DS_GENERO == 'FEMININO') & (direita.DS_COR_RACA == 'PRETA') | (direita.DS_COR_RACA == 'PARDA') ].reset_index(drop=True).shape[0]\n",
    "c_mn = centro.loc[ (centro.DS_GENERO == 'FEMININO') & (centro.DS_COR_RACA == 'PRETA') | (centro.DS_COR_RACA == 'PARDA') ].reset_index(drop=True).shape[0]\n",
    "\n",
    "total = \n",
    "print('Esquerda: ', e_mn, e_mn)\n",
    "print('Direita: ', d_mn)\n",
    "print('Centro: ', c_mn)"
   ]
  },
  {
   "cell_type": "code",
   "execution_count": 78,
   "metadata": {},
   "outputs": [],
   "source": [
    "raca_politica = pd.DataFrame()"
   ]
  },
  {
   "cell_type": "code",
   "execution_count": 25,
   "metadata": {},
   "outputs": [
    {
     "data": {
      "text/plain": [
       "50"
      ]
     },
     "metadata": {},
     "output_type": "display_data"
    },
    {
     "data": {
      "text/plain": [
       "29"
      ]
     },
     "metadata": {},
     "output_type": "display_data"
    },
    {
     "data": {
      "text/plain": [
       "76"
      ]
     },
     "metadata": {},
     "output_type": "display_data"
    },
    {
     "data": {
      "text/plain": [
       "78"
      ]
     },
     "metadata": {},
     "output_type": "display_data"
    }
   ],
   "source": [
    "display(centro.loc[ (centro.DS_GENERO == 'MASCULINO') & (centro.DS_COR_RACA == 'BRANCA') ].reset_index(drop=True).shape[0])\n",
    "display(centro.loc[ (centro.DS_GENERO == 'FEMININO') & (centro.DS_COR_RACA == 'BRANCA') ].reset_index(drop=True).shape[0])\n",
    "\n",
    "display(centro.loc[ (centro.DS_GENERO == 'MASCULINO') & (centro.DS_COR_RACA == 'PRETA') | (centro.DS_COR_RACA == 'PARDA') ].reset_index(drop=True).shape[0])\n",
    "display(centro.loc[ (centro.DS_GENERO == 'FEMININO') & (centro.DS_COR_RACA == 'PRETA') | (centro.DS_COR_RACA == 'PARDA') ].reset_index(drop=True).shape[0])"
   ]
  },
  {
   "cell_type": "code",
   "execution_count": 26,
   "metadata": {},
   "outputs": [
    {
     "data": {
      "text/plain": [
       "array(['DEPUTADO DISTRITAL', 'DEPUTADO FEDERAL', 'GOVERNADOR', 'SENADOR',\n",
       "       'VICE-GOVERNADOR'], dtype=object)"
      ]
     },
     "execution_count": 26,
     "metadata": {},
     "output_type": "execute_result"
    }
   ],
   "source": [
    "c_df.DS_CARGO.unique()"
   ]
  },
  {
   "cell_type": "code",
   "execution_count": 27,
   "metadata": {},
   "outputs": [
    {
     "data": {
      "text/plain": [
       "0      False\n",
       "1      False\n",
       "2      False\n",
       "3      False\n",
       "4      False\n",
       "       ...  \n",
       "859    False\n",
       "860    False\n",
       "861    False\n",
       "862    False\n",
       "863    False\n",
       "Name: NM_URNA_CANDIDATO, Length: 864, dtype: bool"
      ]
     },
     "execution_count": 27,
     "metadata": {},
     "output_type": "execute_result"
    }
   ],
   "source": [
    "c_df.NM_URNA_CANDIDATO == 'BEATRIZ KICIS TORRENTS'"
   ]
  },
  {
   "cell_type": "code",
   "execution_count": 28,
   "metadata": {},
   "outputs": [
    {
     "ename": "NameError",
     "evalue": "name 'federal' is not defined",
     "output_type": "error",
     "traceback": [
      "\u001b[1;31m---------------------------------------------------------------------------\u001b[0m",
      "\u001b[1;31mNameError\u001b[0m                                 Traceback (most recent call last)",
      "Cell \u001b[1;32mIn [28], line 1\u001b[0m\n\u001b[1;32m----> 1\u001b[0m federal\u001b[39m.\u001b[39mhead()\n",
      "\u001b[1;31mNameError\u001b[0m: name 'federal' is not defined"
     ]
    }
   ],
   "source": [
    "federal.head()"
   ]
  },
  {
   "cell_type": "code",
   "execution_count": null,
   "metadata": {},
   "outputs": [],
   "source": []
  }
 ],
 "metadata": {
  "kernelspec": {
   "display_name": "Python 3",
   "language": "python",
   "name": "python3"
  },
  "language_info": {
   "codemirror_mode": {
    "name": "ipython",
    "version": 3
   },
   "file_extension": ".py",
   "mimetype": "text/x-python",
   "name": "python",
   "nbconvert_exporter": "python",
   "pygments_lexer": "ipython3",
   "version": "3.9.10"
  },
  "orig_nbformat": 4,
  "vscode": {
   "interpreter": {
    "hash": "49407587b611a891f0c71c246da1d256e17472ef49bfa25436a44ab4100d0947"
   }
  }
 },
 "nbformat": 4,
 "nbformat_minor": 2
}
