{
  "cells": [
    {
      "cell_type": "markdown",
      "metadata": {
        "id": "etEBKxZanTRH"
      },
      "source": [
        "# Paradigmas de programação"
      ]
    },
    {
      "cell_type": "markdown",
      "metadata": {
        "id": "Z5TkUnFRpFwK"
      },
      "source": [
        "## Programação imperativa"
      ]
    },
    {
      "cell_type": "markdown",
      "metadata": {
        "id": "kcITzcD6ppL6"
      },
      "source": [
        "A imperativa é que estamos mais acostumados e é provavelmente nesse formato que veio seu primeiro contato com a programação"
      ]
    },
    {
      "cell_type": "markdown",
      "metadata": {
        "id": "8E-oU_zopQMa"
      },
      "source": [
        "vem de verbos no formato imperativo.\n",
        "- Faça isso\n",
        "- Repita aquilo\n",
        "- Execute determinada instrução\n",
        "\n",
        "Esse foi o formato mais comum por muito tempo. Até porque é nessa maneira que o nosso computador se comporta, executando instrução a instrução o que falamos"
      ]
    },
    {
      "cell_type": "markdown",
      "metadata": {
        "id": "_cCA5Z19p0Vu"
      },
      "source": [
        "- Pontos positivos\n",
        "\n",
        "- Pontos de atenção\n",
        " - Manutenção/alteração do meu código: Se precisar mudar o código eu preciso mudar em toda a parte do meu código"
      ]
    },
    {
      "cell_type": "code",
      "execution_count": null,
      "metadata": {
        "colab": {
          "base_uri": "https://localhost:8080/"
        },
        "id": "2pDc8jldqD5P",
        "outputId": "7dc272a9-5c56-4b99-83bb-89a5f9a821c2"
      },
      "outputs": [
        {
          "name": "stdout",
          "output_type": "stream",
          "text": [
            "1\n",
            "2\n",
            "3\n",
            "4\n",
            "5\n",
            "6\n",
            "7\n",
            "8\n",
            "9\n",
            "10\n"
          ]
        }
      ],
      "source": [
        "contador = 0\n",
        "\n",
        "while contador < 10:\n",
        "  contador += 1\n",
        "  print(contador)"
      ]
    },
    {
      "cell_type": "code",
      "execution_count": null,
      "metadata": {
        "id": "aQzhoCBzqEM0"
      },
      "outputs": [],
      "source": []
    },
    {
      "cell_type": "markdown",
      "metadata": {
        "id": "XYOuPzFlqE5C"
      },
      "source": [
        "## Programação procedural"
      ]
    },
    {
      "cell_type": "markdown",
      "metadata": {
        "id": "FBsPlWBsqHC5"
      },
      "source": [
        "Podemos pensar nos códigos que utilizam as funções.\n",
        "\n",
        "- Vantagem: A manutenção do código fica mais fácil e escalável\n",
        "- Clareza\n",
        "- Organização "
      ]
    },
    {
      "cell_type": "code",
      "execution_count": null,
      "metadata": {
        "id": "_C_gcWPpMw6F"
      },
      "outputs": [],
      "source": [
        "def media(numeros):\n",
        "  soma = 0\n",
        "  for n in numeros:\n",
        "    soma = soma + numeros\n",
        "  return soma/ len(numeros)"
      ]
    },
    {
      "cell_type": "code",
      "execution_count": null,
      "metadata": {
        "id": "p_-sR7kyqmMz"
      },
      "outputs": [],
      "source": []
    },
    {
      "cell_type": "markdown",
      "metadata": {
        "id": "DyihpyBPq5ZD"
      },
      "source": [
        "## Programação funcional"
      ]
    },
    {
      "cell_type": "markdown",
      "metadata": {
        "id": "UpFkp8zm0MsE"
      },
      "source": [
        "Assim como na programação procedural, nossos programas serão modularizados em funções, pequenos pedaços reutilizáveis de código que podem receber dados de entrada (parâmetros) e fornecer resultados de sua computação (retorno).\n",
        "\n",
        "Uma das motivações para a adoção da programação funcional é aumentar o determinismo de nossos programas, isto é, tornar a execução dos programas mais previsíveis. Programas escritos de maneira imperativa tendem a ter efeitos colaterais causados por seu estado. O estado de um programa é definido pelo valor de todas as suas variáveis em um dado momento.\n",
        "\n",
        "Quando um programa se torna muito grande, com diversas funções alterando o conteúdo de diferentes variáveis e objetos, torna-se cada vez mais perigoso que o programador perca o controle sobre o estado do programa, sendo possível que certos conjuntos de valores alterem o comportamento de outras funções e resultem em erros de computação.\n",
        "\n",
        "Alguns dos conceitos de programação funcional você já tenha visto: funções de primeira classe, funções de ordem superior, funções puras, recursão e imutabilidade"
      ]
    },
    {
      "cell_type": "code",
      "execution_count": null,
      "metadata": {
        "colab": {
          "base_uri": "https://localhost:8080/"
        },
        "id": "el61x1zxM8gT",
        "outputId": "65511e66-641f-4947-936f-caa9272f6fa9"
      },
      "outputs": [
        {
          "data": {
            "text/plain": [
              "True"
            ]
          },
          "execution_count": 3,
          "metadata": {},
          "output_type": "execute_result"
        }
      ],
      "source": [
        "def is_even(number):\n",
        "  if number % 2 == 0:\n",
        "    return True\n",
        "  else:\n",
        "    return False\n",
        "\n",
        "\n"
      ]
    },
    {
      "cell_type": "code",
      "execution_count": null,
      "metadata": {
        "colab": {
          "base_uri": "https://localhost:8080/"
        },
        "id": "221rmML6M8oY",
        "outputId": "271be619-e8af-4918-f27b-8b161a52bc5e"
      },
      "outputs": [
        {
          "data": {
            "text/plain": [
              "[2, 4]"
            ]
          },
          "execution_count": 4,
          "metadata": {},
          "output_type": "execute_result"
        }
      ],
      "source": [
        "numeros = [1,2,3,4]\n",
        "list(filter(is_even,numeros))\n"
      ]
    },
    {
      "cell_type": "code",
      "execution_count": null,
      "metadata": {
        "id": "mmJSV36lM8zH"
      },
      "outputs": [],
      "source": []
    },
    {
      "cell_type": "markdown",
      "metadata": {
        "id": "W-fKEo7GuKxk"
      },
      "source": [
        "## Introdução à Programação orientada a objeto:"
      ]
    },
    {
      "cell_type": "markdown",
      "metadata": {
        "id": "8VU8JHr6ttOT"
      },
      "source": [
        "Vamos avançar na 'modularização' do código\n",
        "ao invés de chegar dando logo ordens para o computador ou chegar criando funções para o computador. Vamos pensar antes em todas as entidades do computador.\n",
        "\n",
        "Vamos a um exemplo:"
      ]
    },
    {
      "cell_type": "markdown",
      "metadata": {
        "id": "DNImOW6FuRj4"
      },
      "source": [
        "Vamos pensar em um sistema educacional (ex: Sistema do portal do class)\n",
        "\n",
        "- O que conseguimos fazer:\n",
        " - Conseguimos ler materiais\n",
        " - Conseguimos lançar notas\n",
        " - Conseguimos ter exercícios\n",
        " - Lançar presenças\n",
        " - Visualizar presenças\n",
        "\n",
        "\n",
        "- Também Podemos pensar que tem dois tipos de comportamento acontecendo: do professor e dos alunos\n",
        "\n",
        " - professor consegue: compartilhar materiais, enviar materiais, dar nota, presença, etc.\n",
        "\n",
        " - aluno consegue: acessar material, resolver exercícios, consultar presenças, consultar notas\n"
      ]
    },
    {
      "cell_type": "markdown",
      "metadata": {
        "id": "tQ_b1M_ovBzR"
      },
      "source": [
        "Pensando pela ótica de programação orientada a objeto (POO) podemos interpretar que há duas entidades diferentes:\n",
        "- professor\n",
        "- aluno"
      ]
    },
    {
      "cell_type": "code",
      "execution_count": null,
      "metadata": {
        "id": "QZLaWWLPrAi3"
      },
      "outputs": [],
      "source": []
    },
    {
      "cell_type": "markdown",
      "metadata": {
        "id": "C2ny0t4ZvSMS"
      },
      "source": [
        "mas independente disso, temos informações e ações em comum, como:\n",
        "\n",
        "informações/atributos:<br>\n",
        "\\- nome <br>\n",
        "\\- cpf <br>\n",
        "\\- login<br>\n",
        "\\- senha<br>\n",
        "\\- email<br>\n",
        "\\- telefone<br>\n",
        "\n",
        "\n",
        "\n",
        "ações/métodos:<br>\n",
        "\\+ fazer login<br>\n",
        "\\+ enviar mensagens"
      ]
    },
    {
      "cell_type": "markdown",
      "metadata": {
        "id": "A9JElJgJvZ73"
      },
      "source": [
        "aluno tem:\n",
        "- informações/atributos: <br>\n",
        "\\- notas <br>\n",
        "\\- presenças<br>\n",
        "\n",
        "- ações/métodos: <br>\n",
        "\\+ fazer exercícios <br>\n",
        "\\+ ler material\n",
        "\n",
        "<br><br>\n",
        "\n",
        "professor tem:\n",
        "- informações/atributos: <br>\n",
        "  \\- turmas<br>\n",
        "  \\- visualizar exercícios para avaliar\n",
        "<br><br>\n",
        "- ações/métodos: <br>\n",
        "\\+ corrigir exercício <br>\n",
        "\\+ lançar presença <br>\n",
        "\\+ liberar material <br>\n",
        " "
      ]
    },
    {
      "cell_type": "code",
      "execution_count": null,
      "metadata": {
        "id": "39JDq8wIwg8q"
      },
      "outputs": [],
      "source": []
    },
    {
      "cell_type": "markdown",
      "metadata": {
        "id": "ohuPERQXwhBC"
      },
      "source": [
        "dado que professor e aluno tem características em comum, podemos pensar que ambos estão dentro de um mesmo grupo, que podemos chamar de usuários\n",
        "\n",
        "Usuário\n",
        "Aluno (Usuário)\n",
        "Professor (Usuário)"
      ]
    },
    {
      "cell_type": "code",
      "execution_count": null,
      "metadata": {
        "id": "sse42Kj-xO6F"
      },
      "outputs": [],
      "source": []
    },
    {
      "cell_type": "markdown",
      "metadata": {
        "id": "sK8nMxYnxPAQ"
      },
      "source": [
        "### Classes"
      ]
    },
    {
      "cell_type": "markdown",
      "metadata": {
        "id": "SNedm2DMxQ1E"
      },
      "source": [
        "É o momento para passarmos para o nosso computador o que ele pode \"esperar\" para usuário, aluno e/ou professor"
      ]
    },
    {
      "cell_type": "markdown",
      "metadata": {
        "id": "Kk-hVsaaxmbF"
      },
      "source": [
        "A relação entre Classe e Objeto: O objeto pertente a uma classe. Por exemplo, o aluno João é um objeto que pertente a classe aluno"
      ]
    },
    {
      "cell_type": "markdown",
      "metadata": {
        "id": "4UpheKeXxmi7"
      },
      "source": [
        "### 4 princípios da programação orientada a objeto:\n",
        "\n",
        "- Encapsulamento\n",
        "- Abstração\n",
        "- Herança\n",
        "- Polimorfismo"
      ]
    },
    {
      "cell_type": "markdown",
      "metadata": {
        "id": "An9nNJLoy0c5"
      },
      "source": [
        "vantagens esperadas que os princípios vão ajudar:\n",
        "- reutilizar código\n",
        "- classe é genérica e flexível o suficiente para utilizar em outros casos\n",
        "- garantir que a classe é fácil criar casos mais particulares a partir dela sem precisar modificica-la\n",
        "- é seguro trabalhar com minhas classes, estou minimizando uma dessas classes introduz algo bug na cadeia de classes que possa estar utilizando\n",
        "\n"
      ]
    },
    {
      "cell_type": "markdown",
      "metadata": {
        "id": "OkQqaTB3zglN"
      },
      "source": [
        "- Encapsulamento: cada classe é responsável pelas suas próprias informações.\n",
        " - exemplo: o objeto professor theo quer dar uma nota para o aluno joão. não faz sentido o objeto professor theo conseguir alterar diretamente o valor da nota de joão. Se o professor theo quiser dar uma nota com letras (A+, A, B+...) isso é fora do padrão esperado para a a classe aluno e, é a classe aluno que vai checar essa informação e gerar esse controle de apenas aceitar as informação corretas\n"
      ]
    },
    {
      "cell_type": "markdown",
      "metadata": {
        "id": "0apiofvn0vfp"
      },
      "source": [
        "- Abstração: A complexidade da classe é oculta e a classe fornece uma interface fácil para interagir com outras classes. Caso eu objeto professor theo queira mudar uma nota do objeto aluno joao, a classe do joão vai me fornecer uma maneira (função) para eu interagir com as notas do objeto aluno joao.\n",
        " - exemplo: imagina a complexidade que é um celular. pensar em todos os dispositivos, gps, bateria, hardware, software, etc... Esses conhecimentos complexos do celular estão abstraídos, você não precisa conhecer todos esses conceitos. O que só precisamos saber é interagir com a tela do celular e não necessariamente sabemos o que acontece \"por trás\" . Tenho um dispositivo super complexo mas que está abstraído e ele fornece uma interface simples e clara do que fazer\n"
      ]
    },
    {
      "cell_type": "markdown",
      "metadata": {
        "id": "P-FOEwqv11KR"
      },
      "source": [
        "- Herança: A capacidade de uma classe transmitir suas características para outra classe. Se várias classes terão certas características em comum, eu posso ter o que a gente chama de \"super classe\" ou \"classe pai\" ou \"classe mãe\". Essa super classe terá todas as características que são comuns entre as classes\n",
        " - exemplo: o usuário no nosso exemplo da lets code é o que chamamos de super classe. As classes filhas (ou sub classes), nesse caso (professor e aluno) vão herdar algumas ou todas as características da \"super classe\""
      ]
    },
    {
      "cell_type": "markdown",
      "metadata": {
        "id": "ho5ppqiJ3GIB"
      },
      "source": [
        "- Polimorfismo: A capacidade de um objeto se comportar como se pertencesse a diferentes classes. \"múltiplas formas\" . Certas estruturas (ex: funções) devem conseguir tratar objetos de classes diferentes sem se preocupar muito com isso, como se fossem da mesma classe\n",
        " - exemplo: se eu tenho uma função que trabalha com um objeto nome, cpf e capacidade de fazer login. importa para ele se o objeto que passei é aluno ou professor? provavelmente não. qualquer código que eu fiz para usuário, provavelmenete vai servir para aluno, dado que aluno faz parte dessa super classe usuário"
      ]
    },
    {
      "cell_type": "code",
      "execution_count": null,
      "metadata": {
        "id": "YKJHGtFj3zyr"
      },
      "outputs": [],
      "source": []
    },
    {
      "cell_type": "markdown",
      "metadata": {
        "id": "uY68y3105YFw"
      },
      "source": [
        "- As informações de cada objeto (variáveis internas) serão chamados de atributo. \n",
        "- As ações (habilidades) de cada objeto (funções) serão chamadas de método"
      ]
    },
    {
      "cell_type": "code",
      "execution_count": null,
      "metadata": {
        "id": "oN8SRw-rV7rG"
      },
      "outputs": [],
      "source": []
    },
    {
      "cell_type": "markdown",
      "metadata": {
        "id": "7aTyhC74V67k"
      },
      "source": [
        "Vamos ver alguns exemplos familiares pra gente..."
      ]
    },
    {
      "cell_type": "code",
      "execution_count": null,
      "metadata": {
        "id": "xRRvdUJSNmLw"
      },
      "outputs": [],
      "source": [
        "lista = [1,2,3,4]"
      ]
    },
    {
      "cell_type": "code",
      "execution_count": null,
      "metadata": {
        "colab": {
          "base_uri": "https://localhost:8080/"
        },
        "id": "c0sxCP-iNmRJ",
        "outputId": "d546a6a1-9e4c-43a5-a4d3-1561a3914a0b"
      },
      "outputs": [
        {
          "data": {
            "text/plain": [
              "4"
            ]
          },
          "execution_count": 7,
          "metadata": {},
          "output_type": "execute_result"
        }
      ],
      "source": [
        "len(lista)"
      ]
    },
    {
      "cell_type": "code",
      "execution_count": null,
      "metadata": {
        "id": "GPFBQzq3NmXT"
      },
      "outputs": [],
      "source": [
        "lista.append(5)"
      ]
    },
    {
      "cell_type": "code",
      "execution_count": null,
      "metadata": {
        "colab": {
          "base_uri": "https://localhost:8080/",
          "height": 168
        },
        "id": "yDnbIjjLWc-M",
        "outputId": "8912d973-fca9-497f-9575-31ecbdb72dea"
      },
      "outputs": [
        {
          "ename": "AttributeError",
          "evalue": "ignored",
          "output_type": "error",
          "traceback": [
            "\u001b[0;31m---------------------------------------------------------------------------\u001b[0m",
            "\u001b[0;31mAttributeError\u001b[0m                            Traceback (most recent call last)",
            "\u001b[0;32m<ipython-input-8-ba784edeb455>\u001b[0m in \u001b[0;36m<module>\u001b[0;34m\u001b[0m\n\u001b[0;32m----> 1\u001b[0;31m \u001b[0;34m{\u001b[0m\u001b[0;34m\"nome\"\u001b[0m\u001b[0;34m:\u001b[0m\u001b[0;34m\"theo\"\u001b[0m\u001b[0;34m}\u001b[0m\u001b[0;34m.\u001b[0m\u001b[0mappend\u001b[0m\u001b[0;34m(\u001b[0m\u001b[0;36m5\u001b[0m\u001b[0;34m)\u001b[0m\u001b[0;34m\u001b[0m\u001b[0;34m\u001b[0m\u001b[0m\n\u001b[0m",
            "\u001b[0;31mAttributeError\u001b[0m: 'dict' object has no attribute 'append'"
          ]
        }
      ],
      "source": [
        "{\"nome\":\"theo\"}.append(5)"
      ]
    },
    {
      "cell_type": "markdown",
      "metadata": {
        "id": "hjISiyVNZB6R"
      },
      "source": [
        "### Vamor criar nossa primeira classe nos baseando no exemplo que falamos do site da ADA (let's code)"
      ]
    },
    {
      "cell_type": "markdown",
      "metadata": {
        "id": "l1iUGUxAbYfN"
      },
      "source": [
        "Usuario\n",
        "\n",
        "informações/atributos:<br>\n",
        "\\- nome <br>\n",
        "\\- cpf <br>\n",
        "\\- login<br>\n",
        "\\- senha<br>\n",
        "\\- email<br>\n",
        "\\- telefone<br>\n",
        "\n",
        "\n",
        "\n",
        "ações/métodos:<br>\n",
        "\\+ fazer login<br>\n",
        "\\+ enviar mensagens"
      ]
    },
    {
      "cell_type": "code",
      "execution_count": null,
      "metadata": {
        "id": "MtMYV4IebXzZ"
      },
      "outputs": [],
      "source": [
        "import random\n",
        "random.randint(1,10)\n",
        "\n",
        "\n",
        "class Usuario:\n",
        "\n",
        "  # método construtor\n",
        "  def __init__(self, nome, cpf, email, telefone):\n",
        "    self.nome = nome\n",
        "    self.cpf = cpf\n",
        "    self.login = email\n",
        "    self.email = email\n",
        "    self.telefone = telefone\n",
        "    self.senha = str(random.randint(1000000,9999999))\n",
        "\n",
        "  # criando nosso método fazer_login\n",
        "  def fazer_login(self):\n",
        "    print('não implementado ainda')\n",
        "\n",
        "  def enviar_mensagem(self,mensagem):\n",
        "    return f'essa é sua mensagem: {mensagem}'\n",
        "\n",
        "\n",
        "\n"
      ]
    },
    {
      "cell_type": "code",
      "execution_count": null,
      "metadata": {
        "id": "qnlHzscoNpuZ"
      },
      "outputs": [],
      "source": [
        "obj_professor1 = Usuario('theo', 1234567893, 'theo@gmail.com', '123123')"
      ]
    },
    {
      "cell_type": "code",
      "execution_count": null,
      "metadata": {
        "colab": {
          "base_uri": "https://localhost:8080/"
        },
        "id": "GRw7lNxAxjIy",
        "outputId": "f80a3c84-c3c3-427d-8f13-08a4cc471d34"
      },
      "outputs": [
        {
          "name": "stdout",
          "output_type": "stream",
          "text": [
            "não implementado ainda\n"
          ]
        }
      ],
      "source": [
        "obj_professor1.fazer_login()"
      ]
    },
    {
      "cell_type": "code",
      "execution_count": null,
      "metadata": {
        "colab": {
          "base_uri": "https://localhost:8080/",
          "height": 36
        },
        "id": "lCQuwRc9yCl5",
        "outputId": "2a439090-818d-4343-8275-6869f1e31e27"
      },
      "outputs": [
        {
          "data": {
            "application/vnd.google.colaboratory.intrinsic+json": {
              "type": "string"
            },
            "text/plain": [
              "'essa é sua mensagem: mensagem de teste'"
            ]
          },
          "execution_count": 29,
          "metadata": {},
          "output_type": "execute_result"
        }
      ],
      "source": [
        "obj_professor1.enviar_mensagem('mensagem de teste')"
      ]
    },
    {
      "cell_type": "code",
      "execution_count": null,
      "metadata": {
        "colab": {
          "base_uri": "https://localhost:8080/",
          "height": 168
        },
        "id": "Xy8jLaGHNp2a",
        "outputId": "f031642a-3dc1-4cfc-cf0a-d5a94de15e07"
      },
      "outputs": [
        {
          "ename": "TypeError",
          "evalue": "ignored",
          "output_type": "error",
          "traceback": [
            "\u001b[0;31m---------------------------------------------------------------------------\u001b[0m",
            "\u001b[0;31mTypeError\u001b[0m                                 Traceback (most recent call last)",
            "\u001b[0;32m<ipython-input-12-32330afb89fd>\u001b[0m in \u001b[0;36m<module>\u001b[0;34m\u001b[0m\n\u001b[0;32m----> 1\u001b[0;31m \u001b[0mUsuario\u001b[0m\u001b[0;34m(\u001b[0m\u001b[0;34m)\u001b[0m\u001b[0;34m\u001b[0m\u001b[0;34m\u001b[0m\u001b[0m\n\u001b[0m",
            "\u001b[0;31mTypeError\u001b[0m: __init__() missing 4 required positional arguments: 'nome', 'cpf', 'email', and 'telefone'"
          ]
        }
      ],
      "source": [
        "Usuario()"
      ]
    },
    {
      "cell_type": "code",
      "execution_count": null,
      "metadata": {
        "colab": {
          "base_uri": "https://localhost:8080/"
        },
        "id": "7DecYx84Np-m",
        "outputId": "4e3c9982-8d2d-4815-dea4-afbdc790476f"
      },
      "outputs": [
        {
          "name": "stdout",
          "output_type": "stream",
          "text": [
            "theo\n",
            "1234567893\n",
            "theo@gmail.com\n",
            "theo@gmail.com\n",
            "5263016\n"
          ]
        }
      ],
      "source": [
        "print(obj_professor1.nome)\n",
        "print(obj_professor1.cpf)\n",
        "print(obj_professor1.login)\n",
        "print(obj_professor1.email)\n",
        "print(obj_professor1.senha)"
      ]
    },
    {
      "cell_type": "code",
      "execution_count": null,
      "metadata": {
        "id": "blnrZf7H3T3Y"
      },
      "outputs": [],
      "source": [
        "obj_professor1.nome = "
      ]
    },
    {
      "cell_type": "code",
      "execution_count": null,
      "metadata": {
        "id": "rHngPDGWNqHV"
      },
      "outputs": [],
      "source": [
        "obj_professor1.novo_atributo_endereco = 'rua travessa 195'"
      ]
    },
    {
      "cell_type": "markdown",
      "metadata": {
        "id": "Lfs8CvCZfJ4a"
      },
      "source": [
        "O que podemos ver:\n",
        "\n",
        "o papel da classe: é o blueprint/a planta. a receita. a estrutura . É com ele que a partir de agora podemos criar vários objetos através de informações padrões"
      ]
    },
    {
      "cell_type": "code",
      "execution_count": null,
      "metadata": {
        "colab": {
          "base_uri": "https://localhost:8080/"
        },
        "id": "Mdkt1oX_NssR",
        "outputId": "bb368442-2efe-4bff-fa1d-0ba4e451cd55"
      },
      "outputs": [
        {
          "data": {
            "text/plain": [
              "__main__.Usuario"
            ]
          },
          "execution_count": 35,
          "metadata": {},
          "output_type": "execute_result"
        }
      ],
      "source": [
        "type(obj_professor1)"
      ]
    },
    {
      "cell_type": "markdown",
      "metadata": {
        "id": "mwXtbj620EuF"
      },
      "source": [
        "### Criando métodos"
      ]
    },
    {
      "cell_type": "code",
      "execution_count": null,
      "metadata": {
        "id": "miAuw9-ZNyGS"
      },
      "outputs": [],
      "source": [
        "import random\n",
        "random.randint(1,10)\n",
        "\n",
        "\n",
        "class Usuario:\n",
        "\n",
        "  # método construtor\n",
        "  def __init__(self, nome, cpf, email, telefone):\n",
        "    self.nome = nome\n",
        "    self.cpf = cpf\n",
        "    self.login = email\n",
        "    self.email = email\n",
        "    self.telefone = telefone\n",
        "    self.senha = str(random.randint(1000000,9999999))\n",
        "\n",
        "  # criando nosso método fazer_login\n",
        "  def fazer_login(self,login,senha):\n",
        "    if login == self.login and senha == self.senha:\n",
        "      print('logado com sucesso')\n",
        "    else:\n",
        "      print('erro! login e/ou senhas incorreto(s)')\n",
        "  \n",
        "  # só como exemplo, conseguimos alterar um atributo através deste método mudar_nome \n",
        "  def mudar_nome(self,novo_nome):\n",
        "    self.nome = novo_nome\n"
      ]
    },
    {
      "cell_type": "code",
      "execution_count": null,
      "metadata": {
        "colab": {
          "base_uri": "https://localhost:8080/"
        },
        "id": "NXT4Kl6l5Dxo",
        "outputId": "2349cfc4-147f-4067-964f-262b397ab709"
      },
      "outputs": [
        {
          "name": "stdout",
          "output_type": "stream",
          "text": [
            "erro! login e/ou senhas incorreto(s)\n"
          ]
        }
      ],
      "source": [
        "Usuario('theo', 1234567893, 'theo@gmail.com', '123123').fazer_login('theo@abc.com', 12346)"
      ]
    },
    {
      "cell_type": "code",
      "execution_count": null,
      "metadata": {
        "colab": {
          "base_uri": "https://localhost:8080/",
          "height": 36
        },
        "id": "VoY49_tKNyfI",
        "outputId": "84ce92b7-e83a-4ef7-9c07-5e97eab31bd4"
      },
      "outputs": [
        {
          "data": {
            "application/vnd.google.colaboratory.intrinsic+json": {
              "type": "string"
            },
            "text/plain": [
              "'8803070'"
            ]
          },
          "execution_count": 52,
          "metadata": {},
          "output_type": "execute_result"
        }
      ],
      "source": [
        "# obj_professor1 = \n",
        "professor1 = Usuario('theo', 1234567893, 'theo@gmail.com', '123123')\n",
        "professor1.senha"
      ]
    },
    {
      "cell_type": "code",
      "execution_count": null,
      "metadata": {
        "colab": {
          "base_uri": "https://localhost:8080/"
        },
        "id": "U3YIE5cMOKVb",
        "outputId": "c7ce9ccf-5f9e-44c6-b2d1-d2a51fa4672e"
      },
      "outputs": [
        {
          "name": "stdout",
          "output_type": "stream",
          "text": [
            "logado com sucesso\n"
          ]
        }
      ],
      "source": [
        "professor1.fazer_login('theo@gmail.com', '8803070')"
      ]
    },
    {
      "cell_type": "code",
      "execution_count": null,
      "metadata": {
        "colab": {
          "base_uri": "https://localhost:8080/",
          "height": 36
        },
        "id": "dHxl4jGk6D81",
        "outputId": "2f7103e8-8b3e-43d6-d805-af3c3752f498"
      },
      "outputs": [
        {
          "data": {
            "application/vnd.google.colaboratory.intrinsic+json": {
              "type": "string"
            },
            "text/plain": [
              "'joao'"
            ]
          },
          "execution_count": 56,
          "metadata": {},
          "output_type": "execute_result"
        }
      ],
      "source": [
        "professor1.mudar_nome('joao')\n",
        "professor1.nome"
      ]
    },
    {
      "cell_type": "code",
      "execution_count": null,
      "metadata": {
        "id": "CxKcZ-QtOKaL"
      },
      "outputs": [],
      "source": []
    },
    {
      "cell_type": "code",
      "execution_count": null,
      "metadata": {
        "id": "wDizpppYOKeH"
      },
      "outputs": [],
      "source": []
    },
    {
      "cell_type": "code",
      "execution_count": null,
      "metadata": {
        "id": "vN9_3Ukl6o60"
      },
      "outputs": [],
      "source": []
    },
    {
      "cell_type": "markdown",
      "metadata": {
        "id": "TI5ci8m26pJt"
      },
      "source": [
        "### Exercícios"
      ]
    },
    {
      "cell_type": "markdown",
      "metadata": {
        "id": "QDCGsiIV6sCG"
      },
      "source": [
        "Crie uma classe Bola cujos atributos são cor e raio. <br>\n",
        "- Crie um método que imprime a cor da bola. <br>\n",
        "- Crie um método para calcular a área dessa bola.<br>\n",
        "- Crie um método para calcular o volume da bola. <br>\n",
        "\n",
        "Agora crie um objeto dessa classe e calcule a área e o volume. <br>\n",
        "Exiba os valores para sua área e seu volume <br>\n",
        "\n",
        "fórmulas:\n",
        "\n",
        "```py\n",
        "Área da esfera = 4 * 3.14 * raio **2\n",
        "\n",
        "Volume da esfera = 4 * 3.14 * raio ** 3 / 3\n",
        "```"
      ]
    },
    {
      "cell_type": "code",
      "execution_count": 1,
      "metadata": {
        "id": "snc6c4HwN0Th"
      },
      "outputs": [],
      "source": [
        "class bola:\n",
        "    def __init__(self, cor, raio):\n",
        "        self.cor = cor\n",
        "        self.raio = raio \n",
        "    def calculos(self, raio):\n",
        "        area = 4 * 3.14 * raio ** 2\n",
        "        volume = (4 * 3.14 * raio ** 3) / 3\n",
        "        return print('O volume é: ', volume, '\\nA area é: ', area)        "
      ]
    },
    {
      "cell_type": "code",
      "execution_count": 4,
      "metadata": {},
      "outputs": [
        {
          "name": "stdout",
          "output_type": "stream",
          "text": [
            "O volume é:  4186.666666666667 \n",
            "A area é:  1256.0\n"
          ]
        }
      ],
      "source": [
        "bola1 = bola('azul', 10)\n",
        "bola1.calculos(10)"
      ]
    },
    {
      "cell_type": "markdown",
      "metadata": {
        "id": "AT-kA4Uho2l4"
      },
      "source": [
        "* crie uma classe retângulo cujos atributos são lado_a e lado_b\n",
        "* crie um método para calcular a área desse retângulo\n",
        "* crie um objeto dessa classe e calcule a área e exiba o valor em seguida"
      ]
    },
    {
      "cell_type": "code",
      "execution_count": 5,
      "metadata": {},
      "outputs": [],
      "source": [
        "class retangulo:\n",
        "    def __init__(self, lado_a, lado_b):\n",
        "        self.lado_a = lado_a\n",
        "        self.lado_b = lado_b\n",
        "    def area_retangulo(self, lado_a, lado_b):\n",
        "        return print('A área é igual á: ', lado_a * lado_b )"
      ]
    },
    {
      "cell_type": "code",
      "execution_count": 6,
      "metadata": {},
      "outputs": [
        {
          "name": "stdout",
          "output_type": "stream",
          "text": [
            "A área é igual á:  8\n"
          ]
        }
      ],
      "source": [
        "retangulo1 = retangulo(2, 4)\n",
        "retangulo1.area_retangulo(2, 4)"
      ]
    },
    {
      "cell_type": "markdown",
      "metadata": {
        "id": "L2Y7feM5o3Bg"
      },
      "source": [
        "Crie uma classe funcionário cujos atributos sao nome e e-mail. guarde as horas trabalhas mencionadas abaixo em um dicionário cujas chaves são o mês em questão e, em outro dicionário, guarde o salário por hora relativo ao mês em questão.\n",
        "\n",
        "<br>\n",
        "\n",
        "horas trabalhadas:\n",
        "\n",
        "```json\n",
        "{\"janeiro\": 168, \"fevereiro\" : 160, \"março\" : 184, \"abril\" : 168, \"maio\" : 176, \"junho\" : 176, \"julho\" : 168, \"agosto\" : 184, \"setembro\" : 176, \"outubro\" : 168, \"novembro\": 176, \"dezembro\" : 176}\n",
        "\n",
        "```\n",
        "\n",
        "<br>\n",
        "\n",
        "hora salario:\n",
        "```python\n",
        "{\"janeiro\": 20 , \"fevereiro\" : 25, \"março\" : 30, \"abril\" : 28, \"maio\" : 26, \"junho\" : 35, \"julho\" : 19, \"agosto\" : 24, \"setembro\" : 22, \"outubro\" : 20, \"novembro\": 21, \"dezembro\" : 23}\n",
        "\n",
        "```\n",
        "\n",
        "<br>\n",
        "\n",
        "* crie um método que retorna o salário mensal do funcionário\n",
        "* depois crie um objeto e aplique o método de calcular salário, retornando o valor do salário mensal\n"
      ]
    },
    {
      "cell_type": "code",
      "execution_count": null,
      "metadata": {
        "id": "YDzcxLPnN3GZ"
      },
      "outputs": [],
      "source": [
        "class funcionario:\n",
        "    def __init__(self, nome, email, mes):\n",
        "        self.nome = nome\n",
        "        self.email = email\n",
        "        self.mes = mes\n",
        "    \n",
        "    def salario(self, mes):\n",
        "        if mes == "
      ]
    },
    {
      "cell_type": "markdown",
      "metadata": {
        "id": "u4MJvKeOo3WL"
      },
      "source": [
        "Crie uma classe televisor cujos atributos são:\n",
        "- fabricante\n",
        "- modelo\n",
        "- canal atual\n",
        "- lista de canais: No atributo lista de canais, devem estar armazenados todos os canais já registrados dessa TV.\n",
        "- volume\n",
        "\n",
        "faça métodos para:\n",
        "- aumentar/diminuir volume\n",
        " - o volume não pode ser menor que zero e maior que cem\n",
        "- trocar o canal\n",
        " - só se pode trocar para um canal que já esteja na lista de canais\n",
        "- sintonizar um novo canal\n",
        " - adiciona um novo canal à lista de canais somente se esse canal não estiver nessa lista."
      ]
    },
    {
      "cell_type": "code",
      "execution_count": null,
      "metadata": {
        "id": "1nOVU4KCN5KF"
      },
      "outputs": [],
      "source": []
    },
    {
      "cell_type": "markdown",
      "metadata": {
        "id": "1EsaZ8v-o6AN"
      },
      "source": [
        "* Crie uma classe controle remoto cujo atributo é televisão, isso é, recebe um objeto da classe do exercício 4.\n",
        "* Crie métodos para:\n",
        " - aumentar/diminuir volume;\n",
        " - trocar o canal;\n",
        " - sintonizar um novo canal, que adiciona um novo canal à lista de canais - somente se esse canal não estiver nessa lista"
      ]
    },
    {
      "cell_type": "code",
      "execution_count": null,
      "metadata": {
        "id": "zfrCgN7xN7YD"
      },
      "outputs": [],
      "source": []
    },
    {
      "cell_type": "markdown",
      "metadata": {
        "id": "8i6ZNEUdGssj"
      },
      "source": [
        "O módulo time possui a função time.sleep(x), que faz seu programa \"dormir\" por x segundos. utilizando essa função, crie uma classe contagem e faça um objeto que conte o tempo"
      ]
    },
    {
      "cell_type": "code",
      "execution_count": null,
      "metadata": {
        "id": "3avJkOlXN90-"
      },
      "outputs": [],
      "source": []
    },
    {
      "cell_type": "code",
      "execution_count": null,
      "metadata": {
        "id": "8ma04v_AOTLo"
      },
      "outputs": [],
      "source": []
    }
  ],
  "metadata": {
    "colab": {
      "collapsed_sections": [
        "sK8nMxYnxPAQ",
        "4UpheKeXxmi7",
        "hjISiyVNZB6R",
        "mwXtbj620EuF"
      ],
      "provenance": []
    },
    "kernelspec": {
      "display_name": "Python 3",
      "language": "python",
      "name": "python3"
    },
    "language_info": {
      "codemirror_mode": {
        "name": "ipython",
        "version": 3
      },
      "file_extension": ".py",
      "mimetype": "text/x-python",
      "name": "python",
      "nbconvert_exporter": "python",
      "pygments_lexer": "ipython3",
      "version": "3.9.10"
    },
    "vscode": {
      "interpreter": {
        "hash": "49407587b611a891f0c71c246da1d256e17472ef49bfa25436a44ab4100d0947"
      }
    }
  },
  "nbformat": 4,
  "nbformat_minor": 0
}
