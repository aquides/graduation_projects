{
  "cells": [
    {
      "cell_type": "code",
      "execution_count": 1,
      "metadata": {
        "id": "2sCjAQSY9Chq"
      },
      "outputs": [],
      "source": [
        "import pandas as pd\n",
        "df = pd.read_csv('texto.txt')"
      ]
    },
    {
      "cell_type": "code",
      "execution_count": 2,
      "metadata": {},
      "outputs": [],
      "source": [
        "def opcao1(df):\n",
        "    \n",
        "    id_list = list(df.product_id)\n",
        "    \n",
        "    product_id = int(input('Insira um número inteiro referente ao ID do produto.\\nCaso não seja possível preencher escreva \"nao_aplicavel\"\\n'))\n",
        "    while product_id in id_list:\n",
        "        product_id = int(input('Insira um número inteiro referente ao ID do produto.\\nCaso não seja possível preencher escreva \"nao_aplicavel\"\\n'))\n",
        "\n",
        "    product_name = str(input('Insira o nome do produto.\\nCaso não seja possível preencher escreva \"nao_aplicavel\"\\n'))\n",
        "\n",
        "    price = int(input('Insira um número o preço do produto.\\nCaso não seja possível preencher escreva \"nao_aplicavel\"\\n'))\n",
        "\n",
        "    weight_mg_or_ml = int(input('Insira o peso de produto em mg ou ml.\\nCaso não seja possível preencher escreva \"nao_aplicavel\"\\n'))\n",
        "\n",
        "    color = str(input('Insira a cor do produto.\\nCaso não seja possível preencher escreva \"nao_aplicavel\"\\n'))\n",
        "\n",
        "    product_validity_days = int(input('Insira quantos dias o produto é válido.\\nCaso não seja possível preencher escreva \"nao_aplicavel\"\\n'))\n",
        "\n",
        "    sortmeant = int(input('Insira qual o tamanho do estoque do produto.\\nCaso não seja possível preencher escreva \"nao_aplicavel\"\\n'))\n",
        "\n",
        "    description = str(input('Insira uma descrição para o produto.\\nCaso não seja possível preencher escreva \"nao_aplicavel\"\\n'))\n",
        "\n",
        "    add = {'product_id': product_id, 'product_name': product_name, 'price': price,\n",
        "            'weight_mg_or_ml': weight_mg_or_ml, 'color': color, 'product_validity_days':product_validity_days,\n",
        "            'sortmeant': sortmeant, 'description': description}\n",
        "    add = pd.DataFrame([add])\n",
        "\n",
        "    df = pd.DataFrame( df.append(add) ).reset_index(drop=True)\n",
        "    return df\n",
        "\n",
        "def opcao2(df):\n",
        "    id_list = list(df.product_id)\n",
        "    id = eval(input('Por favor, insira um número inteiro referente ao ID do produto: '))\n",
        "\n",
        "    while (id // 1 != id ) | (id not in id_list) :\n",
        "        print('\\nVocë digitou um ID invalido, por favor insira um número inteiro referente ao id')\n",
        "        id = eval(input('\\nPor favor, insira um número inteiro referente ao ID do produto: '))\n",
        "\n",
        "    return df.loc[df.product_id == id]\n",
        "\n",
        "def opcao3(df):\n",
        "    \n",
        "    lista = []\n",
        "    lista = df[['product_id', 'product_name']]\n",
        "    return lista\n",
        "\n",
        "def opcao4(df):\n",
        "    \n",
        "    id_list = list(df.product_id)\n",
        "\n",
        "    id = eval(input('Por favor, insira um número inteiro referente ao ID do produto: '))\n",
        "\n",
        "    if (id // 1 != id ) | (id not in id_list):\n",
        "        print('\\nVocë digitou um ID invalido, por favor insira um número inteiro referente ao id')\n",
        "        id = eval(input('\\nPor favor, insira um número inteiro referente ao ID do produto: '))\n",
        "\n",
        "    nome = str(input('Insira o nome do produto '))\n",
        "    df.loc[(df.product_id == id), 'product_name'] = nome\n",
        "\n",
        "    preco = eval(input('Insira o preco do produto '))\n",
        "    df.loc[(df.product_id == id), 'price'] = preco\n",
        "\n",
        "    peso = eval(input('Insira o peso do produto '))\n",
        "    df.loc[(df.product_id == id), 'weight_mg_or_ml'] = peso\n",
        "\n",
        "    cor = str(input('Insira o cor do produto '))\n",
        "    df.loc[(df.product_id == id), 'color'] = cor\n",
        "\n",
        "    validade = eval(input('Insira, em dias, a validade do produto '))\n",
        "    df.loc[(df.product_id == id), 'product_validity_days'] == validade\n",
        "\n",
        "    estoque = eval(input('Insira o estoque do produto '))\n",
        "    df.loc[(df.product_id == id), 'sortmeant'] = estoque\n",
        "\n",
        "    descricao = str(input('Insira o descricao do produto '))\n",
        "    df.loc[(df.product_id == id), 'description'] = descricao\n",
        "    \n",
        "    return df\n",
        "\n",
        "def opcao5(df):\n",
        "    \n",
        "    id_list = list( df.product_id )\n",
        "    id = eval(input('Por favor, insira um número inteiro referente ao ID do produto: '))\n",
        "\n",
        "    while (id // 1 != id ) | (id not in id_list):\n",
        "        print('\\nVocë digitou um ID invalido, por favor insira um número inteiro referente ao id')\n",
        "        id = eval(input('\\nPor favor, insira um número inteiro referente ao ID do produto: '))\n",
        "\n",
        "    if (id in id_list):\n",
        "        while (id // 1 != id ):\n",
        "            print('\\nVocë digitou um ID inexistente, por favor insira um número inteiro referente ao id')\n",
        "            id = eval(input('\\nPor favor, insira um número inteiro referente ao ID do produto: '))\n",
        "        df = df.loc[df.product_id != id].reset_index(drop=True)\n",
        "        id_list = list(df.product_id)\n",
        "    \n",
        "    return df.reset_index(drop=True)"
      ]
    },
    {
      "cell_type": "code",
      "execution_count": 3,
      "metadata": {},
      "outputs": [
        {
          "name": "stdout",
          "output_type": "stream",
          "text": [
            "Sua consulta foi encerrada\n"
          ]
        }
      ],
      "source": [
        "opcao = 0\n",
        "\n",
        "while (opcao != 6):\n",
        "    opcao = int(input('Ola, por favor escolha uma das opções abaixo\\n1 - Cadastrar produto\\n2 - Consultar produto\\n3 - Listar produtos cadastrados\\n4 - Atualizar cadastro\\n5 - Excluir cadastro\\n6 - Sair\\nVocë optou pela opção: '))\n",
        "    while (opcao < 1 or opcao > 6):\n",
        "        print('\\nPor favor, insira uma Opção Valida')\n",
        "        opcao = int(input('\\nOla, por favor escolha uma das opções abaixo\\n1 - Cadastrar produto\\n2 - Consultar produto\\n3 - Listar produtos cadastrados\\n4 - Atualizar cadastro\\n5 - Excluir cadastro\\n6 - Sair\\n Vocë optou pela opção: '))\n",
        "    if (opcao == 6):\n",
        "        print('Sua consulta foi encerrada')\n",
        "        break\n",
        "    elif (opcao == 1):\n",
        "        df = opcao1(df)\n",
        "        display( df.head(100))\n",
        "    elif (opcao == 2):\n",
        "        display(opcao2(df))\n",
        "    elif (opcao == 3):\n",
        "       display(opcao3(df))\n",
        "    elif (opcao == 4):\n",
        "        df = opcao4(df)\n",
        "        display( df.head(100))\n",
        "    else:\n",
        "        df = opcao5(df)\n",
        "        display( df.head(100))"
      ]
    }
  ],
  "metadata": {
    "colab": {
      "provenance": []
    },
    "kernelspec": {
      "display_name": "Python 3",
      "language": "python",
      "name": "python3"
    },
    "language_info": {
      "codemirror_mode": {
        "name": "ipython",
        "version": 3
      },
      "file_extension": ".py",
      "mimetype": "text/x-python",
      "name": "python",
      "nbconvert_exporter": "python",
      "pygments_lexer": "ipython3",
      "version": "3.9.10"
    },
    "vscode": {
      "interpreter": {
        "hash": "49407587b611a891f0c71c246da1d256e17472ef49bfa25436a44ab4100d0947"
      }
    }
  },
  "nbformat": 4,
  "nbformat_minor": 0
}
