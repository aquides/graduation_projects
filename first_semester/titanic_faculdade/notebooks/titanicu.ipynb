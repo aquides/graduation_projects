{
  "cells": [
    {
      "cell_type": "markdown",
      "metadata": {
        "heading_collapsed": true,
        "id": "EtHD02qgQbEU"
      },
      "source": [
        "# 0.0. LIBRARY DOWNLOAD"
      ]
    },
    {
      "cell_type": "code",
      "execution_count": 220,
      "metadata": {
        "hidden": true,
        "id": "rAPNTItQNMSO"
      },
      "outputs": [
        {
          "name": "stdout",
          "output_type": "stream",
          "text": [
            "Requirement already satisfied: sklearn in /home/arquinho/.local/lib/python3.8/site-packages (0.0)\n",
            "Requirement already satisfied: scikit-plot in /home/arquinho/.local/lib/python3.8/site-packages (0.3.7)\n",
            "Requirement already satisfied: scikit-learn in /home/arquinho/.local/lib/python3.8/site-packages (from sklearn) (1.1.1)\n",
            "Requirement already satisfied: matplotlib>=1.4.0 in /home/arquinho/.local/lib/python3.8/site-packages (from scikit-plot) (3.5.1)\n",
            "Requirement already satisfied: joblib>=0.10 in /home/arquinho/.local/lib/python3.8/site-packages (from scikit-plot) (1.1.0)\n",
            "Requirement already satisfied: scipy>=0.9 in /home/arquinho/.local/lib/python3.8/site-packages (from scikit-plot) (1.8.0)\n",
            "Requirement already satisfied: threadpoolctl>=2.0.0 in /home/arquinho/.local/lib/python3.8/site-packages (from scikit-learn->sklearn) (3.1.0)\n",
            "Requirement already satisfied: numpy>=1.17.3 in /home/arquinho/.local/lib/python3.8/site-packages (from scikit-learn->sklearn) (1.21.2)\n",
            "Requirement already satisfied: packaging>=20.0 in /home/arquinho/.local/lib/python3.8/site-packages (from matplotlib>=1.4.0->scikit-plot) (21.3)\n",
            "Requirement already satisfied: pyparsing>=2.2.1 in /home/arquinho/.local/lib/python3.8/site-packages (from matplotlib>=1.4.0->scikit-plot) (2.4.7)\n",
            "Requirement already satisfied: python-dateutil>=2.7 in /usr/local/lib/python3.8/dist-packages (from matplotlib>=1.4.0->scikit-plot) (2.8.2)\n",
            "Requirement already satisfied: cycler>=0.10 in /home/arquinho/.local/lib/python3.8/site-packages (from matplotlib>=1.4.0->scikit-plot) (0.11.0)\n",
            "Requirement already satisfied: pillow>=6.2.0 in /usr/lib/python3/dist-packages (from matplotlib>=1.4.0->scikit-plot) (7.0.0)\n",
            "Requirement already satisfied: kiwisolver>=1.0.1 in /home/arquinho/.local/lib/python3.8/site-packages (from matplotlib>=1.4.0->scikit-plot) (1.4.0)\n",
            "Requirement already satisfied: fonttools>=4.22.0 in /home/arquinho/.local/lib/python3.8/site-packages (from matplotlib>=1.4.0->scikit-plot) (4.30.0)\n",
            "Requirement already satisfied: six>=1.5 in /usr/lib/python3/dist-packages (from python-dateutil>=2.7->matplotlib>=1.4.0->scikit-plot) (1.14.0)\n",
            "Note: you may need to restart the kernel to use updated packages.\n"
          ]
        }
      ],
      "source": [
        "pip install sklearn scikit-plot"
      ]
    },
    {
      "cell_type": "markdown",
      "metadata": {
        "heading_collapsed": true,
        "id": "5KpSscUu5Y7s"
      },
      "source": [
        "## 0.1. IMPORTS"
      ]
    },
    {
      "cell_type": "code",
      "execution_count": 265,
      "metadata": {
        "ExecuteTime": {
          "end_time": "2022-05-10T23:00:33.672156Z",
          "start_time": "2022-05-10T23:00:33.669148Z"
        },
        "hidden": true,
        "id": "0gAqpXNy5chf"
      },
      "outputs": [],
      "source": [
        "# from google.colab import drive\n",
        "# drive.mount('/content/drive', force_remount=True)\n",
        "import pandas as pd\n",
        "import numpy as np\n",
        "\n",
        "import inflection\n",
        "import statistics\n",
        "import math\n",
        "\n",
        "from sklearn.linear_model import LogisticRegression\n",
        "\n",
        "from sklearn import model_selection as ms\n",
        "import scikitplot as skplt\n",
        "from sklearn import ensemble as en\n",
        "from sklearn.tree import DecisionTreeClassifier\n",
        "\n",
        "from IPython.display import Image #adciona magem\n",
        "\n"
      ]
    },
    {
      "cell_type": "markdown",
      "metadata": {
        "hidden": true,
        "id": "3Hkg5fI45Y7v"
      },
      "source": [
        "## 0.2. Loading data"
      ]
    },
    {
      "cell_type": "code",
      "execution_count": 254,
      "metadata": {
        "ExecuteTime": {
          "end_time": "2022-05-10T23:00:34.919290Z",
          "start_time": "2022-05-10T23:00:34.366129Z"
        },
        "hidden": true,
        "id": "sAbNK4995Y7v"
      },
      "outputs": [],
      "source": [
        "df_raw1 = pd.read_csv( '/home/arquinho/REPOS/graduation_projects/first_semester/titanic_faculdade/data/train.csv', )\n",
        "df_raw2 = pd.read_csv( '/home/arquinho/REPOS/graduation_projects/first_semester/titanic_faculdade/data/test.csv' )\n",
        "df_raw3 = pd.concat([df_raw1, df_raw2])\n"
      ]
    },
    {
      "cell_type": "markdown",
      "metadata": {
        "heading_collapsed": true,
        "id": "Ug5XQFOF5Y7w"
      },
      "source": [
        "# 1.0. DATA DESCRIPTION"
      ]
    },
    {
      "cell_type": "code",
      "execution_count": 223,
      "metadata": {
        "ExecuteTime": {
          "end_time": "2022-05-10T23:00:35.061030Z",
          "start_time": "2022-05-10T23:00:34.925943Z"
        },
        "hidden": true,
        "id": "KYpHO2Ba5Y7w"
      },
      "outputs": [],
      "source": [
        "df1 = df_raw1.copy()"
      ]
    },
    {
      "cell_type": "code",
      "execution_count": 224,
      "metadata": {},
      "outputs": [
        {
          "data": {
            "text/plain": [
              "Index(['PassengerId', 'Survived', 'Pclass', 'Name', 'Sex', 'Age', 'SibSp',\n",
              "       'Parch', 'Ticket', 'Fare', 'Cabin', 'Embarked'],\n",
              "      dtype='object')"
            ]
          },
          "execution_count": 224,
          "metadata": {},
          "output_type": "execute_result"
        }
      ],
      "source": [
        "df1.columns"
      ]
    },
    {
      "cell_type": "markdown",
      "metadata": {
        "ExecuteTime": {
          "end_time": "2019-11-10T11:26:41.736121Z",
          "start_time": "2019-11-10T11:26:41.732986Z"
        },
        "hidden": true,
        "id": "_CJfq6mH5Y7w"
      },
      "source": [
        "### 1.1. Rename Columns"
      ]
    },
    {
      "cell_type": "code",
      "execution_count": 225,
      "metadata": {
        "ExecuteTime": {
          "end_time": "2022-05-10T23:00:35.065040Z",
          "start_time": "2022-05-10T23:00:35.062051Z"
        },
        "hidden": true,
        "id": "I0Rsf0tP5Y7x"
      },
      "outputs": [],
      "source": [
        "cols_old = ['PassengerId', 'Survived', 'Pclass', 'Name', 'Sex', 'Age', 'SibSp',\n",
        "            'Parch', 'Ticket', 'Fare', 'Cabin', 'Embarked']\n",
        "\n",
        "snakecase = lambda x: inflection.underscore( x )\n",
        "\n",
        "cols_new = list( map( snakecase, cols_old ) )\n",
        "\n",
        "# rename\n",
        "df1.columns = cols_new"
      ]
    },
    {
      "cell_type": "markdown",
      "metadata": {
        "ExecuteTime": {
          "end_time": "2019-11-10T11:26:41.736121Z",
          "start_time": "2019-11-10T11:26:41.732986Z"
        },
        "hidden": true,
        "id": "PpdWhxZ05Y7x"
      },
      "source": [
        "## 1.2. Data Dimensions"
      ]
    },
    {
      "cell_type": "code",
      "execution_count": 226,
      "metadata": {
        "ExecuteTime": {
          "end_time": "2022-05-10T23:00:35.068398Z",
          "start_time": "2022-05-10T23:00:35.065844Z"
        },
        "colab": {
          "base_uri": "https://localhost:8080/"
        },
        "hidden": true,
        "id": "R2TSfHEN5Y7x",
        "outputId": "ac7bc862-34a0-4a54-89a1-63a29324a8e3",
        "scrolled": false
      },
      "outputs": [
        {
          "name": "stdout",
          "output_type": "stream",
          "text": [
            "Number of Rows: 891\n",
            "Number of Cols: 12\n"
          ]
        }
      ],
      "source": [
        "print( 'Number of Rows: {}'.format( df1.shape[0] ) )\n",
        "print( 'Number of Cols: {}'.format( df1.shape[1] ) )"
      ]
    },
    {
      "cell_type": "markdown",
      "metadata": {
        "ExecuteTime": {
          "end_time": "2019-11-10T11:26:41.736121Z",
          "start_time": "2019-11-10T11:26:41.732986Z"
        },
        "hidden": true,
        "id": "kyBWjzDt5Y7x"
      },
      "source": [
        "## 1.3. Data Types"
      ]
    },
    {
      "cell_type": "code",
      "execution_count": 227,
      "metadata": {},
      "outputs": [
        {
          "data": {
            "text/plain": [
              "passenger_id      int64\n",
              "survived          int64\n",
              "pclass            int64\n",
              "name             object\n",
              "sex              object\n",
              "age             float64\n",
              "sib_sp            int64\n",
              "parch             int64\n",
              "ticket           object\n",
              "fare            float64\n",
              "cabin            object\n",
              "embarked         object\n",
              "dtype: object"
            ]
          },
          "execution_count": 227,
          "metadata": {},
          "output_type": "execute_result"
        }
      ],
      "source": [
        "df1.dtypes"
      ]
    },
    {
      "cell_type": "markdown",
      "metadata": {
        "ExecuteTime": {
          "end_time": "2019-11-10T11:26:41.736121Z",
          "start_time": "2019-11-10T11:26:41.732986Z"
        },
        "hidden": true,
        "id": "FejNsm0S5Y7y"
      },
      "source": [
        "## 1.4. Check NA"
      ]
    },
    {
      "cell_type": "code",
      "execution_count": 228,
      "metadata": {
        "ExecuteTime": {
          "end_time": "2022-05-10T23:00:35.275550Z",
          "start_time": "2022-05-10T23:00:35.158727Z"
        },
        "colab": {
          "base_uri": "https://localhost:8080/"
        },
        "hidden": true,
        "id": "udPRfdi55Y7y",
        "outputId": "b76a1f37-981b-4705-d022-91ba9635b7df"
      },
      "outputs": [
        {
          "data": {
            "text/plain": [
              "passenger_id      0\n",
              "survived          0\n",
              "pclass            0\n",
              "name              0\n",
              "sex               0\n",
              "age             177\n",
              "sib_sp            0\n",
              "parch             0\n",
              "ticket            0\n",
              "fare              0\n",
              "cabin           687\n",
              "embarked          2\n",
              "dtype: int64"
            ]
          },
          "execution_count": 228,
          "metadata": {},
          "output_type": "execute_result"
        }
      ],
      "source": [
        "df1.isna().sum()"
      ]
    },
    {
      "cell_type": "code",
      "execution_count": 229,
      "metadata": {},
      "outputs": [
        {
          "name": "stdout",
          "output_type": "stream",
          "text": [
            "<class 'pandas.core.frame.DataFrame'>\n",
            "RangeIndex: 891 entries, 0 to 890\n",
            "Data columns (total 12 columns):\n",
            " #   Column        Non-Null Count  Dtype  \n",
            "---  ------        --------------  -----  \n",
            " 0   passenger_id  891 non-null    int64  \n",
            " 1   survived      891 non-null    int64  \n",
            " 2   pclass        891 non-null    int64  \n",
            " 3   name          891 non-null    object \n",
            " 4   sex           891 non-null    object \n",
            " 5   age           714 non-null    float64\n",
            " 6   sib_sp        891 non-null    int64  \n",
            " 7   parch         891 non-null    int64  \n",
            " 8   ticket        891 non-null    object \n",
            " 9   fare          891 non-null    float64\n",
            " 10  cabin         204 non-null    object \n",
            " 11  embarked      889 non-null    object \n",
            "dtypes: float64(2), int64(5), object(5)\n",
            "memory usage: 83.7+ KB\n"
          ]
        }
      ],
      "source": [
        "df1.info()"
      ]
    },
    {
      "cell_type": "code",
      "execution_count": 230,
      "metadata": {},
      "outputs": [
        {
          "data": {
            "text/plain": [
              "177"
            ]
          },
          "execution_count": 230,
          "metadata": {},
          "output_type": "execute_result"
        }
      ],
      "source": [
        "statistics.mode(df1['age'])\n",
        "df1['age'].isna().sum()"
      ]
    },
    {
      "cell_type": "markdown",
      "metadata": {
        "ExecuteTime": {
          "end_time": "2019-11-10T11:26:41.736121Z",
          "start_time": "2019-11-10T11:26:41.732986Z"
        },
        "hidden": true,
        "id": "-lFwvhng5Y7y"
      },
      "source": [
        "## 1.5. Fillout NA"
      ]
    },
    {
      "cell_type": "code",
      "execution_count": 231,
      "metadata": {
        "ExecuteTime": {
          "end_time": "2022-05-10T23:01:18.145313Z",
          "start_time": "2022-05-10T23:00:35.308510Z"
        },
        "hidden": true,
        "id": "farFDXla5Y7z"
      },
      "outputs": [],
      "source": [
        "#sex        \n",
        "df1['sex'] = df1.apply( lambda x: 0 if x['sex'] == 'male' else 1 if x['sex'] == 'female' else x, axis=1 )\n",
        "\n",
        "#age \n",
        "df1['age'] = df1['age'].fillna(statistics.mode(df1['age']))\n",
        "# df1['age'] = df1['age'].apply( lambda x: 0 if df1['age']<1 else 24 if math.isnan(df1['age']) else df1, axis=1 )\n",
        "\n",
        "#embarked\n",
        "df1['embarked'] = df1.apply( lambda x: 1 if x['embarked'] == 'S'  else 2 if x['embarked'] == 'C' else 3 if x['embarked'] == 'Q' else 1, axis=1 )\n",
        "\n",
        "# drop not usuful columns\n",
        "dropa = ['cabin', 'ticket', 'name', 'passenger_id']\n",
        "df1.drop(dropa, axis=1, inplace=True )\n"
      ]
    },
    {
      "cell_type": "markdown",
      "metadata": {
        "ExecuteTime": {
          "end_time": "2019-11-10T11:26:41.736121Z",
          "start_time": "2019-11-10T11:26:41.732986Z"
        },
        "heading_collapsed": true,
        "hidden": true,
        "id": "ziYg3wwt5Y70"
      },
      "source": [
        "## 1.6. Change Data Types"
      ]
    },
    {
      "cell_type": "code",
      "execution_count": 232,
      "metadata": {
        "ExecuteTime": {
          "end_time": "2022-05-10T23:01:18.321435Z",
          "start_time": "2022-05-10T23:01:18.285899Z"
        },
        "hidden": true,
        "id": "PV17rgkH5Y70"
      },
      "outputs": [],
      "source": [
        "# age\n",
        "df1['age'] = np.int64( df1['age'])\n",
        "\n",
        "# fare\n",
        "df1['fare'] = np.int64( df1['fare'] )\n"
      ]
    },
    {
      "cell_type": "code",
      "execution_count": 233,
      "metadata": {},
      "outputs": [
        {
          "data": {
            "text/plain": [
              "array([22, 38, 26, 35, 24, 54,  2, 27, 14,  4, 58, 20, 39, 55, 31, 34, 15,\n",
              "       28,  8, 19, 40, 66, 42, 21, 18,  3,  7, 49, 29, 65,  5, 11, 45, 17,\n",
              "       32, 16, 25,  0, 30, 33, 23, 46, 59, 71, 37, 47, 70, 12,  9, 36, 51,\n",
              "       44,  1, 61, 56, 50, 62, 41, 52, 63, 43, 60, 10, 64, 13, 48, 53, 57,\n",
              "       80,  6, 74])"
            ]
          },
          "execution_count": 233,
          "metadata": {},
          "output_type": "execute_result"
        }
      ],
      "source": [
        "df1['age'].unique()"
      ]
    },
    {
      "cell_type": "code",
      "execution_count": 234,
      "metadata": {},
      "outputs": [
        {
          "name": "stdout",
          "output_type": "stream",
          "text": [
            "<class 'pandas.core.frame.DataFrame'>\n",
            "RangeIndex: 891 entries, 0 to 890\n",
            "Data columns (total 8 columns):\n",
            " #   Column    Non-Null Count  Dtype\n",
            "---  ------    --------------  -----\n",
            " 0   survived  891 non-null    int64\n",
            " 1   pclass    891 non-null    int64\n",
            " 2   sex       891 non-null    int64\n",
            " 3   age       891 non-null    int64\n",
            " 4   sib_sp    891 non-null    int64\n",
            " 5   parch     891 non-null    int64\n",
            " 6   fare      891 non-null    int64\n",
            " 7   embarked  891 non-null    int64\n",
            "dtypes: int64(8)\n",
            "memory usage: 55.8 KB\n"
          ]
        }
      ],
      "source": [
        "df1.info()"
      ]
    },
    {
      "cell_type": "markdown",
      "metadata": {
        "ExecuteTime": {
          "end_time": "2019-11-10T11:26:41.736121Z",
          "start_time": "2019-11-10T11:26:41.732986Z"
        },
        "heading_collapsed": true,
        "hidden": true,
        "id": "1TGLzct75Y70"
      },
      "source": [
        "## 1.7. Descriptive Statistics"
      ]
    },
    {
      "cell_type": "code",
      "execution_count": 235,
      "metadata": {
        "ExecuteTime": {
          "end_time": "2022-05-10T23:01:18.410670Z",
          "start_time": "2022-05-10T23:01:18.322569Z"
        },
        "hidden": true,
        "id": "B6o2kMXK5Y70"
      },
      "outputs": [],
      "source": [
        "num_attributes = df1.select_dtypes( include=['int64', 'float64'] ) #todas as variaveis numericas\n",
        "cat_attributes = df1.select_dtypes( exclude=['int64', 'float64'] ) #eclui todas as variaves numericas e data"
      ]
    },
    {
      "cell_type": "markdown",
      "metadata": {
        "ExecuteTime": {
          "end_time": "2019-11-10T11:26:41.736121Z",
          "start_time": "2019-11-10T11:26:41.732986Z"
        },
        "heading_collapsed": true,
        "hidden": true,
        "id": "x3w2dRi65Y70"
      },
      "source": [
        "### 1.7.1. Numerical Atributes"
      ]
    },
    {
      "cell_type": "code",
      "execution_count": 236,
      "metadata": {
        "ExecuteTime": {
          "end_time": "2022-05-10T23:01:19.891230Z",
          "start_time": "2022-05-10T23:01:18.411616Z"
        },
        "colab": {
          "base_uri": "https://localhost:8080/",
          "height": 552
        },
        "hidden": true,
        "id": "TiW-SY8k5Y70",
        "outputId": "fc7dc8de-ae40-480c-ed87-4383697cdd1f"
      },
      "outputs": [
        {
          "data": {
            "text/html": [
              "<div>\n",
              "<style scoped>\n",
              "    .dataframe tbody tr th:only-of-type {\n",
              "        vertical-align: middle;\n",
              "    }\n",
              "\n",
              "    .dataframe tbody tr th {\n",
              "        vertical-align: top;\n",
              "    }\n",
              "\n",
              "    .dataframe thead th {\n",
              "        text-align: right;\n",
              "    }\n",
              "</style>\n",
              "<table border=\"1\" class=\"dataframe\">\n",
              "  <thead>\n",
              "    <tr style=\"text-align: right;\">\n",
              "      <th></th>\n",
              "      <th>attributes</th>\n",
              "      <th>min</th>\n",
              "      <th>max</th>\n",
              "      <th>range</th>\n",
              "      <th>mean</th>\n",
              "      <th>median</th>\n",
              "      <th>std</th>\n",
              "      <th>skew</th>\n",
              "      <th>kurtosis</th>\n",
              "    </tr>\n",
              "  </thead>\n",
              "  <tbody>\n",
              "    <tr>\n",
              "      <th>0</th>\n",
              "      <td>survived</td>\n",
              "      <td>0.0</td>\n",
              "      <td>1.0</td>\n",
              "      <td>1.0</td>\n",
              "      <td>0.383838</td>\n",
              "      <td>0.0</td>\n",
              "      <td>0.486319</td>\n",
              "      <td>0.478523</td>\n",
              "      <td>-1.775005</td>\n",
              "    </tr>\n",
              "    <tr>\n",
              "      <th>1</th>\n",
              "      <td>pclass</td>\n",
              "      <td>1.0</td>\n",
              "      <td>3.0</td>\n",
              "      <td>2.0</td>\n",
              "      <td>2.308642</td>\n",
              "      <td>3.0</td>\n",
              "      <td>0.835602</td>\n",
              "      <td>-0.630548</td>\n",
              "      <td>-1.280015</td>\n",
              "    </tr>\n",
              "    <tr>\n",
              "      <th>2</th>\n",
              "      <td>sex</td>\n",
              "      <td>0.0</td>\n",
              "      <td>1.0</td>\n",
              "      <td>1.0</td>\n",
              "      <td>0.352413</td>\n",
              "      <td>0.0</td>\n",
              "      <td>0.477722</td>\n",
              "      <td>0.618921</td>\n",
              "      <td>-1.620580</td>\n",
              "    </tr>\n",
              "    <tr>\n",
              "      <th>3</th>\n",
              "      <td>age</td>\n",
              "      <td>0.0</td>\n",
              "      <td>80.0</td>\n",
              "      <td>80.0</td>\n",
              "      <td>28.551066</td>\n",
              "      <td>24.0</td>\n",
              "      <td>13.199600</td>\n",
              "      <td>0.651509</td>\n",
              "      <td>0.926658</td>\n",
              "    </tr>\n",
              "    <tr>\n",
              "      <th>4</th>\n",
              "      <td>sib_sp</td>\n",
              "      <td>0.0</td>\n",
              "      <td>8.0</td>\n",
              "      <td>8.0</td>\n",
              "      <td>0.523008</td>\n",
              "      <td>0.0</td>\n",
              "      <td>1.102124</td>\n",
              "      <td>3.695352</td>\n",
              "      <td>17.880420</td>\n",
              "    </tr>\n",
              "    <tr>\n",
              "      <th>5</th>\n",
              "      <td>parch</td>\n",
              "      <td>0.0</td>\n",
              "      <td>6.0</td>\n",
              "      <td>6.0</td>\n",
              "      <td>0.381594</td>\n",
              "      <td>0.0</td>\n",
              "      <td>0.805605</td>\n",
              "      <td>2.749117</td>\n",
              "      <td>9.778125</td>\n",
              "    </tr>\n",
              "    <tr>\n",
              "      <th>6</th>\n",
              "      <td>fare</td>\n",
              "      <td>0.0</td>\n",
              "      <td>512.0</td>\n",
              "      <td>512.0</td>\n",
              "      <td>31.785634</td>\n",
              "      <td>14.0</td>\n",
              "      <td>49.675830</td>\n",
              "      <td>4.786430</td>\n",
              "      <td>33.398037</td>\n",
              "    </tr>\n",
              "    <tr>\n",
              "      <th>7</th>\n",
              "      <td>embarked</td>\n",
              "      <td>1.0</td>\n",
              "      <td>3.0</td>\n",
              "      <td>2.0</td>\n",
              "      <td>1.361392</td>\n",
              "      <td>1.0</td>\n",
              "      <td>0.635317</td>\n",
              "      <td>1.543397</td>\n",
              "      <td>1.105629</td>\n",
              "    </tr>\n",
              "  </tbody>\n",
              "</table>\n",
              "</div>"
            ],
            "text/plain": [
              "  attributes  min    max  range       mean  median        std      skew  \\\n",
              "0   survived  0.0    1.0    1.0   0.383838     0.0   0.486319  0.478523   \n",
              "1     pclass  1.0    3.0    2.0   2.308642     3.0   0.835602 -0.630548   \n",
              "2        sex  0.0    1.0    1.0   0.352413     0.0   0.477722  0.618921   \n",
              "3        age  0.0   80.0   80.0  28.551066    24.0  13.199600  0.651509   \n",
              "4     sib_sp  0.0    8.0    8.0   0.523008     0.0   1.102124  3.695352   \n",
              "5      parch  0.0    6.0    6.0   0.381594     0.0   0.805605  2.749117   \n",
              "6       fare  0.0  512.0  512.0  31.785634    14.0  49.675830  4.786430   \n",
              "7   embarked  1.0    3.0    2.0   1.361392     1.0   0.635317  1.543397   \n",
              "\n",
              "    kurtosis  \n",
              "0  -1.775005  \n",
              "1  -1.280015  \n",
              "2  -1.620580  \n",
              "3   0.926658  \n",
              "4  17.880420  \n",
              "5   9.778125  \n",
              "6  33.398037  \n",
              "7   1.105629  "
            ]
          },
          "execution_count": 236,
          "metadata": {},
          "output_type": "execute_result"
        }
      ],
      "source": [
        "# Central Tendency - mean, meadina \n",
        "ct1 = pd.DataFrame( num_attributes.apply( np.mean ) ).T\n",
        "ct2 = pd.DataFrame( num_attributes.apply( np.median ) ).T\n",
        "\n",
        "# dispersion - std, min, max, range, skew, kurtosis\n",
        "d1 = pd.DataFrame( num_attributes.apply( np.std ) ).T \n",
        "d2 = pd.DataFrame( num_attributes.apply( min ) ).T \n",
        "d3 = pd.DataFrame( num_attributes.apply( max ) ).T \n",
        "d4 = pd.DataFrame( num_attributes.apply( lambda x: x.max() - x.min() ) ).T \n",
        "d5 = pd.DataFrame( num_attributes.apply( lambda x: x.skew() ) ).T # mede a assimitria dis dasdos. Para a direita positiva e esquerda negativa\n",
        "d6 = pd.DataFrame( num_attributes.apply( lambda x: x.kurtosis() ) ).T # mede a distribuiçao dos dados. calda curta (leptocurtica) mais fechada que a \n",
        "#distribuiçao normal. Calda longa (platicurtica) mais aberta que a distribuiçao bnormal. Quanto mais proxima de 0 o aor mais Normal é\n",
        "\n",
        "# concatenar\n",
        "m = pd.concat( [d2, d3, d4, ct1, ct2, d1, d5, d6] ).T.reset_index()\n",
        "m.columns = ['attributes', 'min', 'max', 'range', 'mean', 'median', 'std', 'skew', 'kurtosis']\n",
        "m"
      ]
    },
    {
      "cell_type": "markdown",
      "metadata": {
        "ExecuteTime": {
          "end_time": "2019-11-10T11:26:41.736121Z",
          "start_time": "2019-11-10T11:26:41.732986Z"
        },
        "heading_collapsed": true,
        "hidden": true,
        "id": "jiIqHZAx5Y71"
      },
      "source": [
        "### 1.7.2. Categorical Atributes"
      ]
    },
    {
      "cell_type": "code",
      "execution_count": 237,
      "metadata": {
        "ExecuteTime": {
          "end_time": "2022-05-10T23:01:20.241277Z",
          "start_time": "2022-05-10T23:01:20.110892Z"
        },
        "colab": {
          "base_uri": "https://localhost:8080/"
        },
        "hidden": true,
        "id": "a9hejux45Y71",
        "outputId": "babf2df3-0aed-4d11-f894-bed557063cc7"
      },
      "outputs": [
        {
          "data": {
            "text/plain": [
              "Series([], dtype: float64)"
            ]
          },
          "execution_count": 237,
          "metadata": {},
          "output_type": "execute_result"
        }
      ],
      "source": [
        "cat_attributes.apply( lambda x: x.unique().shape[0] )"
      ]
    },
    {
      "cell_type": "code",
      "execution_count": 238,
      "metadata": {
        "ExecuteTime": {
          "end_time": "2022-05-10T23:01:20.566758Z",
          "start_time": "2022-05-10T23:01:20.523123Z"
        },
        "hidden": true,
        "id": "3MTWL4Vv5Y73"
      },
      "outputs": [],
      "source": [
        "df2 = df1.copy()"
      ]
    },
    {
      "cell_type": "markdown",
      "metadata": {
        "heading_collapsed": true,
        "id": "r1Qw5dkS5Y8H"
      },
      "source": [
        "# 7.0. MACHINE LEARNING MODELLING"
      ]
    },
    {
      "cell_type": "code",
      "execution_count": 239,
      "metadata": {},
      "outputs": [],
      "source": [
        "X = df2.drop('survived', axis=1 )\n",
        "\n",
        "y = df2['survived'].copy()"
      ]
    },
    {
      "cell_type": "code",
      "execution_count": 240,
      "metadata": {},
      "outputs": [],
      "source": [
        "x_train, x_test, y_train, y_test = ms.train_test_split(X, y, test_size=0.20)"
      ]
    },
    {
      "cell_type": "code",
      "execution_count": 241,
      "metadata": {},
      "outputs": [
        {
          "name": "stdout",
          "output_type": "stream",
          "text": [
            "Train Performance:  0.8103932584269663\n",
            "Test Performance:  0.776536312849162\n"
          ]
        },
        {
          "data": {
            "image/png": "[encoded data removed]",
            "text/plain": [
              "<Figure size 432x288 with 1 Axes>"
            ]
          },
          "metadata": {
            "needs_background": "light"
          },
          "output_type": "display_data"
        }
      ],
      "source": [
        "# criar um modelo de Regressão Logística\n",
        "\n",
        "lr_model = LogisticRegression(solver='liblinear')\n",
        "\n",
        "#model fit\n",
        "lr_model.fit(x_train, y_train)\n",
        "\n",
        "# model predict\n",
        "yhat_lr = lr_model.predict_proba( x_test )\n",
        "\n",
        "# accumulative gain\n",
        "print('Train Performance: ', lr_model.score(x_train, y_train))\n",
        "print('Test Performance: ', lr_model.score(x_test, y_test))\n",
        "skplt.metrics.plot_cumulative_gain( y_test, yhat_lr);"
      ]
    },
    {
      "cell_type": "code",
      "execution_count": 242,
      "metadata": {},
      "outputs": [
        {
          "name": "stdout",
          "output_type": "stream",
          "text": [
            "Train Performance:  0.8286516853932584\n",
            "Test Performance:  0.8044692737430168\n"
          ]
        },
        {
          "data": {
            "image/png": "[encoded data removed]",
            "text/plain": [
              "<Figure size 432x288 with 1 Axes>"
            ]
          },
          "metadata": {
            "needs_background": "light"
          },
          "output_type": "display_data"
        }
      ],
      "source": [
        "# criar um modelo de Regressão Logística\n",
        "\n",
        "dt_model = DecisionTreeClassifier(max_depth=3)\n",
        "\n",
        "#model fit\n",
        "dt_model.fit(x_train, y_train)\n",
        "\n",
        "# model predict\n",
        "yhat_dt = dt_model.predict_proba( x_test )\n",
        "\n",
        "# accumulative gain\n",
        "print('Train Performance: ', dt_model.score(x_train, y_train))\n",
        "print('Test Performance: ', dt_model.score(x_test, y_test))\n",
        "skplt.metrics.plot_cumulative_gain( y_test, yhat_dt);"
      ]
    },
    {
      "cell_type": "code",
      "execution_count": 243,
      "metadata": {},
      "outputs": [
        {
          "name": "stdout",
          "output_type": "stream",
          "text": [
            "Train Performance:  0.9705056179775281\n",
            "Test Performance:  0.7486033519553073\n"
          ]
        },
        {
          "data": {
            "image/png": "[encoded data removed]",
            "text/plain": [
              "<Figure size 432x288 with 1 Axes>"
            ]
          },
          "metadata": {
            "needs_background": "light"
          },
          "output_type": "display_data"
        }
      ],
      "source": [
        "# criar um modelo de Regressão Logística\n",
        "\n",
        "et_model = en.ExtraTreesClassifier( n_estimators=400, n_jobs=-1, random_state=42 )\n",
        "\n",
        "#model fit\n",
        "et_model.fit( x_train, y_train )\n",
        "\n",
        "# model predict\n",
        "yhat_et = et_model.predict_proba( x_test )\n",
        "\n",
        "# accumulative gain\n",
        "print('Train Performance: ', et_model.score(x_train, y_train))\n",
        "print('Test Performance: ', et_model.score(x_test, y_test))\n",
        "skplt.metrics.plot_cumulative_gain( y_test, yhat_et);"
      ]
    },
    {
      "cell_type": "markdown",
      "metadata": {},
      "source": [
        "# 2.0 DF TEST SUBMISSION"
      ]
    },
    {
      "cell_type": "code",
      "execution_count": 256,
      "metadata": {},
      "outputs": [],
      "source": [
        "df1 = df_raw2.copy()"
      ]
    },
    {
      "cell_type": "code",
      "execution_count": 257,
      "metadata": {},
      "outputs": [
        {
          "data": {
            "text/html": [
              "<div>\n",
              "<style scoped>\n",
              "    .dataframe tbody tr th:only-of-type {\n",
              "        vertical-align: middle;\n",
              "    }\n",
              "\n",
              "    .dataframe tbody tr th {\n",
              "        vertical-align: top;\n",
              "    }\n",
              "\n",
              "    .dataframe thead th {\n",
              "        text-align: right;\n",
              "    }\n",
              "</style>\n",
              "<table border=\"1\" class=\"dataframe\">\n",
              "  <thead>\n",
              "    <tr style=\"text-align: right;\">\n",
              "      <th></th>\n",
              "      <th>PassengerId</th>\n",
              "      <th>Pclass</th>\n",
              "      <th>Name</th>\n",
              "      <th>Sex</th>\n",
              "      <th>Age</th>\n",
              "      <th>SibSp</th>\n",
              "      <th>Parch</th>\n",
              "      <th>Ticket</th>\n",
              "      <th>Fare</th>\n",
              "      <th>Cabin</th>\n",
              "      <th>Embarked</th>\n",
              "    </tr>\n",
              "  </thead>\n",
              "  <tbody>\n",
              "    <tr>\n",
              "      <th>0</th>\n",
              "      <td>892</td>\n",
              "      <td>3</td>\n",
              "      <td>Kelly, Mr. James</td>\n",
              "      <td>male</td>\n",
              "      <td>34.5</td>\n",
              "      <td>0</td>\n",
              "      <td>0</td>\n",
              "      <td>330911</td>\n",
              "      <td>7.8292</td>\n",
              "      <td>NaN</td>\n",
              "      <td>Q</td>\n",
              "    </tr>\n",
              "    <tr>\n",
              "      <th>1</th>\n",
              "      <td>893</td>\n",
              "      <td>3</td>\n",
              "      <td>Wilkes, Mrs. James (Ellen Needs)</td>\n",
              "      <td>female</td>\n",
              "      <td>47.0</td>\n",
              "      <td>1</td>\n",
              "      <td>0</td>\n",
              "      <td>363272</td>\n",
              "      <td>7.0000</td>\n",
              "      <td>NaN</td>\n",
              "      <td>S</td>\n",
              "    </tr>\n",
              "    <tr>\n",
              "      <th>2</th>\n",
              "      <td>894</td>\n",
              "      <td>2</td>\n",
              "      <td>Myles, Mr. Thomas Francis</td>\n",
              "      <td>male</td>\n",
              "      <td>62.0</td>\n",
              "      <td>0</td>\n",
              "      <td>0</td>\n",
              "      <td>240276</td>\n",
              "      <td>9.6875</td>\n",
              "      <td>NaN</td>\n",
              "      <td>Q</td>\n",
              "    </tr>\n",
              "    <tr>\n",
              "      <th>3</th>\n",
              "      <td>895</td>\n",
              "      <td>3</td>\n",
              "      <td>Wirz, Mr. Albert</td>\n",
              "      <td>male</td>\n",
              "      <td>27.0</td>\n",
              "      <td>0</td>\n",
              "      <td>0</td>\n",
              "      <td>315154</td>\n",
              "      <td>8.6625</td>\n",
              "      <td>NaN</td>\n",
              "      <td>S</td>\n",
              "    </tr>\n",
              "    <tr>\n",
              "      <th>4</th>\n",
              "      <td>896</td>\n",
              "      <td>3</td>\n",
              "      <td>Hirvonen, Mrs. Alexander (Helga E Lindqvist)</td>\n",
              "      <td>female</td>\n",
              "      <td>22.0</td>\n",
              "      <td>1</td>\n",
              "      <td>1</td>\n",
              "      <td>3101298</td>\n",
              "      <td>12.2875</td>\n",
              "      <td>NaN</td>\n",
              "      <td>S</td>\n",
              "    </tr>\n",
              "    <tr>\n",
              "      <th>...</th>\n",
              "      <td>...</td>\n",
              "      <td>...</td>\n",
              "      <td>...</td>\n",
              "      <td>...</td>\n",
              "      <td>...</td>\n",
              "      <td>...</td>\n",
              "      <td>...</td>\n",
              "      <td>...</td>\n",
              "      <td>...</td>\n",
              "      <td>...</td>\n",
              "      <td>...</td>\n",
              "    </tr>\n",
              "    <tr>\n",
              "      <th>413</th>\n",
              "      <td>1305</td>\n",
              "      <td>3</td>\n",
              "      <td>Spector, Mr. Woolf</td>\n",
              "      <td>male</td>\n",
              "      <td>NaN</td>\n",
              "      <td>0</td>\n",
              "      <td>0</td>\n",
              "      <td>A.5. 3236</td>\n",
              "      <td>8.0500</td>\n",
              "      <td>NaN</td>\n",
              "      <td>S</td>\n",
              "    </tr>\n",
              "    <tr>\n",
              "      <th>414</th>\n",
              "      <td>1306</td>\n",
              "      <td>1</td>\n",
              "      <td>Oliva y Ocana, Dona. Fermina</td>\n",
              "      <td>female</td>\n",
              "      <td>39.0</td>\n",
              "      <td>0</td>\n",
              "      <td>0</td>\n",
              "      <td>PC 17758</td>\n",
              "      <td>108.9000</td>\n",
              "      <td>C105</td>\n",
              "      <td>C</td>\n",
              "    </tr>\n",
              "    <tr>\n",
              "      <th>415</th>\n",
              "      <td>1307</td>\n",
              "      <td>3</td>\n",
              "      <td>Saether, Mr. Simon Sivertsen</td>\n",
              "      <td>male</td>\n",
              "      <td>38.5</td>\n",
              "      <td>0</td>\n",
              "      <td>0</td>\n",
              "      <td>SOTON/O.Q. 3101262</td>\n",
              "      <td>7.2500</td>\n",
              "      <td>NaN</td>\n",
              "      <td>S</td>\n",
              "    </tr>\n",
              "    <tr>\n",
              "      <th>416</th>\n",
              "      <td>1308</td>\n",
              "      <td>3</td>\n",
              "      <td>Ware, Mr. Frederick</td>\n",
              "      <td>male</td>\n",
              "      <td>NaN</td>\n",
              "      <td>0</td>\n",
              "      <td>0</td>\n",
              "      <td>359309</td>\n",
              "      <td>8.0500</td>\n",
              "      <td>NaN</td>\n",
              "      <td>S</td>\n",
              "    </tr>\n",
              "    <tr>\n",
              "      <th>417</th>\n",
              "      <td>1309</td>\n",
              "      <td>3</td>\n",
              "      <td>Peter, Master. Michael J</td>\n",
              "      <td>male</td>\n",
              "      <td>NaN</td>\n",
              "      <td>1</td>\n",
              "      <td>1</td>\n",
              "      <td>2668</td>\n",
              "      <td>22.3583</td>\n",
              "      <td>NaN</td>\n",
              "      <td>C</td>\n",
              "    </tr>\n",
              "  </tbody>\n",
              "</table>\n",
              "<p>418 rows × 11 columns</p>\n",
              "</div>"
            ],
            "text/plain": [
              "     PassengerId  Pclass                                          Name  \\\n",
              "0            892       3                              Kelly, Mr. James   \n",
              "1            893       3              Wilkes, Mrs. James (Ellen Needs)   \n",
              "2            894       2                     Myles, Mr. Thomas Francis   \n",
              "3            895       3                              Wirz, Mr. Albert   \n",
              "4            896       3  Hirvonen, Mrs. Alexander (Helga E Lindqvist)   \n",
              "..           ...     ...                                           ...   \n",
              "413         1305       3                            Spector, Mr. Woolf   \n",
              "414         1306       1                  Oliva y Ocana, Dona. Fermina   \n",
              "415         1307       3                  Saether, Mr. Simon Sivertsen   \n",
              "416         1308       3                           Ware, Mr. Frederick   \n",
              "417         1309       3                      Peter, Master. Michael J   \n",
              "\n",
              "        Sex   Age  SibSp  Parch              Ticket      Fare Cabin Embarked  \n",
              "0      male  34.5      0      0              330911    7.8292   NaN        Q  \n",
              "1    female  47.0      1      0              363272    7.0000   NaN        S  \n",
              "2      male  62.0      0      0              240276    9.6875   NaN        Q  \n",
              "3      male  27.0      0      0              315154    8.6625   NaN        S  \n",
              "4    female  22.0      1      1             3101298   12.2875   NaN        S  \n",
              "..      ...   ...    ...    ...                 ...       ...   ...      ...  \n",
              "413    male   NaN      0      0           A.5. 3236    8.0500   NaN        S  \n",
              "414  female  39.0      0      0            PC 17758  108.9000  C105        C  \n",
              "415    male  38.5      0      0  SOTON/O.Q. 3101262    7.2500   NaN        S  \n",
              "416    male   NaN      0      0              359309    8.0500   NaN        S  \n",
              "417    male   NaN      1      1                2668   22.3583   NaN        C  \n",
              "\n",
              "[418 rows x 11 columns]"
            ]
          },
          "execution_count": 257,
          "metadata": {},
          "output_type": "execute_result"
        }
      ],
      "source": [
        "df1"
      ]
    },
    {
      "cell_type": "code",
      "execution_count": 258,
      "metadata": {},
      "outputs": [],
      "source": [
        "cols_old = ['PassengerId', 'Pclass', 'Name', 'Sex', 'Age', 'SibSp',\n",
        "            'Parch', 'Ticket', 'Fare', 'Cabin', 'Embarked']\n",
        "\n",
        "snakecase = lambda x: inflection.underscore( x )\n",
        "\n",
        "cols_new = list( map( snakecase, cols_old ) )\n",
        "\n",
        "# rename\n",
        "df1.columns = cols_new\n",
        "\n",
        "#sex        \n",
        "df1['sex'] = df1.apply( lambda x: 0 if x['sex'] == 'male' else 1 if x['sex'] == 'female' else x, axis=1 )\n",
        "\n",
        "#age \n",
        "df1['age'] = df1['age'].fillna(statistics.mode(df1['age']))\n",
        "# df1['age'] = df1['age'].apply( lambda x: 0 if df1['age']<1 else 24 if math.isnan(df1['age']) else df1, axis=1 )\n",
        "\n",
        "#embarked\n",
        "df1['embarked'] = df1.apply( lambda x: 1 if x['embarked'] == 'S'  else 2 if x['embarked'] == 'C' else 3 if x['embarked'] == 'Q' else 1, axis=1 )\n",
        "\n",
        "# drop not usuful columns\n",
        "dropa = ['cabin', 'ticket', 'name', 'passenger_id']\n",
        "df1.drop(dropa, axis=1, inplace=True )\n",
        "\n",
        "# age\n",
        "df1['age'] = np.int64( df1['age'])\n",
        "\n",
        "# fare\n",
        "df1['fare'] = np.int64( df1['fare'] )"
      ]
    },
    {
      "cell_type": "code",
      "execution_count": 261,
      "metadata": {},
      "outputs": [],
      "source": [
        "dt_predict = dt_model.predict(df1)"
      ]
    },
    {
      "cell_type": "code",
      "execution_count": 262,
      "metadata": {},
      "outputs": [],
      "source": [
        "dt_sub=pd.Series(dt_predict, index=df_raw2['PassengerId'], name='survived')"
      ]
    },
    {
      "cell_type": "code",
      "execution_count": 263,
      "metadata": {},
      "outputs": [],
      "source": [
        "dt_sub.to_csv('/home/arquinho/REPOS/graduation_projects/first_semester/titanic_faculdade/data/dt_sub.csv', header=True)"
      ]
    },
    {
      "cell_type": "code",
      "execution_count": 266,
      "metadata": {},
      "outputs": [
        {
          "data": {
            "image/png": "[encoded data removed]",
            "text/plain": [
              "<IPython.core.display.Image object>"
            ]
          },
          "execution_count": 266,
          "metadata": {},
          "output_type": "execute_result"
        }
      ],
      "source": [
        "Image( '/home/arquinho/REPOS/graduation_projects/first_semester/titanic_faculdade/submissao.png' )"
      ]
    },
    {
      "cell_type": "code",
      "execution_count": null,
      "metadata": {},
      "outputs": [],
      "source": []
    }
  ],
  "metadata": {
    "colab": {
      "collapsed_sections": [
        "EtHD02qgQbEU",
        "5KpSscUu5Y7s",
        "Ug5XQFOF5Y7w",
        "PpdWhxZ05Y7x",
        "kyBWjzDt5Y7x",
        "d4I4EHRW5Y72",
        "VjXrjxrI5Y74",
        "HU9Vjj0S5Y74",
        "6gZproOV5Y74",
        "gkQGW2y55Y75",
        "5tW0YVTS5Y75",
        "9ghgrW7h5Y75",
        "QREBORs05Y76",
        "5wkhxSzy5Y76",
        "sSiWNXCC5Y77",
        "8iPg2kN25Y77",
        "UQzE9ElR5Y77",
        "eDFjW40j5Y78",
        "Rey9WZ8q5Y78",
        "tXDmmDPn5Y78",
        "TSkekEh25Y78",
        "ppyeZCCD5Y7-",
        "46PDe9Ps5Y8B",
        "PY_LhgOS5Y8C",
        "Mn_yNj_H5Y8C",
        "Re_0jCMi5Y8C",
        "WizJdOzl5Y8E",
        "w6zhgNz95Y8F",
        "qlj7o7Dv5Y8G",
        "FMlroE115Y8G",
        "r1Qw5dkS5Y8H",
        "0c-HLeMR5Y8M",
        "JACFXL6M5Y8N",
        "rn86KNqW5Y8O"
      ],
      "name": "MODULO_10_-_COMENTED.ipynb",
      "provenance": []
    },
    "gist": {
      "data": {
        "description": "DATA FINAL DS-PEODUÇÃO",
        "public": true
      },
      "id": ""
    },
    "interpreter": {
      "hash": "916dbcbb3f70747c44a77c7bcd40155683ae19c65e1c03b4aa3499c5328201f1"
    },
    "kernelspec": {
      "display_name": "Python 3.8.10 64-bit",
      "language": "python",
      "name": "python3"
    },
    "language_info": {
      "codemirror_mode": {
        "name": "ipython",
        "version": 3
      },
      "file_extension": ".py",
      "mimetype": "text/x-python",
      "name": "python",
      "nbconvert_exporter": "python",
      "pygments_lexer": "ipython3",
      "version": "3.8.10"
    }
  },
  "nbformat": 4,
  "nbformat_minor": 0
}
