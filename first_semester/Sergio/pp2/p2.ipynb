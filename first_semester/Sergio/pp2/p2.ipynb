{
 "cells": [
  {
   "cell_type": "code",
   "execution_count": 7,
   "metadata": {},
   "outputs": [],
   "source": [
    "import pandas as pd\n",
    "import datetime as dt "
   ]
  },
  {
   "cell_type": "code",
   "execution_count": 86,
   "metadata": {},
   "outputs": [],
   "source": [
    "df_covid_contagio = pd.read_csv('C:\\\\Users\\\\2212120017\\\\Documents\\\\REPOS\\\\graduation_projects\\\\first_semester\\\\Sergio\\\\pp2\\\\HIST_PAINEL_COVIDBR_2022_Parte1_13jun2022.csv', sep=';')"
   ]
  },
  {
   "cell_type": "code",
   "execution_count": 87,
   "metadata": {},
   "outputs": [
    {
     "data": {
      "text/plain": [
       "regiao                     object\n",
       "estado                     object\n",
       "municipio                  object\n",
       "coduf                       int64\n",
       "codmun                    float64\n",
       "codRegiaoSaude            float64\n",
       "nomeRegiaoSaude            object\n",
       "data                       object\n",
       "semanaEpi                   int64\n",
       "populacaoTCU2019          float64\n",
       "casosAcumulado            float64\n",
       "casosNovos                  int64\n",
       "obitosAcumulado             int64\n",
       "obitosNovos                 int64\n",
       "Recuperadosnovos          float64\n",
       "emAcompanhamentoNovos     float64\n",
       "interior/metropolitana    float64\n",
       "dtype: object"
      ]
     },
     "execution_count": 87,
     "metadata": {},
     "output_type": "execute_result"
    }
   ],
   "source": [
    "#Tipos das colunas\n",
    "df_covid_contagio.dtypes"
   ]
  },
  {
   "cell_type": "code",
   "execution_count": 88,
   "metadata": {},
   "outputs": [],
   "source": [
    " # transformaçao para tipo data\n",
    " df_covid_contagio['data']= pd.to_datetime(df_covid_contagio['data'])"
   ]
  },
  {
   "cell_type": "code",
   "execution_count": 89,
   "metadata": {},
   "outputs": [],
   "source": [
    "#df_covid_contagio['data'] = df_covid_contagio['data'].dt.month"
   ]
  },
  {
   "cell_type": "code",
   "execution_count": 90,
   "metadata": {},
   "outputs": [],
   "source": [
    "# seleção apenas RJ\n",
    "df_covid_contagio_RJ = df_covid_contagio[df_covid_contagio['estado']=='RJ']"
   ]
  },
  {
   "cell_type": "code",
   "execution_count": 91,
   "metadata": {},
   "outputs": [],
   "source": [
    "#df_covid_contagio['municipio'] = df_covid_contagio['municipio']!=''"
   ]
  },
  {
   "cell_type": "code",
   "execution_count": 92,
   "metadata": {},
   "outputs": [],
   "source": [
    "#df_covid_contagio.head()"
   ]
  },
  {
   "cell_type": "code",
   "execution_count": 93,
   "metadata": {},
   "outputs": [],
   "source": [
    "#df_covid_contagio[['data', 'casosNovos', 'obitosNovos']].groupby(df_covid_contagio['data'].dt.month).sum()"
   ]
  },
  {
   "cell_type": "code",
   "execution_count": 94,
   "metadata": {},
   "outputs": [],
   "source": [
    "#Esclusao municipios null\n",
    "df_covid_contagio_RJ = df_covid_contagio_RJ[df_covid_contagio_RJ.codmun.isnull()]"
   ]
  },
  {
   "cell_type": "code",
   "execution_count": 95,
   "metadata": {},
   "outputs": [
    {
     "name": "stdout",
     "output_type": "stream",
     "text": [
      "896085\n"
     ]
    }
   ],
   "source": [
    "#Soma casos novos\n",
    "soma_casos_novos = df_covid_contagio_RJ['casosNovos'].sum()\n",
    "print(soma_casos_novos)"
   ]
  },
  {
   "cell_type": "code",
   "execution_count": 96,
   "metadata": {},
   "outputs": [
    {
     "name": "stdout",
     "output_type": "stream",
     "text": [
      "4419\n"
     ]
    }
   ],
   "source": [
    "# obuitos novos\n",
    "soma_obitos_novos = df_covid_contagio_RJ['obitosNovos'].sum()\n",
    "print(soma_obitos_novos)"
   ]
  },
  {
   "cell_type": "code",
   "execution_count": null,
   "metadata": {},
   "outputs": [],
   "source": []
  }
 ],
 "metadata": {
  "interpreter": {
   "hash": "b3ba2566441a7c06988d0923437866b63cedc61552a5af99d1f4fb67d367b25f"
  },
  "kernelspec": {
   "display_name": "Python 3.9.7 ('base')",
   "language": "python",
   "name": "python3"
  },
  "language_info": {
   "codemirror_mode": {
    "name": "ipython",
    "version": 3
   },
   "file_extension": ".py",
   "mimetype": "text/x-python",
   "name": "python",
   "nbconvert_exporter": "python",
   "pygments_lexer": "ipython3",
   "version": "3.9.7"
  },
  "orig_nbformat": 4
 },
 "nbformat": 4,
 "nbformat_minor": 2
}
