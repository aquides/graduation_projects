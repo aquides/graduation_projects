{
 "cells": [
  {
   "cell_type": "code",
   "execution_count": 7,
   "metadata": {},
   "outputs": [],
   "source": [
    "import pandas as pd\n",
    "import datetime as dt "
   ]
  },
  {
   "cell_type": "code",
   "execution_count": 69,
   "metadata": {},
   "outputs": [],
   "source": [
    "df_covid_contagio = pd.read_csv('C:\\\\Users\\\\2212120017\\\\Documents\\\\REPOS\\\\graduation_projects\\\\first_semester\\\\Sergio\\\\pp2\\\\HIST_PAINEL_COVIDBR_2022_Parte1_13jun2022.csv', sep=';')"
   ]
  },
  {
   "cell_type": "code",
   "execution_count": 70,
   "metadata": {},
   "outputs": [
    {
     "data": {
      "text/plain": [
       "regiao                     object\n",
       "estado                     object\n",
       "municipio                  object\n",
       "coduf                       int64\n",
       "codmun                    float64\n",
       "codRegiaoSaude            float64\n",
       "nomeRegiaoSaude            object\n",
       "data                       object\n",
       "semanaEpi                   int64\n",
       "populacaoTCU2019          float64\n",
       "casosAcumulado            float64\n",
       "casosNovos                  int64\n",
       "obitosAcumulado             int64\n",
       "obitosNovos                 int64\n",
       "Recuperadosnovos          float64\n",
       "emAcompanhamentoNovos     float64\n",
       "interior/metropolitana    float64\n",
       "dtype: object"
      ]
     },
     "execution_count": 70,
     "metadata": {},
     "output_type": "execute_result"
    }
   ],
   "source": [
    "df_covid_contagio.dtypes"
   ]
  },
  {
   "cell_type": "code",
   "execution_count": 71,
   "metadata": {},
   "outputs": [],
   "source": [
    " df_covid_contagio['data']= pd.to_datetime(df_covid_contagio['data'])"
   ]
  },
  {
   "cell_type": "code",
   "execution_count": 72,
   "metadata": {},
   "outputs": [],
   "source": [
    "#df_covid_contagio['data'] = df_covid_contagio['data'].dt.month"
   ]
  },
  {
   "cell_type": "code",
   "execution_count": 78,
   "metadata": {},
   "outputs": [],
   "source": [
    "df_covid_contagio_RJ = df_covid_contagio[df_covid_contagio['estado']=='RJ']"
   ]
  },
  {
   "cell_type": "code",
   "execution_count": 74,
   "metadata": {},
   "outputs": [],
   "source": [
    "#df_covid_contagio['municipio'] = df_covid_contagio['municipio']!=''"
   ]
  },
  {
   "cell_type": "code",
   "execution_count": 75,
   "metadata": {},
   "outputs": [],
   "source": [
    "#df_covid_contagio.head()"
   ]
  },
  {
   "cell_type": "code",
   "execution_count": 76,
   "metadata": {},
   "outputs": [],
   "source": [
    "#df_covid_contagio[['data', 'casosNovos', 'obitosNovos']].groupby(df_covid_contagio['data'].dt.month).sum()"
   ]
  },
  {
   "cell_type": "code",
   "execution_count": 81,
   "metadata": {},
   "outputs": [],
   "source": [
    "df_covid_contagio_RJ = df_covid_contagio_RJ[df_covid_contagio_RJ.codmun.isnull()]"
   ]
  },
  {
   "cell_type": "code",
   "execution_count": 84,
   "metadata": {},
   "outputs": [
    {
     "name": "stdout",
     "output_type": "stream",
     "text": [
      "896085\n"
     ]
    }
   ],
   "source": [
    "soma_casos_novos = df_covid_contagio_RJ['casosNovos'].sum()\n",
    "print(soma_casos_novos)"
   ]
  },
  {
   "cell_type": "code",
   "execution_count": 85,
   "metadata": {},
   "outputs": [
    {
     "name": "stdout",
     "output_type": "stream",
     "text": [
      "4419\n"
     ]
    }
   ],
   "source": [
    "soma_obitos_novos = df_covid_contagio_RJ['obitosNovos'].sum()\n",
    "print(soma_obitos_novos)"
   ]
  }
 ],
 "metadata": {
  "interpreter": {
   "hash": "b3ba2566441a7c06988d0923437866b63cedc61552a5af99d1f4fb67d367b25f"
  },
  "kernelspec": {
   "display_name": "Python 3.9.7 ('base')",
   "language": "python",
   "name": "python3"
  },
  "language_info": {
   "codemirror_mode": {
    "name": "ipython",
    "version": 3
   },
   "file_extension": ".py",
   "mimetype": "text/x-python",
   "name": "python",
   "nbconvert_exporter": "python",
   "pygments_lexer": "ipython3",
   "version": "3.9.7"
  },
  "orig_nbformat": 4
 },
 "nbformat": 4,
 "nbformat_minor": 2
}
