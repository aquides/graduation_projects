{
 "cells": [
  {
   "cell_type": "markdown",
   "metadata": {},
   "source": [
    "# P2 - Revisão"
   ]
  },
  {
   "cell_type": "markdown",
   "metadata": {},
   "source": [
    "1. Some três números quaisquer:"
   ]
  },
  {
   "cell_type": "code",
   "execution_count": null,
   "metadata": {},
   "outputs": [],
   "source": [
    "# Somar três números\n",
    "\n",
    "n1 = float(input('Digite um número qualquer:'))\n",
    "n2 = float(input('Digite outro número qualquer: '))\n",
    "n3 = float(input('Digite mais um número qualquer: '))\n",
    "\n",
    "soma = n1+n2+n3\n",
    "\n",
    "print(f'A soma dos números digitados é {soma}')"
   ]
  },
  {
   "cell_type": "markdown",
   "metadata": {},
   "source": [
    "2. Calcule a média aritmética de três números:"
   ]
  },
  {
   "cell_type": "code",
   "execution_count": null,
   "metadata": {},
   "outputs": [],
   "source": [
    "# Somar três números e dar a média aritmética\n",
    "\n",
    "n1 = float(input('Digite um número qualquer:'))\n",
    "n2 = float(input('Digite outro número qualquer: '))\n",
    "n3 = float(input('Digite mais um número qualquer: '))\n",
    "\n",
    "soma = n1+n2+n3\n",
    "media = soma / 3\n",
    "\n",
    "print(f'A média aritmética dos números digitados é {media}')"
   ]
  },
  {
   "cell_type": "markdown",
   "metadata": {},
   "source": [
    "3. Leia quatro números informados pelo usuário e depois imprima a média ponderada, sabendo que os pesos são respectivamente 1, 2, 3 e 4:"
   ]
  },
  {
   "cell_type": "code",
   "execution_count": null,
   "metadata": {},
   "outputs": [],
   "source": [
    "# Somar três números e dar a média ponderada\n",
    "\n",
    "n1 = float(input('Digite um número qualquer:'))\n",
    "n2 = float(input('Digite outro número qualquer: '))\n",
    "n3 = float(input('Digite mais um número qualquer: '))\n",
    "n4 = float(input('Digite o último número qualquer: '))\n",
    "\n",
    "soma = n1+n2+n3+n4\n",
    "media_ponderada = (n1 * 1) + (n2 * 1) + (n3 * 1) + (n4 * 1) / soma\n",
    "\n",
    "print(f'A média ponderada dos números digitados é: {media_ponderada}')"
   ]
  },
  {
   "cell_type": "markdown",
   "metadata": {},
   "source": [
    "4. Leia dois números informados pelo usuário e, conforme o valor deles, exiba uma das seguintes mensagens: \"O primeiro número informado é o maior\"; \"O segundo número informado é o maior\"; \"Ambos os números são iguais\"."
   ]
  },
  {
   "cell_type": "code",
   "execution_count": null,
   "metadata": {},
   "outputs": [],
   "source": [
    "# Ler números e determinar qual o maior\n",
    "\n",
    "n1 = float(input('Digite um número qualquer:'))\n",
    "n2 = float(input('Digite outro número qualquer: '))\n",
    "\n",
    "if n1 > n2:\n",
    "    print('O primeiro número é o maior!')\n",
    "elif n2 > n1:\n",
    "    print('O segundo número é o maior!')\n",
    "else:\n",
    "    print('Ambos os números são iguais!')"
   ]
  },
  {
   "cell_type": "markdown",
   "metadata": {},
   "source": [
    "5. Leia a base e altura de um triângulo e, em seguida, calcule a sua área.     \n",
    "Área = (Base * Altura) / 2"
   ]
  },
  {
   "cell_type": "code",
   "execution_count": null,
   "metadata": {},
   "outputs": [],
   "source": [
    "# Área do triângulo\n",
    "base = float(input('Digite a base do triângulo:'))\n",
    "altura = float(input('Digite a altura do triângulo:'))\n",
    "\n",
    "area = base * altura / 2\n",
    "\n",
    "print(f'A área do triângulo é {area}')"
   ]
  },
  {
   "cell_type": "markdown",
   "metadata": {},
   "source": [
    "6. O preço de um automóvel é calculado pela soma do preço de fábrica com o preço dos impostos (43% do preço de fábrica) e a porcentagem do revendedor (15% do preço de fábrica). \n",
    "\n",
    "    Escreva um programa que leia o nome do automóvel e o preço de fábrica; que escreva o nome do automóvel e calcule o preço final. "
   ]
  },
  {
   "cell_type": "code",
   "execution_count": null,
   "metadata": {},
   "outputs": [],
   "source": [
    "# Cálculo valor final do automóvel\n",
    "nome_automovel = input('Digite o nome do modelo do automóvel:')\n",
    "preco_fabrica = float(input('Digite o valor de fábrica:'))\n",
    "\n",
    "impostos = (preco_fabrica * 0.43)\n",
    "revendedor = (preco_fabrica * 0.15)\n",
    "valor_final = (preco_fabrica + impostos + revendedor)\n",
    "\n",
    "print(f'O valor dos impostos é: R$ {impostos}')\n",
    "print(f'O valor do revendedor é: R$ {revendedor}')\n",
    "print(f'O valor final do automóvel {nome_automovel} é: R$ {valor_final}')"
   ]
  },
  {
   "cell_type": "markdown",
   "metadata": {},
   "source": [
    "7. Dado uma série de 15 valores reais, calcule e escreva a média aritmética destes valores. Entretanto, se a média obtida for maior que 9, atribua 10 para a média."
   ]
  },
  {
   "cell_type": "code",
   "execution_count": 2,
   "metadata": {},
   "outputs": [
    {
     "name": "stdout",
     "output_type": "stream",
     "text": [
      "A média aritmética é 8.0\n"
     ]
    }
   ],
   "source": [
    "# Cria uma lista para armazenar os 15 valores reais\n",
    "numeros = []\n",
    "\n",
    "# Cria um contador para limitar a quantidade de valores em 15\n",
    "contador = 0\n",
    "\n",
    "# Cria um laço de repetição 'while' para coletar os 15 números e inserí-los na lista\n",
    "while contador < 15:\n",
    "    novo_numero = float(input('Digite um número real:'))        # Input do usuário\n",
    "    numeros.append(novo_numero)                                 # Adiciona o número digitado na lista\n",
    "    contador += 1                                               # Incrementa o contador em 1\n",
    "\n",
    "# Cálculo da média aritmética\n",
    "media = sum(numeros) / int(contador)                            # Soma dividida pelo contador\n",
    "\n",
    "# Imprime a média\n",
    "print(f'A média aritmética é {media}')                          # Imprime a média aritmética"
   ]
  },
  {
   "cell_type": "markdown",
   "metadata": {},
   "source": [
    "8. Leia três números inteiros e mostre o menor deles:"
   ]
  },
  {
   "cell_type": "code",
   "execution_count": 7,
   "metadata": {},
   "outputs": [
    {
     "name": "stdout",
     "output_type": "stream",
     "text": [
      "O menor número é 1.\n"
     ]
    }
   ],
   "source": [
    "num1 = int(input('Digite um número inteiro:'))\n",
    "num2 = int(input('Digite outro número inteiro:'))\n",
    "num3 = int(input('Digite mais um número inteiro:'))\n",
    "\n",
    "# Condições para determinar o menor número:\n",
    "if (num1 < num2) & (num1 < num3):\n",
    "    print(f'O menor número é {num1}.')\n",
    "elif (num2 < num1) & (num2 < num3):\n",
    "    print(f'O menor número é {num2}.')\n",
    "else:\n",
    "    print(f'O menor número é {num3}.')"
   ]
  },
  {
   "cell_type": "markdown",
   "metadata": {},
   "source": [
    "9. Dado um conjunto de 'n' empregados de uma empresa, com cada registro de empregado contendo um valor em real do salário bruto do empregado, faça um algoritmo que calcule o valor total bruto da folha de pagamento desta empresa:"
   ]
  },
  {
   "cell_type": "code",
   "execution_count": null,
   "metadata": {},
   "outputs": [],
   "source": [
    "# Input do número 'n' de funcionários\n",
    "quant_funcionarios = int(input('Digite a quantidade de empregados:'))\n",
    "\n",
    "# Define um contador e a soma\n",
    "contador = 0\n",
    "soma = 0\n",
    "\n",
    "# Condicional 'if'\n",
    "if (contador < quant_funcionarios):\n",
    "    while (contador < quant_funcionarios):\n",
    "        contador += 1\n",
    "        salario = float(input(f'Digite o valor do salário bruto do funcionário nº {contador} em R$'))\n",
    "        soma += salario\n",
    "\n",
    "print(f'A soma dos salários brutos na empresa é R$ {soma}')"
   ]
  },
  {
   "cell_type": "markdown",
   "metadata": {},
   "source": [
    "10. Dado um conjunto de 'n' empregados de uma empresa, com cada registro de empregado contendo um valor em real do salário bruto do empregado, faça um algoritmo que calcule a média dos valores maiores ou iguais a R$ 1.045,00:"
   ]
  },
  {
   "cell_type": "code",
   "execution_count": null,
   "metadata": {},
   "outputs": [],
   "source": [
    "# Input do número 'n' de funcionários\n",
    "quant_funcionarios = int(input('Digite a quantidade de empregados:'))\n",
    "\n",
    "# Define um contador e a soma\n",
    "contador = 0\n",
    "soma = 0\n",
    "\n",
    "# Condicional 'if'\n",
    "if (contador < quant_funcionarios):\n",
    "    while (contador < quant_funcionarios):\n",
    "        contador += 1\n",
    "        salario = float(input(f'Digite o valor do salário bruto do funcionário nº {contador} em R$'))\n",
    "        if (salario >= 1045):\n",
    "            soma += salario\n",
    "\n",
    "print(f'A soma dos salários brutos maiores que R$ 1.045,00 na empresa é R$ {soma}')"
   ]
  },
  {
   "cell_type": "markdown",
   "metadata": {},
   "source": [
    "11. Faça um algoritmo que transforme a temperatura fornecida em Celsius para a correspondente em Fahrenheit:"
   ]
  },
  {
   "cell_type": "code",
   "execution_count": null,
   "metadata": {},
   "outputs": [],
   "source": [
    "temp_celsius = float(input('Informe a temperatura em ºC:'))\n",
    "\n",
    "fahrenheit = (temp_celsius * 1.8) + 32\n",
    "\n",
    "print(f'A temperatura informada em Fahrenheit é {fahrenheit} ºF')"
   ]
  },
  {
   "cell_type": "markdown",
   "metadata": {},
   "source": [
    "12. Faça um algoritmo que leia dois valores 'x' e 'y'. O algoritmo deve trocar os valores lidos, de forma que, ao final, 'x' contenha o valor que foi inicialmente atribuído em 'y', e 'y' contenha o valor que foi inicialmente atribuído a 'x'. Imprima os valores de 'x' e 'y' logo após a leitura e depois imprima novamente após a troca."
   ]
  },
  {
   "cell_type": "code",
   "execution_count": null,
   "metadata": {},
   "outputs": [],
   "source": [
    "x = int(input('Digite o valor de X:'))\n",
    "y = int(input('Digite o valor de Y:'))\n",
    "\n",
    "print(f'O valor de \"X\" é {x} e o valor de \"Y\" é {y}.')\n",
    "\n",
    "# Troca de posição\n",
    "valor = x\n",
    "x = y\n",
    "y = valor\n",
    "\n",
    "print(f'O valor atribuído de \"X\" é {x} e de \"Y\" é {y}.')"
   ]
  },
  {
   "cell_type": "markdown",
   "metadata": {},
   "source": [
    "13. Faça um algoritmo que lê o nome de um produto, a quantidade comprada, o valor unitário e o percentual de desconto a ser aplicado. Imprima o nome do produto e o valor total da venda."
   ]
  },
  {
   "cell_type": "code",
   "execution_count": null,
   "metadata": {},
   "outputs": [],
   "source": [
    "nomeProduto = input('Digite o nome do produto:')\n",
    "quantidade = int(input('Digite a quantidade comprada:'))\n",
    "valorUnitario = float(input('Digite o valor unitário:'))\n",
    "percentualDesconto = float(input('Digite o percentual de desconto sobre este item:'))\n",
    "\n",
    "# Cálculo\n",
    "subtotal = float(quantidade * valorUnitario)\n",
    "desconto = float(quantidade * percentualDesconto)\n",
    "descontoTotal = float(desconto * quantidade)\n",
    "total = float(subtotal - descontoTotal)\n",
    "\n",
    "print(f'-------------------------------------------------')\n",
    "print(f'Carrinho de compras: {quantidade} x {nomeProduto}')\n",
    "print(f'-------------------------------------------------')\n",
    "print(f'Subtotal = R$ {subtotal}')\n",
    "print(f'Desconto = -R$ {descontoTotal}')\n",
    "print(f'Total = R$ {total}')\n",
    "print(f'-------------------------------------------------')"
   ]
  },
  {
   "cell_type": "markdown",
   "metadata": {},
   "source": [
    "14. Um círculo de raio 2 é colocado dentro de um retângulo de lados 5 e 7. Faça um programa que informe o tamanho da área do retângulo que não está sendo ocupada pelo círculo.\n",
    "    Área da circunferência = pi * r^2"
   ]
  },
  {
   "cell_type": "code",
   "execution_count": null,
   "metadata": {},
   "outputs": [],
   "source": [
    "import numpy\n",
    "\n",
    "raio = float(2)\n",
    "baseRetangulo = float(7)\n",
    "alturaRetangulo = float(5)\n",
    "pi = (numpy.pi)\n",
    "\n",
    "areaCirculo = (pi * raio ** 2)\n",
    "print(f'A área da circunferência é {areaCirculo}')\n",
    "\n",
    "areaRetangulo = float((baseRetangulo * alturaRetangulo))\n",
    "print(f'A área do retângulo é {areaRetangulo}')\n",
    "\n",
    "areaLivre = float((areaRetangulo - areaCirculo))\n",
    "print(f'A área livre no retângulo é {areaLivre}')"
   ]
  },
  {
   "cell_type": "markdown",
   "metadata": {},
   "source": [
    "15. Faça um programa que lê um valor em reais e calcule o valor equivalente em dólar. O usuário deve informar o valor em reais e a cotação do dólar."
   ]
  },
  {
   "cell_type": "code",
   "execution_count": null,
   "metadata": {},
   "outputs": [],
   "source": [
    "valorReal = float(input('Digite o valor em Reais: R$'))\n",
    "cotacaoDolar = float(input('Digite a cotação atual do Dólar: US$'))\n",
    "\n",
    "valorDolar = float(valorReal / cotacaoDolar)\n",
    "\n",
    "print(f'O valor R$ {valorReal} corresponde a US$ {valorDolar}')"
   ]
  },
  {
   "cell_type": "markdown",
   "metadata": {},
   "source": [
    "16. Escreva uma expressão lógica que seja verdadeira no caso do valor lido estar compreendido entre 10 e 50. O programa deve imprimir na tela o resultado da expressão lógica (True ou False):"
   ]
  },
  {
   "cell_type": "code",
   "execution_count": null,
   "metadata": {},
   "outputs": [],
   "source": [
    "valor = float(input('Digite um valor qualquer:'))\n",
    "\n",
    "if (valor >= 10) & (valor <= 50):\n",
    "    valor = True\n",
    "    print(valor)\n",
    "else:\n",
    "    valor = False\n",
    "    print(valor)"
   ]
  },
  {
   "cell_type": "markdown",
   "metadata": {},
   "source": [
    "17. Escreva um programa que imprime a quantidade de números pares entre 100 e 200, incluindo-os."
   ]
  },
  {
   "cell_type": "code",
   "execution_count": 2,
   "metadata": {},
   "outputs": [
    {
     "name": "stdout",
     "output_type": "stream",
     "text": [
      "100 102 104 106 108 110 112 114 116 118 120 122 124 126 128 130 132 134 136 138 140 142 144 146 148 150 152 154 156 158 160 162 164 166 168 170 172 174 176 178 180 182 184 186 188 190 192 194 196 198 200 \n",
      "\n",
      "A quantidade de números pares entre 100 e 200 é 51.\n"
     ]
    }
   ],
   "source": [
    "quantidadePares = 0                 # É preciso definir a variável quantidadePares.\n",
    "\n",
    "for numero in range(100,201,2):     # 201 para incluir o valor 200, pulando de dois em dois. \n",
    "    print(numero, end=' ')          # end=' ' é o separador entre os valores impressos, para não virar uma lista vertical.\n",
    "    quantidadePares += 1\n",
    "\n",
    "print()\n",
    "print()\n",
    "print(f'A quantidade de números pares entre 100 e 200 é {quantidadePares}.')"
   ]
  },
  {
   "cell_type": "markdown",
   "metadata": {},
   "source": [
    "18. Desenvolva um algoritmo para contar a quantidade de números pares entre dois números quaisquer."
   ]
  },
  {
   "cell_type": "code",
   "execution_count": null,
   "metadata": {},
   "outputs": [],
   "source": [
    "valorInicial = int(input('Digite um valor inicial:'))\n",
    "valorFinal = int(input('Digite um valor final:'))\n",
    "\n",
    "quantidadePares = 0                                   # É preciso definir a variável quantidadePares.\n",
    "\n",
    "for numero in range(valorInicial, valorFinal, 2):\n",
    "    if (numero % 2) == 0:\n",
    "        print(numero, end=' ')\n",
    "        quantidadePares += 1\n",
    "\n",
    "print()\n",
    "print()\n",
    "print(f'A quantidade de números pares entre {valorInicial} e {valorFinal} é {quantidadePares}.')"
   ]
  },
  {
   "cell_type": "markdown",
   "metadata": {},
   "source": [
    "19. Desenvolva um algoritmo que imprime a soma de todos os números pares entre dois números quaisquer, incluindo-os."
   ]
  },
  {
   "cell_type": "code",
   "execution_count": 3,
   "metadata": {},
   "outputs": [
    {
     "name": "stdout",
     "output_type": "stream",
     "text": [
      "A soma dos números pares entre 100 e 201 é 7650.\n"
     ]
    }
   ],
   "source": [
    "valorInicial = int(input('Digite um valor inicial:'))\n",
    "valorFinal = int(input('Digite um valor final:'))\n",
    "\n",
    "somaPares = 0\n",
    "\n",
    "for numero in range(valorInicial, valorFinal):\n",
    "    if (numero % 2) == 0:\n",
    "        somaPares += numero\n",
    "\n",
    "print(f'A soma dos números pares entre {valorInicial} e {valorFinal} é {somaPares}.')"
   ]
  },
  {
   "cell_type": "markdown",
   "metadata": {},
   "source": [
    "20. Imprima o fatorial de um número 'n'."
   ]
  },
  {
   "cell_type": "code",
   "execution_count": 4,
   "metadata": {},
   "outputs": [
    {
     "name": "stdout",
     "output_type": "stream",
     "text": [
      "Fatorial de 12! = 479001600\n"
     ]
    }
   ],
   "source": [
    "numero = int(input('Digite um número inteiro qualquer:'))\n",
    "\n",
    "fatorial = 1\n",
    "i = numero\n",
    "\n",
    "while i >= 2:\n",
    "    fatorial = fatorial * i\n",
    "    i = i - 1\n",
    "\n",
    "print(f'Fatorial de {numero}! = {fatorial}')"
   ]
  },
  {
   "cell_type": "markdown",
   "metadata": {},
   "source": [
    "21. Construa um algoritmo que imprima na tela os 'n' primeiros elementos da sequência de Fibonacci, onde 'n' é informado pelo usuário."
   ]
  },
  {
   "cell_type": "code",
   "execution_count": 5,
   "metadata": {},
   "outputs": [
    {
     "name": "stdout",
     "output_type": "stream",
     "text": [
      "1 1 2 3 5 8 13 21 34 55 89 144 "
     ]
    }
   ],
   "source": [
    "# Input\n",
    "quantElementos = int(input('Digite a quantidade de elementos a serem exibidos:'))\n",
    "\n",
    "elementoAnterior1 = 1\n",
    "elementoAnterior2 = 1\n",
    "print(elementoAnterior1, elementoAnterior2, end=' ')\n",
    "\n",
    "# Cálculo\n",
    "contador = 3\n",
    "\n",
    "while (contador <= quantElementos):\n",
    "    proximo = elementoAnterior1 + elementoAnterior2\n",
    "    print(proximo, end=' ')\n",
    "\n",
    "    elementoAnterior2 = elementoAnterior1\n",
    "    elementoAnterior1 = proximo\n",
    "    contador += 1"
   ]
  },
  {
   "cell_type": "markdown",
   "metadata": {},
   "source": [
    "22. Crie um algoritmo que permita que um usuário informe até 10 números reais positivos. Após isso, o algoritmo deve informar a média e o desvio padrão amostral dos valores informados."
   ]
  },
  {
   "cell_type": "code",
   "execution_count": null,
   "metadata": {},
   "outputs": [],
   "source": [
    "# Cria uma lista de números\n",
    "listaNumeros = []\n",
    "\n",
    "# Popula a lista com 10 valores do input\n",
    "contador = 0\n",
    "for contador in range (0,10):\n",
    "    numeros = float(input('Digite um número real positivo:'))\n",
    "    listaNumeros.append(numeros)\n",
    "\n",
    "# Calcula média aritmética\n",
    "media = sum(listaNumeros) / len(listaNumeros)\n",
    "\n",
    "# Calcula o desvio padrão amostral\n",
    "import numpy as np\n",
    "desvioPadrao = np.std(listaNumeros)\n",
    "\n",
    "# Imprime os resultados\n",
    "print(f'A lista de números digitados é: {listaNumeros}')\n",
    "print(f'A quantidade de números na lista é: {len(listaNumeros)}')\n",
    "print(f'A soma de todos os números da lista é: {sum(listaNumeros)}')\n",
    "print()\n",
    "print(f'A média aritmética da lista é: {media}')\n",
    "print(f'O desvio padrão da lista é: {desvioPadrao}')"
   ]
  },
  {
   "cell_type": "markdown",
   "metadata": {},
   "source": [
    "23. Desenvolva um algoritmo que efetue a soma de todos os números ímpares que são múltiplos de três e que se encontram no conjunto dos números de 1 a 500."
   ]
  },
  {
   "cell_type": "code",
   "execution_count": 6,
   "metadata": {},
   "outputs": [
    {
     "name": "stdout",
     "output_type": "stream",
     "text": [
      "3 9 15 21 27 33 39 45 51 57 63 69 75 81 87 93 99 105 111 117 123 129 135 141 147 153 159 165 171 177 183 189 195 201 207 213 219 225 231 237 243 249 255 261 267 273 279 285 291 297 303 309 315 321 327 333 339 345 351 357 363 369 375 381 387 393 399 405 411 417 423 429 435 441 447 453 459 465 471 477 483 489 495 \n",
      "\n",
      "A soma dos números ímpares múltiplos de três entre 1 e 500 é 20667\n"
     ]
    }
   ],
   "source": [
    "somaMultiplos = 0\n",
    "\n",
    "for multiploTres in range(1, 501, 2):\n",
    "    if multiploTres % 3 == 0:\n",
    "         print(multiploTres, end=' ')\n",
    "         somaMultiplos += multiploTres\n",
    "\n",
    "print('\\n')\n",
    "print(f'A soma dos números ímpares múltiplos de três entre 1 e 500 é {int(somaMultiplos)}')"
   ]
  },
  {
   "cell_type": "markdown",
   "metadata": {},
   "source": [
    "24. Faça um algoritmo estruturado que leia uma quantidade não determinada de números positivos. Calcule a quantidade de números pares e ímpares, a média dos valores pares e a média geral dos números lidos. O número que encerrará a leitura será zero."
   ]
  },
  {
   "cell_type": "code",
   "execution_count": 13,
   "metadata": {},
   "outputs": [
    {
     "name": "stdout",
     "output_type": "stream",
     "text": [
      "A quantidade de pares digitados é: 2\n",
      "A quantidade de ímpares digitados é: 1\n",
      "A média de pares é: 19.5\n",
      "A média geral é: 16.0\n"
     ]
    }
   ],
   "source": [
    "numero = int(0)\n",
    "quantPares = int(0)\n",
    "quantImpares = int(0)\n",
    "somaPares = int(0)\n",
    "somaImpares = int(0)\n",
    "mediaPares = int(0)\n",
    "mediaGeral = int(0)\n",
    "\n",
    "while (numero >= 0):\n",
    "    numero = int(input('Digite um valor qualquer (0 para encerrar):'))\n",
    "    if (numero <= 0):\n",
    "        break\n",
    "\n",
    "    if (numero % 2 == 0):\n",
    "        quantPares += 1\n",
    "    else:\n",
    "        quantImpares += 1\n",
    "        somaImpares += numero\n",
    "    \n",
    "    somaPares += numero\n",
    "\n",
    "print(f'A quantidade de pares digitados é: {quantPares}')\n",
    "print(f'A quantidade de ímpares digitados é: {quantImpares}')\n",
    "\n",
    "if (somaPares != 0):\n",
    "    mediaPares = (somaPares / (quantPares ))\n",
    "    mediaGeral = ((somaPares + somaImpares) / (quantPares + quantImpares))\n",
    "\n",
    "print(f'A média de pares é: {mediaPares}')\n",
    "print(f'A média geral é: {mediaGeral}')"
   ]
  },
  {
   "cell_type": "markdown",
   "metadata": {},
   "source": [
    "25. Escreva um algoritmo que leia um valor inicial 'A' e imprima a sequência de valores do cálculo de 'A!' e o seu resultado."
   ]
  },
  {
   "cell_type": "code",
   "execution_count": null,
   "metadata": {},
   "outputs": [],
   "source": [
    "🥴"
   ]
  }
 ],
 "metadata": {
  "kernelspec": {
   "display_name": "Python 3.8.10 64-bit",
   "language": "python",
   "name": "python3"
  },
  "language_info": {
   "codemirror_mode": {
    "name": "ipython",
    "version": 3
   },
   "file_extension": ".py",
   "mimetype": "text/x-python",
   "name": "python",
   "nbconvert_exporter": "python",
   "pygments_lexer": "ipython3",
   "version": "3.8.10"
  },
  "orig_nbformat": 4,
  "vscode": {
   "interpreter": {
    "hash": "916dbcbb3f70747c44a77c7bcd40155683ae19c65e1c03b4aa3499c5328201f1"
   }
  }
 },
 "nbformat": 4,
 "nbformat_minor": 2
}
