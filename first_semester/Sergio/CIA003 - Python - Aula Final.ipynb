{
 "cells": [
  {
   "cell_type": "markdown",
   "metadata": {
    "id": "XrxnotkOffp6"
   },
   "source": [
    "# Variáveis, Operadores, Entrada e Saídas"
   ]
  },
  {
   "cell_type": "code",
   "execution_count": 1,
   "metadata": {
    "id": "tz3AnkrL_CoB"
   },
   "outputs": [],
   "source": [
    "altura = 1.76"
   ]
  },
  {
   "cell_type": "code",
   "execution_count": 2,
   "metadata": {
    "id": "tTJ6opI3fq8i"
   },
   "outputs": [],
   "source": [
    "peso = 58"
   ]
  },
  {
   "cell_type": "code",
   "execution_count": 3,
   "metadata": {
    "id": "hkHdVFuZfq6a"
   },
   "outputs": [],
   "source": [
    "IMC = peso / (altura * altura)"
   ]
  },
  {
   "cell_type": "code",
   "execution_count": 4,
   "metadata": {
    "colab": {
     "base_uri": "https://localhost:8080/"
    },
    "executionInfo": {
     "elapsed": 900,
     "status": "ok",
     "timestamp": 1612974122686,
     "user": {
      "displayName": "Nasser Boan",
      "photoUrl": "https://lh3.googleusercontent.com/a-/AOh14GjTuDNvutj8p2cEHjJxzACQfn_42JEES7ikq7d-Sg=s64",
      "userId": "07798417422536509606"
     },
     "user_tz": 180
    },
    "id": "NsKau5cmfq35",
    "outputId": "f204646b-9cde-4233-a7fa-c215ca43e9ee"
   },
   "outputs": [
    {
     "name": "stdout",
     "output_type": "stream",
     "text": [
      "18.72417355371901\n"
     ]
    }
   ],
   "source": [
    "print(IMC)"
   ]
  },
  {
   "cell_type": "code",
   "execution_count": 5,
   "metadata": {
    "colab": {
     "base_uri": "https://localhost:8080/"
    },
    "executionInfo": {
     "elapsed": 881,
     "status": "ok",
     "timestamp": 1612974122688,
     "user": {
      "displayName": "Nasser Boan",
      "photoUrl": "https://lh3.googleusercontent.com/a-/AOh14GjTuDNvutj8p2cEHjJxzACQfn_42JEES7ikq7d-Sg=s64",
      "userId": "07798417422536509606"
     },
     "user_tz": 180
    },
    "id": "38DZk9cOkBGu",
    "outputId": "c95d886b-2fd6-4351-c802-68e9109d6052"
   },
   "outputs": [
    {
     "name": "stdout",
     "output_type": "stream",
     "text": [
      "Seu peso é: 58 kilos.\n",
      "Sua altura é: 1.76 metros.\n",
      "O IMC é: 18.72417355371901.\n",
      "P: 58, A: 1.76, IMC: 18.72417355371901.\n"
     ]
    }
   ],
   "source": [
    "print(f'Seu peso é: {peso} kilos.')\n",
    "\n",
    "print(f'Sua altura é: {altura} metros.')\n",
    "\n",
    "print(f'O IMC é: {IMC}.')\n",
    "\n",
    "print(f'P: {peso}, A: {altura}, IMC: {IMC}.')"
   ]
  },
  {
   "cell_type": "code",
   "execution_count": 6,
   "metadata": {
    "id": "c37tgCMshnx7"
   },
   "outputs": [],
   "source": [
    "x = 7"
   ]
  },
  {
   "cell_type": "code",
   "execution_count": 7,
   "metadata": {
    "id": "HtMHDF6qhiwI"
   },
   "outputs": [],
   "source": [
    "y = 2*(x**2) - 3*(x**(x+1))/2 + ((x+1)**0.5)/x"
   ]
  },
  {
   "cell_type": "code",
   "execution_count": 8,
   "metadata": {
    "colab": {
     "base_uri": "https://localhost:8080/"
    },
    "executionInfo": {
     "elapsed": 889,
     "status": "ok",
     "timestamp": 1612974122688,
     "user": {
      "displayName": "Nasser Boan",
      "photoUrl": "https://lh3.googleusercontent.com/a-/AOh14GjTuDNvutj8p2cEHjJxzACQfn_42JEES7ikq7d-Sg=s64",
      "userId": "07798417422536509606"
     },
     "user_tz": 180
    },
    "id": "qzJzzHBJhw7v",
    "outputId": "bf523d85-fc4a-4706-83da-f5ed25efa9b2"
   },
   "outputs": [
    {
     "name": "stdout",
     "output_type": "stream",
     "text": [
      "-8647103.095938982\n"
     ]
    }
   ],
   "source": [
    "print(y)"
   ]
  },
  {
   "cell_type": "code",
   "execution_count": 9,
   "metadata": {
    "colab": {
     "base_uri": "https://localhost:8080/",
     "height": 52
    },
    "executionInfo": {
     "elapsed": 12065,
     "status": "ok",
     "timestamp": 1612974133882,
     "user": {
      "displayName": "Nasser Boan",
      "photoUrl": "https://lh3.googleusercontent.com/a-/AOh14GjTuDNvutj8p2cEHjJxzACQfn_42JEES7ikq7d-Sg=s64",
      "userId": "07798417422536509606"
     },
     "user_tz": 180
    },
    "id": "O2GZUltVmxJy",
    "outputId": "fdcb13c6-d99f-4d66-9492-d9e4de227ba9"
   },
   "outputs": [
    {
     "data": {
      "text/plain": [
       "''"
      ]
     },
     "execution_count": 9,
     "metadata": {},
     "output_type": "execute_result"
    }
   ],
   "source": [
    "input('Qual o seu nome? ')"
   ]
  },
  {
   "cell_type": "code",
   "execution_count": 13,
   "metadata": {
    "colab": {
     "base_uri": "https://localhost:8080/"
    },
    "executionInfo": {
     "elapsed": 15662,
     "status": "ok",
     "timestamp": 1612974137488,
     "user": {
      "displayName": "Nasser Boan",
      "photoUrl": "https://lh3.googleusercontent.com/a-/AOh14GjTuDNvutj8p2cEHjJxzACQfn_42JEES7ikq7d-Sg=s64",
      "userId": "07798417422536509606"
     },
     "user_tz": 180
    },
    "id": "xd7CMhALkk7X",
    "outputId": "dc5a76e6-3c4e-4b8a-d907-df7c47f280e7"
   },
   "outputs": [
    {
     "name": "stdout",
     "output_type": "stream",
     "text": [
      "Sua idade em meses é 216.0 meses; E em dias é 6570.0 dias.\n"
     ]
    }
   ],
   "source": [
    "idade = input('Qual é sua idade? ')\n",
    "idade_em_float = float(idade)\n",
    "print(f\"Sua idade em meses é {idade_em_float*12} meses; E em dias é {idade_em_float*365} dias.\")"
   ]
  },
  {
   "cell_type": "markdown",
   "metadata": {
    "id": "f_-ToObJudB7"
   },
   "source": [
    "# Tipos de dados"
   ]
  },
  {
   "cell_type": "code",
   "execution_count": 14,
   "metadata": {
    "colab": {
     "base_uri": "https://localhost:8080/"
    },
    "executionInfo": {
     "elapsed": 15654,
     "status": "ok",
     "timestamp": 1612974137489,
     "user": {
      "displayName": "Nasser Boan",
      "photoUrl": "https://lh3.googleusercontent.com/a-/AOh14GjTuDNvutj8p2cEHjJxzACQfn_42JEES7ikq7d-Sg=s64",
      "userId": "07798417422536509606"
     },
     "user_tz": 180
    },
    "id": "y35OcU6ouj3W",
    "outputId": "6f7fc9db-cb81-49eb-efa2-59420e460527"
   },
   "outputs": [
    {
     "data": {
      "text/plain": [
       "str"
      ]
     },
     "execution_count": 14,
     "metadata": {},
     "output_type": "execute_result"
    }
   ],
   "source": [
    "x = 'Estudante'\n",
    "\n",
    "type(x)"
   ]
  },
  {
   "cell_type": "code",
   "execution_count": 15,
   "metadata": {
    "colab": {
     "base_uri": "https://localhost:8080/"
    },
    "executionInfo": {
     "elapsed": 15647,
     "status": "ok",
     "timestamp": 1612974137490,
     "user": {
      "displayName": "Nasser Boan",
      "photoUrl": "https://lh3.googleusercontent.com/a-/AOh14GjTuDNvutj8p2cEHjJxzACQfn_42JEES7ikq7d-Sg=s64",
      "userId": "07798417422536509606"
     },
     "user_tz": 180
    },
    "id": "woIpvfvxuj1J",
    "outputId": "6b4eaf16-59c6-4773-8311-8921fb0a796d"
   },
   "outputs": [
    {
     "data": {
      "text/plain": [
       "int"
      ]
     },
     "execution_count": 15,
     "metadata": {},
     "output_type": "execute_result"
    }
   ],
   "source": [
    "x = 10\n",
    "\n",
    "type(x)"
   ]
  },
  {
   "cell_type": "code",
   "execution_count": 16,
   "metadata": {
    "colab": {
     "base_uri": "https://localhost:8080/"
    },
    "executionInfo": {
     "elapsed": 15638,
     "status": "ok",
     "timestamp": 1612974137490,
     "user": {
      "displayName": "Nasser Boan",
      "photoUrl": "https://lh3.googleusercontent.com/a-/AOh14GjTuDNvutj8p2cEHjJxzACQfn_42JEES7ikq7d-Sg=s64",
      "userId": "07798417422536509606"
     },
     "user_tz": 180
    },
    "id": "w09G5qrwujyk",
    "outputId": "1a909001-2eb2-4493-8be9-d1b194d60b02"
   },
   "outputs": [
    {
     "data": {
      "text/plain": [
       "float"
      ]
     },
     "execution_count": 16,
     "metadata": {},
     "output_type": "execute_result"
    }
   ],
   "source": [
    "x = 3.3\n",
    "\n",
    "type(x)"
   ]
  },
  {
   "cell_type": "code",
   "execution_count": 17,
   "metadata": {
    "colab": {
     "base_uri": "https://localhost:8080/"
    },
    "executionInfo": {
     "elapsed": 7676,
     "status": "ok",
     "timestamp": 1612974137491,
     "user": {
      "displayName": "Nasser Boan",
      "photoUrl": "https://lh3.googleusercontent.com/a-/AOh14GjTuDNvutj8p2cEHjJxzACQfn_42JEES7ikq7d-Sg=s64",
      "userId": "07798417422536509606"
     },
     "user_tz": 180
    },
    "id": "NkeXt-anv-lL",
    "outputId": "d068e93c-df82-47ef-d1a9-972e73f6c131"
   },
   "outputs": [
    {
     "data": {
      "text/plain": [
       "bool"
      ]
     },
     "execution_count": 17,
     "metadata": {},
     "output_type": "execute_result"
    }
   ],
   "source": [
    "x = True\n",
    "\n",
    "type(x)"
   ]
  },
  {
   "cell_type": "markdown",
   "metadata": {
    "id": "v9kWt3AvkRvp"
   },
   "source": [
    "# Métodos de String\n",
    "\n"
   ]
  },
  {
   "cell_type": "code",
   "execution_count": 18,
   "metadata": {
    "id": "mFf3eF0Mv-ec"
   },
   "outputs": [],
   "source": [
    "meu_nome = 'AZZAZEL'"
   ]
  },
  {
   "cell_type": "code",
   "execution_count": 19,
   "metadata": {
    "colab": {
     "base_uri": "https://localhost:8080/",
     "height": 35
    },
    "executionInfo": {
     "elapsed": 1852,
     "status": "ok",
     "timestamp": 1613394724110,
     "user": {
      "displayName": "Nasser Boan",
      "photoUrl": "https://lh3.googleusercontent.com/a-/AOh14GjTuDNvutj8p2cEHjJxzACQfn_42JEES7ikq7d-Sg=s64",
      "userId": "07798417422536509606"
     },
     "user_tz": 180
    },
    "id": "7QvW7pkGv-cL",
    "outputId": "71af57e1-875e-419e-cdf6-65e781a82482"
   },
   "outputs": [
    {
     "data": {
      "text/plain": [
       "'AZZAZEL'"
      ]
     },
     "execution_count": 19,
     "metadata": {},
     "output_type": "execute_result"
    }
   ],
   "source": [
    "meu_nome.upper()"
   ]
  },
  {
   "cell_type": "code",
   "execution_count": 20,
   "metadata": {
    "id": "6flkwubZuY1q"
   },
   "outputs": [],
   "source": [
    "tweet = 'Bom dia, vocês estão estudando muito? Alguma dificuldade?'"
   ]
  },
  {
   "cell_type": "code",
   "execution_count": 21,
   "metadata": {
    "colab": {
     "base_uri": "https://localhost:8080/",
     "height": 35
    },
    "executionInfo": {
     "elapsed": 812,
     "status": "ok",
     "timestamp": 1613395030720,
     "user": {
      "displayName": "Nasser Boan",
      "photoUrl": "https://lh3.googleusercontent.com/a-/AOh14GjTuDNvutj8p2cEHjJxzACQfn_42JEES7ikq7d-Sg=s64",
      "userId": "07798417422536509606"
     },
     "user_tz": 180
    },
    "id": "l17n71XYuYze",
    "outputId": "67d0e852-469b-4260-894e-bbdeef9c4306"
   },
   "outputs": [
    {
     "data": {
      "text/plain": [
       "'BOM DIA, VOCÊS ESTÃO ESTUDANDO MUITO? ALGUMA DIFICULDADE?'"
      ]
     },
     "execution_count": 21,
     "metadata": {},
     "output_type": "execute_result"
    }
   ],
   "source": [
    "tweet.upper() # maiuscula"
   ]
  },
  {
   "cell_type": "code",
   "execution_count": 22,
   "metadata": {
    "colab": {
     "base_uri": "https://localhost:8080/",
     "height": 35
    },
    "executionInfo": {
     "elapsed": 659,
     "status": "ok",
     "timestamp": 1613395030720,
     "user": {
      "displayName": "Nasser Boan",
      "photoUrl": "https://lh3.googleusercontent.com/a-/AOh14GjTuDNvutj8p2cEHjJxzACQfn_42JEES7ikq7d-Sg=s64",
      "userId": "07798417422536509606"
     },
     "user_tz": 180
    },
    "id": "wTMLjPh4uYxj",
    "outputId": "fe92d138-3959-4b83-d606-78076e78edec"
   },
   "outputs": [
    {
     "data": {
      "text/plain": [
       "'bom dia, vocês estão estudando muito? alguma dificuldade?'"
      ]
     },
     "execution_count": 22,
     "metadata": {},
     "output_type": "execute_result"
    }
   ],
   "source": [
    "tweet.lower() # minuscula"
   ]
  },
  {
   "cell_type": "code",
   "execution_count": 23,
   "metadata": {
    "colab": {
     "base_uri": "https://localhost:8080/",
     "height": 35
    },
    "executionInfo": {
     "elapsed": 512,
     "status": "ok",
     "timestamp": 1613395030721,
     "user": {
      "displayName": "Nasser Boan",
      "photoUrl": "https://lh3.googleusercontent.com/a-/AOh14GjTuDNvutj8p2cEHjJxzACQfn_42JEES7ikq7d-Sg=s64",
      "userId": "07798417422536509606"
     },
     "user_tz": 180
    },
    "id": "JnQ8haKVuYvY",
    "outputId": "5aa41614-c87a-4979-913f-7945b35309ea"
   },
   "outputs": [
    {
     "data": {
      "text/plain": [
       "'Bom dia, vocês estão estudando muito? alguma dificuldade?'"
      ]
     },
     "execution_count": 23,
     "metadata": {},
     "output_type": "execute_result"
    }
   ],
   "source": [
    "tweet.capitalize() # Apenas a primeira maiuscula"
   ]
  },
  {
   "cell_type": "code",
   "execution_count": 24,
   "metadata": {
    "colab": {
     "base_uri": "https://localhost:8080/"
    },
    "executionInfo": {
     "elapsed": 607,
     "status": "ok",
     "timestamp": 1613395090713,
     "user": {
      "displayName": "Nasser Boan",
      "photoUrl": "https://lh3.googleusercontent.com/a-/AOh14GjTuDNvutj8p2cEHjJxzACQfn_42JEES7ikq7d-Sg=s64",
      "userId": "07798417422536509606"
     },
     "user_tz": 180
    },
    "id": "kFysxzq81d2A",
    "outputId": "e64a1fec-b2b8-489c-dcec-6efe2b3de306"
   },
   "outputs": [
    {
     "ename": "SyntaxError",
     "evalue": "unexpected EOF while parsing (Temp/ipykernel_3144/1763040725.py, line 4)",
     "output_type": "error",
     "traceback": [
      "\u001b[1;36m  File \u001b[1;32m\"C:\\Users\\2266C0~1\\AppData\\Local\\Temp/ipykernel_3144/1763040725.py\"\u001b[1;36m, line \u001b[1;32m4\u001b[0m\n\u001b[1;33m    print(tweet.startswith('Bom dia!! ') # Verifica se os caracteres estao contido na variavel tweet\u001b[0m\n\u001b[1;37m                                                                                                    ^\u001b[0m\n\u001b[1;31mSyntaxError\u001b[0m\u001b[1;31m:\u001b[0m unexpected EOF while parsing\n"
     ]
    }
   ],
   "source": [
    "print(tweet.startswith('B'))\n",
    "print(tweet.startswith('Bom'))\n",
    "print(tweet.startswith('Bom dia'))\n",
    "print(tweet.startswith('Bom dia!! ') # Verifica se os caracteres estao contido na variavel tweet"
   ]
  },
  {
   "cell_type": "code",
   "execution_count": 25,
   "metadata": {
    "colab": {
     "base_uri": "https://localhost:8080/"
    },
    "executionInfo": {
     "elapsed": 655,
     "status": "ok",
     "timestamp": 1613395135823,
     "user": {
      "displayName": "Nasser Boan",
      "photoUrl": "https://lh3.googleusercontent.com/a-/AOh14GjTuDNvutj8p2cEHjJxzACQfn_42JEES7ikq7d-Sg=s64",
      "userId": "07798417422536509606"
     },
     "user_tz": 180
    },
    "id": "BlsXJXlI1dtJ",
    "outputId": "6d99741c-1bf5-49e6-b80e-74d53b72ab98"
   },
   "outputs": [
    {
     "name": "stdout",
     "output_type": "stream",
     "text": [
      "True\n",
      "False\n",
      "True\n",
      "False\n"
     ]
    }
   ],
   "source": [
    "print(tweet.endswith('?'))\n",
    "print(tweet.endswith('..'))\n",
    "print(tweet.endswith('dificuldade?'))\n",
    "print(tweet.endswith('... '))"
   ]
  },
  {
   "cell_type": "code",
   "execution_count": 26,
   "metadata": {
    "colab": {
     "base_uri": "https://localhost:8080/",
     "height": 35
    },
    "executionInfo": {
     "elapsed": 645,
     "status": "ok",
     "timestamp": 1613395666182,
     "user": {
      "displayName": "Nasser Boan",
      "photoUrl": "https://lh3.googleusercontent.com/a-/AOh14GjTuDNvutj8p2cEHjJxzACQfn_42JEES7ikq7d-Sg=s64",
      "userId": "07798417422536509606"
     },
     "user_tz": 180
    },
    "id": "FptKuYf_3znX",
    "outputId": "532a2662-2c04-4959-e713-c8431e8978aa"
   },
   "outputs": [
    {
     "data": {
      "text/plain": [
       "'Bom dia, vocês estão estudando muito? Alguma dificuldade?'"
      ]
     },
     "execution_count": 26,
     "metadata": {},
     "output_type": "execute_result"
    }
   ],
   "source": [
    "tweet.strip()"
   ]
  },
  {
   "cell_type": "code",
   "execution_count": 27,
   "metadata": {
    "colab": {
     "base_uri": "https://localhost:8080/",
     "height": 35
    },
    "executionInfo": {
     "elapsed": 701,
     "status": "ok",
     "timestamp": 1613395695314,
     "user": {
      "displayName": "Nasser Boan",
      "photoUrl": "https://lh3.googleusercontent.com/a-/AOh14GjTuDNvutj8p2cEHjJxzACQfn_42JEES7ikq7d-Sg=s64",
      "userId": "07798417422536509606"
     },
     "user_tz": 180
    },
    "id": "pbut7evA3zkM",
    "outputId": "5ebed3e9-a36f-4f9e-c0fe-cdec93f82969"
   },
   "outputs": [
    {
     "data": {
      "text/plain": [
       "'Bom dia, vocês estão estudando muito? Alguma dificuldade'"
      ]
     },
     "execution_count": 27,
     "metadata": {},
     "output_type": "execute_result"
    }
   ],
   "source": [
    "tweet.strip('?')"
   ]
  },
  {
   "cell_type": "code",
   "execution_count": 28,
   "metadata": {
    "colab": {
     "base_uri": "https://localhost:8080/",
     "height": 35
    },
    "executionInfo": {
     "elapsed": 687,
     "status": "ok",
     "timestamp": 1613395703336,
     "user": {
      "displayName": "Nasser Boan",
      "photoUrl": "https://lh3.googleusercontent.com/a-/AOh14GjTuDNvutj8p2cEHjJxzACQfn_42JEES7ikq7d-Sg=s64",
      "userId": "07798417422536509606"
     },
     "user_tz": 180
    },
    "id": "V6iSqLKY3zgN",
    "outputId": "80cae728-3f42-41b0-fabb-756900a30c35"
   },
   "outputs": [
    {
     "data": {
      "text/plain": [
       "'Bom dia, vocês estão estudando muito? Alguma dificuldade?'"
      ]
     },
     "execution_count": 28,
     "metadata": {},
     "output_type": "execute_result"
    }
   ],
   "source": [
    "tweet.strip(',')"
   ]
  },
  {
   "cell_type": "code",
   "execution_count": 29,
   "metadata": {
    "colab": {
     "base_uri": "https://localhost:8080/",
     "height": 35
    },
    "executionInfo": {
     "elapsed": 637,
     "status": "ok",
     "timestamp": 1613395722396,
     "user": {
      "displayName": "Nasser Boan",
      "photoUrl": "https://lh3.googleusercontent.com/a-/AOh14GjTuDNvutj8p2cEHjJxzACQfn_42JEES7ikq7d-Sg=s64",
      "userId": "07798417422536509606"
     },
     "user_tz": 180
    },
    "id": "NANUstn43zdz",
    "outputId": "129cdc80-45a7-4fe4-8659-2da0c9edb1dc"
   },
   "outputs": [
    {
     "data": {
      "text/plain": [
       "'Bom dia, vocês estão estudando muito? Alguma '"
      ]
     },
     "execution_count": 29,
     "metadata": {},
     "output_type": "execute_result"
    }
   ],
   "source": [
    "tweet.strip('dificuldade?') # remove caracteres especificos que estao ou no inicio ou no final d euma string "
   ]
  },
  {
   "cell_type": "code",
   "execution_count": 30,
   "metadata": {
    "colab": {
     "base_uri": "https://localhost:8080/",
     "height": 35
    },
    "executionInfo": {
     "elapsed": 706,
     "status": "ok",
     "timestamp": 1613395767112,
     "user": {
      "displayName": "Nasser Boan",
      "photoUrl": "https://lh3.googleusercontent.com/a-/AOh14GjTuDNvutj8p2cEHjJxzACQfn_42JEES7ikq7d-Sg=s64",
      "userId": "07798417422536509606"
     },
     "user_tz": 180
    },
    "id": "IvRYgOrk4Qzp",
    "outputId": "fd47715c-259b-46d0-e7de-ae6053dae979"
   },
   "outputs": [
    {
     "data": {
      "text/plain": [
       "'Bom dia, vocês estão estudando muito? Alguma dificuldade'"
      ]
     },
     "execution_count": 30,
     "metadata": {},
     "output_type": "execute_result"
    }
   ],
   "source": [
    "tweet.rstrip('?') # Exclue  caracteres apenas no final da str"
   ]
  },
  {
   "cell_type": "code",
   "execution_count": 31,
   "metadata": {
    "colab": {
     "base_uri": "https://localhost:8080/",
     "height": 35
    },
    "executionInfo": {
     "elapsed": 631,
     "status": "ok",
     "timestamp": 1613395783752,
     "user": {
      "displayName": "Nasser Boan",
      "photoUrl": "https://lh3.googleusercontent.com/a-/AOh14GjTuDNvutj8p2cEHjJxzACQfn_42JEES7ikq7d-Sg=s64",
      "userId": "07798417422536509606"
     },
     "user_tz": 180
    },
    "id": "Qh4Tl66S4Qx8",
    "outputId": "2268b650-084f-4833-ecfc-401c45dbfee1"
   },
   "outputs": [
    {
     "data": {
      "text/plain": [
       "'Bom dia, vocês estão estudando muito? Alguma dificuldade?'"
      ]
     },
     "execution_count": 31,
     "metadata": {},
     "output_type": "execute_result"
    }
   ],
   "source": [
    "tweet.rstrip('...')"
   ]
  },
  {
   "cell_type": "code",
   "execution_count": 32,
   "metadata": {
    "colab": {
     "base_uri": "https://localhost:8080/",
     "height": 35
    },
    "executionInfo": {
     "elapsed": 662,
     "status": "ok",
     "timestamp": 1613395794573,
     "user": {
      "displayName": "Nasser Boan",
      "photoUrl": "https://lh3.googleusercontent.com/a-/AOh14GjTuDNvutj8p2cEHjJxzACQfn_42JEES7ikq7d-Sg=s64",
      "userId": "07798417422536509606"
     },
     "user_tz": 180
    },
    "id": "xW5nvUef4Qvc",
    "outputId": "34351215-bf78-43ca-fc6a-61c8087a88b2"
   },
   "outputs": [
    {
     "data": {
      "text/plain": [
       "' dia, vocês estão estudando muito? Alguma dificuldade?'"
      ]
     },
     "execution_count": 32,
     "metadata": {},
     "output_type": "execute_result"
    }
   ],
   "source": [
    "tweet.lstrip('Bom') # Exclui caracteres no inicio da str"
   ]
  },
  {
   "cell_type": "code",
   "execution_count": 33,
   "metadata": {
    "colab": {
     "base_uri": "https://localhost:8080/",
     "height": 35
    },
    "executionInfo": {
     "elapsed": 610,
     "status": "ok",
     "timestamp": 1613395801003,
     "user": {
      "displayName": "Nasser Boan",
      "photoUrl": "https://lh3.googleusercontent.com/a-/AOh14GjTuDNvutj8p2cEHjJxzACQfn_42JEES7ikq7d-Sg=s64",
      "userId": "07798417422536509606"
     },
     "user_tz": 180
    },
    "id": "4mHUmJoK4QtD",
    "outputId": "62d06502-072d-4249-c24a-c7cf3a14e374"
   },
   "outputs": [
    {
     "data": {
      "text/plain": [
       "'Bom dia, vocês estão estudando muito? Alguma dificuldade?'"
      ]
     },
     "execution_count": 33,
     "metadata": {},
     "output_type": "execute_result"
    }
   ],
   "source": [
    "tweet.lstrip('...')"
   ]
  },
  {
   "cell_type": "code",
   "execution_count": 34,
   "metadata": {
    "colab": {
     "base_uri": "https://localhost:8080/"
    },
    "executionInfo": {
     "elapsed": 713,
     "status": "ok",
     "timestamp": 1613395830803,
     "user": {
      "displayName": "Nasser Boan",
      "photoUrl": "https://lh3.googleusercontent.com/a-/AOh14GjTuDNvutj8p2cEHjJxzACQfn_42JEES7ikq7d-Sg=s64",
      "userId": "07798417422536509606"
     },
     "user_tz": 180
    },
    "id": "iHSMuXPg4n4I",
    "outputId": "590c74d5-ec89-4e07-df6a-49a1b67d13dc"
   },
   "outputs": [
    {
     "data": {
      "text/plain": [
       "['Bom',\n",
       " 'dia,',\n",
       " 'vocês',\n",
       " 'estão',\n",
       " 'estudando',\n",
       " 'muito?',\n",
       " 'Alguma',\n",
       " 'dificuldade?']"
      ]
     },
     "execution_count": 34,
     "metadata": {},
     "output_type": "execute_result"
    }
   ],
   "source": [
    "tweet.split(' ') # Quebra a str de acordo com o marcador apontado"
   ]
  },
  {
   "cell_type": "code",
   "execution_count": 35,
   "metadata": {
    "colab": {
     "base_uri": "https://localhost:8080/"
    },
    "executionInfo": {
     "elapsed": 662,
     "status": "ok",
     "timestamp": 1613395936022,
     "user": {
      "displayName": "Nasser Boan",
      "photoUrl": "https://lh3.googleusercontent.com/a-/AOh14GjTuDNvutj8p2cEHjJxzACQfn_42JEES7ikq7d-Sg=s64",
      "userId": "07798417422536509606"
     },
     "user_tz": 180
    },
    "id": "Hf6W9oiy4n1v",
    "outputId": "a0380862-e600-422a-d5e3-5f1ec3f69898"
   },
   "outputs": [
    {
     "data": {
      "text/plain": [
       "['Bom ', ', vocês estão estudando muito? Alguma dificuldade?']"
      ]
     },
     "execution_count": 35,
     "metadata": {},
     "output_type": "execute_result"
    }
   ],
   "source": [
    "tweet.split('dia')"
   ]
  },
  {
   "cell_type": "code",
   "execution_count": 36,
   "metadata": {
    "colab": {
     "base_uri": "https://localhost:8080/"
    },
    "executionInfo": {
     "elapsed": 630,
     "status": "ok",
     "timestamp": 1613395955512,
     "user": {
      "displayName": "Nasser Boan",
      "photoUrl": "https://lh3.googleusercontent.com/a-/AOh14GjTuDNvutj8p2cEHjJxzACQfn_42JEES7ikq7d-Sg=s64",
      "userId": "07798417422536509606"
     },
     "user_tz": 180
    },
    "id": "wDYA70l94nzQ",
    "outputId": "22c5fdc2-73e4-4bb0-a7cf-1a87e3c1e60e"
   },
   "outputs": [
    {
     "data": {
      "text/plain": [
       "['Bom di', ', vocês estão estud', 'ndo muito? Algum', ' dificuld', 'de?']"
      ]
     },
     "execution_count": 36,
     "metadata": {},
     "output_type": "execute_result"
    }
   ],
   "source": [
    "tweet.split('a')"
   ]
  },
  {
   "cell_type": "code",
   "execution_count": 37,
   "metadata": {
    "colab": {
     "base_uri": "https://localhost:8080/"
    },
    "executionInfo": {
     "elapsed": 671,
     "status": "ok",
     "timestamp": 1613397789609,
     "user": {
      "displayName": "Nasser Boan",
      "photoUrl": "https://lh3.googleusercontent.com/a-/AOh14GjTuDNvutj8p2cEHjJxzACQfn_42JEES7ikq7d-Sg=s64",
      "userId": "07798417422536509606"
     },
     "user_tz": 180
    },
    "id": "U8O58Oli5LJi",
    "outputId": "a35f5caa-8e9a-4327-90e3-2f692fdc1e59"
   },
   "outputs": [
    {
     "data": {
      "text/plain": [
       "['Bom di', ', vocês estão estudando muito? Alguma dificuldade?']"
      ]
     },
     "execution_count": 37,
     "metadata": {},
     "output_type": "execute_result"
    }
   ],
   "source": [
    "tweet.split('a',maxsplit=1) # Separa apenas os valores X<="
   ]
  },
  {
   "cell_type": "code",
   "execution_count": 38,
   "metadata": {
    "colab": {
     "base_uri": "https://localhost:8080/"
    },
    "executionInfo": {
     "elapsed": 635,
     "status": "ok",
     "timestamp": 1613397795992,
     "user": {
      "displayName": "Nasser Boan",
      "photoUrl": "https://lh3.googleusercontent.com/a-/AOh14GjTuDNvutj8p2cEHjJxzACQfn_42JEES7ikq7d-Sg=s64",
      "userId": "07798417422536509606"
     },
     "user_tz": 180
    },
    "id": "VMvUH8Yl5LHZ",
    "outputId": "95215283-a34d-4478-c9f7-2e8c4f33d683"
   },
   "outputs": [
    {
     "data": {
      "text/plain": [
       "['Bom di', ', vocês estão estud', 'ndo muito? Alguma dificuldade?']"
      ]
     },
     "execution_count": 38,
     "metadata": {},
     "output_type": "execute_result"
    }
   ],
   "source": [
    "tweet.split('a',maxsplit=2)"
   ]
  },
  {
   "cell_type": "code",
   "execution_count": 39,
   "metadata": {
    "colab": {
     "base_uri": "https://localhost:8080/"
    },
    "executionInfo": {
     "elapsed": 653,
     "status": "ok",
     "timestamp": 1613397978345,
     "user": {
      "displayName": "Nasser Boan",
      "photoUrl": "https://lh3.googleusercontent.com/a-/AOh14GjTuDNvutj8p2cEHjJxzACQfn_42JEES7ikq7d-Sg=s64",
      "userId": "07798417422536509606"
     },
     "user_tz": 180
    },
    "id": "ljxiNbsiAM1V",
    "outputId": "ea30138d-e5f1-453e-ca0e-f8ea43b46a1a"
   },
   "outputs": [
    {
     "data": {
      "text/plain": [
       "['Bom dia, vocês estão estudando muito? Alguma dificuld', 'de?']"
      ]
     },
     "execution_count": 39,
     "metadata": {},
     "output_type": "execute_result"
    }
   ],
   "source": [
    "tweet.rsplit('a',maxsplit=1)"
   ]
  },
  {
   "cell_type": "code",
   "execution_count": 40,
   "metadata": {
    "colab": {
     "base_uri": "https://localhost:8080/",
     "height": 35
    },
    "executionInfo": {
     "elapsed": 688,
     "status": "ok",
     "timestamp": 1613400052103,
     "user": {
      "displayName": "Nasser Boan",
      "photoUrl": "https://lh3.googleusercontent.com/a-/AOh14GjTuDNvutj8p2cEHjJxzACQfn_42JEES7ikq7d-Sg=s64",
      "userId": "07798417422536509606"
     },
     "user_tz": 180
    },
    "id": "ZCWGrrOdBbwb",
    "outputId": "0885e177-ab2e-4482-83e2-65c5e8731f81"
   },
   "outputs": [
    {
     "data": {
      "text/plain": [
       "'Bom dia, vocês estão estudando muito? Alguma dificuldade? bora tomar café da manhã!'"
      ]
     },
     "execution_count": 40,
     "metadata": {},
     "output_type": "execute_result"
    }
   ],
   "source": [
    "## concatenção de string\n",
    "\n",
    "tweet + ' bora tomar café da manhã!' # Junta 2 str"
   ]
  },
  {
   "cell_type": "markdown",
   "metadata": {
    "id": "6U8ou0VTJdtq"
   },
   "source": [
    "# Estrutura de Dados"
   ]
  },
  {
   "cell_type": "code",
   "execution_count": 41,
   "metadata": {
    "id": "A7bzrV9-KoBp"
   },
   "outputs": [
    {
     "data": {
      "text/plain": [
       "[1, 2, 3, 4, 5]"
      ]
     },
     "execution_count": 41,
     "metadata": {},
     "output_type": "execute_result"
    }
   ],
   "source": [
    "lista = [1,2,3,4,5]\n",
    "lista "
   ]
  },
  {
   "cell_type": "code",
   "execution_count": 42,
   "metadata": {
    "id": "Kl9NEPxqKn-5"
   },
   "outputs": [
    {
     "data": {
      "text/plain": [
       "(1, 2, 3, 4, 5)"
      ]
     },
     "execution_count": 42,
     "metadata": {},
     "output_type": "execute_result"
    }
   ],
   "source": [
    "tupla = (1,2,3,4,5) # Similar as listas porém é imutável\n",
    "tupla "
   ]
  },
  {
   "cell_type": "code",
   "execution_count": 43,
   "metadata": {
    "id": "8_pBikWuK_4t"
   },
   "outputs": [],
   "source": [
    "dicionario = {'a':1,'b':2,'c':3,'d':4,'e':5}"
   ]
  },
  {
   "cell_type": "markdown",
   "metadata": {
    "id": "z3oXwYeIqxoY"
   },
   "source": [
    "## listas"
   ]
  },
  {
   "cell_type": "code",
   "execution_count": 44,
   "metadata": {
    "id": "CK9HcG8CLIpK"
   },
   "outputs": [],
   "source": [
    "cidades_que_visitei = []"
   ]
  },
  {
   "cell_type": "code",
   "execution_count": 45,
   "metadata": {
    "colab": {
     "base_uri": "https://localhost:8080/"
    },
    "executionInfo": {
     "elapsed": 710,
     "status": "ok",
     "timestamp": 1615403159452,
     "user": {
      "displayName": "Nasser Boan",
      "photoUrl": "https://lh3.googleusercontent.com/a-/AOh14GjTuDNvutj8p2cEHjJxzACQfn_42JEES7ikq7d-Sg=s64",
      "userId": "07798417422536509606"
     },
     "user_tz": 180
    },
    "id": "tQMHBiQnLInZ",
    "outputId": "159c04f3-0ef6-4e52-8e01-d7756cd0ca48"
   },
   "outputs": [
    {
     "data": {
      "text/plain": [
       "[]"
      ]
     },
     "execution_count": 45,
     "metadata": {},
     "output_type": "execute_result"
    }
   ],
   "source": [
    "cidades_que_visitei"
   ]
  },
  {
   "cell_type": "code",
   "execution_count": 46,
   "metadata": {
    "colab": {
     "base_uri": "https://localhost:8080/"
    },
    "executionInfo": {
     "elapsed": 698,
     "status": "ok",
     "timestamp": 1615403159453,
     "user": {
      "displayName": "Nasser Boan",
      "photoUrl": "https://lh3.googleusercontent.com/a-/AOh14GjTuDNvutj8p2cEHjJxzACQfn_42JEES7ikq7d-Sg=s64",
      "userId": "07798417422536509606"
     },
     "user_tz": 180
    },
    "id": "IszlTMCzrx96",
    "outputId": "a5f4eb76-8d02-4b66-e38d-e8900335581d"
   },
   "outputs": [
    {
     "data": {
      "text/plain": [
       "['Brasília',\n",
       " 'Salvador',\n",
       " 'São Paulo',\n",
       " 'Goiânia',\n",
       " 'Porto Alegre',\n",
       " 'Rio de Janeiro']"
      ]
     },
     "execution_count": 46,
     "metadata": {},
     "output_type": "execute_result"
    }
   ],
   "source": [
    "cidades_que_visitei = ['Brasília','Salvador','São Paulo','Goiânia','Porto Alegre','Rio de Janeiro']\n",
    "cidades_que_visitei"
   ]
  },
  {
   "cell_type": "code",
   "execution_count": 47,
   "metadata": {
    "colab": {
     "base_uri": "https://localhost:8080/",
     "height": 35
    },
    "executionInfo": {
     "elapsed": 686,
     "status": "ok",
     "timestamp": 1615403159453,
     "user": {
      "displayName": "Nasser Boan",
      "photoUrl": "https://lh3.googleusercontent.com/a-/AOh14GjTuDNvutj8p2cEHjJxzACQfn_42JEES7ikq7d-Sg=s64",
      "userId": "07798417422536509606"
     },
     "user_tz": 180
    },
    "id": "Pck-GRMux6k9",
    "outputId": "0b490cf7-12c0-4c07-ef65-4df1008a3fb8"
   },
   "outputs": [
    {
     "data": {
      "text/plain": [
       "'Brasília'"
      ]
     },
     "execution_count": 47,
     "metadata": {},
     "output_type": "execute_result"
    }
   ],
   "source": [
    "cidades_que_visitei[0] # Escolhe posição especifica"
   ]
  },
  {
   "cell_type": "code",
   "execution_count": 48,
   "metadata": {
    "colab": {
     "base_uri": "https://localhost:8080/",
     "height": 35
    },
    "executionInfo": {
     "elapsed": 950,
     "status": "ok",
     "timestamp": 1615403159731,
     "user": {
      "displayName": "Nasser Boan",
      "photoUrl": "https://lh3.googleusercontent.com/a-/AOh14GjTuDNvutj8p2cEHjJxzACQfn_42JEES7ikq7d-Sg=s64",
      "userId": "07798417422536509606"
     },
     "user_tz": 180
    },
    "id": "WGkI_QN-x9y5",
    "outputId": "f0f1c6b6-9211-4052-fecf-cb379c54729a"
   },
   "outputs": [
    {
     "data": {
      "text/plain": [
       "'Salvador'"
      ]
     },
     "execution_count": 48,
     "metadata": {},
     "output_type": "execute_result"
    }
   ],
   "source": [
    "cidades_que_visitei[1]"
   ]
  },
  {
   "cell_type": "code",
   "execution_count": 49,
   "metadata": {
    "colab": {
     "base_uri": "https://localhost:8080/",
     "height": 35
    },
    "executionInfo": {
     "elapsed": 939,
     "status": "ok",
     "timestamp": 1615403159732,
     "user": {
      "displayName": "Nasser Boan",
      "photoUrl": "https://lh3.googleusercontent.com/a-/AOh14GjTuDNvutj8p2cEHjJxzACQfn_42JEES7ikq7d-Sg=s64",
      "userId": "07798417422536509606"
     },
     "user_tz": 180
    },
    "id": "VWCKWPA9x9w0",
    "outputId": "fb785a4c-6199-46fd-b0ac-a1d835464302"
   },
   "outputs": [
    {
     "data": {
      "text/plain": [
       "'Goiânia'"
      ]
     },
     "execution_count": 49,
     "metadata": {},
     "output_type": "execute_result"
    }
   ],
   "source": [
    "cidades_que_visitei[3] # Escolhe a 3 posição contando apartir do 0 ( 0, 1 ,2, 3 )"
   ]
  },
  {
   "cell_type": "code",
   "execution_count": 50,
   "metadata": {
    "colab": {
     "base_uri": "https://localhost:8080/"
    },
    "executionInfo": {
     "elapsed": 927,
     "status": "ok",
     "timestamp": 1615403159733,
     "user": {
      "displayName": "Nasser Boan",
      "photoUrl": "https://lh3.googleusercontent.com/a-/AOh14GjTuDNvutj8p2cEHjJxzACQfn_42JEES7ikq7d-Sg=s64",
      "userId": "07798417422536509606"
     },
     "user_tz": 180
    },
    "id": "IIuksRwn02n9",
    "outputId": "48054ad7-056d-4813-cdc4-2734c6af8143"
   },
   "outputs": [
    {
     "data": {
      "text/plain": [
       "['Brasília', 'Salvador', 'São Paulo']"
      ]
     },
     "execution_count": 50,
     "metadata": {},
     "output_type": "execute_result"
    }
   ],
   "source": [
    "cidades_que_visitei[0:3] # Escolhe as posições de 0 1 e 2 "
   ]
  },
  {
   "cell_type": "code",
   "execution_count": 51,
   "metadata": {
    "colab": {
     "base_uri": "https://localhost:8080/"
    },
    "executionInfo": {
     "elapsed": 915,
     "status": "ok",
     "timestamp": 1615403159733,
     "user": {
      "displayName": "Nasser Boan",
      "photoUrl": "https://lh3.googleusercontent.com/a-/AOh14GjTuDNvutj8p2cEHjJxzACQfn_42JEES7ikq7d-Sg=s64",
      "userId": "07798417422536509606"
     },
     "user_tz": 180
    },
    "id": "DmwN8Cy-02l6",
    "outputId": "f1b3d2c2-bc9e-47a6-f8df-8f673a1f6c1e"
   },
   "outputs": [
    {
     "data": {
      "text/plain": [
       "['Brasília',\n",
       " 'Salvador',\n",
       " 'São Paulo',\n",
       " 'Goiânia',\n",
       " 'Porto Alegre',\n",
       " 'Rio de Janeiro']"
      ]
     },
     "execution_count": 51,
     "metadata": {},
     "output_type": "execute_result"
    }
   ],
   "source": [
    "cidades_que_visitei[:] # Pega todas"
   ]
  },
  {
   "cell_type": "code",
   "execution_count": 52,
   "metadata": {
    "colab": {
     "base_uri": "https://localhost:8080/"
    },
    "executionInfo": {
     "elapsed": 867,
     "status": "ok",
     "timestamp": 1615403159734,
     "user": {
      "displayName": "Nasser Boan",
      "photoUrl": "https://lh3.googleusercontent.com/a-/AOh14GjTuDNvutj8p2cEHjJxzACQfn_42JEES7ikq7d-Sg=s64",
      "userId": "07798417422536509606"
     },
     "user_tz": 180
    },
    "id": "KTP9j49i02jy",
    "outputId": "d0a32e5f-86dd-49a5-e46b-6119c9c6f811"
   },
   "outputs": [
    {
     "data": {
      "text/plain": [
       "['São Paulo', 'Goiânia', 'Porto Alegre', 'Rio de Janeiro']"
      ]
     },
     "execution_count": 52,
     "metadata": {},
     "output_type": "execute_result"
    }
   ],
   "source": [
    "cidades_que_visitei[2:] # todas apartir da 2 posição"
   ]
  },
  {
   "cell_type": "code",
   "execution_count": 53,
   "metadata": {
    "colab": {
     "base_uri": "https://localhost:8080/"
    },
    "executionInfo": {
     "elapsed": 817,
     "status": "ok",
     "timestamp": 1615403159734,
     "user": {
      "displayName": "Nasser Boan",
      "photoUrl": "https://lh3.googleusercontent.com/a-/AOh14GjTuDNvutj8p2cEHjJxzACQfn_42JEES7ikq7d-Sg=s64",
      "userId": "07798417422536509606"
     },
     "user_tz": 180
    },
    "id": "jQdsYi_y02hd",
    "outputId": "6bc7bac0-13fa-4ee8-92e2-7174b3327f20"
   },
   "outputs": [
    {
     "data": {
      "text/plain": [
       "['Goiânia', 'Porto Alegre']"
      ]
     },
     "execution_count": 53,
     "metadata": {},
     "output_type": "execute_result"
    }
   ],
   "source": [
    "cidades_que_visitei[3:5] # Pega unicamente a 3 e 5 posições"
   ]
  },
  {
   "cell_type": "code",
   "execution_count": 54,
   "metadata": {
    "colab": {
     "base_uri": "https://localhost:8080/"
    },
    "executionInfo": {
     "elapsed": 653,
     "status": "ok",
     "timestamp": 1615403159735,
     "user": {
      "displayName": "Nasser Boan",
      "photoUrl": "https://lh3.googleusercontent.com/a-/AOh14GjTuDNvutj8p2cEHjJxzACQfn_42JEES7ikq7d-Sg=s64",
      "userId": "07798417422536509606"
     },
     "user_tz": 180
    },
    "id": "8H9N9Z4Drx7q",
    "outputId": "bb123714-3c5e-466f-8e48-4cd48127694a"
   },
   "outputs": [
    {
     "data": {
      "text/plain": [
       "6"
      ]
     },
     "execution_count": 54,
     "metadata": {},
     "output_type": "execute_result"
    }
   ],
   "source": [
    "len(cidades_que_visitei) # Conta quantas ha dentro"
   ]
  },
  {
   "cell_type": "code",
   "execution_count": 55,
   "metadata": {
    "id": "Lx7FumdcvGd4"
   },
   "outputs": [],
   "source": [
    "paises_que_visite = ['Brasil',{'Porto Alegre':5,'Salvador':2,'Rio de Janeiro':1},('França','Paris')]"
   ]
  },
  {
   "cell_type": "code",
   "execution_count": 56,
   "metadata": {
    "id": "MGMRFMyra6iZ"
   },
   "outputs": [],
   "source": [
    "cidades_que_visitei.append('Anápolis') # Adiciona um item a lista"
   ]
  },
  {
   "cell_type": "code",
   "execution_count": 57,
   "metadata": {
    "colab": {
     "base_uri": "https://localhost:8080/"
    },
    "executionInfo": {
     "elapsed": 562,
     "status": "ok",
     "timestamp": 1615403164934,
     "user": {
      "displayName": "Nasser Boan",
      "photoUrl": "https://lh3.googleusercontent.com/a-/AOh14GjTuDNvutj8p2cEHjJxzACQfn_42JEES7ikq7d-Sg=s64",
      "userId": "07798417422536509606"
     },
     "user_tz": 180
    },
    "id": "ZTcGWjZ9a6gG",
    "outputId": "e5d8c9ae-4e0f-45a4-b0af-bd484ed93977"
   },
   "outputs": [
    {
     "data": {
      "text/plain": [
       "['Brasília',\n",
       " 'Salvador',\n",
       " 'São Paulo',\n",
       " 'Goiânia',\n",
       " 'Porto Alegre',\n",
       " 'Rio de Janeiro',\n",
       " 'Anápolis']"
      ]
     },
     "execution_count": 57,
     "metadata": {},
     "output_type": "execute_result"
    }
   ],
   "source": [
    "cidades_que_visitei"
   ]
  },
  {
   "cell_type": "code",
   "execution_count": 58,
   "metadata": {
    "colab": {
     "base_uri": "https://localhost:8080/"
    },
    "executionInfo": {
     "elapsed": 658,
     "status": "ok",
     "timestamp": 1615403165207,
     "user": {
      "displayName": "Nasser Boan",
      "photoUrl": "https://lh3.googleusercontent.com/a-/AOh14GjTuDNvutj8p2cEHjJxzACQfn_42JEES7ikq7d-Sg=s64",
      "userId": "07798417422536509606"
     },
     "user_tz": 180
    },
    "id": "OLtXEFcSa6dh",
    "outputId": "7b9632ba-f79d-4ae3-d345-8a3f827980f6"
   },
   "outputs": [
    {
     "data": {
      "text/plain": [
       "1"
      ]
     },
     "execution_count": 58,
     "metadata": {},
     "output_type": "execute_result"
    }
   ],
   "source": [
    "cidades_que_visitei.count('Rio de Janeiro') # Conta quanats evzes o fator se repete"
   ]
  },
  {
   "cell_type": "code",
   "execution_count": 59,
   "metadata": {
    "colab": {
     "base_uri": "https://localhost:8080/"
    },
    "executionInfo": {
     "elapsed": 536,
     "status": "ok",
     "timestamp": 1615403165208,
     "user": {
      "displayName": "Nasser Boan",
      "photoUrl": "https://lh3.googleusercontent.com/a-/AOh14GjTuDNvutj8p2cEHjJxzACQfn_42JEES7ikq7d-Sg=s64",
      "userId": "07798417422536509606"
     },
     "user_tz": 180
    },
    "id": "mBNKb6y1a6TY",
    "outputId": "607a2397-620b-47fb-e275-fcf429f387e5"
   },
   "outputs": [
    {
     "data": {
      "text/plain": [
       "3"
      ]
     },
     "execution_count": 59,
     "metadata": {},
     "output_type": "execute_result"
    }
   ],
   "source": [
    "cidades_que_visitei.index('Goiânia') # retorna posição"
   ]
  },
  {
   "cell_type": "code",
   "execution_count": 60,
   "metadata": {
    "id": "6ZBwmiDcvGXk"
   },
   "outputs": [],
   "source": [
    "cidades_que_visitei.reverse() # Inverte a ordem"
   ]
  },
  {
   "cell_type": "code",
   "execution_count": 61,
   "metadata": {
    "colab": {
     "base_uri": "https://localhost:8080/"
    },
    "executionInfo": {
     "elapsed": 653,
     "status": "ok",
     "timestamp": 1615403165545,
     "user": {
      "displayName": "Nasser Boan",
      "photoUrl": "https://lh3.googleusercontent.com/a-/AOh14GjTuDNvutj8p2cEHjJxzACQfn_42JEES7ikq7d-Sg=s64",
      "userId": "07798417422536509606"
     },
     "user_tz": 180
    },
    "id": "2GWd06AmLIlM",
    "outputId": "c7fffc45-db8c-479b-e796-9c1feeef63ba"
   },
   "outputs": [
    {
     "data": {
      "text/plain": [
       "['Anápolis',\n",
       " 'Rio de Janeiro',\n",
       " 'Porto Alegre',\n",
       " 'Goiânia',\n",
       " 'São Paulo',\n",
       " 'Salvador',\n",
       " 'Brasília']"
      ]
     },
     "execution_count": 61,
     "metadata": {},
     "output_type": "execute_result"
    }
   ],
   "source": [
    "cidades_que_visitei"
   ]
  },
  {
   "cell_type": "code",
   "execution_count": 62,
   "metadata": {
    "id": "MmxG72jeeqYW"
   },
   "outputs": [],
   "source": [
    "cidades_que_visitei.sort() # Embaralha"
   ]
  },
  {
   "cell_type": "code",
   "execution_count": 63,
   "metadata": {
    "colab": {
     "base_uri": "https://localhost:8080/"
    },
    "executionInfo": {
     "elapsed": 684,
     "status": "ok",
     "timestamp": 1615403166704,
     "user": {
      "displayName": "Nasser Boan",
      "photoUrl": "https://lh3.googleusercontent.com/a-/AOh14GjTuDNvutj8p2cEHjJxzACQfn_42JEES7ikq7d-Sg=s64",
      "userId": "07798417422536509606"
     },
     "user_tz": 180
    },
    "id": "EJRRxCXYeqTx",
    "outputId": "da68e109-1822-4dc9-dc70-f8b88a86d4ad"
   },
   "outputs": [
    {
     "data": {
      "text/plain": [
       "['Anápolis',\n",
       " 'Brasília',\n",
       " 'Goiânia',\n",
       " 'Porto Alegre',\n",
       " 'Rio de Janeiro',\n",
       " 'Salvador',\n",
       " 'São Paulo']"
      ]
     },
     "execution_count": 63,
     "metadata": {},
     "output_type": "execute_result"
    }
   ],
   "source": [
    "cidades_que_visitei"
   ]
  },
  {
   "cell_type": "code",
   "execution_count": 64,
   "metadata": {
    "colab": {
     "base_uri": "https://localhost:8080/",
     "height": 35
    },
    "executionInfo": {
     "elapsed": 533,
     "status": "ok",
     "timestamp": 1615403166704,
     "user": {
      "displayName": "Nasser Boan",
      "photoUrl": "https://lh3.googleusercontent.com/a-/AOh14GjTuDNvutj8p2cEHjJxzACQfn_42JEES7ikq7d-Sg=s64",
      "userId": "07798417422536509606"
     },
     "user_tz": 180
    },
    "id": "NdSwcSy3eqRy",
    "outputId": "9faa0e32-f55b-4e24-c377-6b7c60827ae3"
   },
   "outputs": [
    {
     "data": {
      "text/plain": [
       "'Goiânia'"
      ]
     },
     "execution_count": 64,
     "metadata": {},
     "output_type": "execute_result"
    }
   ],
   "source": [
    "cidades_que_visitei.pop(2) # Retorna um elemento e exclui ele"
   ]
  },
  {
   "cell_type": "code",
   "execution_count": 65,
   "metadata": {
    "colab": {
     "base_uri": "https://localhost:8080/"
    },
    "executionInfo": {
     "elapsed": 670,
     "status": "ok",
     "timestamp": 1615403166970,
     "user": {
      "displayName": "Nasser Boan",
      "photoUrl": "https://lh3.googleusercontent.com/a-/AOh14GjTuDNvutj8p2cEHjJxzACQfn_42JEES7ikq7d-Sg=s64",
      "userId": "07798417422536509606"
     },
     "user_tz": 180
    },
    "id": "-Da_k-adfdic",
    "outputId": "db772d09-1f62-492d-ebfb-5bdb722e1657"
   },
   "outputs": [
    {
     "data": {
      "text/plain": [
       "['Anápolis',\n",
       " 'Brasília',\n",
       " 'Porto Alegre',\n",
       " 'Rio de Janeiro',\n",
       " 'Salvador',\n",
       " 'São Paulo']"
      ]
     },
     "execution_count": 65,
     "metadata": {},
     "output_type": "execute_result"
    }
   ],
   "source": [
    "cidades_que_visitei"
   ]
  },
  {
   "cell_type": "code",
   "execution_count": 66,
   "metadata": {
    "colab": {
     "base_uri": "https://localhost:8080/"
    },
    "executionInfo": {
     "elapsed": 400,
     "status": "ok",
     "timestamp": 1615403167514,
     "user": {
      "displayName": "Nasser Boan",
      "photoUrl": "https://lh3.googleusercontent.com/a-/AOh14GjTuDNvutj8p2cEHjJxzACQfn_42JEES7ikq7d-Sg=s64",
      "userId": "07798417422536509606"
     },
     "user_tz": 180
    },
    "id": "oGiFZdDwfdfz",
    "outputId": "f3a1b9fb-dc03-427a-e5e1-2f361cedc320"
   },
   "outputs": [
    {
     "data": {
      "text/plain": [
       "['Anápolis', 'Brasília', 'Porto Alegre', 'Rio de Janeiro', 'São Paulo']"
      ]
     },
     "execution_count": 66,
     "metadata": {},
     "output_type": "execute_result"
    }
   ],
   "source": [
    "cidades_que_visitei.remove('Salvador') # Remove\n",
    "cidades_que_visitei"
   ]
  },
  {
   "cell_type": "markdown",
   "metadata": {
    "id": "vKViYve7_9OB"
   },
   "source": [
    "## tuplas"
   ]
  },
  {
   "cell_type": "code",
   "execution_count": 67,
   "metadata": {
    "colab": {
     "base_uri": "https://localhost:8080/"
    },
    "executionInfo": {
     "elapsed": 504,
     "status": "ok",
     "timestamp": 1615405087547,
     "user": {
      "displayName": "Nasser Boan",
      "photoUrl": "https://lh3.googleusercontent.com/a-/AOh14GjTuDNvutj8p2cEHjJxzACQfn_42JEES7ikq7d-Sg=s64",
      "userId": "07798417422536509606"
     },
     "user_tz": 180
    },
    "id": "Q1RqTeoCfdd-",
    "outputId": "821c20c5-c3da-455b-f4b6-c8593be1e071"
   },
   "outputs": [
    {
     "data": {
      "text/plain": [
       "('Itaú', 'Nubank', 'Bradesco', 'Banco do Brasil', 'Caixa Econômica')"
      ]
     },
     "execution_count": 67,
     "metadata": {},
     "output_type": "execute_result"
    }
   ],
   "source": [
    "fundo_imob = ('Itaú','Nubank','Bradesco','Banco do Brasil','Caixa Econômica')\n",
    "fundo_imob"
   ]
  },
  {
   "cell_type": "code",
   "execution_count": 68,
   "metadata": {
    "colab": {
     "base_uri": "https://localhost:8080/"
    },
    "executionInfo": {
     "elapsed": 509,
     "status": "ok",
     "timestamp": 1615405087764,
     "user": {
      "displayName": "Nasser Boan",
      "photoUrl": "https://lh3.googleusercontent.com/a-/AOh14GjTuDNvutj8p2cEHjJxzACQfn_42JEES7ikq7d-Sg=s64",
      "userId": "07798417422536509606"
     },
     "user_tz": 180
    },
    "id": "KkeTZ8x3fdbs",
    "outputId": "2396f5df-1cb6-4f05-cc48-82bcddb68ab4"
   },
   "outputs": [
    {
     "name": "stdout",
     "output_type": "stream",
     "text": [
      "Itaú\n",
      "Nubank\n",
      "Bradesco\n"
     ]
    }
   ],
   "source": [
    "print(fundo_imob[0])\n",
    "print(fundo_imob[1])\n",
    "print(fundo_imob[2])"
   ]
  },
  {
   "cell_type": "code",
   "execution_count": 69,
   "metadata": {
    "colab": {
     "base_uri": "https://localhost:8080/"
    },
    "executionInfo": {
     "elapsed": 441,
     "status": "error",
     "timestamp": 1615405088608,
     "user": {
      "displayName": "Nasser Boan",
      "photoUrl": "https://lh3.googleusercontent.com/a-/AOh14GjTuDNvutj8p2cEHjJxzACQfn_42JEES7ikq7d-Sg=s64",
      "userId": "07798417422536509606"
     },
     "user_tz": 180
    },
    "id": "UwE8yHYnfdZp",
    "outputId": "bbe88ae2-23a9-4306-9c55-3497fb000de2"
   },
   "outputs": [
    {
     "ename": "TypeError",
     "evalue": "'tuple' object does not support item assignment",
     "output_type": "error",
     "traceback": [
      "\u001b[1;31m---------------------------------------------------------------------------\u001b[0m",
      "\u001b[1;31mTypeError\u001b[0m                                 Traceback (most recent call last)",
      "\u001b[1;32mC:\\Users\\2266C0~1\\AppData\\Local\\Temp/ipykernel_3144/1794652389.py\u001b[0m in \u001b[0;36m<module>\u001b[1;34m\u001b[0m\n\u001b[1;32m----> 1\u001b[1;33m \u001b[0mfundo_imob\u001b[0m\u001b[1;33m[\u001b[0m\u001b[1;36m0\u001b[0m\u001b[1;33m]\u001b[0m \u001b[1;33m=\u001b[0m \u001b[1;34m'BS2'\u001b[0m\u001b[1;33m\u001b[0m\u001b[1;33m\u001b[0m\u001b[0m\n\u001b[0m",
      "\u001b[1;31mTypeError\u001b[0m: 'tuple' object does not support item assignment"
     ]
    }
   ],
   "source": [
    "fundo_imob[0] = 'BS2'"
   ]
  },
  {
   "cell_type": "code",
   "execution_count": 70,
   "metadata": {
    "colab": {
     "base_uri": "https://localhost:8080/"
    },
    "executionInfo": {
     "elapsed": 353,
     "status": "ok",
     "timestamp": 1615405089405,
     "user": {
      "displayName": "Nasser Boan",
      "photoUrl": "https://lh3.googleusercontent.com/a-/AOh14GjTuDNvutj8p2cEHjJxzACQfn_42JEES7ikq7d-Sg=s64",
      "userId": "07798417422536509606"
     },
     "user_tz": 180
    },
    "id": "qZoibnTpfdXd",
    "outputId": "14008dc6-1af2-4f20-87be-47c8716f9038"
   },
   "outputs": [
    {
     "data": {
      "text/plain": [
       "('Itaú', 11, {'Nubank': 97.3}, 15.2, ['Bradesco', 16])"
      ]
     },
     "execution_count": 70,
     "metadata": {},
     "output_type": "execute_result"
    }
   ],
   "source": [
    "fundo_imob = tuple(['ALZR11',11,{'BLMG11':97.30},15.2,['BRCO11',16]])\n",
    "fundo_imob = tuple(['Itaú',11,{'Nubank':97.30},15.2,['Bradesco',16]])\n",
    "fundo_imob"
   ]
  },
  {
   "cell_type": "code",
   "execution_count": 71,
   "metadata": {
    "id": "_5Pn96THfdTX"
   },
   "outputs": [],
   "source": [
    "fundo_imob[4][1] = 15 # redefine a posição 4 (conta do 0) o elemento de posiçao 1 (conta do 0)"
   ]
  },
  {
   "cell_type": "code",
   "execution_count": 72,
   "metadata": {
    "colab": {
     "base_uri": "https://localhost:8080/"
    },
    "executionInfo": {
     "elapsed": 498,
     "status": "ok",
     "timestamp": 1615405090950,
     "user": {
      "displayName": "Nasser Boan",
      "photoUrl": "https://lh3.googleusercontent.com/a-/AOh14GjTuDNvutj8p2cEHjJxzACQfn_42JEES7ikq7d-Sg=s64",
      "userId": "07798417422536509606"
     },
     "user_tz": 180
    },
    "id": "I67uHPawfdRj",
    "outputId": "38f0bba7-dad1-416d-9cb4-3e6240cb959a"
   },
   "outputs": [
    {
     "data": {
      "text/plain": [
       "('Itaú', 11, {'Nubank': 97.3}, 15.2, ['Bradesco', 15])"
      ]
     },
     "execution_count": 72,
     "metadata": {},
     "output_type": "execute_result"
    }
   ],
   "source": [
    "fundo_imob"
   ]
  },
  {
   "cell_type": "code",
   "execution_count": 73,
   "metadata": {
    "colab": {
     "base_uri": "https://localhost:8080/"
    },
    "executionInfo": {
     "elapsed": 395,
     "status": "ok",
     "timestamp": 1615405091924,
     "user": {
      "displayName": "Nasser Boan",
      "photoUrl": "https://lh3.googleusercontent.com/a-/AOh14GjTuDNvutj8p2cEHjJxzACQfn_42JEES7ikq7d-Sg=s64",
      "userId": "07798417422536509606"
     },
     "user_tz": 180
    },
    "id": "0Mtsm-gofdPY",
    "outputId": "b01769c8-86f0-4da7-c39e-ee2645c2a03e"
   },
   "outputs": [
    {
     "data": {
      "text/plain": [
       "1"
      ]
     },
     "execution_count": 73,
     "metadata": {},
     "output_type": "execute_result"
    }
   ],
   "source": [
    "fundo_imob.count(11)"
   ]
  },
  {
   "cell_type": "code",
   "execution_count": 74,
   "metadata": {
    "colab": {
     "base_uri": "https://localhost:8080/"
    },
    "executionInfo": {
     "elapsed": 566,
     "status": "ok",
     "timestamp": 1615405152589,
     "user": {
      "displayName": "Nasser Boan",
      "photoUrl": "https://lh3.googleusercontent.com/a-/AOh14GjTuDNvutj8p2cEHjJxzACQfn_42JEES7ikq7d-Sg=s64",
      "userId": "07798417422536509606"
     },
     "user_tz": 180
    },
    "id": "Hngq5r0JfdNQ",
    "outputId": "6fa80115-f0dc-4db2-fa44-ce32b695b840"
   },
   "outputs": [
    {
     "data": {
      "text/plain": [
       "3"
      ]
     },
     "execution_count": 74,
     "metadata": {},
     "output_type": "execute_result"
    }
   ],
   "source": [
    "fundo_imob.index(15.2)"
   ]
  },
  {
   "cell_type": "code",
   "execution_count": 75,
   "metadata": {
    "colab": {
     "base_uri": "https://localhost:8080/"
    },
    "executionInfo": {
     "elapsed": 1030,
     "status": "ok",
     "timestamp": 1615408779700,
     "user": {
      "displayName": "Nasser Boan",
      "photoUrl": "https://lh3.googleusercontent.com/a-/AOh14GjTuDNvutj8p2cEHjJxzACQfn_42JEES7ikq7d-Sg=s64",
      "userId": "07798417422536509606"
     },
     "user_tz": 180
    },
    "id": "OCzAZVBn3LwM",
    "outputId": "0194aa5a-2872-43e9-da93-3db400e1a5c6"
   },
   "outputs": [
    {
     "name": "stdout",
     "output_type": "stream",
     "text": [
      "TAMANHO DE UMA LISTA 120 BYTES\n",
      "TAMANHO DE UMA LISTA 80 BYTES\n"
     ]
    }
   ],
   "source": [
    "import sys\n",
    "a_list = list()\n",
    "a_tuple = tuple()\n",
    "a_list = [1,2,3,4,5]\n",
    "a_tuple = (1,2,3,4,5)\n",
    "print(f'TAMANHO DE UMA LISTA {sys.getsizeof(a_list)} BYTES') # Da o tamanho em Bytes\n",
    "\n",
    "print(f'TAMANHO DE UMA LISTA {sys.getsizeof(a_tuple)} BYTES') # f oculta a ´part do codigo"
   ]
  },
  {
   "cell_type": "code",
   "execution_count": 76,
   "metadata": {
    "colab": {
     "base_uri": "https://localhost:8080/"
    },
    "executionInfo": {
     "elapsed": 3247,
     "status": "ok",
     "timestamp": 1615409131891,
     "user": {
      "displayName": "Nasser Boan",
      "photoUrl": "https://lh3.googleusercontent.com/a-/AOh14GjTuDNvutj8p2cEHjJxzACQfn_42JEES7ikq7d-Sg=s64",
      "userId": "07798417422536509606"
     },
     "user_tz": 180
    },
    "id": "gtIVD_rY4cFq",
    "outputId": "2c495473-ccd5-4f4c-912e-86e1c9ef63b4"
   },
   "outputs": [
    {
     "name": "stdout",
     "output_type": "stream",
     "text": [
      "Instantiation time for LIST: 0.14317679405212402\n",
      "Instantiation time for TUPLE: 0.15117406845092773\n",
      "Lookup time for LIST:  0.7478921413421631\n",
      "Lookup time for TUPLE:  0.7889003753662109\n"
     ]
    }
   ],
   "source": [
    "import sys, platform\n",
    "import time\n",
    "\n",
    "start_time = time.time() # Tempo atual em segundos\n",
    "b_list = list(range(10000000))\n",
    "end_time = time.time()\n",
    "print(\"Instantiation time for LIST:\", end_time - start_time)\n",
    "\n",
    "start_time = time.time()\n",
    "b_tuple = tuple(range(10000000))\n",
    "end_time = time.time()\n",
    "print(\"Instantiation time for TUPLE:\", end_time - start_time)\n",
    "\n",
    "start_time = time.time()\n",
    "for item in b_list:\n",
    "  aa = b_list[20000]\n",
    "end_time = time.time()\n",
    "print(\"Lookup time for LIST: \", end_time - start_time)\n",
    "\n",
    "start_time = time.time()\n",
    "for item in b_tuple:\n",
    "  aa = b_tuple[20000]\n",
    "end_time = time.time()\n",
    "print(\"Lookup time for TUPLE: \", end_time - start_time)\n"
   ]
  },
  {
   "cell_type": "markdown",
   "metadata": {
    "id": "KSkxZiZbuXO2"
   },
   "source": [
    "## dicionários"
   ]
  },
  {
   "cell_type": "code",
   "execution_count": 77,
   "metadata": {
    "colab": {
     "base_uri": "https://localhost:8080/"
    },
    "executionInfo": {
     "elapsed": 679,
     "status": "ok",
     "timestamp": 1615413720938,
     "user": {
      "displayName": "Nasser Boan",
      "photoUrl": "https://lh3.googleusercontent.com/a-/AOh14GjTuDNvutj8p2cEHjJxzACQfn_42JEES7ikq7d-Sg=s64",
      "userId": "07798417422536509606"
     },
     "user_tz": 180
    },
    "id": "ikgE3PnVELry",
    "outputId": "a338a590-8dd1-4440-d061-5be9272f8176"
   },
   "outputs": [
    {
     "data": {
      "text/plain": [
       "dict"
      ]
     },
     "execution_count": 77,
     "metadata": {},
     "output_type": "execute_result"
    }
   ],
   "source": [
    "meu_dict = {}\n",
    "type(meu_dict)"
   ]
  },
  {
   "cell_type": "code",
   "execution_count": 78,
   "metadata": {
    "colab": {
     "base_uri": "https://localhost:8080/"
    },
    "executionInfo": {
     "elapsed": 504,
     "status": "ok",
     "timestamp": 1615413720939,
     "user": {
      "displayName": "Nasser Boan",
      "photoUrl": "https://lh3.googleusercontent.com/a-/AOh14GjTuDNvutj8p2cEHjJxzACQfn_42JEES7ikq7d-Sg=s64",
      "userId": "07798417422536509606"
     },
     "user_tz": 180
    },
    "id": "oXFcs-AtENPQ",
    "outputId": "7d5d6873-3046-40aa-c37c-879e8ef90752"
   },
   "outputs": [
    {
     "data": {
      "text/plain": [
       "{'clientes': ['Adriel', 'Izadora', 'Fabrine', 'Marcelo', 'Ana Luiza']}"
      ]
     },
     "execution_count": 78,
     "metadata": {},
     "output_type": "execute_result"
    }
   ],
   "source": [
    "meu_dict['clientes'] = ['Adriel','Izadora','Fabrine','Marcelo','Ana Luiza'] # Cria coluna no Dicinionario e adiciona elementos a ela\n",
    "meu_dict"
   ]
  },
  {
   "cell_type": "code",
   "execution_count": 79,
   "metadata": {
    "colab": {
     "base_uri": "https://localhost:8080/"
    },
    "executionInfo": {
     "elapsed": 520,
     "status": "ok",
     "timestamp": 1615413725449,
     "user": {
      "displayName": "Nasser Boan",
      "photoUrl": "https://lh3.googleusercontent.com/a-/AOh14GjTuDNvutj8p2cEHjJxzACQfn_42JEES7ikq7d-Sg=s64",
      "userId": "07798417422536509606"
     },
     "user_tz": 180
    },
    "id": "rzo-k2TJEaxC",
    "outputId": "e7e54544-d59e-4860-bf5e-9a5a85c1b946"
   },
   "outputs": [
    {
     "data": {
      "text/plain": [
       "{'clientes': ['Adriel', 'Izadora', 'Fabrine', 'Marcelo', 'Ana Luiza'],\n",
       " 'endereços': {'maria': 'águas claras',\n",
       "  'joão': 'asa norte',\n",
       "  'gilberto': 'asa sul',\n",
       "  'gabriela': 'samambaia',\n",
       "  'marcelo': 'planaltina'}}"
      ]
     },
     "execution_count": 79,
     "metadata": {},
     "output_type": "execute_result"
    }
   ],
   "source": [
    "meu_dict['endereços'] = {\n",
    "    'maria':'águas claras',\n",
    "    'joão':'asa norte',\n",
    "    'gilberto':'asa sul',\n",
    "    'gabriela':'samambaia',\n",
    "    'marcelo':'planaltina'\n",
    "}\n",
    "\n",
    "meu_dict"
   ]
  },
  {
   "cell_type": "code",
   "execution_count": 80,
   "metadata": {
    "id": "9GbtzDOQswXy"
   },
   "outputs": [],
   "source": [
    "meu_dict = {\n",
    "    'clientes':['Adriel','Izadora','Fabrine','Marcelo','Ana Luiza'],\n",
    "    'endereços':{\n",
    "        'Adriel':'Águas Claras',\n",
    "        'Izadora':'Asa Norte',\n",
    "        'Fabrine':'Asa Sul',\n",
    "        'Marcelo':'Taguatinga',\n",
    "        'Ana Luiza':'Lago Borte'\n",
    "    }\n",
    "}"
   ]
  },
  {
   "cell_type": "code",
   "execution_count": 81,
   "metadata": {
    "colab": {
     "base_uri": "https://localhost:8080/"
    },
    "executionInfo": {
     "elapsed": 505,
     "status": "ok",
     "timestamp": 1615413847007,
     "user": {
      "displayName": "Nasser Boan",
      "photoUrl": "https://lh3.googleusercontent.com/a-/AOh14GjTuDNvutj8p2cEHjJxzACQfn_42JEES7ikq7d-Sg=s64",
      "userId": "07798417422536509606"
     },
     "user_tz": 180
    },
    "id": "ZQG_yhqvKcZu",
    "outputId": "925ca2af-064d-44f6-9a26-f20739bf89fc"
   },
   "outputs": [
    {
     "data": {
      "text/plain": [
       "{'clientes': ['Adriel', 'Izadora', 'Fabrine', 'Marcelo', 'Ana Luiza'],\n",
       " 'endereços': {'Adriel': 'Águas Claras',\n",
       "  'Izadora': 'Asa Norte',\n",
       "  'Fabrine': 'Asa Sul',\n",
       "  'Marcelo': 'Taguatinga',\n",
       "  'Ana Luiza': 'Lago Borte'},\n",
       " 'valor_total_faturado': 100000}"
      ]
     },
     "execution_count": 81,
     "metadata": {},
     "output_type": "execute_result"
    }
   ],
   "source": [
    "meu_dict['valor_total_faturado'] = 100000\n",
    "meu_dict"
   ]
  },
  {
   "cell_type": "code",
   "execution_count": 82,
   "metadata": {
    "colab": {
     "base_uri": "https://localhost:8080/"
    },
    "executionInfo": {
     "elapsed": 531,
     "status": "ok",
     "timestamp": 1615413861986,
     "user": {
      "displayName": "Nasser Boan",
      "photoUrl": "https://lh3.googleusercontent.com/a-/AOh14GjTuDNvutj8p2cEHjJxzACQfn_42JEES7ikq7d-Sg=s64",
      "userId": "07798417422536509606"
     },
     "user_tz": 180
    },
    "id": "HcZGk6m-KcXd",
    "outputId": "a6457d50-b49b-42e1-b07b-dc31b5c2bd2e"
   },
   "outputs": [
    {
     "data": {
      "text/plain": [
       "{'clientes': ['Adriel', 'Izadora', 'Fabrine', 'Marcelo', 'Ana Luiza'],\n",
       " 'endereços': {'Adriel': 'Águas Claras',\n",
       "  'Izadora': 'Asa Norte',\n",
       "  'Fabrine': 'Asa Sul',\n",
       "  'Marcelo': 'Taguatinga',\n",
       "  'Ana Luiza': 'Lago Borte'},\n",
       " 'valor_total_faturado': 1112432}"
      ]
     },
     "execution_count": 82,
     "metadata": {},
     "output_type": "execute_result"
    }
   ],
   "source": [
    "meu_dict['valor_total_faturado'] = 1112432\n",
    "meu_dict"
   ]
  },
  {
   "cell_type": "code",
   "execution_count": 83,
   "metadata": {
    "colab": {
     "base_uri": "https://localhost:8080/"
    },
    "executionInfo": {
     "elapsed": 542,
     "status": "ok",
     "timestamp": 1615414265647,
     "user": {
      "displayName": "Nasser Boan",
      "photoUrl": "https://lh3.googleusercontent.com/a-/AOh14GjTuDNvutj8p2cEHjJxzACQfn_42JEES7ikq7d-Sg=s64",
      "userId": "07798417422536509606"
     },
     "user_tz": 180
    },
    "id": "erE8Lt-cKn6l",
    "outputId": "f88c1f1e-18e0-48a9-8210-e2c99b592272"
   },
   "outputs": [
    {
     "data": {
      "text/plain": [
       "['Adriel', 'Izadora', 'Fabrine', 'Marcelo', 'Ana Luiza']"
      ]
     },
     "execution_count": 83,
     "metadata": {},
     "output_type": "execute_result"
    }
   ],
   "source": [
    "meu_dict['clientes']"
   ]
  },
  {
   "cell_type": "code",
   "execution_count": 84,
   "metadata": {
    "colab": {
     "base_uri": "https://localhost:8080/"
    },
    "executionInfo": {
     "elapsed": 537,
     "status": "ok",
     "timestamp": 1615414449965,
     "user": {
      "displayName": "Nasser Boan",
      "photoUrl": "https://lh3.googleusercontent.com/a-/AOh14GjTuDNvutj8p2cEHjJxzACQfn_42JEES7ikq7d-Sg=s64",
      "userId": "07798417422536509606"
     },
     "user_tz": 180
    },
    "id": "eOUDsCvBJTGQ",
    "outputId": "53e9a310-e789-47a0-aba4-5bf027541acc"
   },
   "outputs": [
    {
     "data": {
      "text/plain": [
       "'Adriel'"
      ]
     },
     "execution_count": 84,
     "metadata": {},
     "output_type": "execute_result"
    }
   ],
   "source": [
    "meu_dict['clientes'][0] # escolhe item especifico da coluna"
   ]
  },
  {
   "cell_type": "code",
   "execution_count": 85,
   "metadata": {
    "colab": {
     "base_uri": "https://localhost:8080/"
    },
    "executionInfo": {
     "elapsed": 517,
     "status": "ok",
     "timestamp": 1615414708210,
     "user": {
      "displayName": "Nasser Boan",
      "photoUrl": "https://lh3.googleusercontent.com/a-/AOh14GjTuDNvutj8p2cEHjJxzACQfn_42JEES7ikq7d-Sg=s64",
      "userId": "07798417422536509606"
     },
     "user_tz": 180
    },
    "id": "Owfl27-jJTD7",
    "outputId": "9aa76b63-56d0-4066-c444-b354acb63028"
   },
   "outputs": [
    {
     "data": {
      "text/plain": [
       "{'clientes': ['Adriel',\n",
       "  'Izadora',\n",
       "  'Fabrine',\n",
       "  'Marcelo',\n",
       "  'Ana Luiza',\n",
       "  'Gabriel Kenzo'],\n",
       " 'endereços': {'Adriel': 'Águas Claras',\n",
       "  'Izadora': 'Asa Norte',\n",
       "  'Fabrine': 'Asa Sul',\n",
       "  'Marcelo': 'Taguatinga',\n",
       "  'Ana Luiza': 'Lago Borte'},\n",
       " 'valor_total_faturado': 1112432}"
      ]
     },
     "execution_count": 85,
     "metadata": {},
     "output_type": "execute_result"
    }
   ],
   "source": [
    "meu_dict['clientes'].append('Gabriel Kenzo')\n",
    "meu_dict"
   ]
  },
  {
   "cell_type": "code",
   "execution_count": 86,
   "metadata": {
    "colab": {
     "base_uri": "https://localhost:8080/"
    },
    "executionInfo": {
     "elapsed": 673,
     "status": "ok",
     "timestamp": 1615414806439,
     "user": {
      "displayName": "Nasser Boan",
      "photoUrl": "https://lh3.googleusercontent.com/a-/AOh14GjTuDNvutj8p2cEHjJxzACQfn_42JEES7ikq7d-Sg=s64",
      "userId": "07798417422536509606"
     },
     "user_tz": 180
    },
    "id": "scUaMC3LOSfU",
    "outputId": "1b6f930e-b140-41be-b951-415524407ce2"
   },
   "outputs": [
    {
     "data": {
      "text/plain": [
       "{'clientes': ['Adriel',\n",
       "  'Izadora',\n",
       "  'Fabrine',\n",
       "  'Marcelo',\n",
       "  'Ana Luiza',\n",
       "  'Gabriel Kenzo'],\n",
       " 'endereços': {'Adriel': 'Águas Claras',\n",
       "  'Izadora': 'Asa Norte',\n",
       "  'Fabrine': 'Asa Sul',\n",
       "  'Marcelo': 'Taguatinga',\n",
       "  'Ana Luiza': 'Lago Borte',\n",
       "  'Gabriel Kenzo': 'Águas Claras'},\n",
       " 'valor_total_faturado': 1112432}"
      ]
     },
     "execution_count": 86,
     "metadata": {},
     "output_type": "execute_result"
    }
   ],
   "source": [
    "meu_dict['endereços']['Gabriel Kenzo'] = 'Águas Claras' # adiciona a coluna endereços do gabriel \n",
    "meu_dict"
   ]
  },
  {
   "cell_type": "code",
   "execution_count": 87,
   "metadata": {
    "colab": {
     "base_uri": "https://localhost:8080/"
    },
    "executionInfo": {
     "elapsed": 634,
     "status": "ok",
     "timestamp": 1615415214130,
     "user": {
      "displayName": "Nasser Boan",
      "photoUrl": "https://lh3.googleusercontent.com/a-/AOh14GjTuDNvutj8p2cEHjJxzACQfn_42JEES7ikq7d-Sg=s64",
      "userId": "07798417422536509606"
     },
     "user_tz": 180
    },
    "id": "Uy-rYydaOSdQ",
    "outputId": "7bbd28ac-4d89-433a-bd48-05c701245a1b"
   },
   "outputs": [
    {
     "data": {
      "text/plain": [
       "dict_keys(['clientes', 'endereços', 'valor_total_faturado'])"
      ]
     },
     "execution_count": 87,
     "metadata": {},
     "output_type": "execute_result"
    }
   ],
   "source": [
    "meu_dict.keys() # tabelas"
   ]
  },
  {
   "cell_type": "code",
   "execution_count": 88,
   "metadata": {
    "colab": {
     "base_uri": "https://localhost:8080/"
    },
    "executionInfo": {
     "elapsed": 496,
     "status": "ok",
     "timestamp": 1615415260842,
     "user": {
      "displayName": "Nasser Boan",
      "photoUrl": "https://lh3.googleusercontent.com/a-/AOh14GjTuDNvutj8p2cEHjJxzACQfn_42JEES7ikq7d-Sg=s64",
      "userId": "07798417422536509606"
     },
     "user_tz": 180
    },
    "id": "71Mm8iVxOzbW",
    "outputId": "a441964e-1022-4d9e-a1be-665b9f68c6d6"
   },
   "outputs": [
    {
     "data": {
      "text/plain": [
       "dict_values([['Adriel', 'Izadora', 'Fabrine', 'Marcelo', 'Ana Luiza', 'Gabriel Kenzo'], {'Adriel': 'Águas Claras', 'Izadora': 'Asa Norte', 'Fabrine': 'Asa Sul', 'Marcelo': 'Taguatinga', 'Ana Luiza': 'Lago Borte', 'Gabriel Kenzo': 'Águas Claras'}, 1112432])"
      ]
     },
     "execution_count": 88,
     "metadata": {},
     "output_type": "execute_result"
    }
   ],
   "source": [
    "meu_dict.values()"
   ]
  },
  {
   "cell_type": "code",
   "execution_count": 89,
   "metadata": {
    "colab": {
     "base_uri": "https://localhost:8080/"
    },
    "executionInfo": {
     "elapsed": 605,
     "status": "ok",
     "timestamp": 1615415298958,
     "user": {
      "displayName": "Nasser Boan",
      "photoUrl": "https://lh3.googleusercontent.com/a-/AOh14GjTuDNvutj8p2cEHjJxzACQfn_42JEES7ikq7d-Sg=s64",
      "userId": "07798417422536509606"
     },
     "user_tz": 180
    },
    "id": "ny6xt22NOzZF",
    "outputId": "55a700bd-91f8-4602-8c02-6ec9284c3ce3"
   },
   "outputs": [
    {
     "data": {
      "text/plain": [
       "1112432"
      ]
     },
     "execution_count": 89,
     "metadata": {},
     "output_type": "execute_result"
    }
   ],
   "source": [
    "meu_dict.pop('valor_total_faturado')"
   ]
  },
  {
   "cell_type": "code",
   "execution_count": 90,
   "metadata": {
    "colab": {
     "base_uri": "https://localhost:8080/"
    },
    "executionInfo": {
     "elapsed": 539,
     "status": "ok",
     "timestamp": 1615415459220,
     "user": {
      "displayName": "Nasser Boan",
      "photoUrl": "https://lh3.googleusercontent.com/a-/AOh14GjTuDNvutj8p2cEHjJxzACQfn_42JEES7ikq7d-Sg=s64",
      "userId": "07798417422536509606"
     },
     "user_tz": 180
    },
    "id": "i2fuT1NQOzWy",
    "outputId": "f1344093-42bf-4354-b17e-d00a08c4e8a2"
   },
   "outputs": [
    {
     "data": {
      "text/plain": [
       "{'clientes': ['Adriel',\n",
       "  'Izadora',\n",
       "  'Fabrine',\n",
       "  'Marcelo',\n",
       "  'Ana Luiza',\n",
       "  'Gabriel Kenzo'],\n",
       " 'endereços': {'Adriel': 'Águas Claras',\n",
       "  'Izadora': 'Asa Norte',\n",
       "  'Fabrine': 'Asa Sul',\n",
       "  'Marcelo': 'Taguatinga',\n",
       "  'Ana Luiza': 'Lago Borte',\n",
       "  'Gabriel Kenzo': 'Águas Claras'}}"
      ]
     },
     "execution_count": 90,
     "metadata": {},
     "output_type": "execute_result"
    }
   ],
   "source": [
    "meu_dict"
   ]
  },
  {
   "cell_type": "code",
   "execution_count": 91,
   "metadata": {
    "colab": {
     "base_uri": "https://localhost:8080/"
    },
    "executionInfo": {
     "elapsed": 639,
     "status": "ok",
     "timestamp": 1615415741558,
     "user": {
      "displayName": "Nasser Boan",
      "photoUrl": "https://lh3.googleusercontent.com/a-/AOh14GjTuDNvutj8p2cEHjJxzACQfn_42JEES7ikq7d-Sg=s64",
      "userId": "07798417422536509606"
     },
     "user_tz": 180
    },
    "id": "hKeq1xn6OzVA",
    "outputId": "26d77832-92af-4c67-c5a3-0624f7b37ac1"
   },
   "outputs": [
    {
     "data": {
      "text/plain": [
       "dict_items([('clientes', ['Adriel', 'Izadora', 'Fabrine', 'Marcelo', 'Ana Luiza', 'Gabriel Kenzo']), ('endereços', {'Adriel': 'Águas Claras', 'Izadora': 'Asa Norte', 'Fabrine': 'Asa Sul', 'Marcelo': 'Taguatinga', 'Ana Luiza': 'Lago Borte', 'Gabriel Kenzo': 'Águas Claras'})])"
      ]
     },
     "execution_count": 91,
     "metadata": {},
     "output_type": "execute_result"
    }
   ],
   "source": [
    "meu_dict.items()"
   ]
  },
  {
   "cell_type": "code",
   "execution_count": 92,
   "metadata": {
    "id": "rbIctzy1OzSr"
   },
   "outputs": [],
   "source": [
    "meu_dict.get('valor_total_de_venda')"
   ]
  },
  {
   "cell_type": "code",
   "execution_count": 93,
   "metadata": {
    "colab": {
     "base_uri": "https://localhost:8080/"
    },
    "executionInfo": {
     "elapsed": 1090,
     "status": "ok",
     "timestamp": 1615416138432,
     "user": {
      "displayName": "Nasser Boan",
      "photoUrl": "https://lh3.googleusercontent.com/a-/AOh14GjTuDNvutj8p2cEHjJxzACQfn_42JEES7ikq7d-Sg=s64",
      "userId": "07798417422536509606"
     },
     "user_tz": 180
    },
    "id": "EwEfR7jqSVIv",
    "outputId": "4c8f05e6-7c62-4af0-88bd-68ee6eca0d53"
   },
   "outputs": [
    {
     "data": {
      "text/plain": [
       "{}"
      ]
     },
     "execution_count": 93,
     "metadata": {},
     "output_type": "execute_result"
    }
   ],
   "source": [
    "meu_dict.clear() # Apaga valores do dicionario\n",
    "meu_dict"
   ]
  },
  {
   "cell_type": "code",
   "execution_count": null,
   "metadata": {
    "id": "fEl-7hf6SVGQ"
   },
   "outputs": [],
   "source": []
  },
  {
   "cell_type": "code",
   "execution_count": null,
   "metadata": {
    "id": "r4x3wQxcJTBm"
   },
   "outputs": [],
   "source": []
  },
  {
   "cell_type": "markdown",
   "metadata": {
    "id": "LbHRnhBCsUan"
   },
   "source": [
    "# Operadores Lógicos e Estruturas Condicionais"
   ]
  },
  {
   "cell_type": "code",
   "execution_count": 94,
   "metadata": {
    "id": "R-tM9tCAsXg6"
   },
   "outputs": [],
   "source": [
    "a = 10\n",
    "b = 20"
   ]
  },
  {
   "cell_type": "code",
   "execution_count": 95,
   "metadata": {
    "colab": {
     "base_uri": "https://localhost:8080/"
    },
    "executionInfo": {
     "elapsed": 20753,
     "status": "ok",
     "timestamp": 1612396208572,
     "user": {
      "displayName": "Nasser Boan",
      "photoUrl": "https://lh3.googleusercontent.com/a-/AOh14GjTuDNvutj8p2cEHjJxzACQfn_42JEES7ikq7d-Sg=s64",
      "userId": "07798417422536509606"
     },
     "user_tz": 180
    },
    "id": "Md78_mlYsXe1",
    "outputId": "b2d848fd-258b-4ddd-c84b-165c4510cb59"
   },
   "outputs": [
    {
     "data": {
      "text/plain": [
       "False"
      ]
     },
     "execution_count": 95,
     "metadata": {},
     "output_type": "execute_result"
    }
   ],
   "source": [
    "a > 10"
   ]
  },
  {
   "cell_type": "code",
   "execution_count": 96,
   "metadata": {
    "colab": {
     "base_uri": "https://localhost:8080/"
    },
    "executionInfo": {
     "elapsed": 20747,
     "status": "ok",
     "timestamp": 1612396208573,
     "user": {
      "displayName": "Nasser Boan",
      "photoUrl": "https://lh3.googleusercontent.com/a-/AOh14GjTuDNvutj8p2cEHjJxzACQfn_42JEES7ikq7d-Sg=s64",
      "userId": "07798417422536509606"
     },
     "user_tz": 180
    },
    "id": "ApS0XVdIsXc_",
    "outputId": "26451650-1635-4614-b938-280fe0c110ac"
   },
   "outputs": [
    {
     "data": {
      "text/plain": [
       "True"
      ]
     },
     "execution_count": 96,
     "metadata": {},
     "output_type": "execute_result"
    }
   ],
   "source": [
    "a == 10"
   ]
  },
  {
   "cell_type": "code",
   "execution_count": 97,
   "metadata": {
    "colab": {
     "base_uri": "https://localhost:8080/"
    },
    "executionInfo": {
     "elapsed": 20739,
     "status": "ok",
     "timestamp": 1612396208573,
     "user": {
      "displayName": "Nasser Boan",
      "photoUrl": "https://lh3.googleusercontent.com/a-/AOh14GjTuDNvutj8p2cEHjJxzACQfn_42JEES7ikq7d-Sg=s64",
      "userId": "07798417422536509606"
     },
     "user_tz": 180
    },
    "id": "8DW9hZoVyP6w",
    "outputId": "713ca054-e621-44f3-963e-6aa8b3d146f6"
   },
   "outputs": [
    {
     "data": {
      "text/plain": [
       "False"
      ]
     },
     "execution_count": 97,
     "metadata": {},
     "output_type": "execute_result"
    }
   ],
   "source": [
    "a > b"
   ]
  },
  {
   "cell_type": "code",
   "execution_count": 98,
   "metadata": {
    "colab": {
     "base_uri": "https://localhost:8080/"
    },
    "executionInfo": {
     "elapsed": 20731,
     "status": "ok",
     "timestamp": 1612396208574,
     "user": {
      "displayName": "Nasser Boan",
      "photoUrl": "https://lh3.googleusercontent.com/a-/AOh14GjTuDNvutj8p2cEHjJxzACQfn_42JEES7ikq7d-Sg=s64",
      "userId": "07798417422536509606"
     },
     "user_tz": 180
    },
    "id": "Ym5tCBswyP4l",
    "outputId": "b6bd5750-e251-4b5c-9a95-1859967870f1"
   },
   "outputs": [
    {
     "data": {
      "text/plain": [
       "False"
      ]
     },
     "execution_count": 98,
     "metadata": {},
     "output_type": "execute_result"
    }
   ],
   "source": [
    "a == b"
   ]
  },
  {
   "cell_type": "code",
   "execution_count": 99,
   "metadata": {
    "colab": {
     "base_uri": "https://localhost:8080/"
    },
    "executionInfo": {
     "elapsed": 20724,
     "status": "ok",
     "timestamp": 1612396208575,
     "user": {
      "displayName": "Nasser Boan",
      "photoUrl": "https://lh3.googleusercontent.com/a-/AOh14GjTuDNvutj8p2cEHjJxzACQfn_42JEES7ikq7d-Sg=s64",
      "userId": "07798417422536509606"
     },
     "user_tz": 180
    },
    "id": "KMAeGCC3yP2Y",
    "outputId": "ea72266e-42b3-4c2d-9488-2a0f6e6ffda5"
   },
   "outputs": [
    {
     "data": {
      "text/plain": [
       "True"
      ]
     },
     "execution_count": 99,
     "metadata": {},
     "output_type": "execute_result"
    }
   ],
   "source": [
    "a + 10 == b"
   ]
  },
  {
   "cell_type": "code",
   "execution_count": 100,
   "metadata": {
    "colab": {
     "base_uri": "https://localhost:8080/"
    },
    "executionInfo": {
     "elapsed": 20717,
     "status": "ok",
     "timestamp": 1612396208576,
     "user": {
      "displayName": "Nasser Boan",
      "photoUrl": "https://lh3.googleusercontent.com/a-/AOh14GjTuDNvutj8p2cEHjJxzACQfn_42JEES7ikq7d-Sg=s64",
      "userId": "07798417422536509606"
     },
     "user_tz": 180
    },
    "id": "hrrzcQ7tyP0I",
    "outputId": "2c3f7cb9-9708-4995-9749-7d6e4b0f046d"
   },
   "outputs": [
    {
     "name": "stdout",
     "output_type": "stream",
     "text": [
      "Comprar relógio\n"
     ]
    }
   ],
   "source": [
    "pagamento = 1001\n",
    "\n",
    "if pagamento > 1000 : \n",
    "  print('Comprar relógio')"
   ]
  },
  {
   "cell_type": "code",
   "execution_count": 101,
   "metadata": {
    "colab": {
     "base_uri": "https://localhost:8080/"
    },
    "executionInfo": {
     "elapsed": 20709,
     "status": "ok",
     "timestamp": 1612396208577,
     "user": {
      "displayName": "Nasser Boan",
      "photoUrl": "https://lh3.googleusercontent.com/a-/AOh14GjTuDNvutj8p2cEHjJxzACQfn_42JEES7ikq7d-Sg=s64",
      "userId": "07798417422536509606"
     },
     "user_tz": 180
    },
    "id": "xSA4RSFgsXaw",
    "outputId": "44e4f2a1-c659-459a-d2fa-80ef7ecad908"
   },
   "outputs": [
    {
     "name": "stdout",
     "output_type": "stream",
     "text": [
      "compre mês que vem.\n"
     ]
    }
   ],
   "source": [
    "pagamento = 999\n",
    "\n",
    "if pagamento > 1000 : \n",
    "  print('Comprar relógio')\n",
    "else:\n",
    "  print('compre mês que vem.')"
   ]
  },
  {
   "cell_type": "code",
   "execution_count": 102,
   "metadata": {
    "colab": {
     "base_uri": "https://localhost:8080/"
    },
    "executionInfo": {
     "elapsed": 20701,
     "status": "ok",
     "timestamp": 1612396208578,
     "user": {
      "displayName": "Nasser Boan",
      "photoUrl": "https://lh3.googleusercontent.com/a-/AOh14GjTuDNvutj8p2cEHjJxzACQfn_42JEES7ikq7d-Sg=s64",
      "userId": "07798417422536509606"
     },
     "user_tz": 180
    },
    "id": "Ykmn4ZF1i37D",
    "outputId": "539d56b0-5ccf-4626-a56d-1a8d1e9c009a"
   },
   "outputs": [
    {
     "name": "stdout",
     "output_type": "stream",
     "text": [
      "Ótimo dia para um jogo!\n"
     ]
    }
   ],
   "source": [
    "clima = 'ensolarado'\n",
    "vento = 1.2\n",
    "chance_de_chuva = 10\n",
    "\n",
    "if clima == 'ensolarado':\n",
    "  if vento >= 2.0:\n",
    "    print('Nao jogar, muito vento!')\n",
    "  else:\n",
    "    print('Ótimo dia para um jogo!')\n",
    "else:\n",
    "  if chance_de_chuva >= 80:\n",
    "    print('Não jogar, pode chover!')\n",
    "  else:\n",
    "    print('Vamos jogar e aquecer o dia!')"
   ]
  },
  {
   "cell_type": "code",
   "execution_count": 103,
   "metadata": {
    "colab": {
     "base_uri": "https://localhost:8080/"
    },
    "executionInfo": {
     "elapsed": 20694,
     "status": "ok",
     "timestamp": 1612396208578,
     "user": {
      "displayName": "Nasser Boan",
      "photoUrl": "https://lh3.googleusercontent.com/a-/AOh14GjTuDNvutj8p2cEHjJxzACQfn_42JEES7ikq7d-Sg=s64",
      "userId": "07798417422536509606"
     },
     "user_tz": 180
    },
    "id": "nQmpKsBmnSV4",
    "outputId": "2312d58c-0665-454a-bc95-912970215e59"
   },
   "outputs": [
    {
     "name": "stdout",
     "output_type": "stream",
     "text": [
      "Presto\n"
     ]
    }
   ],
   "source": [
    "bpm = 200\n",
    "\n",
    "if bpm >= 40 and bpm <= 60:\n",
    "  print('Largo')\n",
    "elif bpm > 60 and bpm <= 80:\n",
    "  print('Adagio')\n",
    "elif bpm >= 140 and bpm <= 200:\n",
    "  print('Presto')\n",
    "else:\n",
    "  print('Troppo Lento')"
   ]
  },
  {
   "cell_type": "markdown",
   "metadata": {
    "id": "cA1vnrSguKsP"
   },
   "source": [
    "# Estrutura de repetição"
   ]
  },
  {
   "cell_type": "markdown",
   "metadata": {
    "id": "hnGeLeHEXRf8"
   },
   "source": [
    "### for"
   ]
  },
  {
   "cell_type": "code",
   "execution_count": 104,
   "metadata": {
    "colab": {
     "base_uri": "https://localhost:8080/"
    },
    "executionInfo": {
     "elapsed": 1034,
     "status": "ok",
     "timestamp": 1615417658600,
     "user": {
      "displayName": "Nasser Boan",
      "photoUrl": "https://lh3.googleusercontent.com/a-/AOh14GjTuDNvutj8p2cEHjJxzACQfn_42JEES7ikq7d-Sg=s64",
      "userId": "07798417422536509606"
     },
     "user_tz": 180
    },
    "id": "P5RCNW6NXT4a",
    "outputId": "8c1c3e7c-8452-4e46-f51e-36f8e24c9e7d"
   },
   "outputs": [
    {
     "name": "stdout",
     "output_type": "stream",
     "text": [
      "1\n",
      "2\n",
      "3\n",
      "4\n",
      "5\n",
      "6\n",
      "7\n",
      "8\n",
      "9\n",
      "10\n"
     ]
    }
   ],
   "source": [
    "ls = [1,2,3,4,5,6,7,8,9,10]\n",
    "\n",
    "for valor in ls:\n",
    "  print(valor)"
   ]
  },
  {
   "cell_type": "code",
   "execution_count": 105,
   "metadata": {
    "colab": {
     "base_uri": "https://localhost:8080/"
    },
    "executionInfo": {
     "elapsed": 421,
     "status": "ok",
     "timestamp": 1614642101560,
     "user": {
      "displayName": "Nasser Boan",
      "photoUrl": "https://lh3.googleusercontent.com/a-/AOh14GjTuDNvutj8p2cEHjJxzACQfn_42JEES7ikq7d-Sg=s64",
      "userId": "07798417422536509606"
     },
     "user_tz": 180
    },
    "id": "Qs3Hp3b3XT00",
    "outputId": "79091847-94b9-4eb0-ee67-aab127209b82"
   },
   "outputs": [
    {
     "name": "stdout",
     "output_type": "stream",
     "text": [
      "1\n",
      "8\n",
      "27\n",
      "64\n",
      "125\n",
      "216\n",
      "343\n",
      "512\n",
      "729\n",
      "1000\n"
     ]
    }
   ],
   "source": [
    "## for puro\n",
    "\n",
    "for valor in ls:\n",
    "  print(valor**3)"
   ]
  },
  {
   "cell_type": "code",
   "execution_count": 106,
   "metadata": {
    "colab": {
     "base_uri": "https://localhost:8080/"
    },
    "executionInfo": {
     "elapsed": 520,
     "status": "ok",
     "timestamp": 1615417810209,
     "user": {
      "displayName": "Nasser Boan",
      "photoUrl": "https://lh3.googleusercontent.com/a-/AOh14GjTuDNvutj8p2cEHjJxzACQfn_42JEES7ikq7d-Sg=s64",
      "userId": "07798417422536509606"
     },
     "user_tz": 180
    },
    "id": "uX7Jy8F_XTxw",
    "outputId": "2467c17a-4fc1-4c5a-8784-dab0cf1c3dc7"
   },
   "outputs": [
    {
     "name": "stdout",
     "output_type": "stream",
     "text": [
      "1\n",
      "Valor Múltiplo de 2\n",
      "3\n",
      "Valor Múltiplo de 2\n",
      "5\n",
      "Valor Múltiplo de 2\n",
      "7\n",
      "Valor Múltiplo de 2\n",
      "9\n",
      "Valor Múltiplo de 2\n"
     ]
    }
   ],
   "source": [
    "## for com if\n",
    "\n",
    "for valor in ls:\n",
    "  if valor % 2 == 0:\n",
    "    print('Valor Múltiplo de 2')\n",
    "  else:\n",
    "    print(valor)"
   ]
  },
  {
   "cell_type": "code",
   "execution_count": 107,
   "metadata": {
    "colab": {
     "base_uri": "https://localhost:8080/"
    },
    "executionInfo": {
     "elapsed": 536,
     "status": "ok",
     "timestamp": 1615418337202,
     "user": {
      "displayName": "Nasser Boan",
      "photoUrl": "https://lh3.googleusercontent.com/a-/AOh14GjTuDNvutj8p2cEHjJxzACQfn_42JEES7ikq7d-Sg=s64",
      "userId": "07798417422536509606"
     },
     "user_tz": 180
    },
    "id": "jpBAjMnneVmW",
    "outputId": "17dc72a0-ab95-43a5-886c-25acff85a4b1"
   },
   "outputs": [
    {
     "name": "stdout",
     "output_type": "stream",
     "text": [
      "O valor 7 é válido!\n",
      "SOMA antes 0\n",
      "SOMA depois 7\n",
      "----------\n",
      "O valor 14 é válido!\n",
      "SOMA antes 7\n",
      "SOMA depois 21\n",
      "----------\n",
      "O valor 21 é válido!\n",
      "SOMA antes 21\n",
      "SOMA depois 42\n",
      "----------\n",
      "O valor 28 é válido!\n",
      "SOMA antes 42\n",
      "SOMA depois 70\n",
      "----------\n",
      "O valor 35 é válido!\n",
      "SOMA antes 70\n",
      "SOMA depois 105\n",
      "----------\n"
     ]
    }
   ],
   "source": [
    "## for com break\n",
    "\n",
    "new_ls = list(range(1,500))\n",
    "\n",
    "soma = 0\n",
    "\n",
    "for valor in new_ls:\n",
    "  \n",
    "  if soma > 100:\n",
    "    break # Quando parar\n",
    "\n",
    "  if valor % 3.5 == 0:\n",
    "    print(f\"O valor {valor} é válido!\")\n",
    "    print(f\"SOMA antes\", soma)\n",
    "    soma += valor # Soma e substitui\n",
    "    print(f\"SOMA depois {soma}\\n----------\") # Quebra linha"
   ]
  },
  {
   "cell_type": "code",
   "execution_count": 108,
   "metadata": {
    "colab": {
     "base_uri": "https://localhost:8080/"
    },
    "executionInfo": {
     "elapsed": 651,
     "status": "ok",
     "timestamp": 1615418401594,
     "user": {
      "displayName": "Nasser Boan",
      "photoUrl": "https://lh3.googleusercontent.com/a-/AOh14GjTuDNvutj8p2cEHjJxzACQfn_42JEES7ikq7d-Sg=s64",
      "userId": "07798417422536509606"
     },
     "user_tz": 180
    },
    "id": "BV9Tl34QXTvE",
    "outputId": "97c5f08a-b139-4f6d-8e9c-43827ca99319"
   },
   "outputs": [
    {
     "name": "stdout",
     "output_type": "stream",
     "text": [
      "Brasília\n",
      "Bananal\n",
      "São Paulo\n",
      "São Luís\n",
      "Acabaram as cidades\n"
     ]
    }
   ],
   "source": [
    "## for com else\n",
    "cidades = [\"Brasília\", \"Bananal\", \"São Paulo\", \"São Luís\"]\n",
    "\n",
    "for cidade in cidades:\n",
    "  print(cidade)\n",
    "\n",
    "else:\n",
    "  print(\"Acabaram as cidades\")"
   ]
  },
  {
   "cell_type": "code",
   "execution_count": 109,
   "metadata": {
    "colab": {
     "base_uri": "https://localhost:8080/"
    },
    "executionInfo": {
     "elapsed": 859,
     "status": "ok",
     "timestamp": 1614642110277,
     "user": {
      "displayName": "Nasser Boan",
      "photoUrl": "https://lh3.googleusercontent.com/a-/AOh14GjTuDNvutj8p2cEHjJxzACQfn_42JEES7ikq7d-Sg=s64",
      "userId": "07798417422536509606"
     },
     "user_tz": 180
    },
    "id": "d7iqlLIaKvHh",
    "outputId": "60f0e5d8-8a49-4482-a524-416871b7c54b"
   },
   "outputs": [
    {
     "name": "stdout",
     "output_type": "stream",
     "text": [
      "1\n",
      "8\n",
      "27\n",
      "64\n",
      "125\n",
      "216\n",
      "343\n",
      "512\n",
      "729\n",
      "1000\n"
     ]
    }
   ],
   "source": [
    "## compreensão de lista\n",
    "\n",
    "for valor in ls:\n",
    "  print(valor**3)"
   ]
  },
  {
   "cell_type": "code",
   "execution_count": 110,
   "metadata": {
    "colab": {
     "base_uri": "https://localhost:8080/"
    },
    "executionInfo": {
     "elapsed": 598,
     "status": "ok",
     "timestamp": 1614642129570,
     "user": {
      "displayName": "Nasser Boan",
      "photoUrl": "https://lh3.googleusercontent.com/a-/AOh14GjTuDNvutj8p2cEHjJxzACQfn_42JEES7ikq7d-Sg=s64",
      "userId": "07798417422536509606"
     },
     "user_tz": 180
    },
    "id": "jnrEVR5FKvFF",
    "outputId": "702097d2-8c6a-470a-8336-97e3a8f8316a"
   },
   "outputs": [
    {
     "data": {
      "text/plain": [
       "[1, 8, 27, 64, 125, 216, 343, 512, 729, 1000]"
      ]
     },
     "execution_count": 110,
     "metadata": {},
     "output_type": "execute_result"
    }
   ],
   "source": [
    "## compreensão de lista\n",
    "\n",
    "lista_cubo = [valor**3 for valor in ls]\n",
    "lista_cubo"
   ]
  },
  {
   "cell_type": "code",
   "execution_count": 111,
   "metadata": {
    "colab": {
     "base_uri": "https://localhost:8080/"
    },
    "executionInfo": {
     "elapsed": 721,
     "status": "ok",
     "timestamp": 1614642207578,
     "user": {
      "displayName": "Nasser Boan",
      "photoUrl": "https://lh3.googleusercontent.com/a-/AOh14GjTuDNvutj8p2cEHjJxzACQfn_42JEES7ikq7d-Sg=s64",
      "userId": "07798417422536509606"
     },
     "user_tz": 180
    },
    "id": "TV-toqAQKu5g",
    "outputId": "ea6d76b6-b088-4eae-ae9f-682fe60c604c"
   },
   "outputs": [
    {
     "data": {
      "text/plain": [
       "[8, 64, 216, 512, 1000]"
      ]
     },
     "execution_count": 111,
     "metadata": {},
     "output_type": "execute_result"
    }
   ],
   "source": [
    "lista_cubo_condicao = [valor ** 3 for valor in ls if valor%2==0]\n",
    "lista_cubo_condicao"
   ]
  },
  {
   "cell_type": "markdown",
   "metadata": {
    "id": "Jb6xtsu3XN4x"
   },
   "source": [
    "### while"
   ]
  },
  {
   "cell_type": "code",
   "execution_count": 112,
   "metadata": {
    "colab": {
     "base_uri": "https://localhost:8080/"
    },
    "executionInfo": {
     "elapsed": 685,
     "status": "ok",
     "timestamp": 1615418915302,
     "user": {
      "displayName": "Nasser Boan",
      "photoUrl": "https://lh3.googleusercontent.com/a-/AOh14GjTuDNvutj8p2cEHjJxzACQfn_42JEES7ikq7d-Sg=s64",
      "userId": "07798417422536509606"
     },
     "user_tz": 180
    },
    "id": "5sUaVXtRuOJO",
    "outputId": "1bcd99e9-0eaa-47b8-a7b0-65191225e672"
   },
   "outputs": [
    {
     "name": "stdout",
     "output_type": "stream",
     "text": [
      "O valor de 'i' é 10.\n",
      "O valor de 'i' é 20.\n",
      "O valor de 'i' é 30.\n",
      "O valor de 'i' é 40.\n",
      "O valor de 'i' é 50.\n",
      "O valor de 'i' é 60.\n",
      "O valor de 'i' é 70.\n",
      "O valor de 'i' é 80.\n",
      "O valor de 'i' é 90.\n",
      "O valor de 'i' é 100.\n"
     ]
    }
   ],
   "source": [
    "i = 10\n",
    "\n",
    "while i <= 100:\n",
    "  print(f\"O valor de 'i' é {i}.\")\n",
    "  i += 10"
   ]
  },
  {
   "cell_type": "code",
   "execution_count": 113,
   "metadata": {
    "colab": {
     "base_uri": "https://localhost:8080/"
    },
    "executionInfo": {
     "elapsed": 512,
     "status": "ok",
     "timestamp": 1615418915303,
     "user": {
      "displayName": "Nasser Boan",
      "photoUrl": "https://lh3.googleusercontent.com/a-/AOh14GjTuDNvutj8p2cEHjJxzACQfn_42JEES7ikq7d-Sg=s64",
      "userId": "07798417422536509606"
     },
     "user_tz": 180
    },
    "id": "JC2zJZHquOHO",
    "outputId": "180ded17-f375-49b3-e769-4836cae60539"
   },
   "outputs": [
    {
     "name": "stdout",
     "output_type": "stream",
     "text": [
      "O valor de 'i' é 10.\n",
      "O valor de 'i' é 20.\n",
      "O valor de 'i' é 30.\n",
      "O valor de 'i' é 40.\n",
      "O valor de 'i' é 50.\n",
      "O valor de 'i' é 60.\n",
      "Cheguei a 60, parando o loop.\n"
     ]
    }
   ],
   "source": [
    "i = 10\n",
    "\n",
    "while i <= 100:\n",
    "  print(f\"O valor de 'i' é {i}.\")\n",
    "  \n",
    "  if i == 60:\n",
    "    print('Cheguei a 60, parando o loop.')\n",
    "    break\n",
    "  \n",
    "  i += 10"
   ]
  },
  {
   "cell_type": "code",
   "execution_count": 114,
   "metadata": {
    "colab": {
     "base_uri": "https://localhost:8080/"
    },
    "executionInfo": {
     "elapsed": 600,
     "status": "ok",
     "timestamp": 1612396889370,
     "user": {
      "displayName": "Nasser Boan",
      "photoUrl": "https://lh3.googleusercontent.com/a-/AOh14GjTuDNvutj8p2cEHjJxzACQfn_42JEES7ikq7d-Sg=s64",
      "userId": "07798417422536509606"
     },
     "user_tz": 180
    },
    "id": "UMF0A99duN_p",
    "outputId": "4e094e7b-a243-4df9-87dc-b47e5f99bbd6"
   },
   "outputs": [
    {
     "name": "stdout",
     "output_type": "stream",
     "text": [
      "iteração  73\n",
      "soma  2628\n"
     ]
    }
   ],
   "source": [
    "contador = 0\n",
    "soma = 0\n",
    "\n",
    "while contador <= 100:\n",
    "  \n",
    "  if soma >= 2600:\n",
    "    print(\"iteração \",contador)\n",
    "    print(\"soma \", soma)\n",
    "    break\n",
    "  else:\n",
    "    soma += contador\n",
    "\n",
    "  contador += 1"
   ]
  },
  {
   "cell_type": "code",
   "execution_count": 115,
   "metadata": {
    "colab": {
     "base_uri": "https://localhost:8080/"
    },
    "executionInfo": {
     "elapsed": 517,
     "status": "ok",
     "timestamp": 1615419325423,
     "user": {
      "displayName": "Nasser Boan",
      "photoUrl": "https://lh3.googleusercontent.com/a-/AOh14GjTuDNvutj8p2cEHjJxzACQfn_42JEES7ikq7d-Sg=s64",
      "userId": "07798417422536509606"
     },
     "user_tz": 180
    },
    "id": "1PzKICqXeg6T",
    "outputId": "388ca117-5c90-45c7-9bb2-154ffdfc87d6"
   },
   "outputs": [
    {
     "name": "stdout",
     "output_type": "stream",
     "text": [
      "Venda mais!\n",
      "Venda mais!\n",
      "Venda mais!\n",
      "Venda mais!\n",
      "Venda mais!\n",
      "Venda mais!\n",
      "Venda mais!\n",
      "Venda mais!\n",
      "Venda mais!\n",
      "Venda mais!\n",
      "Venda mais!\n",
      "Venda mais!\n",
      "Venda mais!\n",
      "Venda mais!\n",
      "Venda mais!\n",
      "Venda mais!\n",
      "Venda mais!\n",
      "Venda mais!\n",
      "Venda mais!\n",
      "Venda mais!\n",
      "Venda mais!\n",
      "Meta alcançada!!\n",
      "QTD DE CLIENTES 21\n"
     ]
    }
   ],
   "source": [
    "clientes = 0\n",
    "valor_recebido = 0\n",
    "\n",
    "while valor_recebido < 100:\n",
    "  print('Venda mais!')\n",
    "  clientes += 1\n",
    "  valor_recebido = clientes * 4.99\n",
    "else:\n",
    "  print('Meta alcançada!!')\n",
    "  print('QTD DE CLIENTES',clientes)"
   ]
  },
  {
   "cell_type": "code",
   "execution_count": 116,
   "metadata": {
    "colab": {
     "base_uri": "https://localhost:8080/"
    },
    "executionInfo": {
     "elapsed": 522,
     "status": "ok",
     "timestamp": 1615419608021,
     "user": {
      "displayName": "Nasser Boan",
      "photoUrl": "https://lh3.googleusercontent.com/a-/AOh14GjTuDNvutj8p2cEHjJxzACQfn_42JEES7ikq7d-Sg=s64",
      "userId": "07798417422536509606"
     },
     "user_tz": 180
    },
    "id": "s0TAfpMmeg4N",
    "outputId": "bf60781d-fa95-4133-f6ef-a980008cef16"
   },
   "outputs": [
    {
     "name": "stdout",
     "output_type": "stream",
     "text": [
      "1 10\n",
      "1 20\n",
      "1 30\n",
      "1 40\n",
      "1 50\n",
      "2 10\n",
      "2 20\n",
      "2 30\n",
      "2 40\n",
      "2 50\n",
      "3 10\n",
      "3 20\n",
      "3 30\n",
      "3 40\n",
      "3 50\n",
      "4 10\n",
      "4 20\n",
      "4 30\n",
      "4 40\n",
      "4 50\n",
      "5 10\n",
      "5 20\n",
      "5 30\n",
      "5 40\n",
      "5 50\n"
     ]
    }
   ],
   "source": [
    "primeira_lista = [1,2,3,4,5]\n",
    "segunda_lista = [10,20,30,40,50]\n",
    "\n",
    "for i in primeira_lista:\n",
    "  for j in segunda_lista:\n",
    "    print(i,j)"
   ]
  },
  {
   "cell_type": "code",
   "execution_count": 117,
   "metadata": {
    "colab": {
     "base_uri": "https://localhost:8080/"
    },
    "executionInfo": {
     "elapsed": 509,
     "status": "ok",
     "timestamp": 1615419903969,
     "user": {
      "displayName": "Nasser Boan",
      "photoUrl": "https://lh3.googleusercontent.com/a-/AOh14GjTuDNvutj8p2cEHjJxzACQfn_42JEES7ikq7d-Sg=s64",
      "userId": "07798417422536509606"
     },
     "user_tz": 180
    },
    "id": "NXTkElJUegxw",
    "outputId": "84df4110-c3e6-4d79-e436-170e5a94114f"
   },
   "outputs": [
    {
     "data": {
      "text/plain": [
       "50"
      ]
     },
     "execution_count": 117,
     "metadata": {},
     "output_type": "execute_result"
    }
   ],
   "source": [
    "i = 0\n",
    "\n",
    "ls = []\n",
    "\n",
    "while i < 10:\n",
    "  for valor in primeira_lista:\n",
    "    ls.append(valor)\n",
    "\n",
    "  i += 1\n",
    "len(ls)"
   ]
  },
  {
   "cell_type": "markdown",
   "metadata": {
    "id": "Ivi415sofkFg"
   },
   "source": [
    "# Funções"
   ]
  },
  {
   "cell_type": "code",
   "execution_count": 118,
   "metadata": {
    "executionInfo": {
     "elapsed": 1075,
     "status": "ok",
     "timestamp": 1615502253876,
     "user": {
      "displayName": "Nasser Boan",
      "photoUrl": "https://lh3.googleusercontent.com/a-/AOh14GjTuDNvutj8p2cEHjJxzACQfn_42JEES7ikq7d-Sg=s64",
      "userId": "07798417422536509606"
     },
     "user_tz": 180
    },
    "id": "CrCqxu2lj1lX"
   },
   "outputs": [],
   "source": [
    "def minha_primeira_funcao():\n",
    "  print('O início de um sonho! Estudar Ciência de Dados e Inteligência Artificial')\n",
    "  for _ in range(5):\n",
    "    print('.')\n",
    "  print('Deu tudo certo!')"
   ]
  },
  {
   "cell_type": "code",
   "execution_count": 119,
   "metadata": {
    "colab": {
     "base_uri": "https://localhost:8080/"
    },
    "executionInfo": {
     "elapsed": 2382,
     "status": "ok",
     "timestamp": 1615502255249,
     "user": {
      "displayName": "Nasser Boan",
      "photoUrl": "https://lh3.googleusercontent.com/a-/AOh14GjTuDNvutj8p2cEHjJxzACQfn_42JEES7ikq7d-Sg=s64",
      "userId": "07798417422536509606"
     },
     "user_tz": 180
    },
    "id": "fNf9Uoukj1jh",
    "outputId": "029e52ef-3b72-49ce-9599-ec5edf751fa5"
   },
   "outputs": [
    {
     "name": "stdout",
     "output_type": "stream",
     "text": [
      "O início de um sonho! Estudar Ciência de Dados e Inteligência Artificial\n",
      ".\n",
      ".\n",
      ".\n",
      ".\n",
      ".\n",
      "Deu tudo certo!\n"
     ]
    }
   ],
   "source": [
    "minha_primeira_funcao()"
   ]
  },
  {
   "cell_type": "code",
   "execution_count": 120,
   "metadata": {
    "colab": {
     "base_uri": "https://localhost:8080/"
    },
    "executionInfo": {
     "elapsed": 2374,
     "status": "ok",
     "timestamp": 1615502255250,
     "user": {
      "displayName": "Nasser Boan",
      "photoUrl": "https://lh3.googleusercontent.com/a-/AOh14GjTuDNvutj8p2cEHjJxzACQfn_42JEES7ikq7d-Sg=s64",
      "userId": "07798417422536509606"
     },
     "user_tz": 180
    },
    "id": "sk1JSqR7lPMA",
    "outputId": "9c9fe7ec-76e3-4b45-a29a-0021074aa410"
   },
   "outputs": [
    {
     "name": "stdout",
     "output_type": "stream",
     "text": [
      "Hello World!\n"
     ]
    }
   ],
   "source": [
    "def hello_world():\n",
    "  print('Hello World!')\n",
    "\n",
    "hello_world()"
   ]
  },
  {
   "cell_type": "code",
   "execution_count": 121,
   "metadata": {
    "executionInfo": {
     "elapsed": 2373,
     "status": "ok",
     "timestamp": 1615502255251,
     "user": {
      "displayName": "Nasser Boan",
      "photoUrl": "https://lh3.googleusercontent.com/a-/AOh14GjTuDNvutj8p2cEHjJxzACQfn_42JEES7ikq7d-Sg=s64",
      "userId": "07798417422536509606"
     },
     "user_tz": 180
    },
    "id": "Z8yCLdO8j1hc"
   },
   "outputs": [],
   "source": [
    "def hello_person(nome):\n",
    "  print(f'Hello {nome}!')"
   ]
  },
  {
   "cell_type": "code",
   "execution_count": 122,
   "metadata": {
    "colab": {
     "base_uri": "https://localhost:8080/"
    },
    "executionInfo": {
     "elapsed": 2365,
     "status": "ok",
     "timestamp": 1615502255251,
     "user": {
      "displayName": "Nasser Boan",
      "photoUrl": "https://lh3.googleusercontent.com/a-/AOh14GjTuDNvutj8p2cEHjJxzACQfn_42JEES7ikq7d-Sg=s64",
      "userId": "07798417422536509606"
     },
     "user_tz": 180
    },
    "id": "zi8tVg7rj1ff",
    "outputId": "121b5dc5-cab3-4845-a9bd-1f72dc2e3a44"
   },
   "outputs": [
    {
     "name": "stdout",
     "output_type": "stream",
     "text": [
      "Hello Izabele de Araújo Brito!\n"
     ]
    }
   ],
   "source": [
    "hello_person(nome = 'Izabele de Araújo Brito')"
   ]
  },
  {
   "cell_type": "code",
   "execution_count": 127,
   "metadata": {
    "executionInfo": {
     "elapsed": 2364,
     "status": "ok",
     "timestamp": 1615502255252,
     "user": {
      "displayName": "Nasser Boan",
      "photoUrl": "https://lh3.googleusercontent.com/a-/AOh14GjTuDNvutj8p2cEHjJxzACQfn_42JEES7ikq7d-Sg=s64",
      "userId": "07798417422536509606"
     },
     "user_tz": 180
    },
    "id": "2T_c4G4mj1dW"
   },
   "outputs": [],
   "source": [
    "def calculadora(valor1,valor2,operacao):\n",
    "  if operacao == 'soma':\n",
    "    print(valor1+valor2)\n",
    "  elif operacao == 'divisao':\n",
    "    print(valor1/valor2)\n",
    "  elif operacao == 'multiplicacao':\n",
    "    print(valor1*valor2)\n",
    "  elif operacao == 'subtracao':\n",
    "    print(valor1-valor2)"
   ]
  },
  {
   "cell_type": "code",
   "execution_count": 129,
   "metadata": {
    "colab": {
     "base_uri": "https://localhost:8080/",
     "height": 163
    },
    "executionInfo": {
     "elapsed": 2359,
     "status": "error",
     "timestamp": 1615502255256,
     "user": {
      "displayName": "Nasser Boan",
      "photoUrl": "https://lh3.googleusercontent.com/a-/AOh14GjTuDNvutj8p2cEHjJxzACQfn_42JEES7ikq7d-Sg=s64",
      "userId": "07798417422536509606"
     },
     "user_tz": 180
    },
    "id": "SKoIecOkj1bL",
    "outputId": "8373cf94-5f38-4bc7-d36a-7dbf615a006b"
   },
   "outputs": [
    {
     "name": "stdout",
     "output_type": "stream",
     "text": [
      "240\n"
     ]
    }
   ],
   "source": [
    "calculadora(valor1=15,valor2=16, operacao='multiplicacao')"
   ]
  },
  {
   "cell_type": "code",
   "execution_count": 130,
   "metadata": {
    "colab": {
     "base_uri": "https://localhost:8080/"
    },
    "executionInfo": {
     "elapsed": 1750,
     "status": "ok",
     "timestamp": 1615502260299,
     "user": {
      "displayName": "Nasser Boan",
      "photoUrl": "https://lh3.googleusercontent.com/a-/AOh14GjTuDNvutj8p2cEHjJxzACQfn_42JEES7ikq7d-Sg=s64",
      "userId": "07798417422536509606"
     },
     "user_tz": 180
    },
    "id": "L2SiV7TGj1ZB",
    "outputId": "ad5775a1-b855-4e14-ad40-a4aa5fb1182e"
   },
   "outputs": [
    {
     "name": "stdout",
     "output_type": "stream",
     "text": [
      "31\n"
     ]
    }
   ],
   "source": [
    "calculadora(valor1=15,valor2=16,operacao='soma')"
   ]
  },
  {
   "cell_type": "code",
   "execution_count": 131,
   "metadata": {
    "colab": {
     "base_uri": "https://localhost:8080/"
    },
    "executionInfo": {
     "elapsed": 1559,
     "status": "ok",
     "timestamp": 1615502260299,
     "user": {
      "displayName": "Nasser Boan",
      "photoUrl": "https://lh3.googleusercontent.com/a-/AOh14GjTuDNvutj8p2cEHjJxzACQfn_42JEES7ikq7d-Sg=s64",
      "userId": "07798417422536509606"
     },
     "user_tz": 180
    },
    "id": "dpRguPniqCNr",
    "outputId": "8ae47b6a-263b-4520-eb28-fc1fadafc456"
   },
   "outputs": [
    {
     "name": "stdout",
     "output_type": "stream",
     "text": [
      "31\n"
     ]
    }
   ],
   "source": [
    "calculadora(15,16,'soma')"
   ]
  },
  {
   "cell_type": "code",
   "execution_count": 132,
   "metadata": {
    "colab": {
     "base_uri": "https://localhost:8080/"
    },
    "executionInfo": {
     "elapsed": 1393,
     "status": "ok",
     "timestamp": 1615502260300,
     "user": {
      "displayName": "Nasser Boan",
      "photoUrl": "https://lh3.googleusercontent.com/a-/AOh14GjTuDNvutj8p2cEHjJxzACQfn_42JEES7ikq7d-Sg=s64",
      "userId": "07798417422536509606"
     },
     "user_tz": 180
    },
    "id": "-M4n5RGjqypO",
    "outputId": "9d7be743-37c6-4831-c5e4-80c90ee7875b"
   },
   "outputs": [
    {
     "name": "stdout",
     "output_type": "stream",
     "text": [
      "18\n"
     ]
    }
   ],
   "source": [
    "calculadora(operacao='soma',valor1=10,valor2=8)"
   ]
  },
  {
   "cell_type": "code",
   "execution_count": 134,
   "metadata": {
    "colab": {
     "base_uri": "https://localhost:8080/",
     "height": 129
    },
    "executionInfo": {
     "elapsed": 1267,
     "status": "error",
     "timestamp": 1615502260301,
     "user": {
      "displayName": "Nasser Boan",
      "photoUrl": "https://lh3.googleusercontent.com/a-/AOh14GjTuDNvutj8p2cEHjJxzACQfn_42JEES7ikq7d-Sg=s64",
      "userId": "07798417422536509606"
     },
     "user_tz": 180
    },
    "id": "QzVt2hB4qCLe",
    "outputId": "15bd3ab6-deaa-4d3b-ff61-d6d822cee4f8"
   },
   "outputs": [
    {
     "name": "stdout",
     "output_type": "stream",
     "text": [
      "18\n"
     ]
    }
   ],
   "source": [
    "calculadora(valor1=10, valor2=8, operacao='soma')"
   ]
  },
  {
   "cell_type": "code",
   "execution_count": 135,
   "metadata": {
    "executionInfo": {
     "elapsed": 1753,
     "status": "ok",
     "timestamp": 1615502267271,
     "user": {
      "displayName": "Nasser Boan",
      "photoUrl": "https://lh3.googleusercontent.com/a-/AOh14GjTuDNvutj8p2cEHjJxzACQfn_42JEES7ikq7d-Sg=s64",
      "userId": "07798417422536509606"
     },
     "user_tz": 180
    },
    "id": "YLIyFpUmrb9q"
   },
   "outputs": [],
   "source": [
    "def calculadora(valor1, valor2, operacao='soma'):\n",
    "\n",
    "  if operacao == 'soma':\n",
    "    print(valor1+valor2)\n",
    "  elif operacao == 'divisao':\n",
    "    print(valor1/valor2)\n",
    "  elif operacao == 'multiplicacao':\n",
    "    print(valor1*valor2)\n",
    "  elif operacao == 'subtracao':\n",
    "    print(valor1-valor2)"
   ]
  },
  {
   "cell_type": "code",
   "execution_count": 136,
   "metadata": {
    "colab": {
     "base_uri": "https://localhost:8080/"
    },
    "executionInfo": {
     "elapsed": 1507,
     "status": "ok",
     "timestamp": 1615502267272,
     "user": {
      "displayName": "Nasser Boan",
      "photoUrl": "https://lh3.googleusercontent.com/a-/AOh14GjTuDNvutj8p2cEHjJxzACQfn_42JEES7ikq7d-Sg=s64",
      "userId": "07798417422536509606"
     },
     "user_tz": 180
    },
    "id": "RYYX76O1rb7O",
    "outputId": "df0a929c-0539-408f-8204-14d5c9f1545d"
   },
   "outputs": [
    {
     "name": "stdout",
     "output_type": "stream",
     "text": [
      "110\n"
     ]
    }
   ],
   "source": [
    "calculadora(100,10)"
   ]
  },
  {
   "cell_type": "code",
   "execution_count": 137,
   "metadata": {
    "executionInfo": {
     "elapsed": 877,
     "status": "ok",
     "timestamp": 1615502269105,
     "user": {
      "displayName": "Nasser Boan",
      "photoUrl": "https://lh3.googleusercontent.com/a-/AOh14GjTuDNvutj8p2cEHjJxzACQfn_42JEES7ikq7d-Sg=s64",
      "userId": "07798417422536509606"
     },
     "user_tz": 180
    },
    "id": "Pbb9KBgVuXuo"
   },
   "outputs": [],
   "source": [
    "def minha_soma(valor1,valor2):\n",
    "  valor1+valor2\n",
    "\n",
    "def minha_soma_return(valor1,valor2):\n",
    "  resultado = valor1 + valor2\n",
    "\n",
    "  return resultado"
   ]
  },
  {
   "cell_type": "code",
   "execution_count": 138,
   "metadata": {
    "colab": {
     "base_uri": "https://localhost:8080/"
    },
    "executionInfo": {
     "elapsed": 1077,
     "status": "ok",
     "timestamp": 1615502270275,
     "user": {
      "displayName": "Nasser Boan",
      "photoUrl": "https://lh3.googleusercontent.com/a-/AOh14GjTuDNvutj8p2cEHjJxzACQfn_42JEES7ikq7d-Sg=s64",
      "userId": "07798417422536509606"
     },
     "user_tz": 180
    },
    "id": "dKECd8OyuXsN",
    "outputId": "094a272e-f106-46fb-819f-17b76c8af178"
   },
   "outputs": [
    {
     "name": "stdout",
     "output_type": "stream",
     "text": [
      "None\n",
      "<class 'NoneType'>\n"
     ]
    }
   ],
   "source": [
    "x = minha_soma(10,10)\n",
    "print(x)\n",
    "print(type(x))"
   ]
  },
  {
   "cell_type": "code",
   "execution_count": 139,
   "metadata": {
    "colab": {
     "base_uri": "https://localhost:8080/"
    },
    "executionInfo": {
     "elapsed": 1043,
     "status": "ok",
     "timestamp": 1615502272879,
     "user": {
      "displayName": "Nasser Boan",
      "photoUrl": "https://lh3.googleusercontent.com/a-/AOh14GjTuDNvutj8p2cEHjJxzACQfn_42JEES7ikq7d-Sg=s64",
      "userId": "07798417422536509606"
     },
     "user_tz": 180
    },
    "id": "yy6kJhnHuXpz",
    "outputId": "a1d0744d-6a2a-49a1-d6ab-6a9ada1dd64a"
   },
   "outputs": [
    {
     "name": "stdout",
     "output_type": "stream",
     "text": [
      "20\n",
      "<class 'int'>\n"
     ]
    }
   ],
   "source": [
    "x = minha_soma_return(10,10)\n",
    "print(x)\n",
    "print(type(x))"
   ]
  },
  {
   "cell_type": "code",
   "execution_count": 1,
   "metadata": {
    "colab": {
     "base_uri": "https://localhost:8080/"
    },
    "executionInfo": {
     "elapsed": 3882,
     "status": "ok",
     "timestamp": 1615503139720,
     "user": {
      "displayName": "Nasser Boan",
      "photoUrl": "https://lh3.googleusercontent.com/a-/AOh14GjTuDNvutj8p2cEHjJxzACQfn_42JEES7ikq7d-Sg=s64",
      "userId": "07798417422536509606"
     },
     "user_tz": 180
    },
    "id": "YYD4HOEZsnlM",
    "outputId": "0c8c13dd-dd6d-40eb-b212-61187f6a1e26"
   },
   "outputs": [
    {
     "name": "stdout",
     "output_type": "stream",
     "text": [
      "Requirement already satisfied: pandas in c:\\programdata\\anaconda3\\lib\\site-packages (1.3.4)\n",
      "Requirement already satisfied: pytz>=2017.3 in c:\\programdata\\anaconda3\\lib\\site-packages (from pandas) (2021.3)\n",
      "Requirement already satisfied: python-dateutil>=2.7.3 in c:\\programdata\\anaconda3\\lib\\site-packages (from pandas) (2.8.2)\n",
      "Requirement already satisfied: numpy>=1.17.3 in c:\\programdata\\anaconda3\\lib\\site-packages (from pandas) (1.20.3)\n",
      "Requirement already satisfied: six>=1.5 in c:\\programdata\\anaconda3\\lib\\site-packages (from python-dateutil>=2.7.3->pandas) (1.16.0)\n"
     ]
    }
   ],
   "source": [
    "!pip install pandas"
   ]
  },
  {
   "cell_type": "code",
   "execution_count": 9,
   "metadata": {
    "colab": {
     "base_uri": "https://localhost:8080/",
     "height": 419
    },
    "executionInfo": {
     "elapsed": 529,
     "status": "ok",
     "timestamp": 1615503261051,
     "user": {
      "displayName": "Nasser Boan",
      "photoUrl": "https://lh3.googleusercontent.com/a-/AOh14GjTuDNvutj8p2cEHjJxzACQfn_42JEES7ikq7d-Sg=s64",
      "userId": "07798417422536509606"
     },
     "user_tz": 180
    },
    "id": "nS_M-NhTsni-",
    "outputId": "5e23fdee-2274-4c58-8d20-521116071d1e"
   },
   "outputs": [],
   "source": [
    "import pandas as pd\n",
    "\n",
    "#pandas.read_csv('/content/sample_data/california_housing_train.csv')\n",
    "ENEM = pd.read_excel('C:\\\\Users\\\\2212120017\\\\Documents\\\\REPOS\\\\graduation_projects\\\\first_semester\\\\Sergio\\\\ENEM_2020_AMOSTRA_1P_REDUZIDA.xlsx')"
   ]
  },
  {
   "cell_type": "code",
   "execution_count": 305,
   "metadata": {
    "colab": {
     "base_uri": "https://localhost:8080/",
     "height": 419
    },
    "executionInfo": {
     "elapsed": 542,
     "status": "ok",
     "timestamp": 1615503490848,
     "user": {
      "displayName": "Nasser Boan",
      "photoUrl": "https://lh3.googleusercontent.com/a-/AOh14GjTuDNvutj8p2cEHjJxzACQfn_42JEES7ikq7d-Sg=s64",
      "userId": "07798417422536509606"
     },
     "user_tz": 180
    },
    "id": "kCAQQd-jsnaz",
    "outputId": "4b17a28e-47c0-4ad3-8fb2-a93aaa699cca"
   },
   "outputs": [],
   "source": [
    "import pandas as pd\n",
    "\n",
    "#pd.read_csv('/content/sample_data/california_housing_train.csv')\n",
    "ENEM2 = pd.read_sas(\"D:\\Arquivos - Dados\\ENEM\\Amostra_10_missing.sas7bdat\", format = \"sas7bdat\", encoding=\"iso-8859-1\")"
   ]
  },
  {
   "cell_type": "code",
   "execution_count": 306,
   "metadata": {
    "colab": {
     "base_uri": "https://localhost:8080/",
     "height": 419
    },
    "executionInfo": {
     "elapsed": 526,
     "status": "ok",
     "timestamp": 1615503720654,
     "user": {
      "displayName": "Nasser Boan",
      "photoUrl": "https://lh3.googleusercontent.com/a-/AOh14GjTuDNvutj8p2cEHjJxzACQfn_42JEES7ikq7d-Sg=s64",
      "userId": "07798417422536509606"
     },
     "user_tz": 180
    },
    "id": "p0f4w1ttrb43",
    "outputId": "90b05e88-d555-432e-9280-b65564166dec"
   },
   "outputs": [
    {
     "data": {
      "text/html": [
       "<div>\n",
       "<style scoped>\n",
       "    .dataframe tbody tr th:only-of-type {\n",
       "        vertical-align: middle;\n",
       "    }\n",
       "\n",
       "    .dataframe tbody tr th {\n",
       "        vertical-align: top;\n",
       "    }\n",
       "\n",
       "    .dataframe thead th {\n",
       "        text-align: right;\n",
       "    }\n",
       "</style>\n",
       "<table border=\"1\" class=\"dataframe\">\n",
       "  <thead>\n",
       "    <tr style=\"text-align: right;\">\n",
       "      <th></th>\n",
       "      <th>ANO</th>\n",
       "      <th>NUMERO_INSCRICAO</th>\n",
       "      <th>SG_UF_RESIDENCIA</th>\n",
       "      <th>COR_RACA</th>\n",
       "      <th>TIPO_ESCOLA</th>\n",
       "      <th>SEXO</th>\n",
       "      <th>NU_IDADE</th>\n",
       "      <th>NU_NOTA_CN</th>\n",
       "      <th>NU_NOTA_CH</th>\n",
       "      <th>NU_NOTA_LC</th>\n",
       "      <th>NU_NOTA_MT</th>\n",
       "      <th>NU_NOTA_REDACAO</th>\n",
       "      <th>NOTA_MEDIA</th>\n",
       "    </tr>\n",
       "  </thead>\n",
       "  <tbody>\n",
       "    <tr>\n",
       "      <th>0</th>\n",
       "      <td>2017</td>\n",
       "      <td>170000000008</td>\n",
       "      <td>RS</td>\n",
       "      <td>Branca</td>\n",
       "      <td>Não Respondeu</td>\n",
       "      <td>Masculino</td>\n",
       "      <td>19.0</td>\n",
       "      <td>696.30</td>\n",
       "      <td>674.30</td>\n",
       "      <td>612.50</td>\n",
       "      <td>838.90</td>\n",
       "      <td>680.0</td>\n",
       "      <td>700.400</td>\n",
       "    </tr>\n",
       "    <tr>\n",
       "      <th>1</th>\n",
       "      <td>2017</td>\n",
       "      <td>170000000015</td>\n",
       "      <td>RS</td>\n",
       "      <td>Branca</td>\n",
       "      <td>Pública</td>\n",
       "      <td>Feminino</td>\n",
       "      <td>19.0</td>\n",
       "      <td>430.90</td>\n",
       "      <td>546.60</td>\n",
       "      <td>526.60</td>\n",
       "      <td>467.60</td>\n",
       "      <td>760.0</td>\n",
       "      <td>546.340</td>\n",
       "    </tr>\n",
       "    <tr>\n",
       "      <th>2</th>\n",
       "      <td>2017</td>\n",
       "      <td>170000000028</td>\n",
       "      <td>SP</td>\n",
       "      <td>Branca</td>\n",
       "      <td>Pública</td>\n",
       "      <td>Feminino</td>\n",
       "      <td>17.0</td>\n",
       "      <td>610.40</td>\n",
       "      <td>572.30</td>\n",
       "      <td>571.10</td>\n",
       "      <td>535.90</td>\n",
       "      <td>460.0</td>\n",
       "      <td>549.940</td>\n",
       "    </tr>\n",
       "    <tr>\n",
       "      <th>3</th>\n",
       "      <td>2017</td>\n",
       "      <td>170000000029</td>\n",
       "      <td>BA</td>\n",
       "      <td>Parda</td>\n",
       "      <td>Não Respondeu</td>\n",
       "      <td>Feminino</td>\n",
       "      <td>44.0</td>\n",
       "      <td>424.20</td>\n",
       "      <td>454.40</td>\n",
       "      <td>494.40</td>\n",
       "      <td>498.50</td>\n",
       "      <td>560.0</td>\n",
       "      <td>486.300</td>\n",
       "    </tr>\n",
       "    <tr>\n",
       "      <th>4</th>\n",
       "      <td>2017</td>\n",
       "      <td>170000000030</td>\n",
       "      <td>AL</td>\n",
       "      <td>Branca</td>\n",
       "      <td>Não Respondeu</td>\n",
       "      <td>Masculino</td>\n",
       "      <td>18.0</td>\n",
       "      <td>5.72</td>\n",
       "      <td>606.40</td>\n",
       "      <td>613.10</td>\n",
       "      <td>617.80</td>\n",
       "      <td>700.0</td>\n",
       "      <td>508.604</td>\n",
       "    </tr>\n",
       "    <tr>\n",
       "      <th>5</th>\n",
       "      <td>2017</td>\n",
       "      <td>170000000037</td>\n",
       "      <td>SP</td>\n",
       "      <td>Branca</td>\n",
       "      <td>Pública</td>\n",
       "      <td>Masculino</td>\n",
       "      <td>17.0</td>\n",
       "      <td>467.60</td>\n",
       "      <td>557.60</td>\n",
       "      <td>5.12</td>\n",
       "      <td>628.10</td>\n",
       "      <td>600.0</td>\n",
       "      <td>451.684</td>\n",
       "    </tr>\n",
       "    <tr>\n",
       "      <th>6</th>\n",
       "      <td>2017</td>\n",
       "      <td>170000000048</td>\n",
       "      <td>SP</td>\n",
       "      <td>Preta</td>\n",
       "      <td>Não Respondeu</td>\n",
       "      <td>Masculino</td>\n",
       "      <td>20.0</td>\n",
       "      <td>521.90</td>\n",
       "      <td>497.40</td>\n",
       "      <td>508.10</td>\n",
       "      <td>397.70</td>\n",
       "      <td>460.0</td>\n",
       "      <td>477.020</td>\n",
       "    </tr>\n",
       "    <tr>\n",
       "      <th>7</th>\n",
       "      <td>2017</td>\n",
       "      <td>170000000059</td>\n",
       "      <td>MG</td>\n",
       "      <td>Branca</td>\n",
       "      <td>Pública</td>\n",
       "      <td>Feminino</td>\n",
       "      <td>18.0</td>\n",
       "      <td>457.60</td>\n",
       "      <td>451.80</td>\n",
       "      <td>541.80</td>\n",
       "      <td>545.20</td>\n",
       "      <td>580.0</td>\n",
       "      <td>515.280</td>\n",
       "    </tr>\n",
       "    <tr>\n",
       "      <th>8</th>\n",
       "      <td>2017</td>\n",
       "      <td>170000000085</td>\n",
       "      <td>SP</td>\n",
       "      <td>Branca</td>\n",
       "      <td>Não Respondeu</td>\n",
       "      <td>Feminino</td>\n",
       "      <td>19.0</td>\n",
       "      <td>519.80</td>\n",
       "      <td>577.60</td>\n",
       "      <td>554.30</td>\n",
       "      <td>496.70</td>\n",
       "      <td>580.0</td>\n",
       "      <td>545.680</td>\n",
       "    </tr>\n",
       "    <tr>\n",
       "      <th>9</th>\n",
       "      <td>2017</td>\n",
       "      <td>170000000102</td>\n",
       "      <td>SP</td>\n",
       "      <td>Branca</td>\n",
       "      <td>Não Respondeu</td>\n",
       "      <td>Masculino</td>\n",
       "      <td>22.0</td>\n",
       "      <td>638.20</td>\n",
       "      <td>712.10</td>\n",
       "      <td>609.90</td>\n",
       "      <td>655.90</td>\n",
       "      <td>920.0</td>\n",
       "      <td>707.220</td>\n",
       "    </tr>\n",
       "    <tr>\n",
       "      <th>10</th>\n",
       "      <td>2017</td>\n",
       "      <td>170000000103</td>\n",
       "      <td>PB</td>\n",
       "      <td>Branca</td>\n",
       "      <td>Não Respondeu</td>\n",
       "      <td>Feminino</td>\n",
       "      <td>18.0</td>\n",
       "      <td>401.60</td>\n",
       "      <td>597.90</td>\n",
       "      <td>5.43</td>\n",
       "      <td>563.80</td>\n",
       "      <td>680.0</td>\n",
       "      <td>449.746</td>\n",
       "    </tr>\n",
       "    <tr>\n",
       "      <th>11</th>\n",
       "      <td>2017</td>\n",
       "      <td>170000000121</td>\n",
       "      <td>PE</td>\n",
       "      <td>Branca</td>\n",
       "      <td>Não Respondeu</td>\n",
       "      <td>Masculino</td>\n",
       "      <td>19.0</td>\n",
       "      <td>635.20</td>\n",
       "      <td>621.90</td>\n",
       "      <td>616.10</td>\n",
       "      <td>761.10</td>\n",
       "      <td>700.0</td>\n",
       "      <td>666.860</td>\n",
       "    </tr>\n",
       "    <tr>\n",
       "      <th>12</th>\n",
       "      <td>2017</td>\n",
       "      <td>170000000129</td>\n",
       "      <td>BA</td>\n",
       "      <td>Preta</td>\n",
       "      <td>Não Respondeu</td>\n",
       "      <td>Feminino</td>\n",
       "      <td>26.0</td>\n",
       "      <td>5.30</td>\n",
       "      <td>498.50</td>\n",
       "      <td>5.17</td>\n",
       "      <td>462.30</td>\n",
       "      <td>660.0</td>\n",
       "      <td>326.254</td>\n",
       "    </tr>\n",
       "    <tr>\n",
       "      <th>13</th>\n",
       "      <td>2017</td>\n",
       "      <td>170000000131</td>\n",
       "      <td>SP</td>\n",
       "      <td>Não declarado</td>\n",
       "      <td>Pública</td>\n",
       "      <td>Masculino</td>\n",
       "      <td>17.0</td>\n",
       "      <td>436.80</td>\n",
       "      <td>463.70</td>\n",
       "      <td>465.30</td>\n",
       "      <td>436.70</td>\n",
       "      <td>520.0</td>\n",
       "      <td>464.500</td>\n",
       "    </tr>\n",
       "    <tr>\n",
       "      <th>14</th>\n",
       "      <td>2017</td>\n",
       "      <td>170000000145</td>\n",
       "      <td>BA</td>\n",
       "      <td>Parda</td>\n",
       "      <td>Não Respondeu</td>\n",
       "      <td>Feminino</td>\n",
       "      <td>25.0</td>\n",
       "      <td>429.90</td>\n",
       "      <td>495.40</td>\n",
       "      <td>533.10</td>\n",
       "      <td>521.30</td>\n",
       "      <td>620.0</td>\n",
       "      <td>519.940</td>\n",
       "    </tr>\n",
       "    <tr>\n",
       "      <th>15</th>\n",
       "      <td>2017</td>\n",
       "      <td>170000000167</td>\n",
       "      <td>PA</td>\n",
       "      <td>Branca</td>\n",
       "      <td>Não Respondeu</td>\n",
       "      <td>Feminino</td>\n",
       "      <td>19.0</td>\n",
       "      <td>NaN</td>\n",
       "      <td>550.10</td>\n",
       "      <td>484.60</td>\n",
       "      <td>491.30</td>\n",
       "      <td>520.0</td>\n",
       "      <td>488.860</td>\n",
       "    </tr>\n",
       "    <tr>\n",
       "      <th>16</th>\n",
       "      <td>2017</td>\n",
       "      <td>170000000170</td>\n",
       "      <td>SP</td>\n",
       "      <td>Branca</td>\n",
       "      <td>Não Respondeu</td>\n",
       "      <td>Feminino</td>\n",
       "      <td>20.0</td>\n",
       "      <td>626.20</td>\n",
       "      <td>678.90</td>\n",
       "      <td>647.80</td>\n",
       "      <td>719.30</td>\n",
       "      <td>960.0</td>\n",
       "      <td>726.440</td>\n",
       "    </tr>\n",
       "    <tr>\n",
       "      <th>17</th>\n",
       "      <td>2017</td>\n",
       "      <td>170000000182</td>\n",
       "      <td>PE</td>\n",
       "      <td>Branca</td>\n",
       "      <td>Não Respondeu</td>\n",
       "      <td>Feminino</td>\n",
       "      <td>21.0</td>\n",
       "      <td>616.10</td>\n",
       "      <td>634.50</td>\n",
       "      <td>549.50</td>\n",
       "      <td>591.30</td>\n",
       "      <td>760.0</td>\n",
       "      <td>630.280</td>\n",
       "    </tr>\n",
       "    <tr>\n",
       "      <th>18</th>\n",
       "      <td>2017</td>\n",
       "      <td>170000000192</td>\n",
       "      <td>PR</td>\n",
       "      <td>Branca</td>\n",
       "      <td>Não Respondeu</td>\n",
       "      <td>Masculino</td>\n",
       "      <td>18.0</td>\n",
       "      <td>440.90</td>\n",
       "      <td>405.70</td>\n",
       "      <td>3.55</td>\n",
       "      <td>519.20</td>\n",
       "      <td>360.0</td>\n",
       "      <td>345.870</td>\n",
       "    </tr>\n",
       "    <tr>\n",
       "      <th>19</th>\n",
       "      <td>2017</td>\n",
       "      <td>170000000209</td>\n",
       "      <td>GO</td>\n",
       "      <td>Parda</td>\n",
       "      <td>Não Respondeu</td>\n",
       "      <td>Feminino</td>\n",
       "      <td>17.0</td>\n",
       "      <td>485.90</td>\n",
       "      <td>479.90</td>\n",
       "      <td>521.50</td>\n",
       "      <td>637.10</td>\n",
       "      <td>620.0</td>\n",
       "      <td>548.880</td>\n",
       "    </tr>\n",
       "    <tr>\n",
       "      <th>20</th>\n",
       "      <td>2017</td>\n",
       "      <td>170000000225</td>\n",
       "      <td>SP</td>\n",
       "      <td>NaN</td>\n",
       "      <td>Não Respondeu</td>\n",
       "      <td>Feminino</td>\n",
       "      <td>30.0</td>\n",
       "      <td>548.20</td>\n",
       "      <td>595.40</td>\n",
       "      <td>573.70</td>\n",
       "      <td>5.83</td>\n",
       "      <td>520.0</td>\n",
       "      <td>448.626</td>\n",
       "    </tr>\n",
       "    <tr>\n",
       "      <th>21</th>\n",
       "      <td>2017</td>\n",
       "      <td>170000000257</td>\n",
       "      <td>MG</td>\n",
       "      <td>Parda</td>\n",
       "      <td>Não Respondeu</td>\n",
       "      <td>Masculino</td>\n",
       "      <td>22.0</td>\n",
       "      <td>437.60</td>\n",
       "      <td>572.90</td>\n",
       "      <td>554.70</td>\n",
       "      <td>521.80</td>\n",
       "      <td>620.0</td>\n",
       "      <td>541.400</td>\n",
       "    </tr>\n",
       "    <tr>\n",
       "      <th>22</th>\n",
       "      <td>2017</td>\n",
       "      <td>170000000269</td>\n",
       "      <td>SP</td>\n",
       "      <td>Branca</td>\n",
       "      <td>Pública</td>\n",
       "      <td>Feminino</td>\n",
       "      <td>20.0</td>\n",
       "      <td>508.90</td>\n",
       "      <td>388.80</td>\n",
       "      <td>390.10</td>\n",
       "      <td>370.40</td>\n",
       "      <td>320.0</td>\n",
       "      <td>395.640</td>\n",
       "    </tr>\n",
       "    <tr>\n",
       "      <th>23</th>\n",
       "      <td>2017</td>\n",
       "      <td>170000000301</td>\n",
       "      <td>SP</td>\n",
       "      <td>Branca</td>\n",
       "      <td>Pública</td>\n",
       "      <td>Feminino</td>\n",
       "      <td>17.0</td>\n",
       "      <td>559.20</td>\n",
       "      <td>613.30</td>\n",
       "      <td>569.80</td>\n",
       "      <td>672.90</td>\n",
       "      <td>600.0</td>\n",
       "      <td>603.040</td>\n",
       "    </tr>\n",
       "    <tr>\n",
       "      <th>24</th>\n",
       "      <td>2017</td>\n",
       "      <td>170000000303</td>\n",
       "      <td>BA</td>\n",
       "      <td>Parda</td>\n",
       "      <td>Não Respondeu</td>\n",
       "      <td>Feminino</td>\n",
       "      <td>33.0</td>\n",
       "      <td>449.60</td>\n",
       "      <td>492.20</td>\n",
       "      <td>439.10</td>\n",
       "      <td>481.90</td>\n",
       "      <td>440.0</td>\n",
       "      <td>460.560</td>\n",
       "    </tr>\n",
       "    <tr>\n",
       "      <th>25</th>\n",
       "      <td>2017</td>\n",
       "      <td>170000000311</td>\n",
       "      <td>GO</td>\n",
       "      <td>Parda</td>\n",
       "      <td>Pública</td>\n",
       "      <td>Feminino</td>\n",
       "      <td>18.0</td>\n",
       "      <td>549.70</td>\n",
       "      <td>5.46</td>\n",
       "      <td>509.60</td>\n",
       "      <td>490.30</td>\n",
       "      <td>620.0</td>\n",
       "      <td>435.012</td>\n",
       "    </tr>\n",
       "    <tr>\n",
       "      <th>26</th>\n",
       "      <td>2017</td>\n",
       "      <td>170000000378</td>\n",
       "      <td>PA</td>\n",
       "      <td>Parda</td>\n",
       "      <td>Não Respondeu</td>\n",
       "      <td>Feminino</td>\n",
       "      <td>20.0</td>\n",
       "      <td>547.60</td>\n",
       "      <td>571.20</td>\n",
       "      <td>489.30</td>\n",
       "      <td>519.30</td>\n",
       "      <td>600.0</td>\n",
       "      <td>545.480</td>\n",
       "    </tr>\n",
       "    <tr>\n",
       "      <th>27</th>\n",
       "      <td>2017</td>\n",
       "      <td>170000000388</td>\n",
       "      <td>BA</td>\n",
       "      <td>Parda</td>\n",
       "      <td>Não Respondeu</td>\n",
       "      <td>Feminino</td>\n",
       "      <td>19.0</td>\n",
       "      <td>5.99</td>\n",
       "      <td>6.26</td>\n",
       "      <td>559.80</td>\n",
       "      <td>514.30</td>\n",
       "      <td>660.0</td>\n",
       "      <td>349.270</td>\n",
       "    </tr>\n",
       "    <tr>\n",
       "      <th>28</th>\n",
       "      <td>2017</td>\n",
       "      <td>170000000389</td>\n",
       "      <td>PA</td>\n",
       "      <td>Parda</td>\n",
       "      <td>Não Respondeu</td>\n",
       "      <td>Feminino</td>\n",
       "      <td>28.0</td>\n",
       "      <td>464.70</td>\n",
       "      <td>494.60</td>\n",
       "      <td>NaN</td>\n",
       "      <td>4.36</td>\n",
       "      <td>580.0</td>\n",
       "      <td>388.552</td>\n",
       "    </tr>\n",
       "    <tr>\n",
       "      <th>29</th>\n",
       "      <td>2017</td>\n",
       "      <td>170000000391</td>\n",
       "      <td>MG</td>\n",
       "      <td>Branca</td>\n",
       "      <td>Não Respondeu</td>\n",
       "      <td>Feminino</td>\n",
       "      <td>19.0</td>\n",
       "      <td>608.30</td>\n",
       "      <td>612.60</td>\n",
       "      <td>586.40</td>\n",
       "      <td>700.80</td>\n",
       "      <td>800.0</td>\n",
       "      <td>661.620</td>\n",
       "    </tr>\n",
       "    <tr>\n",
       "      <th>...</th>\n",
       "      <td>...</td>\n",
       "      <td>...</td>\n",
       "      <td>...</td>\n",
       "      <td>...</td>\n",
       "      <td>...</td>\n",
       "      <td>...</td>\n",
       "      <td>...</td>\n",
       "      <td>...</td>\n",
       "      <td>...</td>\n",
       "      <td>...</td>\n",
       "      <td>...</td>\n",
       "      <td>...</td>\n",
       "      <td>...</td>\n",
       "    </tr>\n",
       "    <tr>\n",
       "      <th>1020923</th>\n",
       "      <td>2019</td>\n",
       "      <td>190006119570</td>\n",
       "      <td>PA</td>\n",
       "      <td>Parda</td>\n",
       "      <td>Não Respondeu</td>\n",
       "      <td>Feminino</td>\n",
       "      <td>19.0</td>\n",
       "      <td>446.70</td>\n",
       "      <td>426.50</td>\n",
       "      <td>492.10</td>\n",
       "      <td>463.70</td>\n",
       "      <td>540.0</td>\n",
       "      <td>473.800</td>\n",
       "    </tr>\n",
       "    <tr>\n",
       "      <th>1020924</th>\n",
       "      <td>2019</td>\n",
       "      <td>190006119573</td>\n",
       "      <td>PA</td>\n",
       "      <td>Parda</td>\n",
       "      <td>Não Respondeu</td>\n",
       "      <td>Feminino</td>\n",
       "      <td>20.0</td>\n",
       "      <td>431.50</td>\n",
       "      <td>551.80</td>\n",
       "      <td>556.20</td>\n",
       "      <td>455.20</td>\n",
       "      <td>560.0</td>\n",
       "      <td>510.940</td>\n",
       "    </tr>\n",
       "    <tr>\n",
       "      <th>1020925</th>\n",
       "      <td>2019</td>\n",
       "      <td>190006119595</td>\n",
       "      <td>PA</td>\n",
       "      <td>Parda</td>\n",
       "      <td>Não Respondeu</td>\n",
       "      <td>Feminino</td>\n",
       "      <td>16.0</td>\n",
       "      <td>447.40</td>\n",
       "      <td>518.90</td>\n",
       "      <td>539.00</td>\n",
       "      <td>568.80</td>\n",
       "      <td>880.0</td>\n",
       "      <td>590.820</td>\n",
       "    </tr>\n",
       "    <tr>\n",
       "      <th>1020926</th>\n",
       "      <td>2019</td>\n",
       "      <td>190006119680</td>\n",
       "      <td>MA</td>\n",
       "      <td>Parda</td>\n",
       "      <td>Não Respondeu</td>\n",
       "      <td>Feminino</td>\n",
       "      <td>24.0</td>\n",
       "      <td>433.10</td>\n",
       "      <td>526.20</td>\n",
       "      <td>527.10</td>\n",
       "      <td>364.70</td>\n",
       "      <td>640.0</td>\n",
       "      <td>498.220</td>\n",
       "    </tr>\n",
       "    <tr>\n",
       "      <th>1020927</th>\n",
       "      <td>2019</td>\n",
       "      <td>190006119683</td>\n",
       "      <td>PI</td>\n",
       "      <td>Branca</td>\n",
       "      <td>Não Respondeu</td>\n",
       "      <td>Feminino</td>\n",
       "      <td>19.0</td>\n",
       "      <td>489.60</td>\n",
       "      <td>587.90</td>\n",
       "      <td>541.90</td>\n",
       "      <td>500.00</td>\n",
       "      <td>640.0</td>\n",
       "      <td>551.880</td>\n",
       "    </tr>\n",
       "    <tr>\n",
       "      <th>1020928</th>\n",
       "      <td>2019</td>\n",
       "      <td>190006119693</td>\n",
       "      <td>PI</td>\n",
       "      <td>Parda</td>\n",
       "      <td>Pública</td>\n",
       "      <td>Feminino</td>\n",
       "      <td>17.0</td>\n",
       "      <td>438.40</td>\n",
       "      <td>474.60</td>\n",
       "      <td>500.30</td>\n",
       "      <td>426.90</td>\n",
       "      <td>480.0</td>\n",
       "      <td>464.040</td>\n",
       "    </tr>\n",
       "    <tr>\n",
       "      <th>1020929</th>\n",
       "      <td>2019</td>\n",
       "      <td>190006119694</td>\n",
       "      <td>PI</td>\n",
       "      <td>Parda</td>\n",
       "      <td>Não Respondeu</td>\n",
       "      <td>Feminino</td>\n",
       "      <td>18.0</td>\n",
       "      <td>554.30</td>\n",
       "      <td>615.20</td>\n",
       "      <td>596.90</td>\n",
       "      <td>611.00</td>\n",
       "      <td>800.0</td>\n",
       "      <td>635.480</td>\n",
       "    </tr>\n",
       "    <tr>\n",
       "      <th>1020930</th>\n",
       "      <td>2019</td>\n",
       "      <td>190006119721</td>\n",
       "      <td>PI</td>\n",
       "      <td>Branca</td>\n",
       "      <td>Não Respondeu</td>\n",
       "      <td>Feminino</td>\n",
       "      <td>18.0</td>\n",
       "      <td>476.80</td>\n",
       "      <td>446.90</td>\n",
       "      <td>566.00</td>\n",
       "      <td>361.20</td>\n",
       "      <td>620.0</td>\n",
       "      <td>494.180</td>\n",
       "    </tr>\n",
       "    <tr>\n",
       "      <th>1020931</th>\n",
       "      <td>2019</td>\n",
       "      <td>190006119739</td>\n",
       "      <td>PI</td>\n",
       "      <td>Parda</td>\n",
       "      <td>Privada</td>\n",
       "      <td>Masculino</td>\n",
       "      <td>18.0</td>\n",
       "      <td>590.00</td>\n",
       "      <td>624.80</td>\n",
       "      <td>576.00</td>\n",
       "      <td>545.20</td>\n",
       "      <td>900.0</td>\n",
       "      <td>647.200</td>\n",
       "    </tr>\n",
       "    <tr>\n",
       "      <th>1020932</th>\n",
       "      <td>2019</td>\n",
       "      <td>190006119753</td>\n",
       "      <td>CE</td>\n",
       "      <td>Parda</td>\n",
       "      <td>Não Respondeu</td>\n",
       "      <td>Masculino</td>\n",
       "      <td>23.0</td>\n",
       "      <td>463.20</td>\n",
       "      <td>537.30</td>\n",
       "      <td>539.90</td>\n",
       "      <td>450.40</td>\n",
       "      <td>420.0</td>\n",
       "      <td>482.160</td>\n",
       "    </tr>\n",
       "    <tr>\n",
       "      <th>1020933</th>\n",
       "      <td>2019</td>\n",
       "      <td>190006119798</td>\n",
       "      <td>CE</td>\n",
       "      <td>Branca</td>\n",
       "      <td>Não Respondeu</td>\n",
       "      <td>Feminino</td>\n",
       "      <td>22.0</td>\n",
       "      <td>433.30</td>\n",
       "      <td>488.70</td>\n",
       "      <td>548.00</td>\n",
       "      <td>383.40</td>\n",
       "      <td>520.0</td>\n",
       "      <td>474.680</td>\n",
       "    </tr>\n",
       "    <tr>\n",
       "      <th>1020934</th>\n",
       "      <td>2019</td>\n",
       "      <td>190006119807</td>\n",
       "      <td>PB</td>\n",
       "      <td>Branca</td>\n",
       "      <td>Pública</td>\n",
       "      <td>Feminino</td>\n",
       "      <td>17.0</td>\n",
       "      <td>499.80</td>\n",
       "      <td>552.40</td>\n",
       "      <td>586.50</td>\n",
       "      <td>511.90</td>\n",
       "      <td>580.0</td>\n",
       "      <td>546.120</td>\n",
       "    </tr>\n",
       "    <tr>\n",
       "      <th>1020935</th>\n",
       "      <td>2019</td>\n",
       "      <td>190006119837</td>\n",
       "      <td>PB</td>\n",
       "      <td>Branca</td>\n",
       "      <td>Pública</td>\n",
       "      <td>Feminino</td>\n",
       "      <td>17.0</td>\n",
       "      <td>455.20</td>\n",
       "      <td>453.10</td>\n",
       "      <td>536.60</td>\n",
       "      <td>413.50</td>\n",
       "      <td>540.0</td>\n",
       "      <td>479.680</td>\n",
       "    </tr>\n",
       "    <tr>\n",
       "      <th>1020936</th>\n",
       "      <td>2019</td>\n",
       "      <td>190006119838</td>\n",
       "      <td>PB</td>\n",
       "      <td>Branca</td>\n",
       "      <td>Pública</td>\n",
       "      <td>Feminino</td>\n",
       "      <td>20.0</td>\n",
       "      <td>449.80</td>\n",
       "      <td>419.40</td>\n",
       "      <td>396.80</td>\n",
       "      <td>366.00</td>\n",
       "      <td>440.0</td>\n",
       "      <td>414.400</td>\n",
       "    </tr>\n",
       "    <tr>\n",
       "      <th>1020937</th>\n",
       "      <td>2019</td>\n",
       "      <td>190006119839</td>\n",
       "      <td>PB</td>\n",
       "      <td>Parda</td>\n",
       "      <td>Não Respondeu</td>\n",
       "      <td>Feminino</td>\n",
       "      <td>19.0</td>\n",
       "      <td>435.40</td>\n",
       "      <td>504.10</td>\n",
       "      <td>543.40</td>\n",
       "      <td>426.30</td>\n",
       "      <td>760.0</td>\n",
       "      <td>533.840</td>\n",
       "    </tr>\n",
       "    <tr>\n",
       "      <th>1020938</th>\n",
       "      <td>2019</td>\n",
       "      <td>190006119841</td>\n",
       "      <td>PB</td>\n",
       "      <td>Branca</td>\n",
       "      <td>Não Respondeu</td>\n",
       "      <td>Masculino</td>\n",
       "      <td>19.0</td>\n",
       "      <td>554.00</td>\n",
       "      <td>604.40</td>\n",
       "      <td>556.50</td>\n",
       "      <td>741.40</td>\n",
       "      <td>920.0</td>\n",
       "      <td>675.260</td>\n",
       "    </tr>\n",
       "    <tr>\n",
       "      <th>1020939</th>\n",
       "      <td>2019</td>\n",
       "      <td>190006119845</td>\n",
       "      <td>PB</td>\n",
       "      <td>Parda</td>\n",
       "      <td>Pública</td>\n",
       "      <td>Feminino</td>\n",
       "      <td>17.0</td>\n",
       "      <td>573.80</td>\n",
       "      <td>546.70</td>\n",
       "      <td>565.30</td>\n",
       "      <td>580.90</td>\n",
       "      <td>880.0</td>\n",
       "      <td>629.340</td>\n",
       "    </tr>\n",
       "    <tr>\n",
       "      <th>1020940</th>\n",
       "      <td>2019</td>\n",
       "      <td>190006119857</td>\n",
       "      <td>PB</td>\n",
       "      <td>Branca</td>\n",
       "      <td>Não Respondeu</td>\n",
       "      <td>Feminino</td>\n",
       "      <td>22.0</td>\n",
       "      <td>442.40</td>\n",
       "      <td>522.00</td>\n",
       "      <td>522.00</td>\n",
       "      <td>456.30</td>\n",
       "      <td>460.0</td>\n",
       "      <td>480.540</td>\n",
       "    </tr>\n",
       "    <tr>\n",
       "      <th>1020941</th>\n",
       "      <td>2019</td>\n",
       "      <td>190006119895</td>\n",
       "      <td>PE</td>\n",
       "      <td>Parda</td>\n",
       "      <td>Não Respondeu</td>\n",
       "      <td>Feminino</td>\n",
       "      <td>20.0</td>\n",
       "      <td>429.00</td>\n",
       "      <td>438.80</td>\n",
       "      <td>457.40</td>\n",
       "      <td>429.20</td>\n",
       "      <td>560.0</td>\n",
       "      <td>462.880</td>\n",
       "    </tr>\n",
       "    <tr>\n",
       "      <th>1020942</th>\n",
       "      <td>2019</td>\n",
       "      <td>190006119916</td>\n",
       "      <td>PE</td>\n",
       "      <td>Parda</td>\n",
       "      <td>Não Respondeu</td>\n",
       "      <td>Feminino</td>\n",
       "      <td>19.0</td>\n",
       "      <td>499.90</td>\n",
       "      <td>580.50</td>\n",
       "      <td>547.50</td>\n",
       "      <td>478.20</td>\n",
       "      <td>880.0</td>\n",
       "      <td>597.220</td>\n",
       "    </tr>\n",
       "    <tr>\n",
       "      <th>1020943</th>\n",
       "      <td>2019</td>\n",
       "      <td>190006119952</td>\n",
       "      <td>AL</td>\n",
       "      <td>Preta</td>\n",
       "      <td>Não Respondeu</td>\n",
       "      <td>Masculino</td>\n",
       "      <td>24.0</td>\n",
       "      <td>351.10</td>\n",
       "      <td>463.60</td>\n",
       "      <td>430.30</td>\n",
       "      <td>474.20</td>\n",
       "      <td>560.0</td>\n",
       "      <td>455.840</td>\n",
       "    </tr>\n",
       "    <tr>\n",
       "      <th>1020944</th>\n",
       "      <td>2019</td>\n",
       "      <td>190006120051</td>\n",
       "      <td>BA</td>\n",
       "      <td>Parda</td>\n",
       "      <td>Não Respondeu</td>\n",
       "      <td>Masculino</td>\n",
       "      <td>22.0</td>\n",
       "      <td>515.20</td>\n",
       "      <td>482.90</td>\n",
       "      <td>551.80</td>\n",
       "      <td>589.00</td>\n",
       "      <td>440.0</td>\n",
       "      <td>515.780</td>\n",
       "    </tr>\n",
       "    <tr>\n",
       "      <th>1020945</th>\n",
       "      <td>2019</td>\n",
       "      <td>190006120063</td>\n",
       "      <td>BA</td>\n",
       "      <td>Parda</td>\n",
       "      <td>Não Respondeu</td>\n",
       "      <td>Feminino</td>\n",
       "      <td>22.0</td>\n",
       "      <td>418.10</td>\n",
       "      <td>506.00</td>\n",
       "      <td>548.90</td>\n",
       "      <td>470.20</td>\n",
       "      <td>400.0</td>\n",
       "      <td>468.640</td>\n",
       "    </tr>\n",
       "    <tr>\n",
       "      <th>1020946</th>\n",
       "      <td>2019</td>\n",
       "      <td>190006120105</td>\n",
       "      <td>MG</td>\n",
       "      <td>Preta</td>\n",
       "      <td>Não Respondeu</td>\n",
       "      <td>Feminino</td>\n",
       "      <td>18.0</td>\n",
       "      <td>595.60</td>\n",
       "      <td>660.30</td>\n",
       "      <td>633.10</td>\n",
       "      <td>763.50</td>\n",
       "      <td>920.0</td>\n",
       "      <td>714.500</td>\n",
       "    </tr>\n",
       "    <tr>\n",
       "      <th>1020947</th>\n",
       "      <td>2019</td>\n",
       "      <td>190006120116</td>\n",
       "      <td>MG</td>\n",
       "      <td>Parda</td>\n",
       "      <td>Não Respondeu</td>\n",
       "      <td>Feminino</td>\n",
       "      <td>21.0</td>\n",
       "      <td>619.90</td>\n",
       "      <td>618.20</td>\n",
       "      <td>611.10</td>\n",
       "      <td>643.60</td>\n",
       "      <td>900.0</td>\n",
       "      <td>678.560</td>\n",
       "    </tr>\n",
       "    <tr>\n",
       "      <th>1020948</th>\n",
       "      <td>2019</td>\n",
       "      <td>190006120119</td>\n",
       "      <td>MG</td>\n",
       "      <td>Parda</td>\n",
       "      <td>Privada</td>\n",
       "      <td>Feminino</td>\n",
       "      <td>18.0</td>\n",
       "      <td>379.80</td>\n",
       "      <td>468.20</td>\n",
       "      <td>504.10</td>\n",
       "      <td>416.50</td>\n",
       "      <td>340.0</td>\n",
       "      <td>421.720</td>\n",
       "    </tr>\n",
       "    <tr>\n",
       "      <th>1020949</th>\n",
       "      <td>2019</td>\n",
       "      <td>190006120139</td>\n",
       "      <td>MG</td>\n",
       "      <td>Parda</td>\n",
       "      <td>Não Respondeu</td>\n",
       "      <td>Masculino</td>\n",
       "      <td>19.0</td>\n",
       "      <td>443.90</td>\n",
       "      <td>400.70</td>\n",
       "      <td>526.30</td>\n",
       "      <td>436.90</td>\n",
       "      <td>540.0</td>\n",
       "      <td>469.560</td>\n",
       "    </tr>\n",
       "    <tr>\n",
       "      <th>1020950</th>\n",
       "      <td>2019</td>\n",
       "      <td>190006120162</td>\n",
       "      <td>MG</td>\n",
       "      <td>Preta</td>\n",
       "      <td>Pública</td>\n",
       "      <td>Masculino</td>\n",
       "      <td>17.0</td>\n",
       "      <td>492.50</td>\n",
       "      <td>505.20</td>\n",
       "      <td>518.80</td>\n",
       "      <td>394.60</td>\n",
       "      <td>520.0</td>\n",
       "      <td>486.220</td>\n",
       "    </tr>\n",
       "    <tr>\n",
       "      <th>1020951</th>\n",
       "      <td>2019</td>\n",
       "      <td>190006120166</td>\n",
       "      <td>MG</td>\n",
       "      <td>Parda</td>\n",
       "      <td>Não Respondeu</td>\n",
       "      <td>Feminino</td>\n",
       "      <td>39.0</td>\n",
       "      <td>518.60</td>\n",
       "      <td>554.70</td>\n",
       "      <td>514.90</td>\n",
       "      <td>386.00</td>\n",
       "      <td>500.0</td>\n",
       "      <td>494.840</td>\n",
       "    </tr>\n",
       "    <tr>\n",
       "      <th>1020952</th>\n",
       "      <td>2019</td>\n",
       "      <td>190006129585</td>\n",
       "      <td>BA</td>\n",
       "      <td>Preta</td>\n",
       "      <td>Não Respondeu</td>\n",
       "      <td>Feminino</td>\n",
       "      <td>27.0</td>\n",
       "      <td>486.70</td>\n",
       "      <td>457.80</td>\n",
       "      <td>506.70</td>\n",
       "      <td>488.50</td>\n",
       "      <td>280.0</td>\n",
       "      <td>443.940</td>\n",
       "    </tr>\n",
       "  </tbody>\n",
       "</table>\n",
       "<p>1020953 rows × 13 columns</p>\n",
       "</div>"
      ],
      "text/plain": [
       "          ANO NUMERO_INSCRICAO SG_UF_RESIDENCIA       COR_RACA    TIPO_ESCOLA  \\\n",
       "0        2017     170000000008               RS         Branca  Não Respondeu   \n",
       "1        2017     170000000015               RS         Branca        Pública   \n",
       "2        2017     170000000028               SP         Branca        Pública   \n",
       "3        2017     170000000029               BA          Parda  Não Respondeu   \n",
       "4        2017     170000000030               AL         Branca  Não Respondeu   \n",
       "5        2017     170000000037               SP         Branca        Pública   \n",
       "6        2017     170000000048               SP          Preta  Não Respondeu   \n",
       "7        2017     170000000059               MG         Branca        Pública   \n",
       "8        2017     170000000085               SP         Branca  Não Respondeu   \n",
       "9        2017     170000000102               SP         Branca  Não Respondeu   \n",
       "10       2017     170000000103               PB         Branca  Não Respondeu   \n",
       "11       2017     170000000121               PE         Branca  Não Respondeu   \n",
       "12       2017     170000000129               BA          Preta  Não Respondeu   \n",
       "13       2017     170000000131               SP  Não declarado        Pública   \n",
       "14       2017     170000000145               BA          Parda  Não Respondeu   \n",
       "15       2017     170000000167               PA         Branca  Não Respondeu   \n",
       "16       2017     170000000170               SP         Branca  Não Respondeu   \n",
       "17       2017     170000000182               PE         Branca  Não Respondeu   \n",
       "18       2017     170000000192               PR         Branca  Não Respondeu   \n",
       "19       2017     170000000209               GO          Parda  Não Respondeu   \n",
       "20       2017     170000000225               SP            NaN  Não Respondeu   \n",
       "21       2017     170000000257               MG          Parda  Não Respondeu   \n",
       "22       2017     170000000269               SP         Branca        Pública   \n",
       "23       2017     170000000301               SP         Branca        Pública   \n",
       "24       2017     170000000303               BA          Parda  Não Respondeu   \n",
       "25       2017     170000000311               GO          Parda        Pública   \n",
       "26       2017     170000000378               PA          Parda  Não Respondeu   \n",
       "27       2017     170000000388               BA          Parda  Não Respondeu   \n",
       "28       2017     170000000389               PA          Parda  Não Respondeu   \n",
       "29       2017     170000000391               MG         Branca  Não Respondeu   \n",
       "...       ...              ...              ...            ...            ...   \n",
       "1020923  2019     190006119570               PA          Parda  Não Respondeu   \n",
       "1020924  2019     190006119573               PA          Parda  Não Respondeu   \n",
       "1020925  2019     190006119595               PA          Parda  Não Respondeu   \n",
       "1020926  2019     190006119680               MA          Parda  Não Respondeu   \n",
       "1020927  2019     190006119683               PI         Branca  Não Respondeu   \n",
       "1020928  2019     190006119693               PI          Parda        Pública   \n",
       "1020929  2019     190006119694               PI          Parda  Não Respondeu   \n",
       "1020930  2019     190006119721               PI         Branca  Não Respondeu   \n",
       "1020931  2019     190006119739               PI          Parda        Privada   \n",
       "1020932  2019     190006119753               CE          Parda  Não Respondeu   \n",
       "1020933  2019     190006119798               CE         Branca  Não Respondeu   \n",
       "1020934  2019     190006119807               PB         Branca        Pública   \n",
       "1020935  2019     190006119837               PB         Branca        Pública   \n",
       "1020936  2019     190006119838               PB         Branca        Pública   \n",
       "1020937  2019     190006119839               PB          Parda  Não Respondeu   \n",
       "1020938  2019     190006119841               PB         Branca  Não Respondeu   \n",
       "1020939  2019     190006119845               PB          Parda        Pública   \n",
       "1020940  2019     190006119857               PB         Branca  Não Respondeu   \n",
       "1020941  2019     190006119895               PE          Parda  Não Respondeu   \n",
       "1020942  2019     190006119916               PE          Parda  Não Respondeu   \n",
       "1020943  2019     190006119952               AL          Preta  Não Respondeu   \n",
       "1020944  2019     190006120051               BA          Parda  Não Respondeu   \n",
       "1020945  2019     190006120063               BA          Parda  Não Respondeu   \n",
       "1020946  2019     190006120105               MG          Preta  Não Respondeu   \n",
       "1020947  2019     190006120116               MG          Parda  Não Respondeu   \n",
       "1020948  2019     190006120119               MG          Parda        Privada   \n",
       "1020949  2019     190006120139               MG          Parda  Não Respondeu   \n",
       "1020950  2019     190006120162               MG          Preta        Pública   \n",
       "1020951  2019     190006120166               MG          Parda  Não Respondeu   \n",
       "1020952  2019     190006129585               BA          Preta  Não Respondeu   \n",
       "\n",
       "              SEXO  NU_IDADE  NU_NOTA_CN  NU_NOTA_CH  NU_NOTA_LC  NU_NOTA_MT  \\\n",
       "0        Masculino      19.0      696.30      674.30      612.50      838.90   \n",
       "1         Feminino      19.0      430.90      546.60      526.60      467.60   \n",
       "2         Feminino      17.0      610.40      572.30      571.10      535.90   \n",
       "3         Feminino      44.0      424.20      454.40      494.40      498.50   \n",
       "4        Masculino      18.0        5.72      606.40      613.10      617.80   \n",
       "5        Masculino      17.0      467.60      557.60        5.12      628.10   \n",
       "6        Masculino      20.0      521.90      497.40      508.10      397.70   \n",
       "7         Feminino      18.0      457.60      451.80      541.80      545.20   \n",
       "8         Feminino      19.0      519.80      577.60      554.30      496.70   \n",
       "9        Masculino      22.0      638.20      712.10      609.90      655.90   \n",
       "10        Feminino      18.0      401.60      597.90        5.43      563.80   \n",
       "11       Masculino      19.0      635.20      621.90      616.10      761.10   \n",
       "12        Feminino      26.0        5.30      498.50        5.17      462.30   \n",
       "13       Masculino      17.0      436.80      463.70      465.30      436.70   \n",
       "14        Feminino      25.0      429.90      495.40      533.10      521.30   \n",
       "15        Feminino      19.0         NaN      550.10      484.60      491.30   \n",
       "16        Feminino      20.0      626.20      678.90      647.80      719.30   \n",
       "17        Feminino      21.0      616.10      634.50      549.50      591.30   \n",
       "18       Masculino      18.0      440.90      405.70        3.55      519.20   \n",
       "19        Feminino      17.0      485.90      479.90      521.50      637.10   \n",
       "20        Feminino      30.0      548.20      595.40      573.70        5.83   \n",
       "21       Masculino      22.0      437.60      572.90      554.70      521.80   \n",
       "22        Feminino      20.0      508.90      388.80      390.10      370.40   \n",
       "23        Feminino      17.0      559.20      613.30      569.80      672.90   \n",
       "24        Feminino      33.0      449.60      492.20      439.10      481.90   \n",
       "25        Feminino      18.0      549.70        5.46      509.60      490.30   \n",
       "26        Feminino      20.0      547.60      571.20      489.30      519.30   \n",
       "27        Feminino      19.0        5.99        6.26      559.80      514.30   \n",
       "28        Feminino      28.0      464.70      494.60         NaN        4.36   \n",
       "29        Feminino      19.0      608.30      612.60      586.40      700.80   \n",
       "...            ...       ...         ...         ...         ...         ...   \n",
       "1020923   Feminino      19.0      446.70      426.50      492.10      463.70   \n",
       "1020924   Feminino      20.0      431.50      551.80      556.20      455.20   \n",
       "1020925   Feminino      16.0      447.40      518.90      539.00      568.80   \n",
       "1020926   Feminino      24.0      433.10      526.20      527.10      364.70   \n",
       "1020927   Feminino      19.0      489.60      587.90      541.90      500.00   \n",
       "1020928   Feminino      17.0      438.40      474.60      500.30      426.90   \n",
       "1020929   Feminino      18.0      554.30      615.20      596.90      611.00   \n",
       "1020930   Feminino      18.0      476.80      446.90      566.00      361.20   \n",
       "1020931  Masculino      18.0      590.00      624.80      576.00      545.20   \n",
       "1020932  Masculino      23.0      463.20      537.30      539.90      450.40   \n",
       "1020933   Feminino      22.0      433.30      488.70      548.00      383.40   \n",
       "1020934   Feminino      17.0      499.80      552.40      586.50      511.90   \n",
       "1020935   Feminino      17.0      455.20      453.10      536.60      413.50   \n",
       "1020936   Feminino      20.0      449.80      419.40      396.80      366.00   \n",
       "1020937   Feminino      19.0      435.40      504.10      543.40      426.30   \n",
       "1020938  Masculino      19.0      554.00      604.40      556.50      741.40   \n",
       "1020939   Feminino      17.0      573.80      546.70      565.30      580.90   \n",
       "1020940   Feminino      22.0      442.40      522.00      522.00      456.30   \n",
       "1020941   Feminino      20.0      429.00      438.80      457.40      429.20   \n",
       "1020942   Feminino      19.0      499.90      580.50      547.50      478.20   \n",
       "1020943  Masculino      24.0      351.10      463.60      430.30      474.20   \n",
       "1020944  Masculino      22.0      515.20      482.90      551.80      589.00   \n",
       "1020945   Feminino      22.0      418.10      506.00      548.90      470.20   \n",
       "1020946   Feminino      18.0      595.60      660.30      633.10      763.50   \n",
       "1020947   Feminino      21.0      619.90      618.20      611.10      643.60   \n",
       "1020948   Feminino      18.0      379.80      468.20      504.10      416.50   \n",
       "1020949  Masculino      19.0      443.90      400.70      526.30      436.90   \n",
       "1020950  Masculino      17.0      492.50      505.20      518.80      394.60   \n",
       "1020951   Feminino      39.0      518.60      554.70      514.90      386.00   \n",
       "1020952   Feminino      27.0      486.70      457.80      506.70      488.50   \n",
       "\n",
       "         NU_NOTA_REDACAO  NOTA_MEDIA  \n",
       "0                  680.0     700.400  \n",
       "1                  760.0     546.340  \n",
       "2                  460.0     549.940  \n",
       "3                  560.0     486.300  \n",
       "4                  700.0     508.604  \n",
       "5                  600.0     451.684  \n",
       "6                  460.0     477.020  \n",
       "7                  580.0     515.280  \n",
       "8                  580.0     545.680  \n",
       "9                  920.0     707.220  \n",
       "10                 680.0     449.746  \n",
       "11                 700.0     666.860  \n",
       "12                 660.0     326.254  \n",
       "13                 520.0     464.500  \n",
       "14                 620.0     519.940  \n",
       "15                 520.0     488.860  \n",
       "16                 960.0     726.440  \n",
       "17                 760.0     630.280  \n",
       "18                 360.0     345.870  \n",
       "19                 620.0     548.880  \n",
       "20                 520.0     448.626  \n",
       "21                 620.0     541.400  \n",
       "22                 320.0     395.640  \n",
       "23                 600.0     603.040  \n",
       "24                 440.0     460.560  \n",
       "25                 620.0     435.012  \n",
       "26                 600.0     545.480  \n",
       "27                 660.0     349.270  \n",
       "28                 580.0     388.552  \n",
       "29                 800.0     661.620  \n",
       "...                  ...         ...  \n",
       "1020923            540.0     473.800  \n",
       "1020924            560.0     510.940  \n",
       "1020925            880.0     590.820  \n",
       "1020926            640.0     498.220  \n",
       "1020927            640.0     551.880  \n",
       "1020928            480.0     464.040  \n",
       "1020929            800.0     635.480  \n",
       "1020930            620.0     494.180  \n",
       "1020931            900.0     647.200  \n",
       "1020932            420.0     482.160  \n",
       "1020933            520.0     474.680  \n",
       "1020934            580.0     546.120  \n",
       "1020935            540.0     479.680  \n",
       "1020936            440.0     414.400  \n",
       "1020937            760.0     533.840  \n",
       "1020938            920.0     675.260  \n",
       "1020939            880.0     629.340  \n",
       "1020940            460.0     480.540  \n",
       "1020941            560.0     462.880  \n",
       "1020942            880.0     597.220  \n",
       "1020943            560.0     455.840  \n",
       "1020944            440.0     515.780  \n",
       "1020945            400.0     468.640  \n",
       "1020946            920.0     714.500  \n",
       "1020947            900.0     678.560  \n",
       "1020948            340.0     421.720  \n",
       "1020949            540.0     469.560  \n",
       "1020950            520.0     486.220  \n",
       "1020951            500.0     494.840  \n",
       "1020952            280.0     443.940  \n",
       "\n",
       "[1020953 rows x 13 columns]"
      ]
     },
     "execution_count": 306,
     "metadata": {},
     "output_type": "execute_result"
    }
   ],
   "source": [
    "from pandas import read_sas\n",
    "\n",
    "read_sas(\"D:\\Arquivos - Dados\\ENEM\\Amostra_10_missing.sas7bdat\", format = \"sas7bdat\", encoding=\"iso-8859-1\")"
   ]
  },
  {
   "cell_type": "code",
   "execution_count": 10,
   "metadata": {
    "id": "svZChTsDh5J5"
   },
   "outputs": [
    {
     "name": "stdout",
     "output_type": "stream",
     "text": [
      "<class 'pandas.core.frame.DataFrame'>\n",
      "RangeIndex: 21937 entries, 0 to 21936\n",
      "Data columns (total 34 columns):\n",
      " #   Column                        Non-Null Count  Dtype  \n",
      "---  ------                        --------------  -----  \n",
      " 0   CO_MUNICIPIO_PROVA            21937 non-null  int64  \n",
      " 1   NU_ANO                        21937 non-null  int64  \n",
      " 2   NU_INSCRICAO                  21937 non-null  int64  \n",
      " 3   CO_UF_PROVA                   21937 non-null  int64  \n",
      " 4   SG_UF_PROVA                   21937 non-null  object \n",
      " 5   NO_MUNICIPIO_PROVA            21937 non-null  object \n",
      " 6   TP_FAIXA_ETARIA               21937 non-null  object \n",
      " 7   TP_SEXO                       21937 non-null  object \n",
      " 8   TP_ESTADO_CIVIL               21937 non-null  object \n",
      " 9   TP_COR_RACA                   21937 non-null  object \n",
      " 10  TP_NACIONALIDADE              21937 non-null  object \n",
      " 11  TP_ST_CONCLUSAO               21937 non-null  object \n",
      " 12  TP_ANO_CONCLUIU               21937 non-null  object \n",
      " 13  TP_ESCOLA                     21937 non-null  object \n",
      " 14  TP_ENSINO                     21937 non-null  object \n",
      " 15  TP_DEPENDENCIA_ADM_ESC        21937 non-null  object \n",
      " 16  TP_LOCALIZACAO_ESC            21937 non-null  object \n",
      " 17  TP_STATUS_REDACAO             21937 non-null  object \n",
      " 18  NOTA_CN_CIENCIAS_DA_NATUREZA  21937 non-null  float64\n",
      " 19  NOTA_CH_CIENCIAS_hUMANAS      21937 non-null  float64\n",
      " 20  NOTA_LC_LINGUAGENS_E_CODIGOS  21937 non-null  float64\n",
      " 21  NOTA_MT_MATEMATICA            21937 non-null  float64\n",
      " 22  NOTA_REDACAO                  21937 non-null  int64  \n",
      " 23  NOTA_MEDIA_5_NOTAS            21937 non-null  float64\n",
      " 24  TP_LINGUA                     21937 non-null  object \n",
      " 25  Q001                          21937 non-null  object \n",
      " 26  Q002                          21937 non-null  object \n",
      " 27  Q003                          21679 non-null  object \n",
      " 28  Q004                          21679 non-null  object \n",
      " 29  Q005                          21679 non-null  float64\n",
      " 30  Q006                          21679 non-null  object \n",
      " 31  Q023                          21679 non-null  object \n",
      " 32  Q024                          21679 non-null  object \n",
      " 33  Q025                          21679 non-null  object \n",
      "dtypes: float64(6), int64(5), object(23)\n",
      "memory usage: 5.7+ MB\n"
     ]
    }
   ],
   "source": [
    "ENEM.info()"
   ]
  },
  {
   "cell_type": "code",
   "execution_count": 11,
   "metadata": {
    "id": "sTynORDCh5Hf"
   },
   "outputs": [
    {
     "data": {
      "text/plain": [
       "CO_MUNICIPIO_PROVA                int64\n",
       "NU_ANO                            int64\n",
       "NU_INSCRICAO                      int64\n",
       "CO_UF_PROVA                       int64\n",
       "SG_UF_PROVA                      object\n",
       "NO_MUNICIPIO_PROVA               object\n",
       "TP_FAIXA_ETARIA                  object\n",
       "TP_SEXO                          object\n",
       "TP_ESTADO_CIVIL                  object\n",
       "TP_COR_RACA                      object\n",
       "TP_NACIONALIDADE                 object\n",
       "TP_ST_CONCLUSAO                  object\n",
       "TP_ANO_CONCLUIU                  object\n",
       "TP_ESCOLA                        object\n",
       "TP_ENSINO                        object\n",
       "TP_DEPENDENCIA_ADM_ESC           object\n",
       "TP_LOCALIZACAO_ESC               object\n",
       "TP_STATUS_REDACAO                object\n",
       "NOTA_CN_CIENCIAS_DA_NATUREZA    float64\n",
       "NOTA_CH_CIENCIAS_hUMANAS        float64\n",
       "NOTA_LC_LINGUAGENS_E_CODIGOS    float64\n",
       "NOTA_MT_MATEMATICA              float64\n",
       "NOTA_REDACAO                      int64\n",
       "NOTA_MEDIA_5_NOTAS              float64\n",
       "TP_LINGUA                        object\n",
       "Q001                             object\n",
       "Q002                             object\n",
       "Q003                             object\n",
       "Q004                             object\n",
       "Q005                            float64\n",
       "Q006                             object\n",
       "Q023                             object\n",
       "Q024                             object\n",
       "Q025                             object\n",
       "dtype: object"
      ]
     },
     "execution_count": 11,
     "metadata": {},
     "output_type": "execute_result"
    }
   ],
   "source": [
    "ENEM.dtypes"
   ]
  },
  {
   "cell_type": "code",
   "execution_count": 12,
   "metadata": {
    "id": "FVdegtnCh5FS"
   },
   "outputs": [
    {
     "data": {
      "text/html": [
       "<div>\n",
       "<style scoped>\n",
       "    .dataframe tbody tr th:only-of-type {\n",
       "        vertical-align: middle;\n",
       "    }\n",
       "\n",
       "    .dataframe tbody tr th {\n",
       "        vertical-align: top;\n",
       "    }\n",
       "\n",
       "    .dataframe thead th {\n",
       "        text-align: right;\n",
       "    }\n",
       "</style>\n",
       "<table border=\"1\" class=\"dataframe\">\n",
       "  <thead>\n",
       "    <tr style=\"text-align: right;\">\n",
       "      <th></th>\n",
       "      <th>CO_MUNICIPIO_PROVA</th>\n",
       "      <th>NU_ANO</th>\n",
       "      <th>NU_INSCRICAO</th>\n",
       "      <th>CO_UF_PROVA</th>\n",
       "      <th>SG_UF_PROVA</th>\n",
       "      <th>NO_MUNICIPIO_PROVA</th>\n",
       "      <th>TP_FAIXA_ETARIA</th>\n",
       "      <th>TP_SEXO</th>\n",
       "      <th>TP_ESTADO_CIVIL</th>\n",
       "      <th>TP_COR_RACA</th>\n",
       "      <th>...</th>\n",
       "      <th>TP_LINGUA</th>\n",
       "      <th>Q001</th>\n",
       "      <th>Q002</th>\n",
       "      <th>Q003</th>\n",
       "      <th>Q004</th>\n",
       "      <th>Q005</th>\n",
       "      <th>Q006</th>\n",
       "      <th>Q023</th>\n",
       "      <th>Q024</th>\n",
       "      <th>Q025</th>\n",
       "    </tr>\n",
       "  </thead>\n",
       "  <tbody>\n",
       "    <tr>\n",
       "      <th>0</th>\n",
       "      <td>1100015</td>\n",
       "      <td>2020</td>\n",
       "      <td>200001085961</td>\n",
       "      <td>11</td>\n",
       "      <td>RO</td>\n",
       "      <td>Alta Floresta D'Oeste</td>\n",
       "      <td>19 anos</td>\n",
       "      <td>Feminino</td>\n",
       "      <td>Solteiro(a)</td>\n",
       "      <td>Parda</td>\n",
       "      <td>...</td>\n",
       "      <td>Espanhol</td>\n",
       "      <td>Completou a 8ª série/9º ano do ensino fundamen...</td>\n",
       "      <td>Completou a 4ª série/5º ano, mas não completou...</td>\n",
       "      <td>Grupo 4: Professor (de ensino fundamental ou m...</td>\n",
       "      <td>Grupo 2: Diarista, empregada doméstica, cuidad...</td>\n",
       "      <td>3.0</td>\n",
       "      <td>De R$ 2.612,51 até R$ 3.135,00</td>\n",
       "      <td>Não</td>\n",
       "      <td>Sim, um</td>\n",
       "      <td>Sim</td>\n",
       "    </tr>\n",
       "    <tr>\n",
       "      <th>1</th>\n",
       "      <td>1100015</td>\n",
       "      <td>2020</td>\n",
       "      <td>200001125546</td>\n",
       "      <td>11</td>\n",
       "      <td>RO</td>\n",
       "      <td>Alta Floresta D'Oeste</td>\n",
       "      <td>Menor de 17 anos</td>\n",
       "      <td>Masculino</td>\n",
       "      <td>Solteiro(a)</td>\n",
       "      <td>Parda</td>\n",
       "      <td>...</td>\n",
       "      <td>Espanhol</td>\n",
       "      <td>Completou a 8ª série/9º ano do ensino fundamen...</td>\n",
       "      <td>Completou a 4ª série/5º ano, mas não completou...</td>\n",
       "      <td>Grupo 2: Diarista, empregado doméstico, cuidad...</td>\n",
       "      <td>Grupo 2: Diarista, empregada doméstica, cuidad...</td>\n",
       "      <td>5.0</td>\n",
       "      <td>De R$ 1.567,51 até R$ 2.090,00</td>\n",
       "      <td>Não</td>\n",
       "      <td>Sim, um</td>\n",
       "      <td>Sim</td>\n",
       "    </tr>\n",
       "  </tbody>\n",
       "</table>\n",
       "<p>2 rows × 34 columns</p>\n",
       "</div>"
      ],
      "text/plain": [
       "   CO_MUNICIPIO_PROVA  NU_ANO  NU_INSCRICAO  CO_UF_PROVA SG_UF_PROVA  \\\n",
       "0             1100015    2020  200001085961           11          RO   \n",
       "1             1100015    2020  200001125546           11          RO   \n",
       "\n",
       "      NO_MUNICIPIO_PROVA   TP_FAIXA_ETARIA    TP_SEXO TP_ESTADO_CIVIL  \\\n",
       "0  Alta Floresta D'Oeste           19 anos   Feminino     Solteiro(a)   \n",
       "1  Alta Floresta D'Oeste  Menor de 17 anos  Masculino     Solteiro(a)   \n",
       "\n",
       "  TP_COR_RACA  ... TP_LINGUA  \\\n",
       "0       Parda  ...  Espanhol   \n",
       "1       Parda  ...  Espanhol   \n",
       "\n",
       "                                                Q001  \\\n",
       "0  Completou a 8ª série/9º ano do ensino fundamen...   \n",
       "1  Completou a 8ª série/9º ano do ensino fundamen...   \n",
       "\n",
       "                                                Q002  \\\n",
       "0  Completou a 4ª série/5º ano, mas não completou...   \n",
       "1  Completou a 4ª série/5º ano, mas não completou...   \n",
       "\n",
       "                                                Q003  \\\n",
       "0  Grupo 4: Professor (de ensino fundamental ou m...   \n",
       "1  Grupo 2: Diarista, empregado doméstico, cuidad...   \n",
       "\n",
       "                                                Q004 Q005  \\\n",
       "0  Grupo 2: Diarista, empregada doméstica, cuidad...  3.0   \n",
       "1  Grupo 2: Diarista, empregada doméstica, cuidad...  5.0   \n",
       "\n",
       "                             Q006 Q023     Q024  Q025  \n",
       "0  De R$ 2.612,51 até R$ 3.135,00  Não  Sim, um   Sim  \n",
       "1  De R$ 1.567,51 até R$ 2.090,00  Não  Sim, um   Sim  \n",
       "\n",
       "[2 rows x 34 columns]"
      ]
     },
     "execution_count": 12,
     "metadata": {},
     "output_type": "execute_result"
    }
   ],
   "source": [
    "# Listar \"N\" primeiras observações do arquivo\n",
    "ENEM.head(2)"
   ]
  },
  {
   "cell_type": "code",
   "execution_count": 13,
   "metadata": {
    "id": "6vMqLDLlh5DF"
   },
   "outputs": [
    {
     "data": {
      "text/html": [
       "<div>\n",
       "<style scoped>\n",
       "    .dataframe tbody tr th:only-of-type {\n",
       "        vertical-align: middle;\n",
       "    }\n",
       "\n",
       "    .dataframe tbody tr th {\n",
       "        vertical-align: top;\n",
       "    }\n",
       "\n",
       "    .dataframe thead th {\n",
       "        text-align: right;\n",
       "    }\n",
       "</style>\n",
       "<table border=\"1\" class=\"dataframe\">\n",
       "  <thead>\n",
       "    <tr style=\"text-align: right;\">\n",
       "      <th></th>\n",
       "      <th>CO_MUNICIPIO_PROVA</th>\n",
       "      <th>NU_ANO</th>\n",
       "      <th>NU_INSCRICAO</th>\n",
       "      <th>CO_UF_PROVA</th>\n",
       "      <th>SG_UF_PROVA</th>\n",
       "      <th>NO_MUNICIPIO_PROVA</th>\n",
       "      <th>TP_FAIXA_ETARIA</th>\n",
       "      <th>TP_SEXO</th>\n",
       "      <th>TP_ESTADO_CIVIL</th>\n",
       "      <th>TP_COR_RACA</th>\n",
       "      <th>...</th>\n",
       "      <th>TP_LINGUA</th>\n",
       "      <th>Q001</th>\n",
       "      <th>Q002</th>\n",
       "      <th>Q003</th>\n",
       "      <th>Q004</th>\n",
       "      <th>Q005</th>\n",
       "      <th>Q006</th>\n",
       "      <th>Q023</th>\n",
       "      <th>Q024</th>\n",
       "      <th>Q025</th>\n",
       "    </tr>\n",
       "  </thead>\n",
       "  <tbody>\n",
       "    <tr>\n",
       "      <th>count</th>\n",
       "      <td>2.193700e+04</td>\n",
       "      <td>21937.0</td>\n",
       "      <td>2.193700e+04</td>\n",
       "      <td>21937.000000</td>\n",
       "      <td>21937</td>\n",
       "      <td>21937</td>\n",
       "      <td>21937</td>\n",
       "      <td>21937</td>\n",
       "      <td>21937</td>\n",
       "      <td>21937</td>\n",
       "      <td>...</td>\n",
       "      <td>21937</td>\n",
       "      <td>21937</td>\n",
       "      <td>21937</td>\n",
       "      <td>21679</td>\n",
       "      <td>21679</td>\n",
       "      <td>21679.000000</td>\n",
       "      <td>21679</td>\n",
       "      <td>21679</td>\n",
       "      <td>21679</td>\n",
       "      <td>21679</td>\n",
       "    </tr>\n",
       "    <tr>\n",
       "      <th>unique</th>\n",
       "      <td>NaN</td>\n",
       "      <td>NaN</td>\n",
       "      <td>NaN</td>\n",
       "      <td>NaN</td>\n",
       "      <td>27</td>\n",
       "      <td>1711</td>\n",
       "      <td>9</td>\n",
       "      <td>2</td>\n",
       "      <td>5</td>\n",
       "      <td>6</td>\n",
       "      <td>...</td>\n",
       "      <td>2</td>\n",
       "      <td>9</td>\n",
       "      <td>9</td>\n",
       "      <td>6</td>\n",
       "      <td>6</td>\n",
       "      <td>NaN</td>\n",
       "      <td>17</td>\n",
       "      <td>2</td>\n",
       "      <td>5</td>\n",
       "      <td>2</td>\n",
       "    </tr>\n",
       "    <tr>\n",
       "      <th>top</th>\n",
       "      <td>NaN</td>\n",
       "      <td>NaN</td>\n",
       "      <td>NaN</td>\n",
       "      <td>NaN</td>\n",
       "      <td>SP</td>\n",
       "      <td>São Paulo</td>\n",
       "      <td>18 anos</td>\n",
       "      <td>Feminino</td>\n",
       "      <td>Solteiro(a)</td>\n",
       "      <td>Parda</td>\n",
       "      <td>...</td>\n",
       "      <td>Espanhol</td>\n",
       "      <td>Completou o Ensino Médio, mas não completou a ...</td>\n",
       "      <td>Completou o Ensino Médio, mas não completou a ...</td>\n",
       "      <td>Grupo 3: Padeiro, cozinheiro industrial ou em ...</td>\n",
       "      <td>Grupo 2: Diarista, empregada doméstica, cuidad...</td>\n",
       "      <td>NaN</td>\n",
       "      <td>Até R$ 1.045,00</td>\n",
       "      <td>Não</td>\n",
       "      <td>Não</td>\n",
       "      <td>Sim</td>\n",
       "    </tr>\n",
       "    <tr>\n",
       "      <th>freq</th>\n",
       "      <td>NaN</td>\n",
       "      <td>NaN</td>\n",
       "      <td>NaN</td>\n",
       "      <td>NaN</td>\n",
       "      <td>3228</td>\n",
       "      <td>871</td>\n",
       "      <td>4893</td>\n",
       "      <td>13095</td>\n",
       "      <td>19310</td>\n",
       "      <td>10092</td>\n",
       "      <td>...</td>\n",
       "      <td>11074</td>\n",
       "      <td>6028</td>\n",
       "      <td>7470</td>\n",
       "      <td>5121</td>\n",
       "      <td>9397</td>\n",
       "      <td>NaN</td>\n",
       "      <td>6587</td>\n",
       "      <td>17375</td>\n",
       "      <td>9806</td>\n",
       "      <td>18057</td>\n",
       "    </tr>\n",
       "    <tr>\n",
       "      <th>mean</th>\n",
       "      <td>3.070041e+06</td>\n",
       "      <td>2020.0</td>\n",
       "      <td>2.000039e+11</td>\n",
       "      <td>30.554862</td>\n",
       "      <td>NaN</td>\n",
       "      <td>NaN</td>\n",
       "      <td>NaN</td>\n",
       "      <td>NaN</td>\n",
       "      <td>NaN</td>\n",
       "      <td>NaN</td>\n",
       "      <td>...</td>\n",
       "      <td>NaN</td>\n",
       "      <td>NaN</td>\n",
       "      <td>NaN</td>\n",
       "      <td>NaN</td>\n",
       "      <td>NaN</td>\n",
       "      <td>3.761705</td>\n",
       "      <td>NaN</td>\n",
       "      <td>NaN</td>\n",
       "      <td>NaN</td>\n",
       "      <td>NaN</td>\n",
       "    </tr>\n",
       "    <tr>\n",
       "      <th>std</th>\n",
       "      <td>9.936455e+05</td>\n",
       "      <td>0.0</td>\n",
       "      <td>1.682795e+06</td>\n",
       "      <td>9.906921</td>\n",
       "      <td>NaN</td>\n",
       "      <td>NaN</td>\n",
       "      <td>NaN</td>\n",
       "      <td>NaN</td>\n",
       "      <td>NaN</td>\n",
       "      <td>NaN</td>\n",
       "      <td>...</td>\n",
       "      <td>NaN</td>\n",
       "      <td>NaN</td>\n",
       "      <td>NaN</td>\n",
       "      <td>NaN</td>\n",
       "      <td>NaN</td>\n",
       "      <td>1.411814</td>\n",
       "      <td>NaN</td>\n",
       "      <td>NaN</td>\n",
       "      <td>NaN</td>\n",
       "      <td>NaN</td>\n",
       "    </tr>\n",
       "    <tr>\n",
       "      <th>min</th>\n",
       "      <td>1.100015e+06</td>\n",
       "      <td>2020.0</td>\n",
       "      <td>2.000010e+11</td>\n",
       "      <td>11.000000</td>\n",
       "      <td>NaN</td>\n",
       "      <td>NaN</td>\n",
       "      <td>NaN</td>\n",
       "      <td>NaN</td>\n",
       "      <td>NaN</td>\n",
       "      <td>NaN</td>\n",
       "      <td>...</td>\n",
       "      <td>NaN</td>\n",
       "      <td>NaN</td>\n",
       "      <td>NaN</td>\n",
       "      <td>NaN</td>\n",
       "      <td>NaN</td>\n",
       "      <td>1.000000</td>\n",
       "      <td>NaN</td>\n",
       "      <td>NaN</td>\n",
       "      <td>NaN</td>\n",
       "      <td>NaN</td>\n",
       "    </tr>\n",
       "    <tr>\n",
       "      <th>25%</th>\n",
       "      <td>2.403251e+06</td>\n",
       "      <td>2020.0</td>\n",
       "      <td>2.000025e+11</td>\n",
       "      <td>24.000000</td>\n",
       "      <td>NaN</td>\n",
       "      <td>NaN</td>\n",
       "      <td>NaN</td>\n",
       "      <td>NaN</td>\n",
       "      <td>NaN</td>\n",
       "      <td>NaN</td>\n",
       "      <td>...</td>\n",
       "      <td>NaN</td>\n",
       "      <td>NaN</td>\n",
       "      <td>NaN</td>\n",
       "      <td>NaN</td>\n",
       "      <td>NaN</td>\n",
       "      <td>3.000000</td>\n",
       "      <td>NaN</td>\n",
       "      <td>NaN</td>\n",
       "      <td>NaN</td>\n",
       "      <td>NaN</td>\n",
       "    </tr>\n",
       "    <tr>\n",
       "      <th>50%</th>\n",
       "      <td>3.106200e+06</td>\n",
       "      <td>2020.0</td>\n",
       "      <td>2.000039e+11</td>\n",
       "      <td>31.000000</td>\n",
       "      <td>NaN</td>\n",
       "      <td>NaN</td>\n",
       "      <td>NaN</td>\n",
       "      <td>NaN</td>\n",
       "      <td>NaN</td>\n",
       "      <td>NaN</td>\n",
       "      <td>...</td>\n",
       "      <td>NaN</td>\n",
       "      <td>NaN</td>\n",
       "      <td>NaN</td>\n",
       "      <td>NaN</td>\n",
       "      <td>NaN</td>\n",
       "      <td>4.000000</td>\n",
       "      <td>NaN</td>\n",
       "      <td>NaN</td>\n",
       "      <td>NaN</td>\n",
       "      <td>NaN</td>\n",
       "    </tr>\n",
       "    <tr>\n",
       "      <th>75%</th>\n",
       "      <td>3.548500e+06</td>\n",
       "      <td>2020.0</td>\n",
       "      <td>2.000054e+11</td>\n",
       "      <td>35.000000</td>\n",
       "      <td>NaN</td>\n",
       "      <td>NaN</td>\n",
       "      <td>NaN</td>\n",
       "      <td>NaN</td>\n",
       "      <td>NaN</td>\n",
       "      <td>NaN</td>\n",
       "      <td>...</td>\n",
       "      <td>NaN</td>\n",
       "      <td>NaN</td>\n",
       "      <td>NaN</td>\n",
       "      <td>NaN</td>\n",
       "      <td>NaN</td>\n",
       "      <td>4.000000</td>\n",
       "      <td>NaN</td>\n",
       "      <td>NaN</td>\n",
       "      <td>NaN</td>\n",
       "      <td>NaN</td>\n",
       "    </tr>\n",
       "    <tr>\n",
       "      <th>max</th>\n",
       "      <td>5.300108e+06</td>\n",
       "      <td>2020.0</td>\n",
       "      <td>2.000068e+11</td>\n",
       "      <td>53.000000</td>\n",
       "      <td>NaN</td>\n",
       "      <td>NaN</td>\n",
       "      <td>NaN</td>\n",
       "      <td>NaN</td>\n",
       "      <td>NaN</td>\n",
       "      <td>NaN</td>\n",
       "      <td>...</td>\n",
       "      <td>NaN</td>\n",
       "      <td>NaN</td>\n",
       "      <td>NaN</td>\n",
       "      <td>NaN</td>\n",
       "      <td>NaN</td>\n",
       "      <td>20.000000</td>\n",
       "      <td>NaN</td>\n",
       "      <td>NaN</td>\n",
       "      <td>NaN</td>\n",
       "      <td>NaN</td>\n",
       "    </tr>\n",
       "  </tbody>\n",
       "</table>\n",
       "<p>11 rows × 34 columns</p>\n",
       "</div>"
      ],
      "text/plain": [
       "        CO_MUNICIPIO_PROVA   NU_ANO  NU_INSCRICAO   CO_UF_PROVA SG_UF_PROVA  \\\n",
       "count         2.193700e+04  21937.0  2.193700e+04  21937.000000       21937   \n",
       "unique                 NaN      NaN           NaN           NaN          27   \n",
       "top                    NaN      NaN           NaN           NaN          SP   \n",
       "freq                   NaN      NaN           NaN           NaN        3228   \n",
       "mean          3.070041e+06   2020.0  2.000039e+11     30.554862         NaN   \n",
       "std           9.936455e+05      0.0  1.682795e+06      9.906921         NaN   \n",
       "min           1.100015e+06   2020.0  2.000010e+11     11.000000         NaN   \n",
       "25%           2.403251e+06   2020.0  2.000025e+11     24.000000         NaN   \n",
       "50%           3.106200e+06   2020.0  2.000039e+11     31.000000         NaN   \n",
       "75%           3.548500e+06   2020.0  2.000054e+11     35.000000         NaN   \n",
       "max           5.300108e+06   2020.0  2.000068e+11     53.000000         NaN   \n",
       "\n",
       "       NO_MUNICIPIO_PROVA TP_FAIXA_ETARIA   TP_SEXO TP_ESTADO_CIVIL  \\\n",
       "count               21937           21937     21937           21937   \n",
       "unique               1711               9         2               5   \n",
       "top             São Paulo         18 anos  Feminino     Solteiro(a)   \n",
       "freq                  871            4893     13095           19310   \n",
       "mean                  NaN             NaN       NaN             NaN   \n",
       "std                   NaN             NaN       NaN             NaN   \n",
       "min                   NaN             NaN       NaN             NaN   \n",
       "25%                   NaN             NaN       NaN             NaN   \n",
       "50%                   NaN             NaN       NaN             NaN   \n",
       "75%                   NaN             NaN       NaN             NaN   \n",
       "max                   NaN             NaN       NaN             NaN   \n",
       "\n",
       "       TP_COR_RACA  ... TP_LINGUA  \\\n",
       "count        21937  ...     21937   \n",
       "unique           6  ...         2   \n",
       "top          Parda  ...  Espanhol   \n",
       "freq         10092  ...     11074   \n",
       "mean           NaN  ...       NaN   \n",
       "std            NaN  ...       NaN   \n",
       "min            NaN  ...       NaN   \n",
       "25%            NaN  ...       NaN   \n",
       "50%            NaN  ...       NaN   \n",
       "75%            NaN  ...       NaN   \n",
       "max            NaN  ...       NaN   \n",
       "\n",
       "                                                     Q001  \\\n",
       "count                                               21937   \n",
       "unique                                                  9   \n",
       "top     Completou o Ensino Médio, mas não completou a ...   \n",
       "freq                                                 6028   \n",
       "mean                                                  NaN   \n",
       "std                                                   NaN   \n",
       "min                                                   NaN   \n",
       "25%                                                   NaN   \n",
       "50%                                                   NaN   \n",
       "75%                                                   NaN   \n",
       "max                                                   NaN   \n",
       "\n",
       "                                                     Q002  \\\n",
       "count                                               21937   \n",
       "unique                                                  9   \n",
       "top     Completou o Ensino Médio, mas não completou a ...   \n",
       "freq                                                 7470   \n",
       "mean                                                  NaN   \n",
       "std                                                   NaN   \n",
       "min                                                   NaN   \n",
       "25%                                                   NaN   \n",
       "50%                                                   NaN   \n",
       "75%                                                   NaN   \n",
       "max                                                   NaN   \n",
       "\n",
       "                                                     Q003  \\\n",
       "count                                               21679   \n",
       "unique                                                  6   \n",
       "top     Grupo 3: Padeiro, cozinheiro industrial ou em ...   \n",
       "freq                                                 5121   \n",
       "mean                                                  NaN   \n",
       "std                                                   NaN   \n",
       "min                                                   NaN   \n",
       "25%                                                   NaN   \n",
       "50%                                                   NaN   \n",
       "75%                                                   NaN   \n",
       "max                                                   NaN   \n",
       "\n",
       "                                                     Q004          Q005  \\\n",
       "count                                               21679  21679.000000   \n",
       "unique                                                  6           NaN   \n",
       "top     Grupo 2: Diarista, empregada doméstica, cuidad...           NaN   \n",
       "freq                                                 9397           NaN   \n",
       "mean                                                  NaN      3.761705   \n",
       "std                                                   NaN      1.411814   \n",
       "min                                                   NaN      1.000000   \n",
       "25%                                                   NaN      3.000000   \n",
       "50%                                                   NaN      4.000000   \n",
       "75%                                                   NaN      4.000000   \n",
       "max                                                   NaN     20.000000   \n",
       "\n",
       "                   Q006   Q023   Q024   Q025  \n",
       "count             21679  21679  21679  21679  \n",
       "unique               17      2      5      2  \n",
       "top     Até R$ 1.045,00    Não    Não    Sim  \n",
       "freq               6587  17375   9806  18057  \n",
       "mean                NaN    NaN    NaN    NaN  \n",
       "std                 NaN    NaN    NaN    NaN  \n",
       "min                 NaN    NaN    NaN    NaN  \n",
       "25%                 NaN    NaN    NaN    NaN  \n",
       "50%                 NaN    NaN    NaN    NaN  \n",
       "75%                 NaN    NaN    NaN    NaN  \n",
       "max                 NaN    NaN    NaN    NaN  \n",
       "\n",
       "[11 rows x 34 columns]"
      ]
     },
     "execution_count": 13,
     "metadata": {},
     "output_type": "execute_result"
    }
   ],
   "source": [
    "# Análise descritiva das variáveis do arquivo qualitativas e quantitativas\n",
    "ENEM.describe(include='all')"
   ]
  },
  {
   "cell_type": "code",
   "execution_count": 14,
   "metadata": {
    "id": "cddiL9BHqCJM"
   },
   "outputs": [
    {
     "data": {
      "text/html": [
       "<div>\n",
       "<style scoped>\n",
       "    .dataframe tbody tr th:only-of-type {\n",
       "        vertical-align: middle;\n",
       "    }\n",
       "\n",
       "    .dataframe tbody tr th {\n",
       "        vertical-align: top;\n",
       "    }\n",
       "\n",
       "    .dataframe thead th {\n",
       "        text-align: right;\n",
       "    }\n",
       "</style>\n",
       "<table border=\"1\" class=\"dataframe\">\n",
       "  <thead>\n",
       "    <tr style=\"text-align: right;\">\n",
       "      <th></th>\n",
       "      <th>CO_MUNICIPIO_PROVA</th>\n",
       "      <th>NU_ANO</th>\n",
       "      <th>NU_INSCRICAO</th>\n",
       "      <th>CO_UF_PROVA</th>\n",
       "      <th>SG_UF_PROVA</th>\n",
       "      <th>NO_MUNICIPIO_PROVA</th>\n",
       "      <th>TP_FAIXA_ETARIA</th>\n",
       "      <th>TP_SEXO</th>\n",
       "      <th>TP_ESTADO_CIVIL</th>\n",
       "      <th>TP_COR_RACA</th>\n",
       "      <th>...</th>\n",
       "      <th>TP_LINGUA</th>\n",
       "      <th>Q001</th>\n",
       "      <th>Q002</th>\n",
       "      <th>Q003</th>\n",
       "      <th>Q004</th>\n",
       "      <th>Q005</th>\n",
       "      <th>Q006</th>\n",
       "      <th>Q023</th>\n",
       "      <th>Q024</th>\n",
       "      <th>Q025</th>\n",
       "    </tr>\n",
       "  </thead>\n",
       "  <tbody>\n",
       "    <tr>\n",
       "      <th>0</th>\n",
       "      <td>1100015</td>\n",
       "      <td>2020</td>\n",
       "      <td>200001085961</td>\n",
       "      <td>11</td>\n",
       "      <td>RO</td>\n",
       "      <td>Alta Floresta D'Oeste</td>\n",
       "      <td>19 anos</td>\n",
       "      <td>Feminino</td>\n",
       "      <td>Solteiro(a)</td>\n",
       "      <td>Parda</td>\n",
       "      <td>...</td>\n",
       "      <td>Espanhol</td>\n",
       "      <td>Completou a 8ª série/9º ano do ensino fundamen...</td>\n",
       "      <td>Completou a 4ª série/5º ano, mas não completou...</td>\n",
       "      <td>Grupo 4: Professor (de ensino fundamental ou m...</td>\n",
       "      <td>Grupo 2: Diarista, empregada doméstica, cuidad...</td>\n",
       "      <td>3.0</td>\n",
       "      <td>De R$ 2.612,51 até R$ 3.135,00</td>\n",
       "      <td>Não</td>\n",
       "      <td>Sim, um</td>\n",
       "      <td>Sim</td>\n",
       "    </tr>\n",
       "    <tr>\n",
       "      <th>1</th>\n",
       "      <td>1100015</td>\n",
       "      <td>2020</td>\n",
       "      <td>200001125546</td>\n",
       "      <td>11</td>\n",
       "      <td>RO</td>\n",
       "      <td>Alta Floresta D'Oeste</td>\n",
       "      <td>Menor de 17 anos</td>\n",
       "      <td>Masculino</td>\n",
       "      <td>Solteiro(a)</td>\n",
       "      <td>Parda</td>\n",
       "      <td>...</td>\n",
       "      <td>Espanhol</td>\n",
       "      <td>Completou a 8ª série/9º ano do ensino fundamen...</td>\n",
       "      <td>Completou a 4ª série/5º ano, mas não completou...</td>\n",
       "      <td>Grupo 2: Diarista, empregado doméstico, cuidad...</td>\n",
       "      <td>Grupo 2: Diarista, empregada doméstica, cuidad...</td>\n",
       "      <td>5.0</td>\n",
       "      <td>De R$ 1.567,51 até R$ 2.090,00</td>\n",
       "      <td>Não</td>\n",
       "      <td>Sim, um</td>\n",
       "      <td>Sim</td>\n",
       "    </tr>\n",
       "    <tr>\n",
       "      <th>2</th>\n",
       "      <td>1100023</td>\n",
       "      <td>2020</td>\n",
       "      <td>200004095223</td>\n",
       "      <td>11</td>\n",
       "      <td>RO</td>\n",
       "      <td>Ariquemes</td>\n",
       "      <td>20 anos</td>\n",
       "      <td>Feminino</td>\n",
       "      <td>Solteiro(a)</td>\n",
       "      <td>Parda</td>\n",
       "      <td>...</td>\n",
       "      <td>Espanhol</td>\n",
       "      <td>Completou a Faculdade, mas não completou a Pós...</td>\n",
       "      <td>Completou a Faculdade, mas não completou a Pós...</td>\n",
       "      <td>Grupo 5: Médico, engenheiro, dentista, psicólo...</td>\n",
       "      <td>Grupo 4: Professora (de ensino fundamental ou ...</td>\n",
       "      <td>6.0</td>\n",
       "      <td>De R$ 2.612,51 até R$ 3.135,00</td>\n",
       "      <td>Não</td>\n",
       "      <td>Sim, um</td>\n",
       "      <td>Sim</td>\n",
       "    </tr>\n",
       "    <tr>\n",
       "      <th>3</th>\n",
       "      <td>1100023</td>\n",
       "      <td>2020</td>\n",
       "      <td>200005147057</td>\n",
       "      <td>11</td>\n",
       "      <td>RO</td>\n",
       "      <td>Ariquemes</td>\n",
       "      <td>18 anos</td>\n",
       "      <td>Feminino</td>\n",
       "      <td>Solteiro(a)</td>\n",
       "      <td>Parda</td>\n",
       "      <td>...</td>\n",
       "      <td>Espanhol</td>\n",
       "      <td>Completou a 4ª série/5º ano, mas não completou...</td>\n",
       "      <td>Nunca estudou</td>\n",
       "      <td>Grupo 3: Padeiro, cozinheiro industrial ou em ...</td>\n",
       "      <td>Grupo 2: Diarista, empregada doméstica, cuidad...</td>\n",
       "      <td>4.0</td>\n",
       "      <td>De R$ 2.090,01 até R$ 2.612,50</td>\n",
       "      <td>Não</td>\n",
       "      <td>Não</td>\n",
       "      <td>Sim</td>\n",
       "    </tr>\n",
       "    <tr>\n",
       "      <th>4</th>\n",
       "      <td>1100023</td>\n",
       "      <td>2020</td>\n",
       "      <td>200002107196</td>\n",
       "      <td>11</td>\n",
       "      <td>RO</td>\n",
       "      <td>Ariquemes</td>\n",
       "      <td>20 anos</td>\n",
       "      <td>Masculino</td>\n",
       "      <td>Não informado</td>\n",
       "      <td>Preta</td>\n",
       "      <td>...</td>\n",
       "      <td>Espanhol</td>\n",
       "      <td>Não completou a 4ª série/5º ano do ensino fund...</td>\n",
       "      <td>Nunca estudou</td>\n",
       "      <td>Grupo 3: Padeiro, cozinheiro industrial ou em ...</td>\n",
       "      <td>Grupo 2: Diarista, empregada doméstica, cuidad...</td>\n",
       "      <td>7.0</td>\n",
       "      <td>De R$ 1.045,01 até R$ 1.567,50</td>\n",
       "      <td>Não</td>\n",
       "      <td>Sim, um</td>\n",
       "      <td>Sim</td>\n",
       "    </tr>\n",
       "    <tr>\n",
       "      <th>...</th>\n",
       "      <td>...</td>\n",
       "      <td>...</td>\n",
       "      <td>...</td>\n",
       "      <td>...</td>\n",
       "      <td>...</td>\n",
       "      <td>...</td>\n",
       "      <td>...</td>\n",
       "      <td>...</td>\n",
       "      <td>...</td>\n",
       "      <td>...</td>\n",
       "      <td>...</td>\n",
       "      <td>...</td>\n",
       "      <td>...</td>\n",
       "      <td>...</td>\n",
       "      <td>...</td>\n",
       "      <td>...</td>\n",
       "      <td>...</td>\n",
       "      <td>...</td>\n",
       "      <td>...</td>\n",
       "      <td>...</td>\n",
       "      <td>...</td>\n",
       "    </tr>\n",
       "    <tr>\n",
       "      <th>21932</th>\n",
       "      <td>5300108</td>\n",
       "      <td>2020</td>\n",
       "      <td>200003211471</td>\n",
       "      <td>53</td>\n",
       "      <td>DF</td>\n",
       "      <td>Brasília</td>\n",
       "      <td>22 anos</td>\n",
       "      <td>Masculino</td>\n",
       "      <td>Solteiro(a)</td>\n",
       "      <td>Preta</td>\n",
       "      <td>...</td>\n",
       "      <td>Inglês</td>\n",
       "      <td>Completou o Ensino Médio, mas não completou a ...</td>\n",
       "      <td>Completou o Ensino Médio, mas não completou a ...</td>\n",
       "      <td>Grupo 4: Professor (de ensino fundamental ou m...</td>\n",
       "      <td>Grupo 2: Diarista, empregada doméstica, cuidad...</td>\n",
       "      <td>4.0</td>\n",
       "      <td>De R$ 1.045,01 até R$ 1.567,50</td>\n",
       "      <td>Não</td>\n",
       "      <td>Não</td>\n",
       "      <td>Sim</td>\n",
       "    </tr>\n",
       "    <tr>\n",
       "      <th>21933</th>\n",
       "      <td>5300108</td>\n",
       "      <td>2020</td>\n",
       "      <td>200003815421</td>\n",
       "      <td>53</td>\n",
       "      <td>DF</td>\n",
       "      <td>Brasília</td>\n",
       "      <td>Menor de 17 anos</td>\n",
       "      <td>Masculino</td>\n",
       "      <td>SDivorciado(a)/Desquitado(a)/Separado(a)</td>\n",
       "      <td>Branca</td>\n",
       "      <td>...</td>\n",
       "      <td>Inglês</td>\n",
       "      <td>Completou o Ensino Médio, mas não completou a ...</td>\n",
       "      <td>Não completou a 4ª série/5º ano do ensino fund...</td>\n",
       "      <td>Grupo 3: Padeiro, cozinheiro industrial ou em ...</td>\n",
       "      <td>Grupo 1: Lavradora, agricultora sem empregados...</td>\n",
       "      <td>1.0</td>\n",
       "      <td>De R$ 2.090,01 até R$ 2.612,50</td>\n",
       "      <td>Sim</td>\n",
       "      <td>Sim, um</td>\n",
       "      <td>Sim</td>\n",
       "    </tr>\n",
       "    <tr>\n",
       "      <th>21934</th>\n",
       "      <td>5300108</td>\n",
       "      <td>2020</td>\n",
       "      <td>200006479057</td>\n",
       "      <td>53</td>\n",
       "      <td>DF</td>\n",
       "      <td>Brasília</td>\n",
       "      <td>Menor de 17 anos</td>\n",
       "      <td>Feminino</td>\n",
       "      <td>Solteiro(a)</td>\n",
       "      <td>Não declarado</td>\n",
       "      <td>...</td>\n",
       "      <td>Espanhol</td>\n",
       "      <td>Não sei</td>\n",
       "      <td>Nunca estudou</td>\n",
       "      <td>Não Sei</td>\n",
       "      <td>Não Sei</td>\n",
       "      <td>1.0</td>\n",
       "      <td>Nenhuma renda</td>\n",
       "      <td>Não</td>\n",
       "      <td>Não</td>\n",
       "      <td>Sim</td>\n",
       "    </tr>\n",
       "    <tr>\n",
       "      <th>21935</th>\n",
       "      <td>5300108</td>\n",
       "      <td>2020</td>\n",
       "      <td>200005012218</td>\n",
       "      <td>53</td>\n",
       "      <td>DF</td>\n",
       "      <td>Brasília</td>\n",
       "      <td>Menor de 17 anos</td>\n",
       "      <td>Feminino</td>\n",
       "      <td>Casado(a)/Mora com um(a) companheiro(a)</td>\n",
       "      <td>Branca</td>\n",
       "      <td>...</td>\n",
       "      <td>Espanhol</td>\n",
       "      <td>Completou a Faculdade, mas não completou a Pós...</td>\n",
       "      <td>Completou o Ensino Médio, mas não completou a ...</td>\n",
       "      <td>Grupo 5: Médico, engenheiro, dentista, psicólo...</td>\n",
       "      <td>Grupo 4: Professora (de ensino fundamental ou ...</td>\n",
       "      <td>2.0</td>\n",
       "      <td>De R$ 4.180,01 até R$ 5.225,00</td>\n",
       "      <td>Não</td>\n",
       "      <td>Sim, dois</td>\n",
       "      <td>Sim</td>\n",
       "    </tr>\n",
       "    <tr>\n",
       "      <th>21936</th>\n",
       "      <td>5300108</td>\n",
       "      <td>2020</td>\n",
       "      <td>200001369189</td>\n",
       "      <td>53</td>\n",
       "      <td>DF</td>\n",
       "      <td>Brasília</td>\n",
       "      <td>Menor de 17 anos</td>\n",
       "      <td>Feminino</td>\n",
       "      <td>Casado(a)/Mora com um(a) companheiro(a)</td>\n",
       "      <td>Parda</td>\n",
       "      <td>...</td>\n",
       "      <td>Espanhol</td>\n",
       "      <td>Nunca estudou</td>\n",
       "      <td>Nunca estudou</td>\n",
       "      <td>Grupo 1: Lavrador, agricultor sem empregados, ...</td>\n",
       "      <td>Grupo 1: Lavradora, agricultora sem empregados...</td>\n",
       "      <td>4.0</td>\n",
       "      <td>De R$ 1.567,51 até R$ 2.090,00</td>\n",
       "      <td>Não</td>\n",
       "      <td>Não</td>\n",
       "      <td>Sim</td>\n",
       "    </tr>\n",
       "  </tbody>\n",
       "</table>\n",
       "<p>21937 rows × 34 columns</p>\n",
       "</div>"
      ],
      "text/plain": [
       "       CO_MUNICIPIO_PROVA  NU_ANO  NU_INSCRICAO  CO_UF_PROVA SG_UF_PROVA  \\\n",
       "0                 1100015    2020  200001085961           11          RO   \n",
       "1                 1100015    2020  200001125546           11          RO   \n",
       "2                 1100023    2020  200004095223           11          RO   \n",
       "3                 1100023    2020  200005147057           11          RO   \n",
       "4                 1100023    2020  200002107196           11          RO   \n",
       "...                   ...     ...           ...          ...         ...   \n",
       "21932             5300108    2020  200003211471           53          DF   \n",
       "21933             5300108    2020  200003815421           53          DF   \n",
       "21934             5300108    2020  200006479057           53          DF   \n",
       "21935             5300108    2020  200005012218           53          DF   \n",
       "21936             5300108    2020  200001369189           53          DF   \n",
       "\n",
       "          NO_MUNICIPIO_PROVA   TP_FAIXA_ETARIA    TP_SEXO  \\\n",
       "0      Alta Floresta D'Oeste           19 anos   Feminino   \n",
       "1      Alta Floresta D'Oeste  Menor de 17 anos  Masculino   \n",
       "2                  Ariquemes           20 anos   Feminino   \n",
       "3                  Ariquemes           18 anos   Feminino   \n",
       "4                  Ariquemes           20 anos  Masculino   \n",
       "...                      ...               ...        ...   \n",
       "21932               Brasília           22 anos  Masculino   \n",
       "21933               Brasília  Menor de 17 anos  Masculino   \n",
       "21934               Brasília  Menor de 17 anos   Feminino   \n",
       "21935               Brasília  Menor de 17 anos   Feminino   \n",
       "21936               Brasília  Menor de 17 anos   Feminino   \n",
       "\n",
       "                                TP_ESTADO_CIVIL    TP_COR_RACA  ... TP_LINGUA  \\\n",
       "0                                   Solteiro(a)          Parda  ...  Espanhol   \n",
       "1                                   Solteiro(a)          Parda  ...  Espanhol   \n",
       "2                                   Solteiro(a)          Parda  ...  Espanhol   \n",
       "3                                   Solteiro(a)          Parda  ...  Espanhol   \n",
       "4                                 Não informado          Preta  ...  Espanhol   \n",
       "...                                         ...            ...  ...       ...   \n",
       "21932                               Solteiro(a)          Preta  ...    Inglês   \n",
       "21933  SDivorciado(a)/Desquitado(a)/Separado(a)         Branca  ...    Inglês   \n",
       "21934                               Solteiro(a)  Não declarado  ...  Espanhol   \n",
       "21935   Casado(a)/Mora com um(a) companheiro(a)         Branca  ...  Espanhol   \n",
       "21936   Casado(a)/Mora com um(a) companheiro(a)          Parda  ...  Espanhol   \n",
       "\n",
       "                                                    Q001  \\\n",
       "0      Completou a 8ª série/9º ano do ensino fundamen...   \n",
       "1      Completou a 8ª série/9º ano do ensino fundamen...   \n",
       "2      Completou a Faculdade, mas não completou a Pós...   \n",
       "3      Completou a 4ª série/5º ano, mas não completou...   \n",
       "4      Não completou a 4ª série/5º ano do ensino fund...   \n",
       "...                                                  ...   \n",
       "21932  Completou o Ensino Médio, mas não completou a ...   \n",
       "21933  Completou o Ensino Médio, mas não completou a ...   \n",
       "21934                                            Não sei   \n",
       "21935  Completou a Faculdade, mas não completou a Pós...   \n",
       "21936                                      Nunca estudou   \n",
       "\n",
       "                                                    Q002  \\\n",
       "0      Completou a 4ª série/5º ano, mas não completou...   \n",
       "1      Completou a 4ª série/5º ano, mas não completou...   \n",
       "2      Completou a Faculdade, mas não completou a Pós...   \n",
       "3                                          Nunca estudou   \n",
       "4                                          Nunca estudou   \n",
       "...                                                  ...   \n",
       "21932  Completou o Ensino Médio, mas não completou a ...   \n",
       "21933  Não completou a 4ª série/5º ano do ensino fund...   \n",
       "21934                                      Nunca estudou   \n",
       "21935  Completou o Ensino Médio, mas não completou a ...   \n",
       "21936                                      Nunca estudou   \n",
       "\n",
       "                                                    Q003  \\\n",
       "0      Grupo 4: Professor (de ensino fundamental ou m...   \n",
       "1      Grupo 2: Diarista, empregado doméstico, cuidad...   \n",
       "2      Grupo 5: Médico, engenheiro, dentista, psicólo...   \n",
       "3      Grupo 3: Padeiro, cozinheiro industrial ou em ...   \n",
       "4      Grupo 3: Padeiro, cozinheiro industrial ou em ...   \n",
       "...                                                  ...   \n",
       "21932  Grupo 4: Professor (de ensino fundamental ou m...   \n",
       "21933  Grupo 3: Padeiro, cozinheiro industrial ou em ...   \n",
       "21934                                            Não Sei   \n",
       "21935  Grupo 5: Médico, engenheiro, dentista, psicólo...   \n",
       "21936  Grupo 1: Lavrador, agricultor sem empregados, ...   \n",
       "\n",
       "                                                    Q004 Q005  \\\n",
       "0      Grupo 2: Diarista, empregada doméstica, cuidad...  3.0   \n",
       "1      Grupo 2: Diarista, empregada doméstica, cuidad...  5.0   \n",
       "2      Grupo 4: Professora (de ensino fundamental ou ...  6.0   \n",
       "3      Grupo 2: Diarista, empregada doméstica, cuidad...  4.0   \n",
       "4      Grupo 2: Diarista, empregada doméstica, cuidad...  7.0   \n",
       "...                                                  ...  ...   \n",
       "21932  Grupo 2: Diarista, empregada doméstica, cuidad...  4.0   \n",
       "21933  Grupo 1: Lavradora, agricultora sem empregados...  1.0   \n",
       "21934                                            Não Sei  1.0   \n",
       "21935  Grupo 4: Professora (de ensino fundamental ou ...  2.0   \n",
       "21936  Grupo 1: Lavradora, agricultora sem empregados...  4.0   \n",
       "\n",
       "                                 Q006 Q023       Q024  Q025  \n",
       "0      De R$ 2.612,51 até R$ 3.135,00  Não    Sim, um   Sim  \n",
       "1      De R$ 1.567,51 até R$ 2.090,00  Não    Sim, um   Sim  \n",
       "2      De R$ 2.612,51 até R$ 3.135,00  Não    Sim, um   Sim  \n",
       "3      De R$ 2.090,01 até R$ 2.612,50  Não        Não   Sim  \n",
       "4      De R$ 1.045,01 até R$ 1.567,50  Não    Sim, um   Sim  \n",
       "...                               ...  ...        ...   ...  \n",
       "21932  De R$ 1.045,01 até R$ 1.567,50  Não        Não   Sim  \n",
       "21933  De R$ 2.090,01 até R$ 2.612,50  Sim    Sim, um   Sim  \n",
       "21934                   Nenhuma renda  Não        Não   Sim  \n",
       "21935  De R$ 4.180,01 até R$ 5.225,00  Não  Sim, dois   Sim  \n",
       "21936  De R$ 1.567,51 até R$ 2.090,00  Não        Não   Sim  \n",
       "\n",
       "[21937 rows x 34 columns]"
      ]
     },
     "execution_count": 14,
     "metadata": {},
     "output_type": "execute_result"
    }
   ],
   "source": [
    "# Lista registros do arquivo - valores missing estão preenhidos com \"NaN\"\n",
    "ENEM"
   ]
  },
  {
   "cell_type": "code",
   "execution_count": 15,
   "metadata": {
    "id": "-RncseOfvKHb"
   },
   "outputs": [
    {
     "data": {
      "text/html": [
       "<div>\n",
       "<style scoped>\n",
       "    .dataframe tbody tr th:only-of-type {\n",
       "        vertical-align: middle;\n",
       "    }\n",
       "\n",
       "    .dataframe tbody tr th {\n",
       "        vertical-align: top;\n",
       "    }\n",
       "\n",
       "    .dataframe thead th {\n",
       "        text-align: right;\n",
       "    }\n",
       "</style>\n",
       "<table border=\"1\" class=\"dataframe\">\n",
       "  <thead>\n",
       "    <tr style=\"text-align: right;\">\n",
       "      <th></th>\n",
       "      <th>CO_MUNICIPIO_PROVA</th>\n",
       "      <th>NU_ANO</th>\n",
       "      <th>NU_INSCRICAO</th>\n",
       "      <th>CO_UF_PROVA</th>\n",
       "      <th>SG_UF_PROVA</th>\n",
       "      <th>NO_MUNICIPIO_PROVA</th>\n",
       "      <th>TP_FAIXA_ETARIA</th>\n",
       "      <th>TP_SEXO</th>\n",
       "      <th>TP_ESTADO_CIVIL</th>\n",
       "      <th>TP_COR_RACA</th>\n",
       "      <th>...</th>\n",
       "      <th>TP_LINGUA</th>\n",
       "      <th>Q001</th>\n",
       "      <th>Q002</th>\n",
       "      <th>Q003</th>\n",
       "      <th>Q004</th>\n",
       "      <th>Q005</th>\n",
       "      <th>Q006</th>\n",
       "      <th>Q023</th>\n",
       "      <th>Q024</th>\n",
       "      <th>Q025</th>\n",
       "    </tr>\n",
       "  </thead>\n",
       "  <tbody>\n",
       "    <tr>\n",
       "      <th>0</th>\n",
       "      <td>False</td>\n",
       "      <td>False</td>\n",
       "      <td>False</td>\n",
       "      <td>False</td>\n",
       "      <td>False</td>\n",
       "      <td>False</td>\n",
       "      <td>False</td>\n",
       "      <td>False</td>\n",
       "      <td>False</td>\n",
       "      <td>False</td>\n",
       "      <td>...</td>\n",
       "      <td>False</td>\n",
       "      <td>False</td>\n",
       "      <td>False</td>\n",
       "      <td>False</td>\n",
       "      <td>False</td>\n",
       "      <td>False</td>\n",
       "      <td>False</td>\n",
       "      <td>False</td>\n",
       "      <td>False</td>\n",
       "      <td>False</td>\n",
       "    </tr>\n",
       "    <tr>\n",
       "      <th>1</th>\n",
       "      <td>False</td>\n",
       "      <td>False</td>\n",
       "      <td>False</td>\n",
       "      <td>False</td>\n",
       "      <td>False</td>\n",
       "      <td>False</td>\n",
       "      <td>False</td>\n",
       "      <td>False</td>\n",
       "      <td>False</td>\n",
       "      <td>False</td>\n",
       "      <td>...</td>\n",
       "      <td>False</td>\n",
       "      <td>False</td>\n",
       "      <td>False</td>\n",
       "      <td>False</td>\n",
       "      <td>False</td>\n",
       "      <td>False</td>\n",
       "      <td>False</td>\n",
       "      <td>False</td>\n",
       "      <td>False</td>\n",
       "      <td>False</td>\n",
       "    </tr>\n",
       "    <tr>\n",
       "      <th>2</th>\n",
       "      <td>False</td>\n",
       "      <td>False</td>\n",
       "      <td>False</td>\n",
       "      <td>False</td>\n",
       "      <td>False</td>\n",
       "      <td>False</td>\n",
       "      <td>False</td>\n",
       "      <td>False</td>\n",
       "      <td>False</td>\n",
       "      <td>False</td>\n",
       "      <td>...</td>\n",
       "      <td>False</td>\n",
       "      <td>False</td>\n",
       "      <td>False</td>\n",
       "      <td>False</td>\n",
       "      <td>False</td>\n",
       "      <td>False</td>\n",
       "      <td>False</td>\n",
       "      <td>False</td>\n",
       "      <td>False</td>\n",
       "      <td>False</td>\n",
       "    </tr>\n",
       "    <tr>\n",
       "      <th>3</th>\n",
       "      <td>False</td>\n",
       "      <td>False</td>\n",
       "      <td>False</td>\n",
       "      <td>False</td>\n",
       "      <td>False</td>\n",
       "      <td>False</td>\n",
       "      <td>False</td>\n",
       "      <td>False</td>\n",
       "      <td>False</td>\n",
       "      <td>False</td>\n",
       "      <td>...</td>\n",
       "      <td>False</td>\n",
       "      <td>False</td>\n",
       "      <td>False</td>\n",
       "      <td>False</td>\n",
       "      <td>False</td>\n",
       "      <td>False</td>\n",
       "      <td>False</td>\n",
       "      <td>False</td>\n",
       "      <td>False</td>\n",
       "      <td>False</td>\n",
       "    </tr>\n",
       "    <tr>\n",
       "      <th>4</th>\n",
       "      <td>False</td>\n",
       "      <td>False</td>\n",
       "      <td>False</td>\n",
       "      <td>False</td>\n",
       "      <td>False</td>\n",
       "      <td>False</td>\n",
       "      <td>False</td>\n",
       "      <td>False</td>\n",
       "      <td>False</td>\n",
       "      <td>False</td>\n",
       "      <td>...</td>\n",
       "      <td>False</td>\n",
       "      <td>False</td>\n",
       "      <td>False</td>\n",
       "      <td>False</td>\n",
       "      <td>False</td>\n",
       "      <td>False</td>\n",
       "      <td>False</td>\n",
       "      <td>False</td>\n",
       "      <td>False</td>\n",
       "      <td>False</td>\n",
       "    </tr>\n",
       "    <tr>\n",
       "      <th>...</th>\n",
       "      <td>...</td>\n",
       "      <td>...</td>\n",
       "      <td>...</td>\n",
       "      <td>...</td>\n",
       "      <td>...</td>\n",
       "      <td>...</td>\n",
       "      <td>...</td>\n",
       "      <td>...</td>\n",
       "      <td>...</td>\n",
       "      <td>...</td>\n",
       "      <td>...</td>\n",
       "      <td>...</td>\n",
       "      <td>...</td>\n",
       "      <td>...</td>\n",
       "      <td>...</td>\n",
       "      <td>...</td>\n",
       "      <td>...</td>\n",
       "      <td>...</td>\n",
       "      <td>...</td>\n",
       "      <td>...</td>\n",
       "      <td>...</td>\n",
       "    </tr>\n",
       "    <tr>\n",
       "      <th>21932</th>\n",
       "      <td>False</td>\n",
       "      <td>False</td>\n",
       "      <td>False</td>\n",
       "      <td>False</td>\n",
       "      <td>False</td>\n",
       "      <td>False</td>\n",
       "      <td>False</td>\n",
       "      <td>False</td>\n",
       "      <td>False</td>\n",
       "      <td>False</td>\n",
       "      <td>...</td>\n",
       "      <td>False</td>\n",
       "      <td>False</td>\n",
       "      <td>False</td>\n",
       "      <td>False</td>\n",
       "      <td>False</td>\n",
       "      <td>False</td>\n",
       "      <td>False</td>\n",
       "      <td>False</td>\n",
       "      <td>False</td>\n",
       "      <td>False</td>\n",
       "    </tr>\n",
       "    <tr>\n",
       "      <th>21933</th>\n",
       "      <td>False</td>\n",
       "      <td>False</td>\n",
       "      <td>False</td>\n",
       "      <td>False</td>\n",
       "      <td>False</td>\n",
       "      <td>False</td>\n",
       "      <td>False</td>\n",
       "      <td>False</td>\n",
       "      <td>False</td>\n",
       "      <td>False</td>\n",
       "      <td>...</td>\n",
       "      <td>False</td>\n",
       "      <td>False</td>\n",
       "      <td>False</td>\n",
       "      <td>False</td>\n",
       "      <td>False</td>\n",
       "      <td>False</td>\n",
       "      <td>False</td>\n",
       "      <td>False</td>\n",
       "      <td>False</td>\n",
       "      <td>False</td>\n",
       "    </tr>\n",
       "    <tr>\n",
       "      <th>21934</th>\n",
       "      <td>False</td>\n",
       "      <td>False</td>\n",
       "      <td>False</td>\n",
       "      <td>False</td>\n",
       "      <td>False</td>\n",
       "      <td>False</td>\n",
       "      <td>False</td>\n",
       "      <td>False</td>\n",
       "      <td>False</td>\n",
       "      <td>False</td>\n",
       "      <td>...</td>\n",
       "      <td>False</td>\n",
       "      <td>False</td>\n",
       "      <td>False</td>\n",
       "      <td>False</td>\n",
       "      <td>False</td>\n",
       "      <td>False</td>\n",
       "      <td>False</td>\n",
       "      <td>False</td>\n",
       "      <td>False</td>\n",
       "      <td>False</td>\n",
       "    </tr>\n",
       "    <tr>\n",
       "      <th>21935</th>\n",
       "      <td>False</td>\n",
       "      <td>False</td>\n",
       "      <td>False</td>\n",
       "      <td>False</td>\n",
       "      <td>False</td>\n",
       "      <td>False</td>\n",
       "      <td>False</td>\n",
       "      <td>False</td>\n",
       "      <td>False</td>\n",
       "      <td>False</td>\n",
       "      <td>...</td>\n",
       "      <td>False</td>\n",
       "      <td>False</td>\n",
       "      <td>False</td>\n",
       "      <td>False</td>\n",
       "      <td>False</td>\n",
       "      <td>False</td>\n",
       "      <td>False</td>\n",
       "      <td>False</td>\n",
       "      <td>False</td>\n",
       "      <td>False</td>\n",
       "    </tr>\n",
       "    <tr>\n",
       "      <th>21936</th>\n",
       "      <td>False</td>\n",
       "      <td>False</td>\n",
       "      <td>False</td>\n",
       "      <td>False</td>\n",
       "      <td>False</td>\n",
       "      <td>False</td>\n",
       "      <td>False</td>\n",
       "      <td>False</td>\n",
       "      <td>False</td>\n",
       "      <td>False</td>\n",
       "      <td>...</td>\n",
       "      <td>False</td>\n",
       "      <td>False</td>\n",
       "      <td>False</td>\n",
       "      <td>False</td>\n",
       "      <td>False</td>\n",
       "      <td>False</td>\n",
       "      <td>False</td>\n",
       "      <td>False</td>\n",
       "      <td>False</td>\n",
       "      <td>False</td>\n",
       "    </tr>\n",
       "  </tbody>\n",
       "</table>\n",
       "<p>21937 rows × 34 columns</p>\n",
       "</div>"
      ],
      "text/plain": [
       "       CO_MUNICIPIO_PROVA  NU_ANO  NU_INSCRICAO  CO_UF_PROVA  SG_UF_PROVA  \\\n",
       "0                   False   False         False        False        False   \n",
       "1                   False   False         False        False        False   \n",
       "2                   False   False         False        False        False   \n",
       "3                   False   False         False        False        False   \n",
       "4                   False   False         False        False        False   \n",
       "...                   ...     ...           ...          ...          ...   \n",
       "21932               False   False         False        False        False   \n",
       "21933               False   False         False        False        False   \n",
       "21934               False   False         False        False        False   \n",
       "21935               False   False         False        False        False   \n",
       "21936               False   False         False        False        False   \n",
       "\n",
       "       NO_MUNICIPIO_PROVA  TP_FAIXA_ETARIA  TP_SEXO  TP_ESTADO_CIVIL  \\\n",
       "0                   False            False    False            False   \n",
       "1                   False            False    False            False   \n",
       "2                   False            False    False            False   \n",
       "3                   False            False    False            False   \n",
       "4                   False            False    False            False   \n",
       "...                   ...              ...      ...              ...   \n",
       "21932               False            False    False            False   \n",
       "21933               False            False    False            False   \n",
       "21934               False            False    False            False   \n",
       "21935               False            False    False            False   \n",
       "21936               False            False    False            False   \n",
       "\n",
       "       TP_COR_RACA  ...  TP_LINGUA   Q001   Q002   Q003   Q004   Q005   Q006  \\\n",
       "0            False  ...      False  False  False  False  False  False  False   \n",
       "1            False  ...      False  False  False  False  False  False  False   \n",
       "2            False  ...      False  False  False  False  False  False  False   \n",
       "3            False  ...      False  False  False  False  False  False  False   \n",
       "4            False  ...      False  False  False  False  False  False  False   \n",
       "...            ...  ...        ...    ...    ...    ...    ...    ...    ...   \n",
       "21932        False  ...      False  False  False  False  False  False  False   \n",
       "21933        False  ...      False  False  False  False  False  False  False   \n",
       "21934        False  ...      False  False  False  False  False  False  False   \n",
       "21935        False  ...      False  False  False  False  False  False  False   \n",
       "21936        False  ...      False  False  False  False  False  False  False   \n",
       "\n",
       "        Q023   Q024   Q025  \n",
       "0      False  False  False  \n",
       "1      False  False  False  \n",
       "2      False  False  False  \n",
       "3      False  False  False  \n",
       "4      False  False  False  \n",
       "...      ...    ...    ...  \n",
       "21932  False  False  False  \n",
       "21933  False  False  False  \n",
       "21934  False  False  False  \n",
       "21935  False  False  False  \n",
       "21936  False  False  False  \n",
       "\n",
       "[21937 rows x 34 columns]"
      ]
     },
     "execution_count": 15,
     "metadata": {},
     "output_type": "execute_result"
    }
   ],
   "source": [
    "# Identifica os registros Nulos com \"True (verdade) ou False (negativo)\n",
    "ENEM.isnull()"
   ]
  },
  {
   "cell_type": "code",
   "execution_count": 16,
   "metadata": {
    "id": "kvROL2QevKBi"
   },
   "outputs": [
    {
     "data": {
      "text/html": [
       "<div>\n",
       "<style scoped>\n",
       "    .dataframe tbody tr th:only-of-type {\n",
       "        vertical-align: middle;\n",
       "    }\n",
       "\n",
       "    .dataframe tbody tr th {\n",
       "        vertical-align: top;\n",
       "    }\n",
       "\n",
       "    .dataframe thead th {\n",
       "        text-align: right;\n",
       "    }\n",
       "</style>\n",
       "<table border=\"1\" class=\"dataframe\">\n",
       "  <thead>\n",
       "    <tr style=\"text-align: right;\">\n",
       "      <th></th>\n",
       "      <th>CO_MUNICIPIO_PROVA</th>\n",
       "      <th>NU_ANO</th>\n",
       "      <th>NU_INSCRICAO</th>\n",
       "      <th>CO_UF_PROVA</th>\n",
       "      <th>SG_UF_PROVA</th>\n",
       "      <th>NO_MUNICIPIO_PROVA</th>\n",
       "      <th>TP_FAIXA_ETARIA</th>\n",
       "      <th>TP_SEXO</th>\n",
       "      <th>TP_ESTADO_CIVIL</th>\n",
       "      <th>TP_COR_RACA</th>\n",
       "      <th>...</th>\n",
       "      <th>TP_LINGUA</th>\n",
       "      <th>Q001</th>\n",
       "      <th>Q002</th>\n",
       "      <th>Q003</th>\n",
       "      <th>Q004</th>\n",
       "      <th>Q005</th>\n",
       "      <th>Q006</th>\n",
       "      <th>Q023</th>\n",
       "      <th>Q024</th>\n",
       "      <th>Q025</th>\n",
       "    </tr>\n",
       "  </thead>\n",
       "  <tbody>\n",
       "    <tr>\n",
       "      <th>0</th>\n",
       "      <td>True</td>\n",
       "      <td>True</td>\n",
       "      <td>True</td>\n",
       "      <td>True</td>\n",
       "      <td>True</td>\n",
       "      <td>True</td>\n",
       "      <td>True</td>\n",
       "      <td>True</td>\n",
       "      <td>True</td>\n",
       "      <td>True</td>\n",
       "      <td>...</td>\n",
       "      <td>True</td>\n",
       "      <td>True</td>\n",
       "      <td>True</td>\n",
       "      <td>True</td>\n",
       "      <td>True</td>\n",
       "      <td>True</td>\n",
       "      <td>True</td>\n",
       "      <td>True</td>\n",
       "      <td>True</td>\n",
       "      <td>True</td>\n",
       "    </tr>\n",
       "    <tr>\n",
       "      <th>1</th>\n",
       "      <td>True</td>\n",
       "      <td>True</td>\n",
       "      <td>True</td>\n",
       "      <td>True</td>\n",
       "      <td>True</td>\n",
       "      <td>True</td>\n",
       "      <td>True</td>\n",
       "      <td>True</td>\n",
       "      <td>True</td>\n",
       "      <td>True</td>\n",
       "      <td>...</td>\n",
       "      <td>True</td>\n",
       "      <td>True</td>\n",
       "      <td>True</td>\n",
       "      <td>True</td>\n",
       "      <td>True</td>\n",
       "      <td>True</td>\n",
       "      <td>True</td>\n",
       "      <td>True</td>\n",
       "      <td>True</td>\n",
       "      <td>True</td>\n",
       "    </tr>\n",
       "    <tr>\n",
       "      <th>2</th>\n",
       "      <td>True</td>\n",
       "      <td>True</td>\n",
       "      <td>True</td>\n",
       "      <td>True</td>\n",
       "      <td>True</td>\n",
       "      <td>True</td>\n",
       "      <td>True</td>\n",
       "      <td>True</td>\n",
       "      <td>True</td>\n",
       "      <td>True</td>\n",
       "      <td>...</td>\n",
       "      <td>True</td>\n",
       "      <td>True</td>\n",
       "      <td>True</td>\n",
       "      <td>True</td>\n",
       "      <td>True</td>\n",
       "      <td>True</td>\n",
       "      <td>True</td>\n",
       "      <td>True</td>\n",
       "      <td>True</td>\n",
       "      <td>True</td>\n",
       "    </tr>\n",
       "    <tr>\n",
       "      <th>3</th>\n",
       "      <td>True</td>\n",
       "      <td>True</td>\n",
       "      <td>True</td>\n",
       "      <td>True</td>\n",
       "      <td>True</td>\n",
       "      <td>True</td>\n",
       "      <td>True</td>\n",
       "      <td>True</td>\n",
       "      <td>True</td>\n",
       "      <td>True</td>\n",
       "      <td>...</td>\n",
       "      <td>True</td>\n",
       "      <td>True</td>\n",
       "      <td>True</td>\n",
       "      <td>True</td>\n",
       "      <td>True</td>\n",
       "      <td>True</td>\n",
       "      <td>True</td>\n",
       "      <td>True</td>\n",
       "      <td>True</td>\n",
       "      <td>True</td>\n",
       "    </tr>\n",
       "    <tr>\n",
       "      <th>4</th>\n",
       "      <td>True</td>\n",
       "      <td>True</td>\n",
       "      <td>True</td>\n",
       "      <td>True</td>\n",
       "      <td>True</td>\n",
       "      <td>True</td>\n",
       "      <td>True</td>\n",
       "      <td>True</td>\n",
       "      <td>True</td>\n",
       "      <td>True</td>\n",
       "      <td>...</td>\n",
       "      <td>True</td>\n",
       "      <td>True</td>\n",
       "      <td>True</td>\n",
       "      <td>True</td>\n",
       "      <td>True</td>\n",
       "      <td>True</td>\n",
       "      <td>True</td>\n",
       "      <td>True</td>\n",
       "      <td>True</td>\n",
       "      <td>True</td>\n",
       "    </tr>\n",
       "    <tr>\n",
       "      <th>...</th>\n",
       "      <td>...</td>\n",
       "      <td>...</td>\n",
       "      <td>...</td>\n",
       "      <td>...</td>\n",
       "      <td>...</td>\n",
       "      <td>...</td>\n",
       "      <td>...</td>\n",
       "      <td>...</td>\n",
       "      <td>...</td>\n",
       "      <td>...</td>\n",
       "      <td>...</td>\n",
       "      <td>...</td>\n",
       "      <td>...</td>\n",
       "      <td>...</td>\n",
       "      <td>...</td>\n",
       "      <td>...</td>\n",
       "      <td>...</td>\n",
       "      <td>...</td>\n",
       "      <td>...</td>\n",
       "      <td>...</td>\n",
       "      <td>...</td>\n",
       "    </tr>\n",
       "    <tr>\n",
       "      <th>21932</th>\n",
       "      <td>True</td>\n",
       "      <td>True</td>\n",
       "      <td>True</td>\n",
       "      <td>True</td>\n",
       "      <td>True</td>\n",
       "      <td>True</td>\n",
       "      <td>True</td>\n",
       "      <td>True</td>\n",
       "      <td>True</td>\n",
       "      <td>True</td>\n",
       "      <td>...</td>\n",
       "      <td>True</td>\n",
       "      <td>True</td>\n",
       "      <td>True</td>\n",
       "      <td>True</td>\n",
       "      <td>True</td>\n",
       "      <td>True</td>\n",
       "      <td>True</td>\n",
       "      <td>True</td>\n",
       "      <td>True</td>\n",
       "      <td>True</td>\n",
       "    </tr>\n",
       "    <tr>\n",
       "      <th>21933</th>\n",
       "      <td>True</td>\n",
       "      <td>True</td>\n",
       "      <td>True</td>\n",
       "      <td>True</td>\n",
       "      <td>True</td>\n",
       "      <td>True</td>\n",
       "      <td>True</td>\n",
       "      <td>True</td>\n",
       "      <td>True</td>\n",
       "      <td>True</td>\n",
       "      <td>...</td>\n",
       "      <td>True</td>\n",
       "      <td>True</td>\n",
       "      <td>True</td>\n",
       "      <td>True</td>\n",
       "      <td>True</td>\n",
       "      <td>True</td>\n",
       "      <td>True</td>\n",
       "      <td>True</td>\n",
       "      <td>True</td>\n",
       "      <td>True</td>\n",
       "    </tr>\n",
       "    <tr>\n",
       "      <th>21934</th>\n",
       "      <td>True</td>\n",
       "      <td>True</td>\n",
       "      <td>True</td>\n",
       "      <td>True</td>\n",
       "      <td>True</td>\n",
       "      <td>True</td>\n",
       "      <td>True</td>\n",
       "      <td>True</td>\n",
       "      <td>True</td>\n",
       "      <td>True</td>\n",
       "      <td>...</td>\n",
       "      <td>True</td>\n",
       "      <td>True</td>\n",
       "      <td>True</td>\n",
       "      <td>True</td>\n",
       "      <td>True</td>\n",
       "      <td>True</td>\n",
       "      <td>True</td>\n",
       "      <td>True</td>\n",
       "      <td>True</td>\n",
       "      <td>True</td>\n",
       "    </tr>\n",
       "    <tr>\n",
       "      <th>21935</th>\n",
       "      <td>True</td>\n",
       "      <td>True</td>\n",
       "      <td>True</td>\n",
       "      <td>True</td>\n",
       "      <td>True</td>\n",
       "      <td>True</td>\n",
       "      <td>True</td>\n",
       "      <td>True</td>\n",
       "      <td>True</td>\n",
       "      <td>True</td>\n",
       "      <td>...</td>\n",
       "      <td>True</td>\n",
       "      <td>True</td>\n",
       "      <td>True</td>\n",
       "      <td>True</td>\n",
       "      <td>True</td>\n",
       "      <td>True</td>\n",
       "      <td>True</td>\n",
       "      <td>True</td>\n",
       "      <td>True</td>\n",
       "      <td>True</td>\n",
       "    </tr>\n",
       "    <tr>\n",
       "      <th>21936</th>\n",
       "      <td>True</td>\n",
       "      <td>True</td>\n",
       "      <td>True</td>\n",
       "      <td>True</td>\n",
       "      <td>True</td>\n",
       "      <td>True</td>\n",
       "      <td>True</td>\n",
       "      <td>True</td>\n",
       "      <td>True</td>\n",
       "      <td>True</td>\n",
       "      <td>...</td>\n",
       "      <td>True</td>\n",
       "      <td>True</td>\n",
       "      <td>True</td>\n",
       "      <td>True</td>\n",
       "      <td>True</td>\n",
       "      <td>True</td>\n",
       "      <td>True</td>\n",
       "      <td>True</td>\n",
       "      <td>True</td>\n",
       "      <td>True</td>\n",
       "    </tr>\n",
       "  </tbody>\n",
       "</table>\n",
       "<p>21937 rows × 34 columns</p>\n",
       "</div>"
      ],
      "text/plain": [
       "       CO_MUNICIPIO_PROVA  NU_ANO  NU_INSCRICAO  CO_UF_PROVA  SG_UF_PROVA  \\\n",
       "0                    True    True          True         True         True   \n",
       "1                    True    True          True         True         True   \n",
       "2                    True    True          True         True         True   \n",
       "3                    True    True          True         True         True   \n",
       "4                    True    True          True         True         True   \n",
       "...                   ...     ...           ...          ...          ...   \n",
       "21932                True    True          True         True         True   \n",
       "21933                True    True          True         True         True   \n",
       "21934                True    True          True         True         True   \n",
       "21935                True    True          True         True         True   \n",
       "21936                True    True          True         True         True   \n",
       "\n",
       "       NO_MUNICIPIO_PROVA  TP_FAIXA_ETARIA  TP_SEXO  TP_ESTADO_CIVIL  \\\n",
       "0                    True             True     True             True   \n",
       "1                    True             True     True             True   \n",
       "2                    True             True     True             True   \n",
       "3                    True             True     True             True   \n",
       "4                    True             True     True             True   \n",
       "...                   ...              ...      ...              ...   \n",
       "21932                True             True     True             True   \n",
       "21933                True             True     True             True   \n",
       "21934                True             True     True             True   \n",
       "21935                True             True     True             True   \n",
       "21936                True             True     True             True   \n",
       "\n",
       "       TP_COR_RACA  ...  TP_LINGUA  Q001  Q002  Q003  Q004  Q005  Q006  Q023  \\\n",
       "0             True  ...       True  True  True  True  True  True  True  True   \n",
       "1             True  ...       True  True  True  True  True  True  True  True   \n",
       "2             True  ...       True  True  True  True  True  True  True  True   \n",
       "3             True  ...       True  True  True  True  True  True  True  True   \n",
       "4             True  ...       True  True  True  True  True  True  True  True   \n",
       "...            ...  ...        ...   ...   ...   ...   ...   ...   ...   ...   \n",
       "21932         True  ...       True  True  True  True  True  True  True  True   \n",
       "21933         True  ...       True  True  True  True  True  True  True  True   \n",
       "21934         True  ...       True  True  True  True  True  True  True  True   \n",
       "21935         True  ...       True  True  True  True  True  True  True  True   \n",
       "21936         True  ...       True  True  True  True  True  True  True  True   \n",
       "\n",
       "       Q024  Q025  \n",
       "0      True  True  \n",
       "1      True  True  \n",
       "2      True  True  \n",
       "3      True  True  \n",
       "4      True  True  \n",
       "...     ...   ...  \n",
       "21932  True  True  \n",
       "21933  True  True  \n",
       "21934  True  True  \n",
       "21935  True  True  \n",
       "21936  True  True  \n",
       "\n",
       "[21937 rows x 34 columns]"
      ]
     },
     "execution_count": 16,
     "metadata": {},
     "output_type": "execute_result"
    }
   ],
   "source": [
    "# Identifica os registros preenchidos com \"True (preenchido) e os missing com False (ausente)\"\n",
    "ENEM.notnull()"
   ]
  },
  {
   "cell_type": "code",
   "execution_count": 17,
   "metadata": {
    "id": "W3QW01EKvJ_G"
   },
   "outputs": [],
   "source": [
    "import numpy as np\n",
    "import io\n",
    "import requests\n",
    "import matplotlib.pyplot as plt\n",
    "import pandas as pd\n",
    "import gzip\n",
    "import seaborn as sns"
   ]
  },
  {
   "cell_type": "code",
   "execution_count": 26,
   "metadata": {},
   "outputs": [
    {
     "data": {
      "text/plain": [
       "Index(['CO_MUNICIPIO_PROVA', 'NU_ANO', 'NU_INSCRICAO', 'CO_UF_PROVA',\n",
       "       'SG_UF_PROVA', 'NO_MUNICIPIO_PROVA', 'TP_FAIXA_ETARIA', 'TP_SEXO',\n",
       "       'TP_ESTADO_CIVIL', 'TP_COR_RACA', 'TP_NACIONALIDADE', 'TP_ST_CONCLUSAO',\n",
       "       'TP_ANO_CONCLUIU', 'TP_ESCOLA', 'TP_ENSINO', 'TP_DEPENDENCIA_ADM_ESC',\n",
       "       'TP_LOCALIZACAO_ESC', 'TP_STATUS_REDACAO',\n",
       "       'NOTA_CN_CIENCIAS_DA_NATUREZA', 'NOTA_CH_CIENCIAS_hUMANAS',\n",
       "       'NOTA_LC_LINGUAGENS_E_CODIGOS', 'NOTA_MT_MATEMATICA', 'NOTA_REDACAO',\n",
       "       'NOTA_MEDIA_5_NOTAS', 'TP_LINGUA', 'Q001', 'Q002', 'Q003', 'Q004',\n",
       "       'Q005', 'Q006', 'Q023', 'Q024', 'Q025'],\n",
       "      dtype='object')"
      ]
     },
     "execution_count": 26,
     "metadata": {},
     "output_type": "execute_result"
    }
   ],
   "source": [
    "ENEM.columns"
   ]
  },
  {
   "cell_type": "code",
   "execution_count": 27,
   "metadata": {
    "id": "UjZ2JQBSvJ8v"
   },
   "outputs": [
    {
     "data": {
      "text/plain": [
       "<AxesSubplot:xlabel='TP_SEXO', ylabel='count'>"
      ]
     },
     "execution_count": 27,
     "metadata": {},
     "output_type": "execute_result"
    },
    {
     "data": {
      "image/png": "[encoded data removed]",
      "text/plain": [
       "<Figure size 432x288 with 1 Axes>"
      ]
     },
     "metadata": {
      "needs_background": "light"
     },
     "output_type": "display_data"
    }
   ],
   "source": [
    "sns.countplot(x='TP_SEXO', data=ENEM)"
   ]
  },
  {
   "cell_type": "code",
   "execution_count": 29,
   "metadata": {
    "id": "qdJBZL0TorAv"
   },
   "outputs": [
    {
     "data": {
      "text/plain": [
       "<AxesSubplot:xlabel='SG_UF_PROVA', ylabel='count'>"
      ]
     },
     "execution_count": 29,
     "metadata": {},
     "output_type": "execute_result"
    },
    {
     "data": {
      "image/png": "[encoded data removed]",
      "text/plain": [
       "<Figure size 432x288 with 1 Axes>"
      ]
     },
     "metadata": {
      "needs_background": "light"
     },
     "output_type": "display_data"
    }
   ],
   "source": [
    "sns.countplot(x='SG_UF_PROVA', data=ENEM)"
   ]
  },
  {
   "cell_type": "code",
   "execution_count": 30,
   "metadata": {
    "id": "7wt8So_Doq-p"
   },
   "outputs": [
    {
     "data": {
      "image/png": "[encoded data removed]",
      "text/plain": [
       "<Figure size 432x288 with 1 Axes>"
      ]
     },
     "metadata": {
      "needs_background": "light"
     },
     "output_type": "display_data"
    }
   ],
   "source": [
    "ax = sns.countplot(x=\"TP_SEXO\", hue=\"NU_ANO\", data=ENEM)"
   ]
  },
  {
   "cell_type": "code",
   "execution_count": 32,
   "metadata": {
    "id": "_DPs00Aloq8b"
   },
   "outputs": [
    {
     "data": {
      "text/plain": [
       "<seaborn.axisgrid.FacetGrid at 0x182f9e3ebe0>"
      ]
     },
     "execution_count": 32,
     "metadata": {},
     "output_type": "execute_result"
    },
    {
     "data": {
      "image/png": "[encoded data removed]",
      "text/plain": [
       "<Figure size 360x360 with 1 Axes>"
      ]
     },
     "metadata": {
      "needs_background": "light"
     },
     "output_type": "display_data"
    }
   ],
   "source": [
    "# Scatterplot arguments\n",
    "sns.lmplot(x='NOTA_CN_CIENCIAS_DA_NATUREZA', y='NOTA_MT_MATEMATICA', data=ENEM,\n",
    "           fit_reg=False) # No regression line"
   ]
  },
  {
   "cell_type": "code",
   "execution_count": 34,
   "metadata": {},
   "outputs": [
    {
     "data": {
      "text/plain": [
       "<seaborn.axisgrid.FacetGrid at 0x182f9e73fa0>"
      ]
     },
     "execution_count": 34,
     "metadata": {},
     "output_type": "execute_result"
    },
    {
     "data": {
      "image/png": "[encoded data removed]",
      "text/plain": [
       "<Figure size 485.625x360 with 1 Axes>"
      ]
     },
     "metadata": {
      "needs_background": "light"
     },
     "output_type": "display_data"
    }
   ],
   "source": [
    "# Scatterplot arguments\n",
    "sns.lmplot(x='NOTA_CN_CIENCIAS_DA_NATUREZA', y='NOTA_MT_MATEMATICA', data=ENEM,\n",
    "           fit_reg=False, # No regression line\n",
    "           hue='TP_FAIXA_ETARIA')   # Color by evolution stage"
   ]
  },
  {
   "cell_type": "code",
   "execution_count": 35,
   "metadata": {},
   "outputs": [
    {
     "data": {
      "text/plain": [
       "<seaborn.axisgrid.FacetGrid at 0x182faf820d0>"
      ]
     },
     "execution_count": 35,
     "metadata": {},
     "output_type": "execute_result"
    },
    {
     "data": {
      "image/png": "[encoded data removed]",
      "text/plain": [
       "<Figure size 360x360 with 1 Axes>"
      ]
     },
     "metadata": {
      "needs_background": "light"
     },
     "output_type": "display_data"
    }
   ],
   "source": [
    "sns.lmplot(x='NOTA_CN_CIENCIAS_DA_NATUREZA', y='NOTA_MT_MATEMATICA', data=ENEM)"
   ]
  },
  {
   "cell_type": "code",
   "execution_count": 37,
   "metadata": {},
   "outputs": [
    {
     "data": {
      "text/plain": [
       "<AxesSubplot:>"
      ]
     },
     "execution_count": 37,
     "metadata": {},
     "output_type": "execute_result"
    },
    {
     "data": {
      "image/png": "[encoded data removed]",
      "text/plain": [
       "<Figure size 432x288 with 1 Axes>"
      ]
     },
     "metadata": {
      "needs_background": "light"
     },
     "output_type": "display_data"
    }
   ],
   "source": [
    "ENEM_NOTAS = ENEM.drop(['TP_FAIXA_ETARIA', 'NU_INSCRICAO', 'NU_ANO'], axis=1)\n",
    "sns.boxplot(data=ENEM_NOTAS)"
   ]
  },
  {
   "cell_type": "code",
   "execution_count": 38,
   "metadata": {},
   "outputs": [
    {
     "data": {
      "text/plain": [
       "2020    21937\n",
       "Name: NU_ANO, dtype: int64"
      ]
     },
     "execution_count": 38,
     "metadata": {},
     "output_type": "execute_result"
    }
   ],
   "source": [
    "ENEM['NU_ANO'].value_counts()"
   ]
  },
  {
   "cell_type": "code",
   "execution_count": null,
   "metadata": {},
   "outputs": [],
   "source": []
  },
  {
   "cell_type": "code",
   "execution_count": null,
   "metadata": {},
   "outputs": [],
   "source": []
  }
 ],
 "metadata": {
  "colab": {
   "authorship_tag": "ABX9TyPWoYrVuCKC4gtXcKC2HZ4t",
   "collapsed_sections": [
    "XrxnotkOffp6",
    "f_-ToObJudB7",
    "v9kWt3AvkRvp",
    "6U8ou0VTJdtq",
    "z3oXwYeIqxoY",
    "vKViYve7_9OB",
    "KSkxZiZbuXO2",
    "LbHRnhBCsUan",
    "hnGeLeHEXRf8",
    "Jb6xtsu3XN4x",
    "Ivi415sofkFg"
   ],
   "name": "Aula - Python.ipynb",
   "provenance": []
  },
  "kernelspec": {
   "display_name": "Python 3",
   "language": "python",
   "name": "python3"
  },
  "language_info": {
   "codemirror_mode": {
    "name": "ipython",
    "version": 3
   },
   "file_extension": ".py",
   "mimetype": "text/x-python",
   "name": "python",
   "nbconvert_exporter": "python",
   "pygments_lexer": "ipython3",
   "version": "3.9.7"
  }
 },
 "nbformat": 4,
 "nbformat_minor": 1
}
