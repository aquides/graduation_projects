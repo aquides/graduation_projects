{
 "cells": [
  {
   "cell_type": "markdown",
   "metadata": {},
   "source": [
    "# Exercícios de Revisão P2\n",
    "\n",
    "Escreva um programa em Python que:"
   ]
  },
  {
   "cell_type": "markdown",
   "metadata": {},
   "source": [
    "1. Some três números quaisquer:"
   ]
  },
  {
   "cell_type": "code",
   "execution_count": 5,
   "metadata": {},
   "outputs": [
    {
     "name": "stdout",
     "output_type": "stream",
     "text": [
      "A soma dos números digitados é 6.0\n"
     ]
    }
   ],
   "source": [
    "# Algoritmo para somar três números digitados pelo usuário\n",
    "\n",
    "n1 = float(input('Digite um número qualquer:'))\n",
    "n2 = float(input('Digite outro número qualquer: '))\n",
    "n3 = float(input('Digite mais um número qualquer: '))\n",
    "\n",
    "soma = n1+n2+n3\n",
    "\n",
    "print(f'A soma dos números digitados é {soma}')"
   ]
  },
  {
   "cell_type": "markdown",
   "metadata": {},
   "source": [
    "2. Calcule a média aritmética de três números:"
   ]
  },
  {
   "cell_type": "code",
   "execution_count": 6,
   "metadata": {},
   "outputs": [
    {
     "name": "stdout",
     "output_type": "stream",
     "text": [
      "A média aritmética dos números digitados é 2.0\n"
     ]
    }
   ],
   "source": [
    "# Algoritmo para somar três números digitados pelo usuário e dar a média aritmética\n",
    "\n",
    "n1 = float(input('Digite um número qualquer:'))\n",
    "n2 = float(input('Digite outro número qualquer: '))\n",
    "n3 = float(input('Digite mais um número qualquer: '))\n",
    "\n",
    "soma = n1+n2+n3\n",
    "media = soma / 3\n",
    "\n",
    "print(f'A média aritmética dos números digitados é {media}')"
   ]
  },
  {
   "cell_type": "markdown",
   "metadata": {},
   "source": [
    "3. Leia quatro números informados pelo usuário e depois imprima a média ponderada, sabendo que os pesos são respectivamente 1, 2, 3 e 4:"
   ]
  },
  {
   "cell_type": "code",
   "execution_count": 7,
   "metadata": {},
   "outputs": [
    {
     "name": "stdout",
     "output_type": "stream",
     "text": [
      "A média ponderada dos números digitados é: 6.4\n"
     ]
    }
   ],
   "source": [
    "# Algoritmo para somar três números digitados pelo usuário e dar a média ponderada\n",
    "\n",
    "n1 = float(input('Digite um número qualquer:'))\n",
    "n2 = float(input('Digite outro número qualquer: '))\n",
    "n3 = float(input('Digite mais um número qualquer: '))\n",
    "n4 = float(input('Digite o último número qualquer: '))\n",
    "\n",
    "soma = n1+n2+n3+n4\n",
    "media_ponderada = (n1 * 1) + (n2 * 1) + (n3 * 1) + (n4 * 1) / soma\n",
    "\n",
    "print(f'A média ponderada dos números digitados é: {media_ponderada}')"
   ]
  },
  {
   "cell_type": "markdown",
   "metadata": {},
   "source": [
    "4. Leia dois números informados pelo usuário e, conforme o valor deles, exiba uma das seguintes mensagens: \"O primeiro número informado é o maior\"; \"O segundo número informado é o maior\"; \"Ambos os números são iguais\"."
   ]
  },
  {
   "cell_type": "code",
   "execution_count": 10,
   "metadata": {},
   "outputs": [
    {
     "name": "stdout",
     "output_type": "stream",
     "text": [
      "Ambos os números são iguais!\n"
     ]
    }
   ],
   "source": [
    "# Algoritmo\n",
    "\n",
    "n1 = float(input('Digite um número qualquer:'))\n",
    "n2 = float(input('Digite outro número qualquer: '))\n",
    "\n",
    "if n1 > n2:\n",
    "    print('O primeiro número é o maior!')\n",
    "elif n2 > n1:\n",
    "    print('O segundo número é o maior!')\n",
    "else:\n",
    "    print('Ambos os números são iguais!')"
   ]
  },
  {
   "cell_type": "markdown",
   "metadata": {},
   "source": [
    "5. Leia a base e altura de um triângulo e, em seguida, calcule a sua área.     \n",
    "Área = (Base * Altura) / 2"
   ]
  },
  {
   "cell_type": "code",
   "execution_count": 12,
   "metadata": {},
   "outputs": [
    {
     "name": "stdout",
     "output_type": "stream",
     "text": [
      "A área do triângulo é 3.0\n"
     ]
    }
   ],
   "source": [
    "base = float(input('Digite a base do triângulo:'))\n",
    "altura = float(input('Digite a altura do triângulo:'))\n",
    "\n",
    "area = base * altura / 2\n",
    "\n",
    "print(f'A área do triângulo é {area}')"
   ]
  },
  {
   "cell_type": "markdown",
   "metadata": {},
   "source": [
    "6. O preço de um automóvel é calculado pela soma do preço de fábrica com o preço dos impostos (43% do preço de fábrica) e a porcentagem do revendedor (15% do preço de fábrica). \n",
    "\n",
    "    Escreva um programa que leia o nome do automóvel e o preço de fábrica; que escreva o nome do automóvel e calcule o preço final. "
   ]
  },
  {
   "cell_type": "code",
   "execution_count": 18,
   "metadata": {},
   "outputs": [
    {
     "name": "stdout",
     "output_type": "stream",
     "text": [
      "O valor dos impostos é: R$ 18490.0\n",
      "O valor do revendedor é: R$ 6450.0\n",
      "O valor final do automóvel FORD KA é: R$ 67940.0\n"
     ]
    }
   ],
   "source": [
    "nome_automovel = input('Digite o nome do modelo do automóvel:')\n",
    "preco_fabrica = float(input('Digite o valor de fábrica:'))\n",
    "\n",
    "impostos = (preco_fabrica * 0.43)\n",
    "revendedor = (preco_fabrica * 0.15)\n",
    "valor_final = (preco_fabrica + impostos + revendedor)\n",
    "\n",
    "print(f'O valor dos impostos é: R$ {impostos}')\n",
    "print(f'O valor do revendedor é: R$ {revendedor}')\n",
    "print(f'O valor final do automóvel {nome_automovel} é: R$ {valor_final}')"
   ]
  },
  {
   "cell_type": "markdown",
   "metadata": {},
   "source": [
    "7. Dado uma série de 15 valores reais, calcule e escreva a média aritmética destes valores. Entretanto, se a média obtida for maior que 9, atribua 10 para a média."
   ]
  },
  {
   "cell_type": "code",
   "execution_count": 2,
   "metadata": {},
   "outputs": [
    {
     "name": "stdout",
     "output_type": "stream",
     "text": [
      "A media aritmetica e 152.6\n"
     ]
    }
   ],
   "source": [
    "numeros = []\n",
    "\n",
    "contador = 0\n",
    "\n",
    "while contador<15:\n",
    "    novo_numero = float( input( 'Digite um numero real: ' ) )\n",
    "    numeros.append( novo_numero )\n",
    "    contador += 1\n",
    "\n",
    "media = sum(numeros)/int(contador)\n",
    "\n",
    "print(f'A media aritmetica e {media}' )"
   ]
  },
  {
   "cell_type": "markdown",
   "metadata": {},
   "source": [
    "8. Leia três números inteiros e mostre o menor deles:"
   ]
  },
  {
   "cell_type": "code",
   "execution_count": null,
   "metadata": {},
   "outputs": [],
   "source": [
    "n1 = int( input( 'Digite um numero inteiro:' ) )\n",
    "n2 = int( input( 'Digite outro numero inteiro: ' ) )\n",
    "n3 = int( input( 'Digite mais um numero inteiro: ' ) )\n",
    "\n",
    "if (n1 < n2) & (n1 < n3):\n",
    "    print( f'O menor numero e o {n1}' )\n",
    "elif (n2 < n1) & (n2 < n3):\n",
    "    print( f'O menor numero e o {n2}' )\n",
    "else:\n",
    "    print( f'O menor numero e o {n3}')"
   ]
  },
  {
   "cell_type": "markdown",
   "metadata": {},
   "source": [
    "9. Dado um conjunto de 'n' empregados de uma empresa, com cada registro de empregado contendo um valor em real do salário bruto do empregado, faça um algoritmo que calcule o valor total bruto da folha de pagamento desta empresa:"
   ]
  },
  {
   "cell_type": "code",
   "execution_count": 3,
   "metadata": {},
   "outputs": [
    {
     "name": "stdout",
     "output_type": "stream",
     "text": [
      "A soma dos salarios brutos na empresa e[ 3600.0\n"
     ]
    }
   ],
   "source": [
    "funcionarios = int( input( 'Digite a quantidade de empregados: ' ) )\n",
    "\n",
    "contador = 0 \n",
    "soma = 0 \n",
    "\n",
    "while contador < funcionarios:\n",
    "    contador += 1\n",
    "    salario = float( input( 'Digite o salario bruto do funcionario {contador} em reais: ' ) )\n",
    "    soma += salario\n",
    "\n",
    "print( f'A soma dos salarios brutos na empresa e[ {soma}')"
   ]
  },
  {
   "cell_type": "markdown",
   "metadata": {},
   "source": [
    "10. Dado um conjunto de 'n' empregados de uma empresa, com cada registro de empregado contendo um valor em real do salário bruto do empregado, faça um algoritmo que calcule a média dos valores maiores ou iguais a R$ 1.045,00:"
   ]
  },
  {
   "cell_type": "code",
   "execution_count": null,
   "metadata": {},
   "outputs": [],
   "source": []
  },
  {
   "cell_type": "markdown",
   "metadata": {},
   "source": [
    "11. Faça um algoritmo que transforme a temperatura fornecida em Celsius para a correspondente em Fahrenheit:"
   ]
  },
  {
   "cell_type": "code",
   "execution_count": null,
   "metadata": {},
   "outputs": [],
   "source": []
  },
  {
   "cell_type": "markdown",
   "metadata": {},
   "source": [
    "12. Faça um algoritmo que leia dois valores 'x' e 'y'. O algoritmo deve trocar os valores lidos, de forma que, ao final, 'x' contenha o valor que foi inicialmente atribuído em 'y', e 'y' contenha o valor que foi inicialmente atribuído a 'x'. Imprima os valores de 'x' e 'y' logo após a leitura e depois imprima novamente após a troca."
   ]
  },
  {
   "cell_type": "code",
   "execution_count": 5,
   "metadata": {},
   "outputs": [
    {
     "name": "stdout",
     "output_type": "stream",
     "text": [
      "X vale 4 e y 3 \n"
     ]
    }
   ],
   "source": [
    "x = int( input( 'Digite o valor de X:' ) )\n",
    "y = int( input( \"Digite o valor de y\" ) )\n",
    "\n",
    "z = x\n",
    "x = y\n",
    "y = z\n",
    "\n",
    "print( 'X vale {} e y {} '.format( x, y ) )"
   ]
  },
  {
   "cell_type": "markdown",
   "metadata": {},
   "source": [
    "13. Faça um algoritmo que lê o nome de um produto, a quantidade comprada, o valor unitário e o percentual de desconto a ser aplicado. Imprima o nome do produto e o valor total da venda."
   ]
  },
  {
   "cell_type": "code",
   "execution_count": null,
   "metadata": {},
   "outputs": [],
   "source": []
  },
  {
   "cell_type": "markdown",
   "metadata": {},
   "source": [
    "14. Um círculo de raio 2 é colocado dentro de um retângulo de lados 5 e 7. Faça um programa que informe o tamanho da área do retângulo que não está sendo ocupada pelo círculo.\n",
    "    Área da circunferência = pi * r^2"
   ]
  },
  {
   "cell_type": "code",
   "execution_count": null,
   "metadata": {},
   "outputs": [],
   "source": []
  },
  {
   "cell_type": "markdown",
   "metadata": {},
   "source": [
    "15. Faça um programa que lê um valor em reais e calcule o valor equivalente em dólar. O usuário deve informar o valor em reais e a cotação do dólar."
   ]
  },
  {
   "cell_type": "code",
   "execution_count": null,
   "metadata": {},
   "outputs": [],
   "source": []
  },
  {
   "cell_type": "markdown",
   "metadata": {},
   "source": [
    "16. Escreva uma expressão lógica que seja verdadeira no caso do valor lido estar compreendido entre 10 e 50. O programa deve imprimir na tela o resultado da expressão lógica (True ou False):"
   ]
  },
  {
   "cell_type": "code",
   "execution_count": null,
   "metadata": {},
   "outputs": [],
   "source": []
  },
  {
   "cell_type": "markdown",
   "metadata": {},
   "source": [
    "17. Escreva um programa que imprime a quantidade de números pares entre 100 e 200, incluindo-os."
   ]
  },
  {
   "cell_type": "code",
   "execution_count": 14,
   "metadata": {},
   "outputs": [
    {
     "name": "stdout",
     "output_type": "stream",
     "text": [
      "100 102 104 106 108 110 112 114 116 118 120 122 124 126 128 130 132 134 136 138 140 142 144 146 148 150 152 154 156 158 160 162 164 166 168 170 172 174 176 178 180 182 184 186 188 190 192 194 196 198 200 Total e igual a 51\n"
     ]
    }
   ],
   "source": [
    "contador = 0\n",
    "for par in range(100, 201):\n",
    "    if par % 2==0:\n",
    "        contador += 1\n",
    "        print(par, end=' ')\n",
    "        \n",
    "print( 'Total e igual a {}'.format(contador))\n",
    "        "
   ]
  },
  {
   "cell_type": "markdown",
   "metadata": {},
   "source": [
    "18. Desenvolva um algoritmo para contar a quantidade de números pares entre dois números quaisquer."
   ]
  },
  {
   "cell_type": "code",
   "execution_count": null,
   "metadata": {},
   "outputs": [],
   "source": []
  },
  {
   "cell_type": "markdown",
   "metadata": {},
   "source": [
    "19. Desenvolva um algoritmo que imprime a soma de todos os números pares entre dois números quaisquer, incluindo-os."
   ]
  },
  {
   "cell_type": "code",
   "execution_count": 16,
   "metadata": {},
   "outputs": [
    {
     "name": "stdout",
     "output_type": "stream",
     "text": [
      "7650\n"
     ]
    }
   ],
   "source": [
    "n1 = int( input( 'Numero 1 ' ) )\n",
    "n2 = int( input ( 'Numero 2 ' ) )\n",
    "soma = 0\n",
    "\n",
    "for par in range(n1, n2):\n",
    "    if par % 2 == 0:\n",
    "        soma += par\n",
    "\n",
    "print(soma)"
   ]
  },
  {
   "cell_type": "markdown",
   "metadata": {},
   "source": [
    "20. Imprima o fatorial de um número 'n'."
   ]
  },
  {
   "cell_type": "code",
   "execution_count": 24,
   "metadata": {},
   "outputs": [
    {
     "name": "stdout",
     "output_type": "stream",
     "text": [
      "479001600\n"
     ]
    }
   ],
   "source": [
    "n1 = int( input( 'Insira O FATORIAL ' ) )\n",
    "contador = n1\n",
    "fatorial = 1 \n",
    "\n",
    "while contador > 0:\n",
    "    fatorial *= contador\n",
    "    contador -= 1\n",
    "\n",
    "print(fatorial)"
   ]
  },
  {
   "cell_type": "code",
   "execution_count": null,
   "metadata": {},
   "outputs": [],
   "source": [
    "n1 = int( input( 'Digite o valor que sera calculado a fatorial: ' ) )\n",
    "\n",
    "contador = n1\n",
    "fatorial = 1\n",
    "\n",
    "print( 'Calculando {}! = '.format( n1 ), end='' )\n",
    "\n",
    "while contador  > 0:\n",
    "    print( '{}'.format(contador), end='')\n",
    "    print( ' x ' if contador > 1 else ' = ', end='' )\n",
    "    fatorial *= contador\n",
    "    contador -= 1\n",
    "print( '{}'.format(fatorial))"
   ]
  },
  {
   "cell_type": "markdown",
   "metadata": {},
   "source": [
    "21. Construa um algoritmo que imprima na tela os 'n' primeiros elementos da sequência de Fibonacci, onde 'n' é informado pelo usuário."
   ]
  },
  {
   "cell_type": "code",
   "execution_count": 27,
   "metadata": {},
   "outputs": [
    {
     "name": "stdout",
     "output_type": "stream",
     "text": [
      "1 1 2 3 5 8 13 21 34 55 89 144 "
     ]
    }
   ],
   "source": [
    "elementos = int( input( 'Digite o numero ' ) )\n",
    "\n",
    "elementoanterior1 = 1\n",
    "elementoanterior2 = 1\n",
    "print( elementoanterior1, elementoanterior2, end=' ' )\n",
    "contador = 3\n",
    "\n",
    "while contador<= elementos:\n",
    "    proximo = elementoanterior1 + elementoanterior2\n",
    "    print( proximo, end=' ' )\n",
    "\n",
    "    elementoanterior2 = elementoanterior1\n",
    "    elementoanterior1 = proximo\n",
    "    contador += 1\n"
   ]
  },
  {
   "cell_type": "markdown",
   "metadata": {},
   "source": [
    "22. Crie um algoritmo que permita que um usuário informe até 10 números reais positivos. Após isso, o algoritmo deve informar a média e o desvio padrão amostral dos valores informados."
   ]
  },
  {
   "cell_type": "code",
   "execution_count": 29,
   "metadata": {},
   "outputs": [
    {
     "name": "stdout",
     "output_type": "stream",
     "text": [
      "A lista de números digitados é: [12.0, 12.0, 234.0, 4.0, 65.0, 34.0, 34.0, 23.0, 43.0, 43.0]\n",
      "A quantidade de números na lista é: 10\n",
      "A soma de todos os números da lista é: 504.0\n",
      "\n",
      "A média aritmética da lista é: 50.4\n",
      "O desvio padrão da lista é: 63.57861275617769\n"
     ]
    }
   ],
   "source": [
    "list = []\n",
    "contador = 0\n",
    "for contador in range(0, 10):\n",
    "    numeros = float( input( 'Digite nuemro real positivo: ' ) )\n",
    "    list.append(numeros)\n",
    "\n",
    "media = sum(list) / len(list)\n",
    "\n",
    "import numpy as np\n",
    "desvio = np.std(list)\n",
    "\n",
    "print(f'A lista de números digitados é: {list}')\n",
    "print(f'A quantidade de números na lista é: {len(list)}')\n",
    "print(f'A soma de todos os números da lista é: {sum(list)}')\n",
    "print()\n",
    "print(f'A média aritmética da lista é: {media}')\n",
    "print(f'O desvio padrão da lista é: {desvio}')"
   ]
  },
  {
   "cell_type": "markdown",
   "metadata": {},
   "source": [
    "23. Desenvolva um algoritmo que efetue a soma de todos os números ímpares que são múltiplos de três e que se encontram no conjunto dos números de 1 a 500."
   ]
  },
  {
   "cell_type": "code",
   "execution_count": 36,
   "metadata": {},
   "outputs": [
    {
     "name": "stdout",
     "output_type": "stream",
     "text": [
      "3 6 9 12 15 18 21 24 27 30 33 36 39 42 45 48 51 54 57 60 63 66 69 72 75 78 81 84 87 90 93 96 99 102 105 108 111 114 117 120 123 126 129 132 135 138 141 144 147 150 153 156 159 162 165 168 171 174 177 180 183 186 189 192 195 198 201 204 207 210 213 216 219 222 225 228 231 234 237 240 243 246 249 252 255 258 261 264 267 270 273 276 279 282 285 288 291 294 297 300 303 306 309 312 315 318 321 324 327 330 333 336 339 342 345 348 351 354 357 360 363 366 369 372 375 378 381 384 387 390 393 396 399 402 405 408 411 414 417 420 423 426 429 432 435 438 441 444 447 450 453 456 459 462 465 468 471 474 477 480 483 486 489 492 495 498 41583\n"
     ]
    }
   ],
   "source": [
    "soma = 0 \n",
    "\n",
    "for impar in range(1, 501):\n",
    "    if impar % 3 == 0:\n",
    "        print( impar, end=' ' )\n",
    "        soma += impar\n",
    "\n",
    "print(soma)"
   ]
  },
  {
   "cell_type": "markdown",
   "metadata": {},
   "source": [
    "24. Faça um algoritmo estruturado que leia uma quantidade não determinada de números positivos. Calcule a quantidade de números pares e ímpares, a média dos valores pares e a média geral dos números lidos. O número que encerrará a leitura será zero."
   ]
  },
  {
   "cell_type": "code",
   "execution_count": 10,
   "metadata": {},
   "outputs": [
    {
     "name": "stdout",
     "output_type": "stream",
     "text": [
      "A quantidade de pares digitados é: 2\n",
      "A quantidade de ímpares digitados é: 1\n",
      "A média de pares é: 19.5\n",
      "A média geral é: 16.0\n"
     ]
    }
   ],
   "source": [
    "numero = int(0)\n",
    "par = int(0)\n",
    "impar = int(0)\n",
    "somapar = int(0)\n",
    "somaimpar = int(0)\n",
    "mediapar = int(0)\n",
    "mediaGeral = int(0)\n",
    "\n",
    "while numero >=0:\n",
    "    numero = int( input( ' Qual o numero mane?' ) )\n",
    "    if numero <= 0:\n",
    "        break\n",
    "    if numero % 2 == 0 :\n",
    "        par += 1\n",
    "    else:\n",
    "        impar += 1\n",
    "        somaimpar += numero\n",
    "\n",
    "    somapar += numero\n",
    "\n",
    "\n",
    "\n",
    "print(f'A quantidade de pares digitados é: {par}')\n",
    "print(f'A quantidade de ímpares digitados é: {impar}')\n",
    "\n",
    "if(somapar != 0 ):\n",
    "    mediapar = (somapar / (par) )\n",
    "    mediaGeral = (( somapar+somaimpar)/(par+impar))\n",
    "print(f'A média de pares é: {mediapar}')\n",
    "print(f'A média geral é: {mediaGeral}')\n"
   ]
  },
  {
   "cell_type": "markdown",
   "metadata": {},
   "source": [
    "25. Escreva um algoritmo que leia um valor inicial 'A' e imprima a sequência de valores do cálculo de 'A!' e o seu resultado."
   ]
  },
  {
   "cell_type": "code",
   "execution_count": null,
   "metadata": {},
   "outputs": [],
   "source": []
  }
 ],
 "metadata": {
  "kernelspec": {
   "display_name": "Python 3.8.10 64-bit",
   "language": "python",
   "name": "python3"
  },
  "language_info": {
   "codemirror_mode": {
    "name": "ipython",
    "version": 3
   },
   "file_extension": ".py",
   "mimetype": "text/x-python",
   "name": "python",
   "nbconvert_exporter": "python",
   "pygments_lexer": "ipython3",
   "version": "3.8.10"
  },
  "orig_nbformat": 4,
  "vscode": {
   "interpreter": {
    "hash": "916dbcbb3f70747c44a77c7bcd40155683ae19c65e1c03b4aa3499c5328201f1"
   }
  }
 },
 "nbformat": 4,
 "nbformat_minor": 2
}
