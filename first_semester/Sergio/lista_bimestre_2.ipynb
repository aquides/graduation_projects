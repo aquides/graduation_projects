{
 "cells": [
  {
   "cell_type": "markdown",
   "metadata": {},
   "source": [
    "# PRIMEIRA LISTA DE EXERCICIOS, PYTHON"
   ]
  },
  {
   "cell_type": "markdown",
   "metadata": {},
   "source": [
    "## 1. Faça um programa Python que calcule a soma de 3 números"
   ]
  },
  {
   "cell_type": "code",
   "execution_count": 6,
   "metadata": {},
   "outputs": [
    {
     "name": "stdout",
     "output_type": "stream",
     "text": [
      "A soma entre 3, 56 e 7 da o total de 66\n"
     ]
    }
   ],
   "source": [
    "n1 = int(input( 'Qual o primeiro valor: ' ))\n",
    "n2 = int(input( 'Qual o segundo valor: ' ))\n",
    "n3 = int(input( 'Qual o terceiro valor: ' ))\n",
    "soma = n1 + n2 + n3 \n",
    "print( 'A soma entre {}, {} e {} da o total de {}'.format( n1, n2, n3, soma ) ) "
   ]
  },
  {
   "cell_type": "markdown",
   "metadata": {},
   "source": [
    "## 2. Faça um programa Python que calcule a média aritmética de 5 números"
   ]
  },
  {
   "cell_type": "code",
   "execution_count": 12,
   "metadata": {},
   "outputs": [
    {
     "name": "stdout",
     "output_type": "stream",
     "text": [
      "A media aritmetica dos valores 2.0, 2.0, 2.0, 2.0 e 2.0 e: 2.0\n"
     ]
    }
   ],
   "source": [
    "n1 = float(input( 'Qual o primeiro valor? ' ))\n",
    "n2 = float(input( 'Qual o segundo valor? ' ))\n",
    "n3 = float(input( 'Qual o terceiro valor? ' ))\n",
    "n4 = float(input( 'Qual o quarto valor? ' ))\n",
    "n5 = float(input( 'Qual o quinto valor? ' ))\n",
    "\n",
    "media = ( n1 + n2 + n3 + n4 + n5 )//5\n",
    "\n",
    "print( 'A media aritmetica dos valores {}, {}, {}, {} e {} e: {}'.format( n1, n2, n3, n4, n5, media ) )"
   ]
  },
  {
   "cell_type": "markdown",
   "metadata": {},
   "source": [
    "## 3. Faça um programa Python que leia quatro números informados pelo usuário e que depois imprima a média ponderada, sabendo-se que os pesos são respectivamente: 1, 2, 3 e 4."
   ]
  },
  {
   "cell_type": "code",
   "execution_count": 16,
   "metadata": {},
   "outputs": [
    {
     "name": "stdout",
     "output_type": "stream",
     "text": [
      "A media ponderada dos valores 23.0, 5.0, 6.0 e 87.0 e: 39.0 \n"
     ]
    }
   ],
   "source": [
    "n1 = float( input( 'Qual o primeiro valor: ' ) )\n",
    "n2 = float( input( 'Qual o segundo valor? ' ) )\n",
    "n3 = float( input( 'Qual o terceiro valor? ' ) )\n",
    "n4 = float( input( 'Qual o quarto valor? ' ) ) \n",
    "\n",
    "ponderada = ( 1*( n1 ) + 2*( n2 ) + 3*( n3 ) + 4*( n4 ) )//10\n",
    "\n",
    "print( 'A media ponderada dos valores {}, {}, {} e {} e: {} '.format( n1, n2, n3, n4, ponderada))"
   ]
  },
  {
   "cell_type": "markdown",
   "metadata": {},
   "source": [
    "## 4. Escreva um programa Python que leia dois números fornecidos pelo usuário e, conforme o valor deles, exiba uma das seguintes mensagens: “O primeiro número informado é o maior”, “O segundo número é o maior” ou “Ambos os números são iguais”."
   ]
  },
  {
   "cell_type": "code",
   "execution_count": 20,
   "metadata": {},
   "outputs": [
    {
     "name": "stdout",
     "output_type": "stream",
     "text": [
      "Os valores  2 e 2 sao iguais \n"
     ]
    }
   ],
   "source": [
    "n1 = int( input( 'Qual o primeiro valor? ' ) )\n",
    "n2 = int( input( 'Qual o segundo valor? ' ) )\n",
    "\n",
    "if n1 > n2:\n",
    "    print( 'O valor {} e maior que o valor {} '.format( n1, n2 ) )\n",
    "if n2>n1:\n",
    "    print( 'O valor {} e maior que {} '.format( n2, n1 ) )\n",
    "else:\n",
    "    print( 'Os valores {} e {} sao iguais '.format( n1, n2 ))"
   ]
  },
  {
   "cell_type": "markdown",
   "metadata": {},
   "source": [
    "## 5. Faça um programa Python para ler a base e a altura de um triângulo. Em seguida, escreva a sua área. Área = (Base * Altura )/2"
   ]
  },
  {
   "cell_type": "code",
   "execution_count": 21,
   "metadata": {},
   "outputs": [
    {
     "name": "stdout",
     "output_type": "stream",
     "text": [
      "A area do triangulo e 10.0 \n"
     ]
    }
   ],
   "source": [
    "base = float( input( 'Insira a medida da base do triangulo: ' ) )\n",
    "altura = float( input( 'Insira a altura do triangulo: ' ) )\n",
    "\n",
    "area = (base*altura)//2\n",
    "\n",
    "print( 'A area do triangulo e {} '.format( area ) )"
   ]
  },
  {
   "cell_type": "markdown",
   "metadata": {},
   "source": [
    "## 6. O preço de um automóvel é calculado pela soma do preço de fábrica com o preço dos impostos (43% do preço de fábrica) e a percentagem do revendedor (15% do preço de fábrica). Faça um programa Python que leia o nome do automóvel e o preço de fábrica e escreva o nome do automóvel e o preço final."
   ]
  },
  {
   "cell_type": "code",
   "execution_count": 22,
   "metadata": {},
   "outputs": [
    {
     "name": "stdout",
     "output_type": "stream",
     "text": [
      "O valor do veiculo hb20 e 47400.0 \n"
     ]
    }
   ],
   "source": [
    "nome = input( 'Insira o nome do veiculo: ' )\n",
    "fabrica = float( input( 'Inisra o preco de fabrica do veiculo: ' ) )\n",
    "\n",
    "total = fabrica*1.58\n",
    "\n",
    "print( 'O valor do veiculo {} e {} '.format( nome, total))"
   ]
  },
  {
   "cell_type": "markdown",
   "metadata": {},
   "source": [
    "## 7. Dado uma série de 15 valores reais, faça um programa Python que calcule e escreva a média aritmética destes valores, entretanto se a média obtida for maior que 9 deverá ser atribuída 10 para a média."
   ]
  },
  {
   "cell_type": "code",
   "execution_count": 26,
   "metadata": {},
   "outputs": [
    {
     "name": "stdout",
     "output_type": "stream",
     "text": [
      "A media e 9.0 \n"
     ]
    }
   ],
   "source": [
    "n1 = float( input( 'Qual o primeiro valor: ' ) )\n",
    "n2 = float( input( 'Qual o segundo valor: ' ) )\n",
    "n3 = float( input( 'Qual o terceiro valor: ' ) )\n",
    "n4 = float( input( 'Qual o quarto valor: ' ) )\n",
    "n5 = float( input( 'Qual o quinto valor: ' ) )\n",
    "n6 = float( input( 'Qual o sexto valor: ' ) )\n",
    "n7 = float( input( 'Qual o setimo valor: ' ) )\n",
    "n8 = float( input( 'Qual o oitavo valor: ' ) )\n",
    "n9 = float( input( 'Qual o nono valor: ' ) )\n",
    "n10 = float( input( 'Qual o decimo valor: ' ) )\n",
    "n11 = float( input( 'Qual o decimo primeiro valor: ' ) )\n",
    "n12 = float( input( 'Qual o decimo segundo valor: ' ) )\n",
    "n13 = float( input( 'Qual o decimo terceiro valor: ' ) )\n",
    "n14 = float( input( 'Qual o decimo quarto valor: ' ) )\n",
    "n15 = float( input( 'Qual o decimo quinto valor: ' ) )\n",
    "\n",
    "media = ( n1 + n2 + n3 + n4 + n5 + n6 + n7 + n8 + n9 + n10 + n11 + n12 + n13 + n14 + n15 )//15\n",
    "\n",
    "if media > 9:\n",
    "    print( 'A media e 10' )\n",
    "else:\n",
    "    print( 'A media e {} '.format( media ) )\n"
   ]
  },
  {
   "cell_type": "markdown",
   "metadata": {},
   "source": [
    "## 8. Faça um programa Python que leia 3 números inteiros e mostre o menor deles."
   ]
  },
  {
   "cell_type": "code",
   "execution_count": 27,
   "metadata": {},
   "outputs": [
    {
     "name": "stdout",
     "output_type": "stream",
     "text": [
      "Os valores 7 e o maior\n"
     ]
    }
   ],
   "source": [
    "n1 = int( input( 'Qual o primeiro valor? ' ) )\n",
    "n2 = int( input( 'Qual o segundo valor? ' ) )\n",
    "n3 = int( input( 'Qual o terceiro valor? ' ) )\n",
    "\n",
    "\n",
    "if n1 > n2> n3:\n",
    "    print( 'O valor {} e o maior  '.format( n1 ) )\n",
    "if n1 > n3> n2:\n",
    "    print( 'O valor {} e o maior  '.format( n1 ) )\n",
    "\n",
    "if n2>n1>n3:\n",
    "    print( 'O valor {} e o maior'.format( n2 ) )\n",
    "if n2>n3>n1:\n",
    "    print( 'O valor {} e o maior'.format( n2 ) )\n",
    "else:\n",
    "    print( 'O valor {} e o maior'.format( n3 ))"
   ]
  },
  {
   "cell_type": "markdown",
   "metadata": {},
   "source": [
    "## 9. Faça um programa Python que transforme uma temperatura fornecida em Celsius para a correspondente em Fahrenheit. A formula de conversão de Celsius para Fahrenheit é a seguinte:\n",
    "                    C = (5/9) * (F – 32) OU F = 1.8C + 32"
   ]
  },
  {
   "cell_type": "code",
   "execution_count": 31,
   "metadata": {},
   "outputs": [
    {
     "name": "stdout",
     "output_type": "stream",
     "text": [
      "A temperatura em Fahrenheit e 89.6 \n"
     ]
    }
   ],
   "source": [
    "celsius = float( input( 'Qual a temperatura em Graus Celsius? '))\n",
    "\n",
    "x = 0\n",
    "Fahrenheit = 1.8*celsius + 32\n",
    "\n",
    "print( 'A temperatura em Fahrenheit corresponde a {} '.format( Fahrenheit ))"
   ]
  },
  {
   "cell_type": "markdown",
   "metadata": {},
   "source": [
    "## 10.Faça um programa Python que imprime a quantidade de números pares de 100 até 200, incluindo-os."
   ]
  },
  {
   "cell_type": "code",
   "execution_count": 44,
   "metadata": {},
   "outputs": [
    {
     "name": "stdout",
     "output_type": "stream",
     "text": [
      "100 102 104 106 108 110 112 114 116 118 120 122 124 126 128 130 132 134 136 138 140 142 144 146 148 150 152 154 156 158 160 162 164 166 168 170 172 174 176 178 180 182 184 186 188 190 192 194 196 198 200 "
     ]
    }
   ],
   "source": [
    "for par in range(100, 201):\n",
    "    if par % 2 == 0:\n",
    "        print( par , end = ' ' )"
   ]
  },
  {
   "cell_type": "markdown",
   "metadata": {},
   "source": [
    "## 11.Faça um programa Python para contar a quantidade de números pares entre dois números quaisquer."
   ]
  },
  {
   "cell_type": "code",
   "execution_count": 53,
   "metadata": {},
   "outputs": [
    {
     "name": "stdout",
     "output_type": "stream",
     "text": [
      "1 2 3 4 5 6 7 8 9 10 11 "
     ]
    }
   ],
   "source": [
    "n1 = int( input( 'Insira o primeiro numero' ) )\n",
    "n2 = int( input( 'Insira o segundo numero, sendo ele maior que o primeiro: ' ) )\n",
    "\n",
    "contador = 0\n",
    "for par in range(n1, n2):\n",
    "    if par % 2 == 0:\n",
    "        contador = contador + 1\n",
    "        print( contador, end = ' ' )"
   ]
  },
  {
   "cell_type": "markdown",
   "metadata": {},
   "source": [
    "## 12.Faça um programa Python que imprime a soma de todos os números pares entre dois números quaisquer, incluindo-os."
   ]
  },
  {
   "cell_type": "code",
   "execution_count": 60,
   "metadata": {},
   "outputs": [
    {
     "name": "stdout",
     "output_type": "stream",
     "text": [
      "2 6 12 20 30 "
     ]
    }
   ],
   "source": [
    "n1 = int( input( 'Insira o primeiro numero' ) )\n",
    "n2 = int( input( 'Insira o segundo numero, sendo ele maior que o primeiro: ' ) )\n",
    "\n",
    "soma = 0\n",
    "\n",
    "for par in range(n1, n2+1):\n",
    "    if par % 2 == 0:\n",
    "        soma = soma + par\n",
    "        print( soma, end = ' ' )"
   ]
  },
  {
   "cell_type": "markdown",
   "metadata": {},
   "source": [
    "## 13.Faça um programa Python que imprima o fatorial de um numero n."
   ]
  },
  {
   "cell_type": "code",
   "execution_count": 61,
   "metadata": {},
   "outputs": [
    {
     "name": "stdout",
     "output_type": "stream",
     "text": [
      "Calculando 12! = 12 x 11 x 10 x 9 x 8 x 7 x 6 x 5 x 4 x 3 x 2 x 1 = 479001600\n"
     ]
    }
   ],
   "source": [
    "n1 = int( input( 'Digite o valor que sera calculado a fatorial: ' ) )\n",
    "\n",
    "contador = n1\n",
    "fatorial = 1\n",
    "\n",
    "print( 'Calculando {}! = '.format( n1 ), end='' )\n",
    "\n",
    "while contador  > 0:\n",
    "    print( '{}'.format(contador), end='')\n",
    "    print( ' x ' if contador > 1 else ' = ', end='' )\n",
    "    fatorial *= contador\n",
    "    contador -= 1\n",
    "print( '{}'.format(fatorial))"
   ]
  },
  {
   "cell_type": "markdown",
   "metadata": {},
   "source": [
    "# SEGUNDA LISTA DE EXERCICIOS, PYTHON"
   ]
  }
 ],
 "metadata": {
  "kernelspec": {
   "display_name": "Python 3.8.10 64-bit",
   "language": "python",
   "name": "python3"
  },
  "language_info": {
   "codemirror_mode": {
    "name": "ipython",
    "version": 3
   },
   "file_extension": ".py",
   "mimetype": "text/x-python",
   "name": "python",
   "nbconvert_exporter": "python",
   "pygments_lexer": "ipython3",
   "version": "3.8.10"
  },
  "orig_nbformat": 4,
  "vscode": {
   "interpreter": {
    "hash": "916dbcbb3f70747c44a77c7bcd40155683ae19c65e1c03b4aa3499c5328201f1"
   }
  }
 },
 "nbformat": 4,
 "nbformat_minor": 2
}
