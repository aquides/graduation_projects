{
 "cells": [
  {
   "cell_type": "markdown",
   "metadata": {},
   "source": [
    "# 0.0 IMPORTS"
   ]
  },
  {
   "cell_type": "code",
   "execution_count": 28,
   "metadata": {},
   "outputs": [],
   "source": [
    "import pandas as pd\n",
    "import numpy as np"
   ]
  },
  {
   "cell_type": "markdown",
   "metadata": {},
   "source": [
    "# 1.0 CRIANDO E CARREGANDO DFs"
   ]
  },
  {
   "cell_type": "code",
   "execution_count": 2,
   "metadata": {},
   "outputs": [],
   "source": [
    "df_compras = pd.read_fwf('/home/arquinho/REPOS/graduation_projects/cases/estagios/case_raconn/DE_Raccoon_Case/psel_de_compras.txt', header=None)"
   ]
  },
  {
   "cell_type": "code",
   "execution_count": 3,
   "metadata": {},
   "outputs": [
    {
     "data": {
      "text/html": [
       "<div>\n",
       "<style scoped>\n",
       "    .dataframe tbody tr th:only-of-type {\n",
       "        vertical-align: middle;\n",
       "    }\n",
       "\n",
       "    .dataframe tbody tr th {\n",
       "        vertical-align: top;\n",
       "    }\n",
       "\n",
       "    .dataframe thead th {\n",
       "        text-align: right;\n",
       "    }\n",
       "</style>\n",
       "<table border=\"1\" class=\"dataframe\">\n",
       "  <thead>\n",
       "    <tr style=\"text-align: right;\">\n",
       "      <th></th>\n",
       "      <th>0</th>\n",
       "      <th>1</th>\n",
       "    </tr>\n",
       "  </thead>\n",
       "  <tbody>\n",
       "    <tr>\n",
       "      <th>0</th>\n",
       "      <td>&lt;!-- saved from url=(0065)https://us-central1-...</td>\n",
       "      <td>--&gt;</td>\n",
       "    </tr>\n",
       "    <tr>\n",
       "      <th>1</th>\n",
       "      <td>&lt;html&gt;&lt;head&gt;&lt;meta http-equiv=\"Content-Type\" co...</td>\n",
       "      <td>class=\"vsc-initialized\"&gt;nome,show,gastos</td>\n",
       "    </tr>\n",
       "    <tr>\n",
       "      <th>2</th>\n",
       "      <td>Joseph Wray,Symbolic Toy,3142.35</td>\n",
       "      <td>NaN</td>\n",
       "    </tr>\n",
       "    <tr>\n",
       "      <th>3</th>\n",
       "      <td>Barbara Mcneil,Symbolic Toy,2431.78</td>\n",
       "      <td>NaN</td>\n",
       "    </tr>\n",
       "    <tr>\n",
       "      <th>4</th>\n",
       "      <td>Eduardo Espenshade,Symbolic Toy,386.32</td>\n",
       "      <td>NaN</td>\n",
       "    </tr>\n",
       "  </tbody>\n",
       "</table>\n",
       "</div>"
      ],
      "text/plain": [
       "                                                   0  \\\n",
       "0  <!-- saved from url=(0065)https://us-central1-...   \n",
       "1  <html><head><meta http-equiv=\"Content-Type\" co...   \n",
       "2                   Joseph Wray,Symbolic Toy,3142.35   \n",
       "3                Barbara Mcneil,Symbolic Toy,2431.78   \n",
       "4             Eduardo Espenshade,Symbolic Toy,386.32   \n",
       "\n",
       "                                          1  \n",
       "0                                       -->  \n",
       "1  class=\"vsc-initialized\">nome,show,gastos  \n",
       "2                                       NaN  \n",
       "3                                       NaN  \n",
       "4                                       NaN  "
      ]
     },
     "execution_count": 3,
     "metadata": {},
     "output_type": "execute_result"
    }
   ],
   "source": [
    "df_compras.head()"
   ]
  },
  {
   "cell_type": "code",
   "execution_count": 4,
   "metadata": {},
   "outputs": [
    {
     "data": {
      "text/html": [
       "<div>\n",
       "<style scoped>\n",
       "    .dataframe tbody tr th:only-of-type {\n",
       "        vertical-align: middle;\n",
       "    }\n",
       "\n",
       "    .dataframe tbody tr th {\n",
       "        vertical-align: top;\n",
       "    }\n",
       "\n",
       "    .dataframe thead th {\n",
       "        text-align: right;\n",
       "    }\n",
       "</style>\n",
       "<table border=\"1\" class=\"dataframe\">\n",
       "  <thead>\n",
       "    <tr style=\"text-align: right;\">\n",
       "      <th></th>\n",
       "      <th>nome</th>\n",
       "      <th>show</th>\n",
       "      <th>gastos</th>\n",
       "    </tr>\n",
       "  </thead>\n",
       "  <tbody>\n",
       "    <tr>\n",
       "      <th>0</th>\n",
       "      <td>Joseph Wray</td>\n",
       "      <td>Symbolic Toy</td>\n",
       "      <td>3142.35</td>\n",
       "    </tr>\n",
       "    <tr>\n",
       "      <th>1</th>\n",
       "      <td>Barbara Mcneil</td>\n",
       "      <td>Symbolic Toy</td>\n",
       "      <td>2431.78</td>\n",
       "    </tr>\n",
       "    <tr>\n",
       "      <th>2</th>\n",
       "      <td>Eduardo Espenshade</td>\n",
       "      <td>Symbolic Toy</td>\n",
       "      <td>386.32</td>\n",
       "    </tr>\n",
       "    <tr>\n",
       "      <th>3</th>\n",
       "      <td>Lucia Hayes</td>\n",
       "      <td>Symbolic Toy</td>\n",
       "      <td>3373.49</td>\n",
       "    </tr>\n",
       "    <tr>\n",
       "      <th>4</th>\n",
       "      <td>Johnny Hairston</td>\n",
       "      <td>Symbolic Toy</td>\n",
       "      <td>2805.88</td>\n",
       "    </tr>\n",
       "  </tbody>\n",
       "</table>\n",
       "</div>"
      ],
      "text/plain": [
       "                 nome          show   gastos\n",
       "0         Joseph Wray  Symbolic Toy  3142.35\n",
       "1      Barbara Mcneil  Symbolic Toy  2431.78\n",
       "2  Eduardo Espenshade  Symbolic Toy   386.32\n",
       "3         Lucia Hayes  Symbolic Toy  3373.49\n",
       "4     Johnny Hairston  Symbolic Toy  2805.88"
      ]
     },
     "execution_count": 4,
     "metadata": {},
     "output_type": "execute_result"
    }
   ],
   "source": [
    "# quebrando coluna\n",
    "df_compras[['nome', 'show', 'gastos']] = df_compras[0].str.split(',', expand=True)\n",
    "\n",
    "#doprando colunas antigas\n",
    "df_compras = df_compras.drop(columns=[0])\n",
    "df_compras = df_compras.drop(columns=[1])\n",
    "\n",
    "#selecionando linhas nao sujas\n",
    "df_compras = (df_compras.loc[2:500]).reset_index()\n",
    "\n",
    "#resetando index\n",
    "df_compras = df_compras.drop(columns=['index'])\n",
    "df_compras.head()"
   ]
  },
  {
   "cell_type": "code",
   "execution_count": 5,
   "metadata": {},
   "outputs": [
    {
     "data": {
      "text/plain": [
       "(499, 3)"
      ]
     },
     "execution_count": 5,
     "metadata": {},
     "output_type": "execute_result"
    }
   ],
   "source": [
    "df_compras.shape"
   ]
  },
  {
   "cell_type": "code",
   "execution_count": 6,
   "metadata": {},
   "outputs": [
    {
     "data": {
      "text/plain": [
       "nome      object\n",
       "show      object\n",
       "gastos    object\n",
       "dtype: object"
      ]
     },
     "execution_count": 6,
     "metadata": {},
     "output_type": "execute_result"
    }
   ],
   "source": [
    "df_compras.dtypes"
   ]
  },
  {
   "cell_type": "code",
   "execution_count": 7,
   "metadata": {},
   "outputs": [],
   "source": [
    "#criando um dicionario com valores referentes a ingresso\n",
    "test_ticket = [{\"ano\":2020,\"dia\":1,\"mes\":1,\"nome\":\"Benjamin Mcdonald\",\"status\":\"Nao Concluido\",\"tipo\":\"VIP\"},{\"ano\":2020,\"dia\":1,\"mes\":1,\"nome\":\"Mitchell Kostyla\",\"status\":\"Nao Concluido\",\"tipo\":\"VIP\"},{\"ano\":2020,\"dia\":1,\"mes\":1,\"nome\":\"Gerald Allen\",\"status\":\"Nao Concluido\",\"tipo\":\"VIP\"},{\"ano\":2020,\"dia\":1,\"mes\":1,\"nome\":\"Frederick Bank\",\"status\":\"Problema no Pagamento\",\"tipo\":\"VIP\"},{\"ano\":2020,\"dia\":1,\"mes\":1,\"nome\":\"Tina Yee\",\"status\":\"Nao Concluido\",\"tipo\":\"VIP\"},{\"ano\":2020,\"dia\":1,\"mes\":1,\"nome\":\"Ruth Ridge\",\"status\":\"Concluido\",\"tipo\":\"VIP\"},{\"ano\":2020,\"dia\":1,\"mes\":1,\"nome\":\"Jeffrey Pace\",\"status\":\"Nao Concluido\",\"tipo\":\"VIP\"},{\"ano\":2020,\"dia\":1,\"mes\":1,\"nome\":\"Nicholas Johansson\",\"status\":\"Concluido\",\"tipo\":\"VIP\"},{\"ano\":2020,\"dia\":1,\"mes\":1,\"nome\":\"William Barnes\",\"status\":\"Nao Concluido\",\"tipo\":\"VIP\"},{\"ano\":2020,\"dia\":1,\"mes\":1,\"nome\":\"Charles Hershenson\",\"status\":\"Nao Concluido\",\"tipo\":\"VIP\"},{\"ano\":2020,\"dia\":1,\"mes\":1,\"nome\":\"Edna Martinez\",\"status\":\"Problema no Pagamento\",\"tipo\":\"VIP\"},{\"ano\":2020,\"dia\":1,\"mes\":1,\"nome\":\"Lyle Branch\",\"status\":\"Concluido\",\"tipo\":\"VIP\"},{\"ano\":2020,\"dia\":1,\"mes\":1,\"nome\":\"Deborah Silsby\",\"status\":\"Concluido\",\"tipo\":\"VIP\"},{\"ano\":2020,\"dia\":1,\"mes\":1,\"nome\":\"Nancy Smith\",\"status\":\"Nao Concluido\",\"tipo\":\"VIP\"},{\"ano\":2020,\"dia\":1,\"mes\":1,\"nome\":\"Donna Chandler\",\"status\":\"Nao Concluido\",\"tipo\":\"VIP\"},{\"ano\":2020,\"dia\":2,\"mes\":1,\"nome\":\"John Rich\",\"status\":\"Problema no Pagamento\",\"tipo\":\"VIP\"},{\"ano\":2020,\"dia\":2,\"mes\":1,\"nome\":\"John Rich\",\"status\":\"Problema no Pagamento\",\"tipo\":\"VIP\"},{\"ano\":2020,\"dia\":2,\"mes\":1,\"nome\":\"Maria Marshall\",\"status\":\"Problema no Pagamento\",\"tipo\":\"VIP\"},{\"ano\":2020,\"dia\":2,\"mes\":1,\"nome\":\"Tina Yee\",\"status\":\"Nao Concluido\",\"tipo\":\"VIP\"},{\"ano\":2020,\"dia\":2,\"mes\":1,\"nome\":\"Felicia Hallman\",\"status\":\"Concluido\",\"tipo\":\"VIP\"},{\"ano\":2020,\"dia\":2,\"mes\":1,\"nome\":\"Guadalupe Bell\",\"status\":\"Concluido\",\"tipo\":\"VIP\"},{\"ano\":2020,\"dia\":2,\"mes\":1,\"nome\":\"Shayla Baird\",\"status\":\"Nao Concluido\",\"tipo\":\"VIP\"},{\"ano\":2020,\"dia\":2,\"mes\":1,\"nome\":\"Kelly Williamson\",\"status\":\"Nao Concluido\",\"tipo\":\"VIP\"},{\"ano\":2020,\"dia\":2,\"mes\":1,\"nome\":\"Edna Martinez\",\"status\":\"Nao Concluido\",\"tipo\":\"VIP\"},{\"ano\":2020,\"dia\":2,\"mes\":1,\"nome\":\"James Coffey\",\"status\":\"Problema no Pagamento\",\"tipo\":\"VIP\"},{\"ano\":2020,\"dia\":2,\"mes\":1,\"nome\":\"Frances Lambert\",\"status\":\"Concluido\",\"tipo\":\"VIP\"},{\"ano\":2020,\"dia\":2,\"mes\":1,\"nome\":\"Matt Smudrick\",\"status\":\"Nao Concluido\",\"tipo\":\"VIP\"},{\"ano\":2020,\"dia\":2,\"mes\":1,\"nome\":\"Alice Gamba\",\"status\":\"Nao Concluido\",\"tipo\":\"VIP\"},{\"ano\":2020,\"dia\":3,\"mes\":1,\"nome\":\"Tina Yee\",\"status\":\"Problema no Pagamento\",\"tipo\":\"VIP\"},{\"ano\":2020,\"dia\":3,\"mes\":1,\"nome\":\"John Rich\",\"status\":\"Problema no Pagamento\",\"tipo\":\"VIP\"},{\"ano\":2020,\"dia\":3,\"mes\":1,\"nome\":\"Larry Teague\",\"status\":\"Problema no Pagamento\",\"tipo\":\"VIP\"},{\"ano\":2020,\"dia\":3,\"mes\":1,\"nome\":\"Andrea Galyen\",\"status\":\"Nao Concluido\",\"tipo\":\"VIP\"},{\"ano\":2020,\"dia\":3,\"mes\":1,\"nome\":\"Yong Baltazar\",\"status\":\"Nao Concluido\",\"tipo\":\"VIP\"},{\"ano\":2020,\"dia\":3,\"mes\":1,\"nome\":\"Elizabeth Daly\",\"status\":\"Problema no Pagamento\",\"tipo\":\"VIP\"},{\"ano\":2020,\"dia\":1,\"mes\":1,\"nome\":\"Joshua Sanderson\",\"status\":\"Nao Concluido\",\"tipo\":\"Pista\"},{\"ano\":2020,\"dia\":1,\"mes\":1,\"nome\":\"Donna Wal\",\"status\":\"Concluido\",\"tipo\":\"Pista\"},{\"ano\":2020,\"dia\":1,\"mes\":1,\"nome\":\"Andrea Galyen\",\"status\":\"Nao Concluido\",\"tipo\":\"Pista\"},{\"ano\":2020,\"dia\":1,\"mes\":1,\"nome\":\"Lyle Branch\",\"status\":\"Problema no Pagamento\",\"tipo\":\"Pista\"},{\"ano\":2020,\"dia\":1,\"mes\":1,\"nome\":\"Debra Howard\",\"status\":\"Nao Concluido\",\"tipo\":\"Pista\"},{\"ano\":2020,\"dia\":1,\"mes\":1,\"nome\":\"Debra Howard\",\"status\":\"Problema no Pagamento\",\"tipo\":\"Pista\"},{\"ano\":2020,\"dia\":1,\"mes\":1,\"nome\":\"Daniel Puckett\",\"status\":\"Nao Concluido\",\"tipo\":\"Pista\"},{\"ano\":2020,\"dia\":1,\"mes\":1,\"nome\":\"Gretchen Hinojosa\",\"status\":\"Concluido\",\"tipo\":\"Pista\"},{\"ano\":2020,\"dia\":1,\"mes\":1,\"nome\":\"Suzanne Herring\",\"status\":\"Problema no Pagamento\",\"tipo\":\"Pista\"},{\"ano\":2020,\"dia\":1,\"mes\":1,\"nome\":\"Jarrod Adler\",\"status\":\"Nao Concluido\",\"tipo\":\"Pista\"},{\"ano\":2020,\"dia\":1,\"mes\":1,\"nome\":\"Gretchen Hinojosa\",\"status\":\"Nao Concluido\",\"tipo\":\"Pista\"},{\"ano\":2020,\"dia\":1,\"mes\":1,\"nome\":\"Travis Whatley\",\"status\":\"Problema no Pagamento\",\"tipo\":\"Pista\"},{\"ano\":2020,\"dia\":1,\"mes\":1,\"nome\":\"Elizabeth Daly\",\"status\":\"Problema no Pagamento\",\"tipo\":\"Pista\"},{\"ano\":2020,\"dia\":2,\"mes\":1,\"nome\":\"Lyle Branch\",\"status\":\"Concluido\",\"tipo\":\"Pista\"},{\"ano\":2020,\"dia\":2,\"mes\":1,\"nome\":\"Emil Nord\",\"status\":\"Nao Concluido\",\"tipo\":\"Pista\"},{\"ano\":2020,\"dia\":2,\"mes\":1,\"nome\":\"John Rich\",\"status\":\"Problema no Pagamento\",\"tipo\":\"Pista\"},{\"ano\":2020,\"dia\":2,\"mes\":1,\"nome\":\"James Reaves\",\"status\":\"Problema no Pagamento\",\"tipo\":\"Pista\"},{\"ano\":2020,\"dia\":2,\"mes\":1,\"nome\":\"Frank Houck\",\"status\":\"Problema no Pagamento\",\"tipo\":\"Pista\"},{\"ano\":2020,\"dia\":2,\"mes\":1,\"nome\":\"John Rich\",\"status\":\"Concluido\",\"tipo\":\"Pista\"},{\"ano\":2020,\"dia\":2,\"mes\":1,\"nome\":\"Courtney Edwards\",\"status\":\"Concluido\",\"tipo\":\"Pista\"},{\"ano\":2020,\"dia\":3,\"mes\":1,\"nome\":\"Richard Culpepper\",\"status\":\"Concluido\",\"tipo\":\"Pista\"},{\"ano\":2020,\"dia\":3,\"mes\":1,\"nome\":\"Young Besaw\",\"status\":\"Concluido\",\"tipo\":\"Pista\"},{\"ano\":2020,\"dia\":3,\"mes\":1,\"nome\":\"Lucia Hayes\",\"status\":\"Concluido\",\"tipo\":\"Pista\"},{\"ano\":2020,\"dia\":3,\"mes\":1,\"nome\":\"Kelly Williamson\",\"status\":\"Problema no Pagamento\",\"tipo\":\"Pista\"},{\"ano\":2020,\"dia\":3,\"mes\":1,\"nome\":\"Marcela Nelson\",\"status\":\"Concluido\",\"tipo\":\"Pista\"},{\"ano\":2020,\"dia\":3,\"mes\":1,\"nome\":\"Sandra Duncan\",\"status\":\"Concluido\",\"tipo\":\"Pista\"},{\"ano\":2020,\"dia\":3,\"mes\":1,\"nome\":\"Miguel Ramey\",\"status\":\"Concluido\",\"tipo\":\"Pista\"},{\"ano\":2020,\"dia\":3,\"mes\":1,\"nome\":\"Nancy Degroot\",\"status\":\"Nao Concluido\",\"tipo\":\"Pista\"},{\"ano\":2020,\"dia\":3,\"mes\":1,\"nome\":\"Edward Smith\",\"status\":\"Problema no Pagamento\",\"tipo\":\"Pista\"},{\"ano\":2020,\"dia\":3,\"mes\":1,\"nome\":\"Mitchell Kostyla\",\"status\":\"Concluido\",\"tipo\":\"Pista\"},{\"ano\":2020,\"dia\":1,\"mes\":1,\"nome\":\"John Rich\",\"status\":\"Concluido\",\"tipo\":\"Pista Premium\"},{\"ano\":2020,\"dia\":1,\"mes\":1,\"nome\":\"Clara Faupel\",\"status\":\"Concluido\",\"tipo\":\"Pista Premium\"},{\"ano\":2020,\"dia\":1,\"mes\":1,\"nome\":\"Blanche Knox\",\"status\":\"Nao Concluido\",\"tipo\":\"Pista Premium\"},{\"ano\":2020,\"dia\":1,\"mes\":1,\"nome\":\"Michael Gaines\",\"status\":\"Nao Concluido\",\"tipo\":\"Pista Premium\"},{\"ano\":2020,\"dia\":1,\"mes\":1,\"nome\":\"Maria Villa\",\"status\":\"Problema no Pagamento\",\"tipo\":\"Pista Premium\"},{\"ano\":2020,\"dia\":1,\"mes\":1,\"nome\":\"Ricardo Clasby\",\"status\":\"Concluido\",\"tipo\":\"Pista Premium\"},{\"ano\":2020,\"dia\":1,\"mes\":1,\"nome\":\"James Reaves\",\"status\":\"Problema no Pagamento\",\"tipo\":\"Pista Premium\"},{\"ano\":2020,\"dia\":1,\"mes\":1,\"nome\":\"Richard Culpepper\",\"status\":\"Problema no Pagamento\",\"tipo\":\"Pista Premium\"},{\"ano\":2020,\"dia\":1,\"mes\":1,\"nome\":\"Frank Houck\",\"status\":\"Problema no Pagamento\",\"tipo\":\"Pista Premium\"},{\"ano\":2020,\"dia\":1,\"mes\":1,\"nome\":\"Courtney Edwards\",\"status\":\"Concluido\",\"tipo\":\"Pista Premium\"},{\"ano\":2020,\"dia\":1,\"mes\":1,\"nome\":\"Tina Yee\",\"status\":\"Concluido\",\"tipo\":\"Pista Premium\"},{\"ano\":2020,\"dia\":1,\"mes\":1,\"nome\":\"Pamela Nixon\",\"status\":\"Concluido\",\"tipo\":\"Pista Premium\"},{\"ano\":2020,\"dia\":1,\"mes\":1,\"nome\":\"Brenda Key\",\"status\":\"Concluido\",\"tipo\":\"Pista Premium\"},{\"ano\":2020,\"dia\":2,\"mes\":1,\"nome\":\"Frederick Bank\",\"status\":\"Concluido\",\"tipo\":\"Pista Premium\"},{\"ano\":2020,\"dia\":2,\"mes\":1,\"nome\":\"Frank Davilla\",\"status\":\"Problema no Pagamento\",\"tipo\":\"Pista Premium\"},{\"ano\":2020,\"dia\":2,\"mes\":1,\"nome\":\"Mitchell Kostyla\",\"status\":\"Nao Concluido\",\"tipo\":\"Pista Premium\"},{\"ano\":2020,\"dia\":2,\"mes\":1,\"nome\":\"James Reaves\",\"status\":\"Problema no Pagamento\",\"tipo\":\"Pista Premium\"},{\"ano\":2020,\"dia\":2,\"mes\":1,\"nome\":\"Sabrina Graves\",\"status\":\"Nao Concluido\",\"tipo\":\"Pista Premium\"},{\"ano\":2020,\"dia\":2,\"mes\":1,\"nome\":\"Kathleen Duncan\",\"status\":\"Concluido\",\"tipo\":\"Pista Premium\"},{\"ano\":2020,\"dia\":2,\"mes\":1,\"nome\":\"Richard Culpepper\",\"status\":\"Concluido\",\"tipo\":\"Pista Premium\"},{\"ano\":2020,\"dia\":2,\"mes\":1,\"nome\":\"Margaret Robinson\",\"status\":\"Nao Concluido\",\"tipo\":\"Pista Premium\"},{\"ano\":2020,\"dia\":2,\"mes\":1,\"nome\":\"Rick Fleishman\",\"status\":\"Concluido\",\"tipo\":\"Pista Premium\"},{\"ano\":2020,\"dia\":2,\"mes\":1,\"nome\":\"Linda Batiz\",\"status\":\"Concluido\",\"tipo\":\"Pista Premium\"},{\"ano\":2020,\"dia\":2,\"mes\":1,\"nome\":\"Michael Gaines\",\"status\":\"Concluido\",\"tipo\":\"Pista Premium\"},{\"ano\":2020,\"dia\":2,\"mes\":1,\"nome\":\"Amy Mejia\",\"status\":\"Problema no Pagamento\",\"tipo\":\"Pista Premium\"},{\"ano\":2020,\"dia\":3,\"mes\":1,\"nome\":\"John Rich\",\"status\":\"Concluido\",\"tipo\":\"Pista Premium\"},{\"ano\":2020,\"dia\":3,\"mes\":1,\"nome\":\"John Rich\",\"status\":\"Nao Concluido\",\"tipo\":\"Pista Premium\"},{\"ano\":2020,\"dia\":3,\"mes\":1,\"nome\":\"Donna Wal\",\"status\":\"Problema no Pagamento\",\"tipo\":\"Pista Premium\"},{\"ano\":2020,\"dia\":3,\"mes\":1,\"nome\":\"Joseph Wray\",\"status\":\"Problema no Pagamento\",\"tipo\":\"Pista Premium\"},{\"ano\":2020,\"dia\":3,\"mes\":1,\"nome\":\"Barbara Mcneil\",\"status\":\"Concluido\",\"tipo\":\"Pista Premium\"},{\"ano\":2020,\"dia\":3,\"mes\":1,\"nome\":\"Eduardo Espenshade\",\"status\":\"Concluido\",\"tipo\":\"Pista Premium\"},{\"ano\":2020,\"dia\":3,\"mes\":1,\"nome\":\"Richard Jimenez\",\"status\":\"Nao Concluido\",\"tipo\":\"Pista Premium\"},{\"ano\":2020,\"dia\":3,\"mes\":1,\"nome\":\"Curtis Hernandez\",\"status\":\"Problema no Pagamento\",\"tipo\":\"Pista Premium\"},{\"ano\":2020,\"dia\":3,\"mes\":1,\"nome\":\"Alice Gamba\",\"status\":\"Concluido\",\"tipo\":\"Pista Premium\"},{\"ano\":2020,\"dia\":3,\"mes\":1,\"nome\":\"Brenda Kozak\",\"status\":\"Problema no Pagamento\",\"tipo\":\"Pista Premium\"},{\"ano\":2020,\"dia\":3,\"mes\":1,\"nome\":\"Robert Copenhaver\",\"status\":\"Concluido\",\"tipo\":\"Pista Premium\"}]"
   ]
  },
  {
   "cell_type": "code",
   "execution_count": 8,
   "metadata": {},
   "outputs": [
    {
     "data": {
      "text/html": [
       "<div>\n",
       "<style scoped>\n",
       "    .dataframe tbody tr th:only-of-type {\n",
       "        vertical-align: middle;\n",
       "    }\n",
       "\n",
       "    .dataframe tbody tr th {\n",
       "        vertical-align: top;\n",
       "    }\n",
       "\n",
       "    .dataframe thead th {\n",
       "        text-align: right;\n",
       "    }\n",
       "</style>\n",
       "<table border=\"1\" class=\"dataframe\">\n",
       "  <thead>\n",
       "    <tr style=\"text-align: right;\">\n",
       "      <th></th>\n",
       "      <th>ano</th>\n",
       "      <th>dia</th>\n",
       "      <th>mes</th>\n",
       "      <th>nome</th>\n",
       "      <th>status</th>\n",
       "      <th>tipo</th>\n",
       "    </tr>\n",
       "  </thead>\n",
       "  <tbody>\n",
       "    <tr>\n",
       "      <th>0</th>\n",
       "      <td>2020</td>\n",
       "      <td>1</td>\n",
       "      <td>1</td>\n",
       "      <td>Benjamin Mcdonald</td>\n",
       "      <td>Nao Concluido</td>\n",
       "      <td>VIP</td>\n",
       "    </tr>\n",
       "    <tr>\n",
       "      <th>1</th>\n",
       "      <td>2020</td>\n",
       "      <td>1</td>\n",
       "      <td>1</td>\n",
       "      <td>Mitchell Kostyla</td>\n",
       "      <td>Nao Concluido</td>\n",
       "      <td>VIP</td>\n",
       "    </tr>\n",
       "    <tr>\n",
       "      <th>2</th>\n",
       "      <td>2020</td>\n",
       "      <td>1</td>\n",
       "      <td>1</td>\n",
       "      <td>Gerald Allen</td>\n",
       "      <td>Nao Concluido</td>\n",
       "      <td>VIP</td>\n",
       "    </tr>\n",
       "    <tr>\n",
       "      <th>3</th>\n",
       "      <td>2020</td>\n",
       "      <td>1</td>\n",
       "      <td>1</td>\n",
       "      <td>Frederick Bank</td>\n",
       "      <td>Problema no Pagamento</td>\n",
       "      <td>VIP</td>\n",
       "    </tr>\n",
       "    <tr>\n",
       "      <th>4</th>\n",
       "      <td>2020</td>\n",
       "      <td>1</td>\n",
       "      <td>1</td>\n",
       "      <td>Tina Yee</td>\n",
       "      <td>Nao Concluido</td>\n",
       "      <td>VIP</td>\n",
       "    </tr>\n",
       "  </tbody>\n",
       "</table>\n",
       "</div>"
      ],
      "text/plain": [
       "    ano  dia  mes               nome                 status tipo\n",
       "0  2020    1    1  Benjamin Mcdonald          Nao Concluido  VIP\n",
       "1  2020    1    1   Mitchell Kostyla          Nao Concluido  VIP\n",
       "2  2020    1    1       Gerald Allen          Nao Concluido  VIP\n",
       "3  2020    1    1     Frederick Bank  Problema no Pagamento  VIP\n",
       "4  2020    1    1           Tina Yee          Nao Concluido  VIP"
      ]
     },
     "execution_count": 8,
     "metadata": {},
     "output_type": "execute_result"
    }
   ],
   "source": [
    "#criando dataframe apartir do dicionario\n",
    "df_tickets = pd.DataFrame.from_dict(test_ticket)\n",
    "df_tickets.head()"
   ]
  },
  {
   "cell_type": "code",
   "execution_count": 9,
   "metadata": {},
   "outputs": [
    {
     "data": {
      "text/plain": [
       "(100, 6)"
      ]
     },
     "execution_count": 9,
     "metadata": {},
     "output_type": "execute_result"
    }
   ],
   "source": [
    "df_tickets.shape"
   ]
  },
  {
   "cell_type": "code",
   "execution_count": 10,
   "metadata": {},
   "outputs": [
    {
     "data": {
      "text/html": [
       "<div>\n",
       "<style scoped>\n",
       "    .dataframe tbody tr th:only-of-type {\n",
       "        vertical-align: middle;\n",
       "    }\n",
       "\n",
       "    .dataframe tbody tr th {\n",
       "        vertical-align: top;\n",
       "    }\n",
       "\n",
       "    .dataframe thead th {\n",
       "        text-align: right;\n",
       "    }\n",
       "</style>\n",
       "<table border=\"1\" class=\"dataframe\">\n",
       "  <thead>\n",
       "    <tr style=\"text-align: right;\">\n",
       "      <th></th>\n",
       "      <th>Nascent Letter</th>\n",
       "      <th>Symbolic Toy</th>\n",
       "      <th>Terrestrial Chair</th>\n",
       "    </tr>\n",
       "  </thead>\n",
       "  <tbody>\n",
       "    <tr>\n",
       "      <th>ano</th>\n",
       "      <td>2020</td>\n",
       "      <td>2020</td>\n",
       "      <td>2020</td>\n",
       "    </tr>\n",
       "    <tr>\n",
       "      <th>dia</th>\n",
       "      <td>2</td>\n",
       "      <td>3</td>\n",
       "      <td>1</td>\n",
       "    </tr>\n",
       "    <tr>\n",
       "      <th>mes</th>\n",
       "      <td>1</td>\n",
       "      <td>1</td>\n",
       "      <td>1</td>\n",
       "    </tr>\n",
       "  </tbody>\n",
       "</table>\n",
       "</div>"
      ],
      "text/plain": [
       "     Nascent Letter  Symbolic Toy  Terrestrial Chair\n",
       "ano            2020          2020               2020\n",
       "dia               2             3                  1\n",
       "mes               1             1                  1"
      ]
     },
     "execution_count": 10,
     "metadata": {},
     "output_type": "execute_result"
    }
   ],
   "source": [
    "#criando dicionario\n",
    "test_shows = {\"Nascent Letter\":{\"ano\":2020,\"dia\":2,\"mes\":1},\"Symbolic Toy\":{\"ano\":2020,\"dia\":3,\"mes\":1},\"Terrestrial Chair\":{\"ano\":2020,\"dia\":1,\"mes\":1}}\n",
    "\n",
    "#criando dataframe apartir do dicionario\n",
    "df_show = pd.DataFrame.from_dict(test_shows)\n",
    "df_show.head()"
   ]
  },
  {
   "cell_type": "markdown",
   "metadata": {},
   "source": [
    "# 2.0 JUNTANDO DFs"
   ]
  },
  {
   "cell_type": "code",
   "execution_count": 11,
   "metadata": {},
   "outputs": [],
   "source": [
    "# criacao coluna shows df_tickets\n",
    "df_tickets['show'] = 'NaN'\n",
    "df_tickets['show'] = df_tickets.apply( lambda x: 'Terrestrial Chair' if x['dia'] == 1 else 'Nascent Letter' if x['dia'] == 2 else 'Symbolic Toy', axis=1)\n",
    "\n",
    "#selecao de colunas df_tickets\n",
    "df_tickets = df_tickets[['nome', 'show', 'status', 'tipo', 'dia']]\n",
    "\n",
    "#selecao de colunas df_compras\n",
    "df_compras = df_compras[['nome', 'gastos']]"
   ]
  },
  {
   "cell_type": "code",
   "execution_count": 12,
   "metadata": {},
   "outputs": [
    {
     "data": {
      "text/html": [
       "<div>\n",
       "<style scoped>\n",
       "    .dataframe tbody tr th:only-of-type {\n",
       "        vertical-align: middle;\n",
       "    }\n",
       "\n",
       "    .dataframe tbody tr th {\n",
       "        vertical-align: top;\n",
       "    }\n",
       "\n",
       "    .dataframe thead th {\n",
       "        text-align: right;\n",
       "    }\n",
       "</style>\n",
       "<table border=\"1\" class=\"dataframe\">\n",
       "  <thead>\n",
       "    <tr style=\"text-align: right;\">\n",
       "      <th></th>\n",
       "      <th>nome</th>\n",
       "      <th>gastos</th>\n",
       "    </tr>\n",
       "  </thead>\n",
       "  <tbody>\n",
       "    <tr>\n",
       "      <th>0</th>\n",
       "      <td>Joseph Wray</td>\n",
       "      <td>3142.35</td>\n",
       "    </tr>\n",
       "    <tr>\n",
       "      <th>1</th>\n",
       "      <td>Barbara Mcneil</td>\n",
       "      <td>2431.78</td>\n",
       "    </tr>\n",
       "    <tr>\n",
       "      <th>2</th>\n",
       "      <td>Eduardo Espenshade</td>\n",
       "      <td>386.32</td>\n",
       "    </tr>\n",
       "    <tr>\n",
       "      <th>3</th>\n",
       "      <td>Lucia Hayes</td>\n",
       "      <td>3373.49</td>\n",
       "    </tr>\n",
       "    <tr>\n",
       "      <th>4</th>\n",
       "      <td>Johnny Hairston</td>\n",
       "      <td>2805.88</td>\n",
       "    </tr>\n",
       "  </tbody>\n",
       "</table>\n",
       "</div>"
      ],
      "text/plain": [
       "                 nome   gastos\n",
       "0         Joseph Wray  3142.35\n",
       "1      Barbara Mcneil  2431.78\n",
       "2  Eduardo Espenshade   386.32\n",
       "3         Lucia Hayes  3373.49\n",
       "4     Johnny Hairston  2805.88"
      ]
     },
     "execution_count": 12,
     "metadata": {},
     "output_type": "execute_result"
    }
   ],
   "source": [
    "df_compras.head()"
   ]
  },
  {
   "cell_type": "code",
   "execution_count": 13,
   "metadata": {},
   "outputs": [],
   "source": [
    "df_merged = df_compras.merge(df_tickets, on='nome')"
   ]
  },
  {
   "cell_type": "code",
   "execution_count": 14,
   "metadata": {},
   "outputs": [
    {
     "data": {
      "text/plain": [
       "nome      0\n",
       "gastos    0\n",
       "show      0\n",
       "status    0\n",
       "tipo      0\n",
       "dia       0\n",
       "dtype: int64"
      ]
     },
     "execution_count": 14,
     "metadata": {},
     "output_type": "execute_result"
    }
   ],
   "source": [
    "df_merged.isna().sum()"
   ]
  },
  {
   "cell_type": "code",
   "execution_count": 15,
   "metadata": {},
   "outputs": [],
   "source": [
    "df1 = df_merged.copy()"
   ]
  },
  {
   "cell_type": "code",
   "execution_count": 16,
   "metadata": {},
   "outputs": [
    {
     "data": {
      "text/html": [
       "<div>\n",
       "<style scoped>\n",
       "    .dataframe tbody tr th:only-of-type {\n",
       "        vertical-align: middle;\n",
       "    }\n",
       "\n",
       "    .dataframe tbody tr th {\n",
       "        vertical-align: top;\n",
       "    }\n",
       "\n",
       "    .dataframe thead th {\n",
       "        text-align: right;\n",
       "    }\n",
       "</style>\n",
       "<table border=\"1\" class=\"dataframe\">\n",
       "  <thead>\n",
       "    <tr style=\"text-align: right;\">\n",
       "      <th></th>\n",
       "      <th>nome</th>\n",
       "      <th>gastos</th>\n",
       "      <th>show</th>\n",
       "      <th>status</th>\n",
       "      <th>tipo</th>\n",
       "      <th>dia</th>\n",
       "    </tr>\n",
       "  </thead>\n",
       "  <tbody>\n",
       "    <tr>\n",
       "      <th>0</th>\n",
       "      <td>Joseph Wray</td>\n",
       "      <td>3142.35</td>\n",
       "      <td>Symbolic Toy</td>\n",
       "      <td>Problema no Pagamento</td>\n",
       "      <td>Pista Premium</td>\n",
       "      <td>3</td>\n",
       "    </tr>\n",
       "    <tr>\n",
       "      <th>1</th>\n",
       "      <td>Barbara Mcneil</td>\n",
       "      <td>2431.78</td>\n",
       "      <td>Symbolic Toy</td>\n",
       "      <td>Concluido</td>\n",
       "      <td>Pista Premium</td>\n",
       "      <td>3</td>\n",
       "    </tr>\n",
       "    <tr>\n",
       "      <th>2</th>\n",
       "      <td>Eduardo Espenshade</td>\n",
       "      <td>386.32</td>\n",
       "      <td>Symbolic Toy</td>\n",
       "      <td>Concluido</td>\n",
       "      <td>Pista Premium</td>\n",
       "      <td>3</td>\n",
       "    </tr>\n",
       "    <tr>\n",
       "      <th>3</th>\n",
       "      <td>Lucia Hayes</td>\n",
       "      <td>3373.49</td>\n",
       "      <td>Symbolic Toy</td>\n",
       "      <td>Concluido</td>\n",
       "      <td>Pista</td>\n",
       "      <td>3</td>\n",
       "    </tr>\n",
       "    <tr>\n",
       "      <th>4</th>\n",
       "      <td>Kathleen Duncan</td>\n",
       "      <td>2211.61</td>\n",
       "      <td>Nascent Letter</td>\n",
       "      <td>Concluido</td>\n",
       "      <td>Pista Premium</td>\n",
       "      <td>2</td>\n",
       "    </tr>\n",
       "  </tbody>\n",
       "</table>\n",
       "</div>"
      ],
      "text/plain": [
       "                 nome   gastos            show                 status  \\\n",
       "0         Joseph Wray  3142.35    Symbolic Toy  Problema no Pagamento   \n",
       "1      Barbara Mcneil  2431.78    Symbolic Toy              Concluido   \n",
       "2  Eduardo Espenshade   386.32    Symbolic Toy              Concluido   \n",
       "3         Lucia Hayes  3373.49    Symbolic Toy              Concluido   \n",
       "4     Kathleen Duncan  2211.61  Nascent Letter              Concluido   \n",
       "\n",
       "            tipo  dia  \n",
       "0  Pista Premium    3  \n",
       "1  Pista Premium    3  \n",
       "2  Pista Premium    3  \n",
       "3          Pista    3  \n",
       "4  Pista Premium    2  "
      ]
     },
     "execution_count": 16,
     "metadata": {},
     "output_type": "execute_result"
    }
   ],
   "source": [
    "df1.head()"
   ]
  },
  {
   "cell_type": "code",
   "execution_count": 17,
   "metadata": {},
   "outputs": [],
   "source": [
    "df1['gastos'] = df1['gastos'].astype(float)"
   ]
  },
  {
   "cell_type": "markdown",
   "metadata": {},
   "source": [
    "# 3.0 RESP0NDENDO QUESTÕES DO CASE"
   ]
  },
  {
   "cell_type": "markdown",
   "metadata": {},
   "source": [
    "## 1. Qual a média de gastos de pessoas com ingresso Pista?\n",
    "\n",
    "A média de gastos da pessoas com ingressos do tipo Pista foi **1792.65** unidades monetarias"
   ]
  },
  {
   "cell_type": "code",
   "execution_count": 18,
   "metadata": {},
   "outputs": [
    {
     "data": {
      "text/html": [
       "<div>\n",
       "<style scoped>\n",
       "    .dataframe tbody tr th:only-of-type {\n",
       "        vertical-align: middle;\n",
       "    }\n",
       "\n",
       "    .dataframe tbody tr th {\n",
       "        vertical-align: top;\n",
       "    }\n",
       "\n",
       "    .dataframe thead th {\n",
       "        text-align: right;\n",
       "    }\n",
       "</style>\n",
       "<table border=\"1\" class=\"dataframe\">\n",
       "  <thead>\n",
       "    <tr style=\"text-align: right;\">\n",
       "      <th></th>\n",
       "      <th>gastos</th>\n",
       "    </tr>\n",
       "    <tr>\n",
       "      <th>tipo</th>\n",
       "      <th></th>\n",
       "    </tr>\n",
       "  </thead>\n",
       "  <tbody>\n",
       "    <tr>\n",
       "      <th>Pista</th>\n",
       "      <td>1792.651020</td>\n",
       "    </tr>\n",
       "    <tr>\n",
       "      <th>Pista Premium</th>\n",
       "      <td>1687.675909</td>\n",
       "    </tr>\n",
       "    <tr>\n",
       "      <th>VIP</th>\n",
       "      <td>1841.951598</td>\n",
       "    </tr>\n",
       "  </tbody>\n",
       "</table>\n",
       "</div>"
      ],
      "text/plain": [
       "                    gastos\n",
       "tipo                      \n",
       "Pista          1792.651020\n",
       "Pista Premium  1687.675909\n",
       "VIP            1841.951598"
      ]
     },
     "execution_count": 18,
     "metadata": {},
     "output_type": "execute_result"
    }
   ],
   "source": [
    "df1[['gastos', 'tipo']].groupby('tipo').mean()"
   ]
  },
  {
   "cell_type": "markdown",
   "metadata": {},
   "source": [
    "## 2. Quais pessoas não compareceram aos shows?\n",
    "\n",
    "**Todas** as pessoas que compraram os ingressos compareceram ao show!"
   ]
  },
  {
   "cell_type": "code",
   "execution_count": 19,
   "metadata": {},
   "outputs": [
    {
     "data": {
      "text/plain": [
       "0"
      ]
     },
     "execution_count": 19,
     "metadata": {},
     "output_type": "execute_result"
    }
   ],
   "source": [
    "df1['nome'][(df1['status']=='Concluido') & (df1['gastos']==0)].count()"
   ]
  },
  {
   "cell_type": "markdown",
   "metadata": {},
   "source": [
    "## 3. Quais pessoas compraram ingressos com concorrentes?\n",
    "\n",
    "As pessoas que compraram os ingressos com os concorrentes foram : 'Joseph Wray', 'Margaret Robinson', 'Shayla Baird', 'Benjamin Mcdonald', 'Gerald Allen', 'Suzanne Herring', 'Emil Nord', 'Blanche Knox', 'Debra Howard', 'James Reaves', 'Jarrod Adler', 'Jeffrey Pace', 'Larry Teague', 'Andrea Galyen', 'Edna Martinez', 'Frank Davilla', 'Daniel Puckett', 'Maria Marshall', 'Sabrina Graves', 'William Barnes', 'Richard Jimenez', 'Joshua Sanderson', 'Kelly Williamson' e 'Charles Hershenson'"
   ]
  },
  {
   "cell_type": "code",
   "execution_count": 20,
   "metadata": {},
   "outputs": [],
   "source": [
    "# Criação do DF de pessoas que concluiram a compra\n",
    "dropa = pd.DataFrame()\n",
    "dropa['nome'] = df1['nome'][(df1['status']=='Concluido') ].unique()\n",
    "\n",
    "# Criação de um df com todas as pessoas\n",
    "original = pd.DataFrame()\n",
    "original['nome'] = df1['nome'].unique()\n",
    "\n",
    "# Junção de ambos os DFs evidenciando quem estava presente em ambos \n",
    "df_merge = original.merge(dropa, how='outer', indicator=True)\n",
    "\n",
    "# Selecao dos atributos que existiam apenas no DF original \n",
    "df_concorrentes = df_merge['nome'][df_merge['_merge']=='left_only'].reset_index()"
   ]
  },
  {
   "cell_type": "code",
   "execution_count": 21,
   "metadata": {},
   "outputs": [
    {
     "data": {
      "text/plain": [
       "array(['Joseph Wray', 'Margaret Robinson', 'Shayla Baird',\n",
       "       'Benjamin Mcdonald', 'Gerald Allen', 'Suzanne Herring',\n",
       "       'Emil Nord', 'Blanche Knox', 'Debra Howard', 'James Reaves',\n",
       "       'Jarrod Adler', 'Jeffrey Pace', 'Larry Teague', 'Andrea Galyen',\n",
       "       'Edna Martinez', 'Frank Davilla', 'Daniel Puckett',\n",
       "       'Maria Marshall', 'Sabrina Graves', 'William Barnes',\n",
       "       'Richard Jimenez', 'Joshua Sanderson', 'Kelly Williamson',\n",
       "       'Charles Hershenson'], dtype=object)"
      ]
     },
     "execution_count": 21,
     "metadata": {},
     "output_type": "execute_result"
    }
   ],
   "source": [
    "df_concorrentes['nome'].unique()"
   ]
  },
  {
   "cell_type": "markdown",
   "metadata": {},
   "source": [
    "## 4. Qual o dia com maior gasto?\n",
    "\n",
    "O **PRIMEIRO** dia foi o dia com mais gastos"
   ]
  },
  {
   "cell_type": "code",
   "execution_count": 22,
   "metadata": {},
   "outputs": [
    {
     "data": {
      "text/html": [
       "<div>\n",
       "<style scoped>\n",
       "    .dataframe tbody tr th:only-of-type {\n",
       "        vertical-align: middle;\n",
       "    }\n",
       "\n",
       "    .dataframe tbody tr th {\n",
       "        vertical-align: top;\n",
       "    }\n",
       "\n",
       "    .dataframe thead th {\n",
       "        text-align: right;\n",
       "    }\n",
       "</style>\n",
       "<table border=\"1\" class=\"dataframe\">\n",
       "  <thead>\n",
       "    <tr style=\"text-align: right;\">\n",
       "      <th></th>\n",
       "      <th>gastos</th>\n",
       "    </tr>\n",
       "    <tr>\n",
       "      <th>dia</th>\n",
       "      <th></th>\n",
       "    </tr>\n",
       "  </thead>\n",
       "  <tbody>\n",
       "    <tr>\n",
       "      <th>1</th>\n",
       "      <td>258179.72</td>\n",
       "    </tr>\n",
       "    <tr>\n",
       "      <th>2</th>\n",
       "      <td>255496.88</td>\n",
       "    </tr>\n",
       "    <tr>\n",
       "      <th>3</th>\n",
       "      <td>158937.37</td>\n",
       "    </tr>\n",
       "  </tbody>\n",
       "</table>\n",
       "</div>"
      ],
      "text/plain": [
       "        gastos\n",
       "dia           \n",
       "1    258179.72\n",
       "2    255496.88\n",
       "3    158937.37"
      ]
     },
     "execution_count": 22,
     "metadata": {},
     "output_type": "execute_result"
    }
   ],
   "source": [
    "df1[['gastos', 'dia']].groupby('dia').sum()"
   ]
  },
  {
   "cell_type": "markdown",
   "metadata": {},
   "source": [
    "## 5. Faça uma lista com os clientes que desistiram de comprar o ingresso com a AT, a soma do valor que foi gasto durante os shows e quais shows eles desistiram decomprar. Usar para resposta o esquema abaixo:"
   ]
  },
  {
   "cell_type": "code",
   "execution_count": 52,
   "metadata": {},
   "outputs": [
    {
     "data": {
      "text/plain": [
       "[['nome', 'gastos', 'show'],\n",
       " ['Joseph Wray', 3142.35, 'Symbolic Toy'],\n",
       " ['Margaret Robinson', 3148.62, 'Nascent Letter'],\n",
       " ['Shayla Baird', 1613.1, 'Nascent Letter'],\n",
       " ['Benjamin Mcdonald', 2309.81, 'Terrestrial Chair'],\n",
       " ['Gerald Allen', 3447.17, 'Terrestrial Chair'],\n",
       " ['Suzanne Herring', 3387.75, 'Terrestrial Chair'],\n",
       " ['Emil Nord', 1564.02, 'Nascent Letter'],\n",
       " ['Emil Nord', 1989.97, 'Nascent Letter'],\n",
       " ['Emil Nord', 1654.88, 'Nascent Letter'],\n",
       " ['Emil Nord', 3143.93, 'Nascent Letter'],\n",
       " ['Blanche Knox', 2576.41, 'Terrestrial Chair'],\n",
       " ['Blanche Knox', 924.31, 'Terrestrial Chair'],\n",
       " ['Debra Howard', 1998.8, 'Terrestrial Chair'],\n",
       " ['Debra Howard', 1998.8, 'Terrestrial Chair'],\n",
       " ['Debra Howard', 3440.07, 'Terrestrial Chair'],\n",
       " ['Debra Howard', 3440.07, 'Terrestrial Chair'],\n",
       " ['Debra Howard', 109.46, 'Terrestrial Chair'],\n",
       " ['Debra Howard', 109.46, 'Terrestrial Chair'],\n",
       " ['Debra Howard', 2648.33, 'Terrestrial Chair'],\n",
       " ['Debra Howard', 2648.33, 'Terrestrial Chair'],\n",
       " ['Debra Howard', 1019.54, 'Terrestrial Chair'],\n",
       " ['Debra Howard', 1019.54, 'Terrestrial Chair'],\n",
       " ['Debra Howard', 2101.82, 'Terrestrial Chair'],\n",
       " ['Debra Howard', 2101.82, 'Terrestrial Chair'],\n",
       " ['James Reaves', 2621.87, 'Nascent Letter'],\n",
       " ['James Reaves', 2621.87, 'Terrestrial Chair'],\n",
       " ['James Reaves', 2621.87, 'Nascent Letter'],\n",
       " ['James Reaves', 462.61, 'Nascent Letter'],\n",
       " ['James Reaves', 462.61, 'Terrestrial Chair'],\n",
       " ['James Reaves', 462.61, 'Nascent Letter'],\n",
       " ['James Reaves', 2148.16, 'Nascent Letter'],\n",
       " ['James Reaves', 2148.16, 'Terrestrial Chair'],\n",
       " ['James Reaves', 2148.16, 'Nascent Letter'],\n",
       " ['James Reaves', 1501.68, 'Nascent Letter'],\n",
       " ['James Reaves', 1501.68, 'Terrestrial Chair'],\n",
       " ['James Reaves', 1501.68, 'Nascent Letter'],\n",
       " ['James Reaves', 1385.43, 'Nascent Letter'],\n",
       " ['James Reaves', 1385.43, 'Terrestrial Chair'],\n",
       " ['James Reaves', 1385.43, 'Nascent Letter'],\n",
       " ['Jarrod Adler', 1213.95, 'Terrestrial Chair'],\n",
       " ['Jarrod Adler', 1183.13, 'Terrestrial Chair'],\n",
       " ['Jarrod Adler', 1697.92, 'Terrestrial Chair'],\n",
       " ['Jarrod Adler', 409.46, 'Terrestrial Chair'],\n",
       " ['Jarrod Adler', 1070.84, 'Terrestrial Chair'],\n",
       " ['Jeffrey Pace', 1454.98, 'Terrestrial Chair'],\n",
       " ['Jeffrey Pace', 1329.91, 'Terrestrial Chair'],\n",
       " ['Jeffrey Pace', 3025.89, 'Terrestrial Chair'],\n",
       " ['Larry Teague', 2887.19, 'Symbolic Toy'],\n",
       " ['Larry Teague', 2506.87, 'Symbolic Toy'],\n",
       " ['Larry Teague', 674.45, 'Symbolic Toy'],\n",
       " ['Larry Teague', 1166.7, 'Symbolic Toy'],\n",
       " ['Larry Teague', 3391.61, 'Symbolic Toy'],\n",
       " ['Larry Teague', 1510.53, 'Symbolic Toy'],\n",
       " ['Larry Teague', 624.81, 'Symbolic Toy'],\n",
       " ['Larry Teague', 1531.52, 'Symbolic Toy'],\n",
       " ['Larry Teague', 2690.14, 'Symbolic Toy'],\n",
       " ['Larry Teague', 3482.18, 'Symbolic Toy'],\n",
       " ['Larry Teague', 2281.54, 'Symbolic Toy'],\n",
       " ['Larry Teague', 3397.91, 'Symbolic Toy'],\n",
       " ['Andrea Galyen', 828.95, 'Symbolic Toy'],\n",
       " ['Andrea Galyen', 828.95, 'Terrestrial Chair'],\n",
       " ['Andrea Galyen', 3467.13, 'Symbolic Toy'],\n",
       " ['Andrea Galyen', 3467.13, 'Terrestrial Chair'],\n",
       " ['Andrea Galyen', 837.73, 'Symbolic Toy'],\n",
       " ['Andrea Galyen', 837.73, 'Terrestrial Chair'],\n",
       " ['Edna Martinez', 1939.85, 'Terrestrial Chair'],\n",
       " ['Edna Martinez', 1939.85, 'Nascent Letter'],\n",
       " ['Edna Martinez', 187.15, 'Terrestrial Chair'],\n",
       " ['Edna Martinez', 187.15, 'Nascent Letter'],\n",
       " ['Edna Martinez', 2423.1, 'Terrestrial Chair'],\n",
       " ['Edna Martinez', 2423.1, 'Nascent Letter'],\n",
       " ['Edna Martinez', 3467.09, 'Terrestrial Chair'],\n",
       " ['Edna Martinez', 3467.09, 'Nascent Letter'],\n",
       " ['Edna Martinez', 3170.22, 'Terrestrial Chair'],\n",
       " ['Edna Martinez', 3170.22, 'Nascent Letter'],\n",
       " ['Edna Martinez', 596.59, 'Terrestrial Chair'],\n",
       " ['Edna Martinez', 596.59, 'Nascent Letter'],\n",
       " ['Edna Martinez', 64.95, 'Terrestrial Chair'],\n",
       " ['Edna Martinez', 64.95, 'Nascent Letter'],\n",
       " ['Edna Martinez', 2136.61, 'Terrestrial Chair'],\n",
       " ['Edna Martinez', 2136.61, 'Nascent Letter'],\n",
       " ['Edna Martinez', 3293.03, 'Terrestrial Chair'],\n",
       " ['Edna Martinez', 3293.03, 'Nascent Letter'],\n",
       " ['Edna Martinez', 3324.18, 'Terrestrial Chair'],\n",
       " ['Edna Martinez', 3324.18, 'Nascent Letter'],\n",
       " ['Frank Davilla', 3023.16, 'Nascent Letter'],\n",
       " ['Frank Davilla', 3020.21, 'Nascent Letter'],\n",
       " ['Frank Davilla', 1083.69, 'Nascent Letter'],\n",
       " ['Frank Davilla', 1578.16, 'Nascent Letter'],\n",
       " ['Frank Davilla', 146.19, 'Nascent Letter'],\n",
       " ['Frank Davilla', 2175.09, 'Nascent Letter'],\n",
       " ['Daniel Puckett', 1619.9, 'Terrestrial Chair'],\n",
       " ['Daniel Puckett', 2362.06, 'Terrestrial Chair'],\n",
       " ['Daniel Puckett', 317.64, 'Terrestrial Chair'],\n",
       " ['Daniel Puckett', 183.32, 'Terrestrial Chair'],\n",
       " ['Daniel Puckett', 988.06, 'Terrestrial Chair'],\n",
       " ['Maria Marshall', 3390.66, 'Nascent Letter'],\n",
       " ['Maria Marshall', 2117.21, 'Nascent Letter'],\n",
       " ['Maria Marshall', 1963.9, 'Nascent Letter'],\n",
       " ['Maria Marshall', 3180.4, 'Nascent Letter'],\n",
       " ['Sabrina Graves', 1169.12, 'Nascent Letter'],\n",
       " ['Sabrina Graves', 724.15, 'Nascent Letter'],\n",
       " ['William Barnes', 3110.89, 'Terrestrial Chair'],\n",
       " ['William Barnes', 2211.86, 'Terrestrial Chair'],\n",
       " ['William Barnes', 3218.63, 'Terrestrial Chair'],\n",
       " ['Richard Jimenez', 1170.46, 'Symbolic Toy'],\n",
       " ['Richard Jimenez', 3293.42, 'Symbolic Toy'],\n",
       " ['Joshua Sanderson', 1103.17, 'Terrestrial Chair'],\n",
       " ['Joshua Sanderson', 1103.45, 'Terrestrial Chair'],\n",
       " ['Joshua Sanderson', 1775.6, 'Terrestrial Chair'],\n",
       " ['Kelly Williamson', 1202.18, 'Nascent Letter'],\n",
       " ['Kelly Williamson', 1202.18, 'Symbolic Toy'],\n",
       " ['Kelly Williamson', 3182.38, 'Nascent Letter'],\n",
       " ['Kelly Williamson', 3182.38, 'Symbolic Toy'],\n",
       " ['Kelly Williamson', 2466.85, 'Nascent Letter'],\n",
       " ['Kelly Williamson', 2466.85, 'Symbolic Toy'],\n",
       " ['Kelly Williamson', 2446.66, 'Nascent Letter'],\n",
       " ['Kelly Williamson', 2446.66, 'Symbolic Toy'],\n",
       " ['Kelly Williamson', 82.08, 'Nascent Letter'],\n",
       " ['Kelly Williamson', 82.08, 'Symbolic Toy'],\n",
       " ['Kelly Williamson', 1697.67, 'Nascent Letter'],\n",
       " ['Kelly Williamson', 1697.67, 'Symbolic Toy'],\n",
       " ['Kelly Williamson', 2211.27, 'Nascent Letter'],\n",
       " ['Kelly Williamson', 2211.27, 'Symbolic Toy'],\n",
       " ['Kelly Williamson', 2765.24, 'Nascent Letter'],\n",
       " ['Kelly Williamson', 2765.24, 'Symbolic Toy'],\n",
       " ['Charles Hershenson', 3337.29, 'Terrestrial Chair'],\n",
       " ['Charles Hershenson', 163.44, 'Terrestrial Chair']]"
      ]
     },
     "execution_count": 52,
     "metadata": {},
     "output_type": "execute_result"
    }
   ],
   "source": [
    "# Criação do DF de pessoas que concluiram a compra\n",
    "dropa2 = pd.DataFrame()\n",
    "dropa2['nome'] = df1['nome'][(df1['status']=='Concluido') ].unique()\n",
    "\n",
    "# Criação de um df com todas as pessoas\n",
    "original2 = pd.DataFrame()\n",
    "original2['nome'] = df1['nome'].unique()\n",
    "\n",
    "# Junção de ambos os DFs evidenciando quem estava presente em ambos \n",
    "df2_merge = original2.merge(dropa2, how='outer', indicator=True)\n",
    "\n",
    "# Selecao dos atributos que existiam apenas no DF original \n",
    "df_concorrente2 = df2_merge['nome'][df2_merge['_merge']=='left_only'].reset_index()\n",
    "\n",
    "# Junção dos atributos, pelo nome, que existiam no df_concorrentes e no DF1 original \n",
    "df_final = df_concorrente2.merge(df1[['nome', 'gastos', 'show']], on='nome', how='inner')\n",
    "\n",
    "#exclusão da coluna indix\n",
    "df_final = df_final.drop(columns=['index'])\n",
    "\n",
    "# Criando coluna para o nome das colunas e valores da lista\n",
    "\n",
    "cols = df_final.columns.values.tolist()\n",
    "list = df_final.values.tolist()\n",
    "\n",
    "# Juntando colunas e valores em uma só lista\n",
    "list.insert(0, cols)\n",
    "list"
   ]
  },
  {
   "cell_type": "code",
   "execution_count": 46,
   "metadata": {},
   "outputs": [
    {
     "data": {
      "text/plain": [
       "nome       object\n",
       "gastos    float64\n",
       "show       object\n",
       "dtype: object"
      ]
     },
     "execution_count": 46,
     "metadata": {},
     "output_type": "execute_result"
    }
   ],
   "source": [
    "df_final.dtypes"
   ]
  }
 ],
 "metadata": {
  "kernelspec": {
   "display_name": "Python 3.8.10 64-bit",
   "language": "python",
   "name": "python3"
  },
  "language_info": {
   "codemirror_mode": {
    "name": "ipython",
    "version": 3
   },
   "file_extension": ".py",
   "mimetype": "text/x-python",
   "name": "python",
   "nbconvert_exporter": "python",
   "pygments_lexer": "ipython3",
   "version": "3.8.10"
  },
  "orig_nbformat": 4,
  "vscode": {
   "interpreter": {
    "hash": "916dbcbb3f70747c44a77c7bcd40155683ae19c65e1c03b4aa3499c5328201f1"
   }
  }
 },
 "nbformat": 4,
 "nbformat_minor": 2
}
